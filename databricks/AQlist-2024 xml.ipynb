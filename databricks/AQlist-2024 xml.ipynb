{
 "cells": [
  {
   "cell_type": "markdown",
   "metadata": {
    "application/vnd.databricks.v1+cell": {
     "cellMetadata": {
      "byteLimit": 2048000,
      "rowLimit": 10000
     },
     "inputWidgets": {},
     "nuid": "7ea4b6cf-6192-47d4-a2f7-092d79a21cc3",
     "showTitle": false,
     "title": ""
    }
   },
   "source": [
    "/Volumes/main/default/example-data/AQList.xml\n",
    "\n",
    "/Volumes/main/default/example-data/7v9bhen-al-qaida.xml\n"
   ]
  },
  {
   "cell_type": "code",
   "execution_count": 0,
   "metadata": {
    "application/vnd.databricks.v1+cell": {
     "cellMetadata": {
      "byteLimit": 2048000,
      "rowLimit": 10000
     },
     "inputWidgets": {},
     "nuid": "437a8051-0575-44de-baef-b91b31d11d7b",
     "showTitle": false,
     "title": ""
    }
   },
   "outputs": [
    {
     "output_type": "stream",
     "name": "stdout",
     "output_type": "stream",
     "text": [
      "True\n"
     ]
    },
    {
     "output_type": "display_data",
     "data": {
      "text/plain": [
       "\u001B[0;36m  File \u001B[0;32m<string>\u001B[0;36m\u001B[0m\n",
       "\u001B[0;31mSyntaxError\u001B[0m\u001B[0;31m:\u001B[0m error ref1 equals ref2\n"
      ]
     },
     "metadata": {
      "application/vnd.databricks.v1+output": {
       "addedWidgets": {},
       "arguments": {},
       "datasetInfos": [],
       "jupyterProps": {
        "ename": "SyntaxError",
        "evalue": "error ref1 equals ref2 (<string>)"
       },
       "metadata": {
        "errorSummary": ""
       },
       "removedWidgets": [],
       "sqlProps": null,
       "stackFrames": [
        "\u001B[0;36m  File \u001B[0;32m<string>\u001B[0;36m\u001B[0m\n\u001B[0;31mSyntaxError\u001B[0m\u001B[0;31m:\u001B[0m error ref1 equals ref2\n"
       ],
       "type": "baseError"
      }
     },
     "output_type": "display_data"
    }
   ],
   "source": [
    "class Link:\n",
    "    def __init__(self, ref1, ref2):\n",
    "        if ref1 != ref2:\n",
    "            self.linkset = set((ref1, ref2  ))\n",
    "        else:\n",
    "            raise SyntaxError(\"error ref1 equals ref2\")\n",
    "\n",
    "    def __eq__(self, other):\n",
    "        if not isinstance(other, Link):\n",
    "            # don't attempt to compare against unrelated types\n",
    "            return NotImplemented\n",
    "\n",
    "        return self.linkset == other.linkset\n",
    "\n",
    "l1 = Link(\"abc\", \"def\")\n",
    "l2 = Link(\"def\", \"abc\")\n",
    "# l2 = Link(\"def\", \"def\")\n",
    "\n",
    "print(l1==l2)"
   ]
  },
  {
   "cell_type": "code",
   "execution_count": 0,
   "metadata": {
    "application/vnd.databricks.v1+cell": {
     "cellMetadata": {
      "byteLimit": 2048000,
      "rowLimit": 10000
     },
     "inputWidgets": {},
     "nuid": "6048660b-054b-4380-ab35-1dbe154729d0",
     "showTitle": false,
     "title": ""
    }
   },
   "outputs": [
    {
     "output_type": "stream",
     "name": "stdout",
     "output_type": "stream",
     "text": [
      "l1 =  abc,def\nl2 =  abc,def\nTrue\nl3 =  def,ckz\nFalse\n"
     ]
    },
    {
     "output_type": "display_data",
     "data": {
      "text/plain": [
       "\u001B[0;36m  File \u001B[0;32m<string>\u001B[0;36m\u001B[0m\n",
       "\u001B[0;31mSyntaxError\u001B[0m\u001B[0;31m:\u001B[0m error ref1 equals ref2\n"
      ]
     },
     "metadata": {
      "application/vnd.databricks.v1+output": {
       "addedWidgets": {},
       "arguments": {},
       "datasetInfos": [],
       "jupyterProps": {
        "ename": "SyntaxError",
        "evalue": "error ref1 equals ref2 (<string>)"
       },
       "metadata": {
        "errorSummary": ""
       },
       "removedWidgets": [],
       "sqlProps": null,
       "stackFrames": [
        "\u001B[0;36m  File \u001B[0;32m<string>\u001B[0;36m\u001B[0m\n\u001B[0;31mSyntaxError\u001B[0m\u001B[0;31m:\u001B[0m error ref1 equals ref2\n"
       ],
       "type": "baseError"
      }
     },
     "output_type": "display_data"
    }
   ],
   "source": [
    "class Link:\n",
    "    def __init__(self, ref1, ref2):\n",
    "        if ref1 != ref2:\n",
    "            self.linkset = set((ref1, ref2  ))\n",
    "        else:\n",
    "            raise SyntaxError(\"error ref1 equals ref2\")\n",
    "\n",
    "    def __eq__(self, other):\n",
    "        if not isinstance(other, Link):\n",
    "            # don't attempt to compare against unrelated types\n",
    "            return NotImplemented\n",
    "\n",
    "        return self.linkset == other.linkset\n",
    "\n",
    "    def __str__(self) -> str:\n",
    "        stringreplist = []\n",
    "        for item in self.linkset:\n",
    "            stringreplist.append(item)\n",
    "        \n",
    "        return \",\".join (stringreplist)\n",
    "      \n",
    "      \n",
    "l1 = Link(\"abc\", \"def\")\n",
    "print('l1 = ', l1)\n",
    "l2 = Link(\"def\", \"abc\")\n",
    "print('l2 = ', l2)\n",
    "print(l1==l2)\n",
    "\n",
    "l3 = Link(\"def\", \"ckz\")\n",
    "print('l3 = ', l3)\n",
    "print(l2==l3)\n",
    "\n",
    "# l4 = Link(\"def\", \"def\")  # should fail"
   ]
  },
  {
   "cell_type": "code",
   "execution_count": 0,
   "metadata": {
    "application/vnd.databricks.v1+cell": {
     "cellMetadata": {
      "byteLimit": 2048000,
      "rowLimit": 10000
     },
     "inputWidgets": {},
     "nuid": "ae9c227e-e47a-48ad-aa66-e6cf79af435d",
     "showTitle": false,
     "title": ""
    }
   },
   "outputs": [
    {
     "output_type": "display_data",
     "data": {
      "text/plain": [
       "\u001B[0;31m---------------------------------------------------------------------------\u001B[0m\n",
       "\u001B[0;31mTypeError\u001B[0m                                 Traceback (most recent call last)\n",
       "File \u001B[0;32m<command-276981635644387>, line 1\u001B[0m\n",
       "\u001B[0;32m----> 1\u001B[0m linkset \u001B[38;5;241m=\u001B[39m \u001B[38;5;28mset\u001B[39m((l1, l2, l3))\n",
       "\u001B[1;32m      2\u001B[0m \u001B[38;5;28mprint\u001B[39m(\u001B[38;5;28mtype\u001B[39m(linkset))\n",
       "\u001B[1;32m      3\u001B[0m \u001B[38;5;28mprint\u001B[39m(linkset)\n",
       "\n",
       "\u001B[0;31mTypeError\u001B[0m: unhashable type: 'Link'"
      ]
     },
     "metadata": {
      "application/vnd.databricks.v1+output": {
       "addedWidgets": {},
       "arguments": {},
       "datasetInfos": [],
       "jupyterProps": {
        "ename": "TypeError",
        "evalue": "unhashable type: 'Link'"
       },
       "metadata": {
        "errorSummary": ""
       },
       "removedWidgets": [],
       "sqlProps": null,
       "stackFrames": [
        "\u001B[0;31m---------------------------------------------------------------------------\u001B[0m",
        "\u001B[0;31mTypeError\u001B[0m                                 Traceback (most recent call last)",
        "File \u001B[0;32m<command-276981635644387>, line 1\u001B[0m\n\u001B[0;32m----> 1\u001B[0m linkset \u001B[38;5;241m=\u001B[39m \u001B[38;5;28mset\u001B[39m((l1, l2, l3))\n\u001B[1;32m      2\u001B[0m \u001B[38;5;28mprint\u001B[39m(\u001B[38;5;28mtype\u001B[39m(linkset))\n\u001B[1;32m      3\u001B[0m \u001B[38;5;28mprint\u001B[39m(linkset)\n",
        "\u001B[0;31mTypeError\u001B[0m: unhashable type: 'Link'"
       ],
       "type": "baseError"
      }
     },
     "output_type": "display_data"
    }
   ],
   "source": [
    "# linkset = set((l1, l2, l3))\n",
    "# print(type(linkset))\n",
    "# print(linkset)"
   ]
  },
  {
   "cell_type": "code",
   "execution_count": 0,
   "metadata": {
    "application/vnd.databricks.v1+cell": {
     "cellMetadata": {
      "byteLimit": 2048000,
      "rowLimit": 10000
     },
     "inputWidgets": {},
     "nuid": "17ceaace-069e-4a24-8fdb-d90e28e963d8",
     "showTitle": false,
     "title": ""
    }
   },
   "outputs": [
    {
     "output_type": "stream",
     "name": "stdout",
     "output_type": "stream",
     "text": [
      "l1 =  frozenset({'abc', 'def'})\nstr(l1) =  frozenset({'abc', 'def'})\nl2 =  frozenset({'abc', 'def'})\nTrue\nl3 =  frozenset({'def', 'ckz'})\nFalse\n{'source': 'abc', 'target': 'def'}\n{\"source\": \"abc\", \"target\": \"def\"}\n"
     ]
    },
    {
     "output_type": "display_data",
     "data": {
      "text/plain": [
       "\u001B[0;31m---------------------------------------------------------------------------\u001B[0m\n",
       "\u001B[0;31mAttributeError\u001B[0m                            Traceback (most recent call last)\n",
       "File \u001B[0;32m<command-569852926636574>, line 58\u001B[0m\n",
       "\u001B[1;32m     55\u001B[0m     \u001B[38;5;28mprint\u001B[39m(l1\u001B[38;5;241m.\u001B[39mget_link_object())\n",
       "\u001B[1;32m     56\u001B[0m     \u001B[38;5;28mprint\u001B[39m(l1\u001B[38;5;241m.\u001B[39mget_json())\n",
       "\u001B[0;32m---> 58\u001B[0m test_link()\n",
       "\n",
       "File \u001B[0;32m<command-569852926636574>, line 44\u001B[0m, in \u001B[0;36mtest_link\u001B[0;34m()\u001B[0m\n",
       "\u001B[1;32m     42\u001B[0m l1 \u001B[38;5;241m=\u001B[39m Link(\u001B[38;5;124m\"\u001B[39m\u001B[38;5;124mabc\u001B[39m\u001B[38;5;124m\"\u001B[39m, \u001B[38;5;124m\"\u001B[39m\u001B[38;5;124mdef\u001B[39m\u001B[38;5;124m\"\u001B[39m)\n",
       "\u001B[1;32m     43\u001B[0m \u001B[38;5;28mprint\u001B[39m(\u001B[38;5;124m'\u001B[39m\u001B[38;5;124ml1 = \u001B[39m\u001B[38;5;124m'\u001B[39m, l1)\n",
       "\u001B[0;32m---> 44\u001B[0m \u001B[38;5;28mprint\u001B[39m(\u001B[38;5;124m'\u001B[39m\u001B[38;5;124m11.tostrng() = \u001B[39m\u001B[38;5;124m'\u001B[39m, l1\u001B[38;5;241m.\u001B[39mtostring())\n",
       "\u001B[1;32m     45\u001B[0m l2 \u001B[38;5;241m=\u001B[39m Link(\u001B[38;5;124m\"\u001B[39m\u001B[38;5;124mdef\u001B[39m\u001B[38;5;124m\"\u001B[39m, \u001B[38;5;124m\"\u001B[39m\u001B[38;5;124mabc\u001B[39m\u001B[38;5;124m\"\u001B[39m)\n",
       "\u001B[1;32m     46\u001B[0m \u001B[38;5;28mprint\u001B[39m(\u001B[38;5;124m'\u001B[39m\u001B[38;5;124ml2 = \u001B[39m\u001B[38;5;124m'\u001B[39m, l2)\n",
       "\n",
       "\u001B[0;31mAttributeError\u001B[0m: 'Link' object has no attribute 'tostring'"
      ]
     },
     "metadata": {
      "application/vnd.databricks.v1+output": {
       "addedWidgets": {},
       "arguments": {},
       "datasetInfos": [],
       "jupyterProps": {
        "ename": "AttributeError",
        "evalue": "'Link' object has no attribute 'tostring'"
       },
       "metadata": {
        "errorSummary": ""
       },
       "removedWidgets": [],
       "sqlProps": null,
       "stackFrames": [
        "\u001B[0;31m---------------------------------------------------------------------------\u001B[0m",
        "\u001B[0;31mAttributeError\u001B[0m                            Traceback (most recent call last)",
        "File \u001B[0;32m<command-569852926636574>, line 58\u001B[0m\n\u001B[1;32m     55\u001B[0m     \u001B[38;5;28mprint\u001B[39m(l1\u001B[38;5;241m.\u001B[39mget_link_object())\n\u001B[1;32m     56\u001B[0m     \u001B[38;5;28mprint\u001B[39m(l1\u001B[38;5;241m.\u001B[39mget_json())\n\u001B[0;32m---> 58\u001B[0m test_link()\n",
        "File \u001B[0;32m<command-569852926636574>, line 44\u001B[0m, in \u001B[0;36mtest_link\u001B[0;34m()\u001B[0m\n\u001B[1;32m     42\u001B[0m l1 \u001B[38;5;241m=\u001B[39m Link(\u001B[38;5;124m\"\u001B[39m\u001B[38;5;124mabc\u001B[39m\u001B[38;5;124m\"\u001B[39m, \u001B[38;5;124m\"\u001B[39m\u001B[38;5;124mdef\u001B[39m\u001B[38;5;124m\"\u001B[39m)\n\u001B[1;32m     43\u001B[0m \u001B[38;5;28mprint\u001B[39m(\u001B[38;5;124m'\u001B[39m\u001B[38;5;124ml1 = \u001B[39m\u001B[38;5;124m'\u001B[39m, l1)\n\u001B[0;32m---> 44\u001B[0m \u001B[38;5;28mprint\u001B[39m(\u001B[38;5;124m'\u001B[39m\u001B[38;5;124m11.tostrng() = \u001B[39m\u001B[38;5;124m'\u001B[39m, l1\u001B[38;5;241m.\u001B[39mtostring())\n\u001B[1;32m     45\u001B[0m l2 \u001B[38;5;241m=\u001B[39m Link(\u001B[38;5;124m\"\u001B[39m\u001B[38;5;124mdef\u001B[39m\u001B[38;5;124m\"\u001B[39m, \u001B[38;5;124m\"\u001B[39m\u001B[38;5;124mabc\u001B[39m\u001B[38;5;124m\"\u001B[39m)\n\u001B[1;32m     46\u001B[0m \u001B[38;5;28mprint\u001B[39m(\u001B[38;5;124m'\u001B[39m\u001B[38;5;124ml2 = \u001B[39m\u001B[38;5;124m'\u001B[39m, l2)\n",
        "\u001B[0;31mAttributeError\u001B[0m: 'Link' object has no attribute 'tostring'"
       ],
       "type": "baseError"
      }
     },
     "output_type": "display_data"
    }
   ],
   "source": [
    "import json\n",
    "class Link:\n",
    "    def __init__(self, ref1, ref2):\n",
    "        if ref1 != ref2:\n",
    "            self.linkset =  frozenset((ref1, ref2  ))\n",
    "        else:\n",
    "            raise SyntaxError(\"error ref1 equals ref2\")\n",
    "\n",
    "    def __eq__(self, other):\n",
    "        if not isinstance(other, Link):\n",
    "            # don't attempt to compare against unrelated types\n",
    "            return NotImplemented\n",
    "\n",
    "        return self.linkset == other.linkset\n",
    "\n",
    "    def __str__(self) -> str:\n",
    "        # stringreplist = []\n",
    "        # for item in self.linkset:\n",
    "        #    stringreplist.append(item)\n",
    "        # return \",\".join (stringreplist)\n",
    "        # tuple = (*self.linkset,)\n",
    "        # return str(tuple)\n",
    "        return str(self.linkset)\n",
    "\n",
    "    def __hash__(self):\n",
    "        # test_tuple = (*self.linkset,)\n",
    "        # return hash(test_tuple)\n",
    "        return 42\n",
    "\n",
    "    def get_link_object(self):\n",
    "        link_object = {}\n",
    "        link_tuple = (*self.linkset,)\n",
    "        link_object['source'] = link_tuple[0]\n",
    "        link_object['target'] = link_tuple[1]\n",
    "        return link_object\n",
    "\n",
    "    def get_json(self):\n",
    "        return json.dumps(self.get_link_object())\n",
    "      \n",
    "\n",
    "def test_link():\n",
    "    l1 = Link(\"abc\", \"def\")\n",
    "    print('l1 = ', l1)\n",
    "    print('str(l1) = ',str(l1))\n",
    "    l2 = Link(\"def\", \"abc\")\n",
    "    print('l2 = ', l2)\n",
    "    print(l1==l2)\n",
    "\n",
    "    l3 = Link(\"def\", \"ckz\")\n",
    "    print('l3 = ', l3)\n",
    "    print(l2==l3)\n",
    "\n",
    "    #l4 = Link(\"def\", \"def\")  # should fail\n",
    "    l5 = Link(\"qqq\", \"uuu\")\n",
    "    print(l1.get_link_object())\n",
    "    print(l1.get_json())\n",
    "    \n",
    "test_link()"
   ]
  },
  {
   "cell_type": "code",
   "execution_count": 0,
   "metadata": {
    "application/vnd.databricks.v1+cell": {
     "cellMetadata": {
      "byteLimit": 2048000,
      "rowLimit": 10000
     },
     "inputWidgets": {},
     "nuid": "bbf0050f-e954-49c3-bc13-5b21aca7a962",
     "showTitle": false,
     "title": ""
    }
   },
   "outputs": [
    {
     "output_type": "display_data",
     "data": {
      "text/plain": [
       "\u001B[0;31m---------------------------------------------------------------------------\u001B[0m\n",
       "\u001B[0;31mTypeError\u001B[0m                                 Traceback (most recent call last)\n",
       "File \u001B[0;32m<command-3005107788418187>, line 1\u001B[0m\n",
       "\u001B[0;32m----> 1\u001B[0m allsets \u001B[38;5;241m=\u001B[39m \u001B[38;5;28mset\u001B[39m((l1,l2))\n",
       "\n",
       "\u001B[0;31mTypeError\u001B[0m: unhashable type: 'Link'"
      ]
     },
     "metadata": {
      "application/vnd.databricks.v1+output": {
       "addedWidgets": {},
       "arguments": {},
       "datasetInfos": [],
       "jupyterProps": {
        "ename": "TypeError",
        "evalue": "unhashable type: 'Link'"
       },
       "metadata": {
        "errorSummary": ""
       },
       "removedWidgets": [],
       "sqlProps": null,
       "stackFrames": [
        "\u001B[0;31m---------------------------------------------------------------------------\u001B[0m",
        "\u001B[0;31mTypeError\u001B[0m                                 Traceback (most recent call last)",
        "File \u001B[0;32m<command-3005107788418187>, line 1\u001B[0m\n\u001B[0;32m----> 1\u001B[0m allsets \u001B[38;5;241m=\u001B[39m \u001B[38;5;28mset\u001B[39m((l1,l2))\n",
        "\u001B[0;31mTypeError\u001B[0m: unhashable type: 'Link'"
       ],
       "type": "baseError"
      }
     },
     "output_type": "display_data"
    }
   ],
   "source": [
    "# allsets = set((l1,l2))"
   ]
  },
  {
   "cell_type": "code",
   "execution_count": 0,
   "metadata": {
    "application/vnd.databricks.v1+cell": {
     "cellMetadata": {
      "byteLimit": 2048000,
      "rowLimit": 10000
     },
     "inputWidgets": {},
     "nuid": "06c0389a-f932-4df4-a657-9fb5f48386c9",
     "showTitle": false,
     "title": ""
    }
   },
   "outputs": [
    {
     "output_type": "stream",
     "name": "stdout",
     "output_type": "stream",
     "text": [
      "l1 =  ('abc', 'def')\nstr(l1) =  ('abc', 'def')\nl2 =  ('abc', 'def')\nTrue\nl3 =  ('ckz', 'def')\nFalse\n{'source': 'abc', 'target': 'def'}\n{\"source\": \"abc\", \"target\": \"def\"}\n"
     ]
    },
    {
     "output_type": "display_data",
     "data": {
      "text/plain": [
       "\u001B[0;31m---------------------------------------------------------------------------\u001B[0m\n",
       "\u001B[0;31mTypeError\u001B[0m                                 Traceback (most recent call last)\n",
       "File \u001B[0;32m<command-3005107788418187>, line 1\u001B[0m\n",
       "\u001B[0;32m----> 1\u001B[0m allsets \u001B[38;5;241m=\u001B[39m \u001B[38;5;28mset\u001B[39m((l1,l2))\n",
       "\n",
       "\u001B[0;31mTypeError\u001B[0m: unhashable type: 'Link'"
      ]
     },
     "metadata": {
      "application/vnd.databricks.v1+output": {
       "addedWidgets": {},
       "arguments": {},
       "datasetInfos": [],
       "jupyterProps": {
        "ename": "TypeError",
        "evalue": "unhashable type: 'Link'"
       },
       "metadata": {
        "errorSummary": ""
       },
       "removedWidgets": [],
       "sqlProps": null,
       "stackFrames": [
        "\u001B[0;31m---------------------------------------------------------------------------\u001B[0m",
        "\u001B[0;31mTypeError\u001B[0m                                 Traceback (most recent call last)",
        "File \u001B[0;32m<command-3005107788418187>, line 1\u001B[0m\n\u001B[0;32m----> 1\u001B[0m allsets \u001B[38;5;241m=\u001B[39m \u001B[38;5;28mset\u001B[39m((l1,l2))\n",
        "\u001B[0;31mTypeError\u001B[0m: unhashable type: 'Link'"
       ],
       "type": "baseError"
      }
     },
     "output_type": "display_data"
    }
   ],
   "source": [
    "import json\n",
    "# from dataclasses import dataclass\n",
    "# @dataclass(frozen=True)\n",
    "class Link:\n",
    "    def __init__(self, ref1, ref2):\n",
    "        if ref1 != ref2:\n",
    "            if ref1 < ref2:\n",
    "                self.__link_tuple = tuple([ref1, ref2])\n",
    "            else:\n",
    "                self.__link_tuple = tuple([ref2, ref1 ])\n",
    "\n",
    "        else:\n",
    "            raise SyntaxError(\"error ref1 equals ref2\")\n",
    "\n",
    "    def __eq__(self, other):\n",
    "        if not isinstance(other, Link):\n",
    "            # don't attempt to compare against unrelated types\n",
    "            return NotImplemented\n",
    "        return self.__link_tuple ==other.__link_tuple\n",
    "\n",
    "    def __str__(self) -> str:\n",
    "        return str(self.__link_tuple)\n",
    "\n",
    "    def __hash__(self):\n",
    "        return (hash(self.__link_tuple[0])+ hash(self.__link_tuple[1]))\n",
    "\n",
    "    def get_link_object(self):\n",
    "        link_object = {}\n",
    "        link_object['source'] =self.__link_tuple[0]\n",
    "        link_object['target'] = self.__link_tuple[1]\n",
    "        return link_object\n",
    "\n",
    "    def get_json(self):\n",
    "        return json.dumps(self.get_link_object())\n",
    "      \n",
    "\n",
    "def test_link():\n",
    "    l1 = Link(\"abc\", \"def\")\n",
    "    print('l1 = ', l1)\n",
    "    print('str(l1) = ',str(l1))\n",
    "    l2 = Link(\"def\", \"abc\")\n",
    "    print('l2 = ', l2)\n",
    "    print(l1==l2)\n",
    "\n",
    "    l3 = Link(\"def\", \"ckz\")\n",
    "    print('l3 = ', l3)\n",
    "    print(l2==l3)\n",
    "\n",
    "    #l4 = Link(\"def\", \"def\")  # should fail\n",
    "    l5 = Link(\"qqq\", \"uuu\")\n",
    "    print(l1.get_link_object())\n",
    "    print(l1.get_json())\n",
    "    \n",
    "test_link()"
   ]
  },
  {
   "cell_type": "code",
   "execution_count": 0,
   "metadata": {
    "application/vnd.databricks.v1+cell": {
     "cellMetadata": {
      "byteLimit": 2048000,
      "rowLimit": 10000
     },
     "inputWidgets": {},
     "nuid": "199f8089-d0d1-49ab-8cd9-4939227cb007",
     "showTitle": false,
     "title": ""
    }
   },
   "outputs": [
    {
     "output_type": "display_data",
     "data": {
      "text/plain": [
       "\u001B[0;31m---------------------------------------------------------------------------\u001B[0m\n",
       "\u001B[0;31mTypeError\u001B[0m                                 Traceback (most recent call last)\n",
       "File \u001B[0;32m<command-3005107788418189>, line 1\u001B[0m\n",
       "\u001B[0;32m----> 1\u001B[0m allsets \u001B[38;5;241m=\u001B[39m \u001B[38;5;28mset\u001B[39m((l1,l2))\n",
       "\n",
       "\u001B[0;31mTypeError\u001B[0m: unhashable type: 'Link'"
      ]
     },
     "metadata": {
      "application/vnd.databricks.v1+output": {
       "addedWidgets": {},
       "arguments": {},
       "datasetInfos": [],
       "jupyterProps": {
        "ename": "TypeError",
        "evalue": "unhashable type: 'Link'"
       },
       "metadata": {
        "errorSummary": ""
       },
       "removedWidgets": [],
       "sqlProps": null,
       "stackFrames": [
        "\u001B[0;31m---------------------------------------------------------------------------\u001B[0m",
        "\u001B[0;31mTypeError\u001B[0m                                 Traceback (most recent call last)",
        "File \u001B[0;32m<command-3005107788418189>, line 1\u001B[0m\n\u001B[0;32m----> 1\u001B[0m allsets \u001B[38;5;241m=\u001B[39m \u001B[38;5;28mset\u001B[39m((l1,l2))\n",
        "\u001B[0;31mTypeError\u001B[0m: unhashable type: 'Link'"
       ],
       "type": "baseError"
      }
     },
     "output_type": "display_data"
    }
   ],
   "source": [
    "# allsets = set((l1,l2))"
   ]
  },
  {
   "cell_type": "code",
   "execution_count": 0,
   "metadata": {
    "application/vnd.databricks.v1+cell": {
     "cellMetadata": {
      "byteLimit": 2048000,
      "rowLimit": 10000
     },
     "inputWidgets": {},
     "nuid": "edadc7b8-dc50-47fb-9ca2-2c7d1616c883",
     "showTitle": false,
     "title": ""
    }
   },
   "outputs": [
    {
     "output_type": "stream",
     "name": "stdout",
     "output_type": "stream",
     "text": [
      "l1 =  ('abc', 'def')\nl2 =  ('abc', 'def')\nTrue\nNone\nNone\nlen(set_of_links) =  1\nl3 =  ('ckz', 'def')\nFalse\nlen(set_of_links) =  2\nlen(set_of_links) =  3\n{<__main__.Link object at 0x7fcd84ea33d0>, <__main__.Link object at 0x7fcd904f7390>, <__main__.Link object at 0x7fcd84be9ed0>}\n[\"('abc', 'def')\", \"('ckz', 'def')\", \"('qqq', 'uuu')\"]\n{'source': 'abc', 'target': 'def'}\n{\"source\": \"abc\", \"target\": \"def\"}\n"
     ]
    },
    {
     "output_type": "display_data",
     "data": {
      "text/plain": [
       "\u001B[0;31m---------------------------------------------------------------------------\u001B[0m\n",
       "\u001B[0;31mTypeError\u001B[0m                                 Traceback (most recent call last)\n",
       "File \u001B[0;32m<command-3005107788418189>, line 1\u001B[0m\n",
       "\u001B[0;32m----> 1\u001B[0m allsets \u001B[38;5;241m=\u001B[39m \u001B[38;5;28mset\u001B[39m((l1,l2))\n",
       "\n",
       "\u001B[0;31mTypeError\u001B[0m: unhashable type: 'Link'"
      ]
     },
     "metadata": {
      "application/vnd.databricks.v1+output": {
       "addedWidgets": {},
       "arguments": {},
       "datasetInfos": [],
       "jupyterProps": {
        "ename": "TypeError",
        "evalue": "unhashable type: 'Link'"
       },
       "metadata": {
        "errorSummary": ""
       },
       "removedWidgets": [],
       "sqlProps": null,
       "stackFrames": [
        "\u001B[0;31m---------------------------------------------------------------------------\u001B[0m",
        "\u001B[0;31mTypeError\u001B[0m                                 Traceback (most recent call last)",
        "File \u001B[0;32m<command-3005107788418189>, line 1\u001B[0m\n\u001B[0;32m----> 1\u001B[0m allsets \u001B[38;5;241m=\u001B[39m \u001B[38;5;28mset\u001B[39m((l1,l2))\n",
        "\u001B[0;31mTypeError\u001B[0m: unhashable type: 'Link'"
       ],
       "type": "baseError"
      }
     },
     "output_type": "display_data"
    }
   ],
   "source": [
    "import json\n",
    "class Link:\n",
    "    def __init__(self, ref1, ref2):\n",
    "        if ref1 != ref2:\n",
    "            if ref1 < ref2:\n",
    "                self.__link_tuple = (ref1, ref2)\n",
    "            else:\n",
    "                self.__link_tuple = (ref2, ref1)\n",
    "        else:\n",
    "            raise SyntaxError(\"error ref1 equals ref2\")\n",
    "\n",
    "    def __eq__(self, other):\n",
    "        if not isinstance(other, Link):\n",
    "            # don't attempt to compare against unrelated types\n",
    "            return NotImplemented\n",
    "\n",
    "        return (self.__link_tuple[0] == other.__link_tuple[0] ) and (self.__link_tuple[1] == other.__link_tuple[1])\n",
    "\n",
    "    def __str__(self) -> str:\n",
    "        # stringreplist = []\n",
    "        # for item in self.linkset:\n",
    "        #    stringreplist.append(item)\n",
    "        # return \",\".join (stringreplist)\n",
    "        return str(self.__link_tuple)\n",
    "\n",
    "\n",
    "    def __hash__(self):\n",
    "        return hash(self.__link_tuple)\n",
    "\n",
    "    def get_link_object(self):\n",
    "        link_object = {}\n",
    "        link_object['source'] = self.__link_tuple[0]\n",
    "        link_object['target'] = self.__link_tuple[1]\n",
    "        return link_object\n",
    "\n",
    "    def get_json(self):\n",
    "        return json.dumps(self.get_link_object())\n",
    "      \n",
    "\n",
    "def test_link():\n",
    "    set_of_links = set()\n",
    "    l1 = Link(\"abc\", \"def\")\n",
    "    print('l1 = ', l1)\n",
    "    l2 = Link(\"def\", \"abc\")\n",
    "    print('l2 = ', l2)\n",
    "    print(l1==l2)\n",
    "    print(set_of_links.add(l1))\n",
    "    print(set_of_links.add(l2))\n",
    "    print('len(set_of_links) = ' , len(set_of_links))\n",
    "    #     myset = set((l1, l2))\n",
    "    #     print('myset = ', myset)\n",
    "    l3 = Link(\"def\", \"ckz\")\n",
    "    print('l3 = ', l3)\n",
    "    print(l2==l3)\n",
    "    set_of_links.add(l3)\n",
    "    print('len(set_of_links) = ' , len(set_of_links))\n",
    "    #l4 = Link(\"def\", \"def\")  # should fail\n",
    "    l5 = Link(\"qqq\", \"uuu\")\n",
    "    set_of_links.add(l5)\n",
    "    print('len(set_of_links) = ' , len(set_of_links))\n",
    "    print(set_of_links)\n",
    "    print([str(l) for l in set_of_links])\n",
    "    print(l1.get_link_object())\n",
    "    print(l1.get_json())\n",
    "    \n",
    "test_link()"
   ]
  },
  {
   "cell_type": "code",
   "execution_count": 0,
   "metadata": {
    "application/vnd.databricks.v1+cell": {
     "cellMetadata": {
      "byteLimit": 2048000,
      "rowLimit": 10000
     },
     "inputWidgets": {},
     "nuid": "0f060462-6958-4157-aca9-c1a80627def9",
     "showTitle": false,
     "title": ""
    }
   },
   "outputs": [
    {
     "output_type": "display_data",
     "data": {
      "text/plain": [
       "\u001B[0;31m---------------------------------------------------------------------------\u001B[0m\n",
       "\u001B[0;31mTypeError\u001B[0m                                 Traceback (most recent call last)\n",
       "File \u001B[0;32m<command-3005107788418189>, line 1\u001B[0m\n",
       "\u001B[0;32m----> 1\u001B[0m allsets \u001B[38;5;241m=\u001B[39m \u001B[38;5;28mset\u001B[39m((l1,l2))\n",
       "\n",
       "\u001B[0;31mTypeError\u001B[0m: unhashable type: 'Link'"
      ]
     },
     "metadata": {
      "application/vnd.databricks.v1+output": {
       "addedWidgets": {},
       "arguments": {},
       "datasetInfos": [],
       "jupyterProps": {
        "ename": "TypeError",
        "evalue": "unhashable type: 'Link'"
       },
       "metadata": {
        "errorSummary": ""
       },
       "removedWidgets": [],
       "sqlProps": null,
       "stackFrames": [
        "\u001B[0;31m---------------------------------------------------------------------------\u001B[0m",
        "\u001B[0;31mTypeError\u001B[0m                                 Traceback (most recent call last)",
        "File \u001B[0;32m<command-3005107788418189>, line 1\u001B[0m\n\u001B[0;32m----> 1\u001B[0m allsets \u001B[38;5;241m=\u001B[39m \u001B[38;5;28mset\u001B[39m((l1,l2))\n",
        "\u001B[0;31mTypeError\u001B[0m: unhashable type: 'Link'"
       ],
       "type": "baseError"
      }
     },
     "output_type": "display_data"
    }
   ],
   "source": [
    "# read xml file\n",
    "# spark.read.format(\"json\").load(\"/Volumes/my_catalog/my_schema/my_volume/data.json\").show()\n",
    "volpath = \"/Volumes/main/default/example-data/7v9bhen-al-qaida.xml\"\n",
    "indiv_sdf = spark.read.option(\"rowTag\", \"INDIVIDUAL\").format(\"xml\").load(volpath) # .show()\n",
    "ent_sdf = spark.read.option(\"rowTag\", \"ENTITY\").format(\"xml\").load(volpath) # .show()"
   ]
  },
  {
   "cell_type": "code",
   "execution_count": 0,
   "metadata": {
    "application/vnd.databricks.v1+cell": {
     "cellMetadata": {
      "byteLimit": 2048000,
      "rowLimit": 10000
     },
     "inputWidgets": {},
     "nuid": "3d87d5df-c4dd-4c94-a37e-eaefd35c5282",
     "showTitle": false,
     "title": ""
    }
   },
   "outputs": [
    {
     "output_type": "stream",
     "name": "stdout",
     "output_type": "stream",
     "text": [
      "<class 'list'>\n256\n89\n"
     ]
    },
    {
     "output_type": "display_data",
     "data": {
      "text/plain": [
       "\u001B[0;31m---------------------------------------------------------------------------\u001B[0m\n",
       "\u001B[0;31mTypeError\u001B[0m                                 Traceback (most recent call last)\n",
       "File \u001B[0;32m<command-3005107788418189>, line 1\u001B[0m\n",
       "\u001B[0;32m----> 1\u001B[0m allsets \u001B[38;5;241m=\u001B[39m \u001B[38;5;28mset\u001B[39m((l1,l2))\n",
       "\n",
       "\u001B[0;31mTypeError\u001B[0m: unhashable type: 'Link'"
      ]
     },
     "metadata": {
      "application/vnd.databricks.v1+output": {
       "addedWidgets": {},
       "arguments": {},
       "datasetInfos": [],
       "jupyterProps": {
        "ename": "TypeError",
        "evalue": "unhashable type: 'Link'"
       },
       "metadata": {
        "errorSummary": ""
       },
       "removedWidgets": [],
       "sqlProps": null,
       "stackFrames": [
        "\u001B[0;31m---------------------------------------------------------------------------\u001B[0m",
        "\u001B[0;31mTypeError\u001B[0m                                 Traceback (most recent call last)",
        "File \u001B[0;32m<command-3005107788418189>, line 1\u001B[0m\n\u001B[0;32m----> 1\u001B[0m allsets \u001B[38;5;241m=\u001B[39m \u001B[38;5;28mset\u001B[39m((l1,l2))\n",
        "\u001B[0;31mTypeError\u001B[0m: unhashable type: 'Link'"
       ],
       "type": "baseError"
      }
     },
     "output_type": "display_data"
    }
   ],
   "source": [
    "indiv_coll = indiv_sdf.collect()\n",
    "print(type(indiv_coll))\n",
    "print(len(indiv_coll))\n",
    "# print(indiv_coll)\n",
    "ent_coll= ent_sdf.collect()\n",
    "print(len(ent_coll))"
   ]
  },
  {
   "cell_type": "code",
   "execution_count": 0,
   "metadata": {
    "application/vnd.databricks.v1+cell": {
     "cellMetadata": {
      "byteLimit": 2048000,
      "rowLimit": 10000
     },
     "inputWidgets": {},
     "nuid": "4e1d0bbe-745b-49d4-b28f-3860f87a06a2",
     "showTitle": false,
     "title": ""
    }
   },
   "outputs": [
    {
     "output_type": "stream",
     "name": "stdout",
     "output_type": "stream",
     "text": [
      "all_the_links =  []\nall_the_links =  []\nall_the_links =  []\ncurrent links  ['QDe.004', 'QDe.003']\nnode_link_object_list =  [{'source': 'QDi.006', 'target': 'QDe.004'}, {'source': 'QDi.006', 'target': 'QDe.003'}]\nall_the_links =  [{'source': 'QDi.006', 'target': 'QDe.004'}, {'source': 'QDi.006', 'target': 'QDe.003'}]\nall_the_links =  [{'source': 'QDi.006', 'target': 'QDe.004'}, {'source': 'QDi.006', 'target': 'QDe.003'}]\ncurrent links  ['QDe.098']\nnode_link_object_list =  [{'source': 'QDi.012', 'target': 'QDe.098'}]\nall_the_links =  [{'source': 'QDi.006', 'target': 'QDe.004'}, {'source': 'QDi.006', 'target': 'QDe.003'}, {'source': 'QDi.012', 'target': 'QDe.098'}]\nall_the_links =  [{'source': 'QDi.006', 'target': 'QDe.004'}, {'source': 'QDi.006', 'target': 'QDe.003'}, {'source': 'QDi.012', 'target': 'QDe.098'}]\nall_the_links =  [{'source': 'QDi.006', 'target': 'QDe.004'}, {'source': 'QDi.006', 'target': 'QDe.003'}, {'source': 'QDi.012', 'target': 'QDe.098'}]\nall_the_links =  [{'source': 'QDi.006', 'target': 'QDe.004'}, {'source': 'QDi.006', 'target': 'QDe.003'}, {'source': 'QDi.012', 'target': 'QDe.098'}]\nall_the_links =  [{'source': 'QDi.006', 'target': 'QDe.004'}, {'source': 'QDi.006', 'target': 'QDe.003'}, {'source': 'QDi.012', 'target': 'QDe.098'}]\nall_the_links =  [{'source': 'QDi.006', 'target': 'QDe.004'}, {'source': 'QDi.006', 'target': 'QDe.003'}, {'source': 'QDi.012', 'target': 'QDe.098'}]\ncurrent links  ['QDe.004']\nnode_link_object_list =  [{'source': 'QDi.020', 'target': 'QDe.004'}]\nall_the_links =  [{'source': 'QDi.006', 'target': 'QDe.004'}, {'source': 'QDi.006', 'target': 'QDe.003'}, {'source': 'QDi.012', 'target': 'QDe.098'}, {'source': 'QDi.020', 'target': 'QDe.004'}]\ncurrent links  ['QDe.115']\nnode_link_object_list =  [{'source': 'QDi.029', 'target': 'QDe.115'}]\ncurrent links  ['QDe.002']\nnode_link_object_list =  [{'source': 'QDi.042', 'target': 'QDe.002'}]\ncurrent links  ['QDe.068']\nnode_link_object_list =  [{'source': 'QDi.056', 'target': 'QDe.068'}]\ncurrent links  ['QDe.069', 'QDe.070', 'QDe.011']\nnode_link_object_list =  [{'source': 'QDi.057', 'target': 'QDe.069'}, {'source': 'QDi.057', 'target': 'QDe.070'}, {'source': 'QDi.057', 'target': 'QDe.011'}]\ncurrent links  ['QDe.069', 'QDe.004']\nnode_link_object_list =  [{'source': 'QDi.058', 'target': 'QDe.069'}, {'source': 'QDi.058', 'target': 'QDe.004'}]\ncurrent links  ['QDe.143']\nnode_link_object_list =  [{'source': 'QDi.060', 'target': 'QDe.143'}]\ncurrent links  ['QDe.004']\nnode_link_object_list =  [{'source': 'QDi.080', 'target': 'QDe.004'}]\ncurrent links  ['QDe.092', 'QDi.218']\nnode_link_object_list =  [{'source': 'QDi.087', 'target': 'QDe.092'}, {'source': 'QDi.087', 'target': 'QDi.218'}]\ncurrent links  ['QDe.092', 'QDe.004']\nnode_link_object_list =  [{'source': 'QDi.124', 'target': 'QDe.092'}, {'source': 'QDi.124', 'target': 'QDe.004'}]\ncurrent links  ['QDe.014', 'QDe.139', 'QDe.140', 'QDe.141']\nnode_link_object_list =  [{'source': 'QDi.136', 'target': 'QDe.014'}, {'source': 'QDi.136', 'target': 'QDe.139'}, {'source': 'QDi.136', 'target': 'QDe.140'}, {'source': 'QDi.136', 'target': 'QDe.141'}]\ncurrent links  ['QDe.014']\nnode_link_object_list =  [{'source': 'QDi.152', 'target': 'QDe.014'}]\ncurrent links  ['QDe.014']\nnode_link_object_list =  [{'source': 'QDi.167', 'target': 'QDe.014'}]\ncurrent links  ['QDe.092']\nnode_link_object_list =  [{'source': 'QDi.186', 'target': 'QDe.092'}]\ncurrent links  ['QDe.003']\nnode_link_object_list =  [{'source': 'QDi.192', 'target': 'QDe.003'}]\ncurrent links  ['QDe.003']\nnode_link_object_list =  [{'source': 'QDi.193', 'target': 'QDe.003'}]\ncurrent links  ['QDe.004', 'QDe.003']\nnode_link_object_list =  [{'source': 'QDi.196', 'target': 'QDe.004'}, {'source': 'QDi.196', 'target': 'QDe.003'}]\ncurrent links  ['QDe.001', 'QDe.115']\nnode_link_object_list =  [{'source': 'QDi.204', 'target': 'QDe.001'}, {'source': 'QDi.204', 'target': 'QDe.115'}]\ncurrent links  ['QDe.092']\nnode_link_object_list =  [{'source': 'QDi.216', 'target': 'QDe.092'}]\ncurrent links  ['QDe.133']\nnode_link_object_list =  [{'source': 'QDi.217', 'target': 'QDe.133'}]\ncurrent links  ['QDi.087']\nnode_link_object_list =  [{'source': 'QDi.218', 'target': 'QDi.087'}]\ncurrent links  ['QDe.011']\nnode_link_object_list =  [{'source': 'QDi.223', 'target': 'QDe.011'}]\ncurrent links  ['QDe.011']\nnode_link_object_list =  [{'source': 'QDi.229', 'target': 'QDe.011'}]\ncurrent links  ['QDe.011', 'QDe.004']\nnode_link_object_list =  [{'source': 'QDi.231', 'target': 'QDe.011'}, {'source': 'QDi.231', 'target': 'QDe.004'}]\ncurrent links  ['QDe.014']\nnode_link_object_list =  [{'source': 'QDi.232', 'target': 'QDe.014'}]\ncurrent links  ['QDe.128', 'QDe.001', 'QDe.092']\nnode_link_object_list =  [{'source': 'QDi.241', 'target': 'QDe.128'}, {'source': 'QDi.241', 'target': 'QDe.001'}, {'source': 'QDi.241', 'target': 'QDe.092'}]\ncurrent links  ['QDe.128']\nnode_link_object_list =  [{'source': 'QDi.242', 'target': 'QDe.128'}]\ncurrent links  ['QDe.128']\nnode_link_object_list =  [{'source': 'QDi.243', 'target': 'QDe.128'}]\ncurrent links  ['QDe.128', 'QDe.001']\nnode_link_object_list =  [{'source': 'QDi.244', 'target': 'QDe.128'}, {'source': 'QDi.244', 'target': 'QDe.001'}]\ncurrent links  ['QDe.128', 'QDe.001', 'QDe.092']\nnode_link_object_list =  [{'source': 'QDi.245', 'target': 'QDe.128'}, {'source': 'QDi.245', 'target': 'QDe.001'}, {'source': 'QDi.245', 'target': 'QDe.092'}]\ncurrent links  ['QDe.128', 'QDe.001']\nnode_link_object_list =  [{'source': 'QDi.246', 'target': 'QDe.128'}, {'source': 'QDi.246', 'target': 'QDe.001'}]\ncurrent links  ['QDe.128']\nnode_link_object_list =  [{'source': 'QDi.247', 'target': 'QDe.128'}]\ncurrent links  ['QDe.128']\nnode_link_object_list =  [{'source': 'QDi.248', 'target': 'QDe.128'}]\ncurrent links  ['QDe.014']\nnode_link_object_list =  [{'source': 'QDi.249', 'target': 'QDe.014'}]\ncurrent links  ['QDe.014']\nnode_link_object_list =  [{'source': 'QDi.250', 'target': 'QDe.014'}]\ncurrent links  ['QDe.014', 'QDi.232']\nnode_link_object_list =  [{'source': 'QDi.251', 'target': 'QDe.014'}, {'source': 'QDi.251', 'target': 'QDi.232'}]\ncurrent links  ['QDe.014']\nnode_link_object_list =  [{'source': 'QDi.252', 'target': 'QDe.014'}]\ncurrent links  ['QDe.119']\nnode_link_object_list =  [{'source': 'QDi.261', 'target': 'QDe.119'}]\ncurrent links  ['QDe.118']\nnode_link_object_list =  [{'source': 'QDi.263', 'target': 'QDe.118'}]\ncurrent links  ['QDe.118']\nnode_link_object_list =  [{'source': 'QDi.264', 'target': 'QDe.118'}]\ncurrent links  ['QDe.118']\nnode_link_object_list =  [{'source': 'QDi.265', 'target': 'QDe.118'}]\ncurrent links  ['QDe.118']\nnode_link_object_list =  [{'source': 'QDi.266', 'target': 'QDe.118'}]\ncurrent links  ['QDe.088']\nnode_link_object_list =  [{'source': 'QDi.268', 'target': 'QDe.088'}]\ncurrent links  ['QDe.118', 'QDe.004']\nnode_link_object_list =  [{'source': 'QDi.271', 'target': 'QDe.118'}, {'source': 'QDi.271', 'target': 'QDe.004'}]\ncurrent links  ['QDe.118']\nnode_link_object_list =  [{'source': 'QDi.272', 'target': 'QDe.118'}]\ncurrent links  ['QDe.004']\nnode_link_object_list =  [{'source': 'QDi.273', 'target': 'QDe.004'}]\ncurrent links  ['QDi.277', 'QDe.115']\nnode_link_object_list =  [{'source': 'QDi.276', 'target': 'QDi.277'}, {'source': 'QDi.276', 'target': 'QDe.115'}]\ncurrent links  ['QDi.276', 'QDe.115']\nnode_link_object_list =  [{'source': 'QDi.277', 'target': 'QDi.276'}, {'source': 'QDi.277', 'target': 'QDe.115'}]\ncurrent links  ['QDe.115']\nnode_link_object_list =  [{'source': 'QDi.278', 'target': 'QDe.115'}]\ncurrent links  ['QDe.159', 'QDe.014']\nnode_link_object_list =  [{'source': 'QDi.279', 'target': 'QDe.159'}, {'source': 'QDi.279', 'target': 'QDe.014'}]\ncurrent links  ['QDe.159', 'QDe.014']\nnode_link_object_list =  [{'source': 'QDi.280', 'target': 'QDe.159'}, {'source': 'QDi.280', 'target': 'QDe.014'}]\ncurrent links  ['QDe.129', 'QDi.006']\nnode_link_object_list =  [{'source': 'QDi.282', 'target': 'QDe.129'}, {'source': 'QDi.282', 'target': 'QDi.006'}]\ncurrent links  ['QDe.004']\nnode_link_object_list =  [{'source': 'QDi.289', 'target': 'QDe.004'}]\ncurrent links  ['QDe.129', 'QDi.282', 'QDi.283']\nnode_link_object_list =  [{'source': 'QDi.291', 'target': 'QDe.129'}, {'source': 'QDi.291', 'target': 'QDi.282'}, {'source': 'QDi.291', 'target': 'QDi.283'}]\ncurrent links  ['QDe.129', 'QDi.282']\nnode_link_object_list =  [{'source': 'QDi.292', 'target': 'QDe.129'}, {'source': 'QDi.292', 'target': 'QDi.282'}]\ncurrent links  ['QDe.092', 'QDi.217']\nnode_link_object_list =  [{'source': 'QDi.293', 'target': 'QDe.092'}, {'source': 'QDi.293', 'target': 'QDi.217'}]\ncurrent links  ['QDe.092', 'QDe.001']\nnode_link_object_list =  [{'source': 'QDi.294', 'target': 'QDe.092'}, {'source': 'QDi.294', 'target': 'QDe.001'}]\ncurrent links  ['QDe.092', 'QDi.086']\nnode_link_object_list =  [{'source': 'QDi.295', 'target': 'QDe.092'}, {'source': 'QDi.295', 'target': 'QDi.086'}]\ncurrent links  ['QDe.096', 'QDe.130']\nnode_link_object_list =  [{'source': 'QDi.296', 'target': 'QDe.096'}, {'source': 'QDi.296', 'target': 'QDe.130'}]\ncurrent links  ['QDe.004', 'QDe.014']\nnode_link_object_list =  [{'source': 'QDi.298', 'target': 'QDe.004'}, {'source': 'QDi.298', 'target': 'QDe.014'}]\ncurrent links  ['QDe.115']\nnode_link_object_list =  [{'source': 'QDi.299', 'target': 'QDe.115'}]\ncurrent links  ['QDe.010', 'QDi.301']\nnode_link_object_list =  [{'source': 'QDi.300', 'target': 'QDe.010'}, {'source': 'QDi.300', 'target': 'QDi.301'}]\ncurrent links  ['QDe.010', 'QDi.300']\nnode_link_object_list =  [{'source': 'QDi.301', 'target': 'QDe.010'}, {'source': 'QDi.301', 'target': 'QDi.300'}]\ncurrent links  ['QDe.010', 'QDe.004']\nnode_link_object_list =  [{'source': 'QDi.303', 'target': 'QDe.010'}, {'source': 'QDi.303', 'target': 'QDe.004'}]\ncurrent links  ['QDe.133', 'QDi.217', 'QDi.293', 'QDe.092']\nnode_link_object_list =  [{'source': 'QDi.304', 'target': 'QDe.133'}, {'source': 'QDi.304', 'target': 'QDi.217'}, {'source': 'QDi.304', 'target': 'QDi.293'}, {'source': 'QDi.304', 'target': 'QDe.092'}]\ncurrent links  ['QDi.217', 'QDi.293', 'QDe.133', 'QDe.092']\nnode_link_object_list =  [{'source': 'QDi.305', 'target': 'QDi.217'}, {'source': 'QDi.305', 'target': 'QDi.293'}, {'source': 'QDi.305', 'target': 'QDe.133'}, {'source': 'QDi.305', 'target': 'QDe.092'}]\ncurrent links  ['QDe.004']\nnode_link_object_list =  [{'source': 'QDi.306', 'target': 'QDe.004'}]\ncurrent links  ['QDe.118', 'QDi.263']\nnode_link_object_list =  [{'source': 'QDi.307', 'target': 'QDe.118'}, {'source': 'QDi.307', 'target': 'QDi.263'}]\ncurrent links  ['QDe.118']\nnode_link_object_list =  [{'source': 'QDi.308', 'target': 'QDe.118'}]\ncurrent links  ['QDe.004', 'QDe.130', 'QDe.019', 'QDe.121']\nnode_link_object_list =  [{'source': 'QDi.309', 'target': 'QDe.004'}, {'source': 'QDi.309', 'target': 'QDe.130'}, {'source': 'QDi.309', 'target': 'QDe.019'}, {'source': 'QDi.309', 'target': 'QDe.121'}]\ncurrent links  ['QDe.010', 'QDi.303']\nnode_link_object_list =  [{'source': 'QDi.311', 'target': 'QDe.010'}, {'source': 'QDi.311', 'target': 'QDi.303'}]\ncurrent links  ['QDe.132']\nnode_link_object_list =  [{'source': 'QDi.312', 'target': 'QDe.132'}]\ncurrent links  ['QDe.014']\nnode_link_object_list =  [{'source': 'QDi.313', 'target': 'QDe.014'}]\ncurrent links  ['QDe.134', 'QDe.014', 'QDi.136']\nnode_link_object_list =  [{'source': 'QDi.314', 'target': 'QDe.134'}, {'source': 'QDi.314', 'target': 'QDe.014'}, {'source': 'QDi.314', 'target': 'QDi.136'}]\ncurrent links  ['QDe.134', 'QDe.014']\nnode_link_object_list =  [{'source': 'QDi.315', 'target': 'QDe.134'}, {'source': 'QDi.315', 'target': 'QDe.014'}]\ncurrent links  ['QDe.135', 'QDe.014', 'QDe.134']\nnode_link_object_list =  [{'source': 'QDi.316', 'target': 'QDe.135'}, {'source': 'QDi.316', 'target': 'QDe.014'}, {'source': 'QDi.316', 'target': 'QDe.134'}]\ncurrent links  ['QDe.137', 'QDe.115', 'QDi.006']\nnode_link_object_list =  [{'source': 'QDi.317', 'target': 'QDe.137'}, {'source': 'QDi.317', 'target': 'QDe.115'}, {'source': 'QDi.317', 'target': 'QDi.006'}]\ncurrent links  ['QDe.004', 'QDe.003', 'QDe.136', 'QDe.129', 'QDi.006', 'QDe.014']\nnode_link_object_list =  [{'source': 'QDi.318', 'target': 'QDe.004'}, {'source': 'QDi.318', 'target': 'QDe.003'}, {'source': 'QDi.318', 'target': 'QDe.136'}, {'source': 'QDi.318', 'target': 'QDe.129'}, {'source': 'QDi.318', 'target': 'QDi.006'}, {'source': 'QDi.318', 'target': 'QDe.014'}]\ncurrent links  ['QDe.134']\nnode_link_object_list =  [{'source': 'QDi.319', 'target': 'QDe.134'}]\ncurrent links  ['QDe.138']\nnode_link_object_list =  [{'source': 'QDi.322', 'target': 'QDe.138'}]\ncurrent links  ['QDe.137']\nnode_link_object_list =  [{'source': 'QDi.323', 'target': 'QDe.137'}]\ncurrent links  ['QDe.004', 'QDe.137']\nnode_link_object_list =  [{'source': 'QDi.324', 'target': 'QDe.004'}, {'source': 'QDi.324', 'target': 'QDe.137'}]\ncurrent links  ['QDe.115', 'QDi.317', 'QDi.299']\nnode_link_object_list =  [{'source': 'QDi.325', 'target': 'QDe.115'}, {'source': 'QDi.325', 'target': 'QDi.317'}, {'source': 'QDi.325', 'target': 'QDi.299'}]\ncurrent links  ['QDe.115', 'QDe.137', 'QDi.299', 'QDi.317']\nnode_link_object_list =  [{'source': 'QDi.326', 'target': 'QDe.115'}, {'source': 'QDi.326', 'target': 'QDe.137'}, {'source': 'QDi.326', 'target': 'QDi.299'}, {'source': 'QDi.326', 'target': 'QDi.317'}]\ncurrent links  ['QDe.137']\nnode_link_object_list =  [{'source': 'QDi.327', 'target': 'QDe.137'}]\ncurrent links  ['QDe.137']\nnode_link_object_list =  [{'source': 'QDi.328', 'target': 'QDe.137'}]\ncurrent links  ['QDe.004']\nnode_link_object_list =  [{'source': 'QDi.329', 'target': 'QDe.004'}]\ncurrent links  ['QDe.004']\nnode_link_object_list =  [{'source': 'QDi.330', 'target': 'QDe.004'}]\ncurrent links  ['QDe.129']\nnode_link_object_list =  [{'source': 'QDi.331', 'target': 'QDe.129'}]\ncurrent links  ['QDe.144']\nnode_link_object_list =  [{'source': 'QDi.332', 'target': 'QDe.144'}]\ncurrent links  ['QDe.090', 'QDe.143']\nnode_link_object_list =  [{'source': 'QDi.333', 'target': 'QDe.090'}, {'source': 'QDi.333', 'target': 'QDe.143'}]\ncurrent links  ['QDe.004', 'QDe.115']\nnode_link_object_list =  [{'source': 'QDi.334', 'target': 'QDe.004'}, {'source': 'QDi.334', 'target': 'QDe.115'}]\ncurrent links  ['QDe.004', 'QDe.115']\nnode_link_object_list =  [{'source': 'QDi.335', 'target': 'QDe.004'}, {'source': 'QDi.335', 'target': 'QDe.115'}]\ncurrent links  ['QDe.137']\nnode_link_object_list =  [{'source': 'QDi.336', 'target': 'QDe.137'}]\ncurrent links  ['QDe.137']\nnode_link_object_list =  [{'source': 'QDi.337', 'target': 'QDe.137'}]\ncurrent links  ['QDe.137']\nnode_link_object_list =  [{'source': 'QDi.338', 'target': 'QDe.137'}]\ncurrent links  ['QDe.115', 'QDe.004']\nnode_link_object_list =  [{'source': 'QDi.339', 'target': 'QDe.115'}, {'source': 'QDi.339', 'target': 'QDe.004'}]\ncurrent links  ['QDe.115', 'QDe.004']\nnode_link_object_list =  [{'source': 'QDi.340', 'target': 'QDe.115'}, {'source': 'QDi.340', 'target': 'QDe.004'}]\ncurrent links  ['QDe.137', 'QDe.115']\nnode_link_object_list =  [{'source': 'QDi.341', 'target': 'QDe.137'}, {'source': 'QDi.341', 'target': 'QDe.115'}]\ncurrent links  ['QDe.137']\nnode_link_object_list =  [{'source': 'QDi.342', 'target': 'QDe.137'}]\ncurrent links  ['QDe.004', 'QDe.137', 'QDe.115']\nnode_link_object_list =  [{'source': 'QDi.343', 'target': 'QDe.004'}, {'source': 'QDi.343', 'target': 'QDe.137'}, {'source': 'QDi.343', 'target': 'QDe.115'}]\ncurrent links  ['QDe.004']\nnode_link_object_list =  [{'source': 'QDi.344', 'target': 'QDe.004'}]\ncurrent links  ['QDe.115']\nnode_link_object_list =  [{'source': 'QDi.345', 'target': 'QDe.115'}]\ncurrent links  ['QDe.092', 'QDe.147']\nnode_link_object_list =  [{'source': 'QDi.348', 'target': 'QDe.092'}, {'source': 'QDi.348', 'target': 'QDe.147'}]\ncurrent links  ['QDe.092', 'QDe.147']\nnode_link_object_list =  [{'source': 'QDi.349', 'target': 'QDe.092'}, {'source': 'QDi.349', 'target': 'QDe.147'}]\ncurrent links  ['QDe.092', 'QDe.147']\nnode_link_object_list =  [{'source': 'QDi.350', 'target': 'QDe.092'}, {'source': 'QDi.350', 'target': 'QDe.147'}]\ncurrent links  ['QDe.132']\nnode_link_object_list =  [{'source': 'QDi.352', 'target': 'QDe.132'}]\ncurrent links  ['QDe.143']\nnode_link_object_list =  [{'source': 'QDi.353', 'target': 'QDe.143'}]\ncurrent links  ['QDe.115', 'QDe.143']\nnode_link_object_list =  [{'source': 'QDi.354', 'target': 'QDe.115'}, {'source': 'QDi.354', 'target': 'QDe.143'}]\ncurrent links  ['QDe.145']\nnode_link_object_list =  [{'source': 'QDi.355', 'target': 'QDe.145'}]\ncurrent links  ['QDe.115']\nnode_link_object_list =  [{'source': 'QDi.356', 'target': 'QDe.115'}]\ncurrent links  ['QDe.115']\nnode_link_object_list =  [{'source': 'QDi.357', 'target': 'QDe.115'}]\ncurrent links  ['QDe.115']\nnode_link_object_list =  [{'source': 'QDi.358', 'target': 'QDe.115'}]\ncurrent links  ['QDe.115']\nnode_link_object_list =  [{'source': 'QDi.359', 'target': 'QDe.115'}]\ncurrent links  ['QDe.115']\nnode_link_object_list =  [{'source': 'QDi.360', 'target': 'QDe.115'}]\ncurrent links  ['QDe.115']\nnode_link_object_list =  [{'source': 'QDi.361', 'target': 'QDe.115'}]\ncurrent links  ['QDe.115']\nnode_link_object_list =  [{'source': 'QDi.363', 'target': 'QDe.115'}]\ncurrent links  ['QDe.115']\nnode_link_object_list =  [{'source': 'QDi.364', 'target': 'QDe.115'}]\ncurrent links  ['QDe.115']\nnode_link_object_list =  [{'source': 'QDi.365', 'target': 'QDe.115'}]\ncurrent links  ['QDe.115']\nnode_link_object_list =  [{'source': 'QDi.366', 'target': 'QDe.115'}]\ncurrent links  ['QDe.148']\nnode_link_object_list =  [{'source': 'QDi.367', 'target': 'QDe.148'}]\ncurrent links  ['QDe.137']\nnode_link_object_list =  [{'source': 'QDi.368', 'target': 'QDe.137'}]\ncurrent links  ['QDe.115', 'QDe.129']\nnode_link_object_list =  [{'source': 'QDi.369', 'target': 'QDe.115'}, {'source': 'QDi.369', 'target': 'QDe.129'}]\ncurrent links  ['QDe.115']\nnode_link_object_list =  [{'source': 'QDi.370', 'target': 'QDe.115'}]\ncurrent links  ['QDe.004', 'QDi.006']\nnode_link_object_list =  [{'source': 'QDi.371', 'target': 'QDe.004'}, {'source': 'QDi.371', 'target': 'QDi.006'}]\ncurrent links  ['QDe.115']\nnode_link_object_list =  [{'source': 'QDi.372', 'target': 'QDe.115'}]\ncurrent links  ['QDe.137']\nnode_link_object_list =  [{'source': 'QDi.374', 'target': 'QDe.137'}]\ncurrent links  ['QDe.115']\nnode_link_object_list =  [{'source': 'QDi.375', 'target': 'QDe.115'}]\ncurrent links  ['QDe.129']\nnode_link_object_list =  [{'source': 'QDi.376', 'target': 'QDe.129'}]\ncurrent links  ['QDe.004']\nnode_link_object_list =  [{'source': 'QDi.377', 'target': 'QDe.004'}]\ncurrent links  ['QDe.115']\nnode_link_object_list =  [{'source': 'QDi.378', 'target': 'QDe.115'}]\ncurrent links  ['QDe.004']\nnode_link_object_list =  [{'source': 'QDi.380', 'target': 'QDe.004'}]\ncurrent links  ['QDe.137']\nnode_link_object_list =  [{'source': 'QDi.382', 'target': 'QDe.137'}]\ncurrent links  ['QDe.115']\nnode_link_object_list =  [{'source': 'QDi.383', 'target': 'QDe.115'}]\ncurrent links  ['QDe.115']\nnode_link_object_list =  [{'source': 'QDi.384', 'target': 'QDe.115'}]\ncurrent links  ['QDe.115']\nnode_link_object_list =  [{'source': 'QDi.385', 'target': 'QDe.115'}]\ncurrent links  ['QDe.014', 'QDe.115']\nnode_link_object_list =  [{'source': 'QDi.386', 'target': 'QDe.014'}, {'source': 'QDi.386', 'target': 'QDe.115'}]\ncurrent links  ['QDe.004']\nnode_link_object_list =  [{'source': 'QDi.387', 'target': 'QDe.004'}]\ncurrent links  ['QDe.115']\nnode_link_object_list =  [{'source': 'QDi.388', 'target': 'QDe.115'}]\ncurrent links  ['QDe.014']\nnode_link_object_list =  [{'source': 'QDi.389', 'target': 'QDe.014'}]\ncurrent links  ['QDe.115']\nnode_link_object_list =  [{'source': 'QDi.392', 'target': 'QDe.115'}]\ncurrent links  ['QDe.115', 'QDi.299']\nnode_link_object_list =  [{'source': 'QDi.394', 'target': 'QDe.115'}, {'source': 'QDi.394', 'target': 'QDi.299'}]\ncurrent links  ['QDe.133', 'QDe.115']\nnode_link_object_list =  [{'source': 'QDi.395', 'target': 'QDe.133'}, {'source': 'QDi.395', 'target': 'QDe.115'}]\ncurrent links  ['QDe.100']\nnode_link_object_list =  [{'source': 'QDi.396', 'target': 'QDe.100'}]\ncurrent links  ['QDe.137']\nnode_link_object_list =  [{'source': 'QDi.397', 'target': 'QDe.137'}]\ncurrent links  ['QDe.137']\nnode_link_object_list =  [{'source': 'QDi.399', 'target': 'QDe.137'}]\ncurrent links  ['QDe.137']\nnode_link_object_list =  [{'source': 'QDi.400', 'target': 'QDe.137'}]\ncurrent links  ['QDe.129']\nnode_link_object_list =  [{'source': 'QDi.401', 'target': 'QDe.129'}]\ncurrent links  ['QDe.115']\nnode_link_object_list =  [{'source': 'QDi.403', 'target': 'QDe.115'}]\ncurrent links  ['QDe.115']\nnode_link_object_list =  [{'source': 'QDi.404', 'target': 'QDe.115'}]\ncurrent links  ['QDe.115']\nnode_link_object_list =  [{'source': 'QDi.405', 'target': 'QDe.115'}]\ncurrent links  ['QDe.137']\nnode_link_object_list =  [{'source': 'QDi.406', 'target': 'QDe.137'}]\ncurrent links  ['QDe.115']\nnode_link_object_list =  [{'source': 'QDi.407', 'target': 'QDe.115'}]\ncurrent links  ['QDe.115']\nnode_link_object_list =  [{'source': 'QDi.408', 'target': 'QDe.115'}]\ncurrent links  ['QDe.115']\nnode_link_object_list =  [{'source': 'QDi.409', 'target': 'QDe.115'}]\ncurrent links  ['QDe.115']\nnode_link_object_list =  [{'source': 'QDi.410', 'target': 'QDe.115'}]\ncurrent links  ['QDe.115']\nnode_link_object_list =  [{'source': 'QDi.411', 'target': 'QDe.115'}]\ncurrent links  ['QDe.115', 'QDe.157']\nnode_link_object_list =  [{'source': 'QDi.412', 'target': 'QDe.115'}, {'source': 'QDi.412', 'target': 'QDe.157'}]\ncurrent links  ['QDe.115']\nnode_link_object_list =  [{'source': 'QDi.413', 'target': 'QDe.115'}]\ncurrent links  ['QDe.115']\nnode_link_object_list =  [{'source': 'QDi.414', 'target': 'QDe.115'}]\ncurrent links  ['QDe.134', 'QDe.141', 'QDe.115']\nnode_link_object_list =  [{'source': 'QDi.415', 'target': 'QDe.134'}, {'source': 'QDi.415', 'target': 'QDe.141'}, {'source': 'QDi.415', 'target': 'QDe.115'}]\ncurrent links  ['QDe.115']\nnode_link_object_list =  [{'source': 'QDi.416', 'target': 'QDe.115'}]\ncurrent links  ['QDe.115']\nnode_link_object_list =  [{'source': 'QDi.417', 'target': 'QDe.115'}]\ncurrent links  ['QDe.115']\nnode_link_object_list =  [{'source': 'QDi.418', 'target': 'QDe.115'}]\ncurrent links  ['QDe.115']\nnode_link_object_list =  [{'source': 'QDi.419', 'target': 'QDe.115'}]\ncurrent links  ['QDi.006', 'QDe.004']\nnode_link_object_list =  [{'source': 'QDi.421', 'target': 'QDi.006'}, {'source': 'QDi.421', 'target': 'QDe.004'}]\ncurrent links  ['QDe.019', 'QDe.008']\nnode_link_object_list =  [{'source': 'QDi.422', 'target': 'QDe.019'}, {'source': 'QDi.422', 'target': 'QDe.008'}]\ncurrent links  ['QDe.014', 'QDe.135', 'QDe.159']\nnode_link_object_list =  [{'source': 'QDi.423', 'target': 'QDe.014'}, {'source': 'QDi.423', 'target': 'QDe.135'}, {'source': 'QDi.423', 'target': 'QDe.159'}]\ncurrent links  ['QDe.135', 'QDe.159']\nnode_link_object_list =  [{'source': 'QDi.424', 'target': 'QDe.135'}, {'source': 'QDi.424', 'target': 'QDe.159'}]\ncurrent links  ['QDe.159', 'QDe.014']\nnode_link_object_list =  [{'source': 'QDi.425', 'target': 'QDe.159'}, {'source': 'QDi.425', 'target': 'QDe.014'}]\ncurrent links  ['QDe.115']\nnode_link_object_list =  [{'source': 'QDi.426', 'target': 'QDe.115'}]\ncurrent links  ['QDe.132', 'QDi.352']\nnode_link_object_list =  [{'source': 'QDi.427', 'target': 'QDe.132'}, {'source': 'QDi.427', 'target': 'QDi.352'}]\ncurrent links  ['QDe.137']\nnode_link_object_list =  [{'source': 'QDi.428', 'target': 'QDe.137'}]\ncurrent links  ['QDe.115']\nnode_link_object_list =  [{'source': 'QDi.429', 'target': 'QDe.115'}]\ncurrent links  ['QDe.115']\nnode_link_object_list =  [{'source': 'QDi.430', 'target': 'QDe.115'}]\ncurrent links  ['QDe.161']\nnode_link_object_list =  [{'source': 'QDi.431', 'target': 'QDe.161'}]\ncurrent links  ['QDe.115']\nnode_link_object_list =  [{'source': 'QDi.432', 'target': 'QDe.115'}]\ncurrent links  ['QDe.118', 'QDi.263']\nnode_link_object_list =  [{'source': 'QDi.433', 'target': 'QDe.118'}, {'source': 'QDi.433', 'target': 'QDi.263'}]\ncurrent links  ['QDe.161']\nnode_link_object_list =  [{'source': 'QDi.434', 'target': 'QDe.161'}]\ncurrent links  ['QDe.161']\nnode_link_object_list =  [{'source': 'QDi.435', 'target': 'QDe.161'}]\ncurrent links  ['QDe.092', 'QDi.208']\nnode_link_object_list =  [{'source': 'QDe.001', 'target': 'QDe.092'}, {'source': 'QDe.001', 'target': 'QDi.208'}]\ncurrent links  ['QDe.004', 'QDi.006', 'QDi.042', 'QDe.072']\nnode_link_object_list =  [{'source': 'QDe.002', 'target': 'QDe.004'}, {'source': 'QDe.002', 'target': 'QDi.006'}, {'source': 'QDe.002', 'target': 'QDi.042'}, {'source': 'QDe.002', 'target': 'QDe.072'}]\ncurrent links  ['QDi.006']\nnode_link_object_list =  [{'source': 'QDe.003', 'target': 'QDi.006'}]\ncurrent links  ['QDe.073', 'QDe.073', 'QDe.019']\nnode_link_object_list =  [{'source': 'QDe.005', 'target': 'QDe.073'}, {'source': 'QDe.005', 'target': 'QDe.073'}, {'source': 'QDe.005', 'target': 'QDe.019'}]\ncurrent links  ['QDe.115']\nnode_link_object_list =  [{'source': 'QDe.007', 'target': 'QDe.115'}]\ncurrent links  ['QDe.019', 'QDe.096', 'QDe.118']\nnode_link_object_list =  [{'source': 'QDe.008', 'target': 'QDe.019'}, {'source': 'QDe.008', 'target': 'QDe.096'}, {'source': 'QDe.008', 'target': 'QDe.118'}]\ncurrent links  ['QDe.088', 'QDe.119', 'QDe.131']\nnode_link_object_list =  [{'source': 'QDe.010', 'target': 'QDe.088'}, {'source': 'QDe.010', 'target': 'QDe.119'}, {'source': 'QDe.010', 'target': 'QDe.131'}]\ncurrent links  ['QDe.004']\nnode_link_object_list =  [{'source': 'QDe.011', 'target': 'QDe.004'}]\ncurrent links  ['QDe.004']\nnode_link_object_list =  [{'source': 'QDe.012', 'target': 'QDe.004'}]\ncurrent links  ['QDi.232']\nnode_link_object_list =  [{'source': 'QDe.014', 'target': 'QDi.232'}]\ncurrent links  ['QDe.004']\nnode_link_object_list =  [{'source': 'QDe.015', 'target': 'QDe.004'}]\ncurrent links  ['QDe.008', 'QDe.118', 'QDe.121', 'QDe.130']\nnode_link_object_list =  [{'source': 'QDe.019', 'target': 'QDe.008'}, {'source': 'QDe.019', 'target': 'QDe.118'}, {'source': 'QDe.019', 'target': 'QDe.121'}, {'source': 'QDe.019', 'target': 'QDe.130'}]\ncurrent links  ['QDi.055', 'QDi.054', 'QDi.056']\nnode_link_object_list =  [{'source': 'QDe.068', 'target': 'QDi.055'}, {'source': 'QDe.068', 'target': 'QDi.054'}, {'source': 'QDe.068', 'target': 'QDi.056'}]\ncurrent links  ['QDe.070', 'QDi.058']\nnode_link_object_list =  [{'source': 'QDe.069', 'target': 'QDe.070'}, {'source': 'QDe.069', 'target': 'QDi.058'}]\ncurrent links  ['QDi.058', 'QDe.069']\nnode_link_object_list =  [{'source': 'QDe.070', 'target': 'QDi.058'}, {'source': 'QDe.070', 'target': 'QDe.069'}]\ncurrent links  ['QDe.014']\nnode_link_object_list =  [{'source': 'QDe.089', 'target': 'QDe.014'}]\ncurrent links  ['QDe.014']\nnode_link_object_list =  [{'source': 'QDe.090', 'target': 'QDe.014'}]\ncurrent links  ['QDe.001']\nnode_link_object_list =  [{'source': 'QDe.092', 'target': 'QDe.001'}]\ncurrent links  ['QDi.226', 'QDe.115']\nnode_link_object_list =  [{'source': 'QDe.098', 'target': 'QDi.226'}, {'source': 'QDe.098', 'target': 'QDe.115'}]\ncurrent links  ['QDe.100', 'QDe.101']\nnode_link_object_list =  [{'source': 'QDe.099', 'target': 'QDe.100'}, {'source': 'QDe.099', 'target': 'QDe.101'}]\ncurrent links  ['QDe.099', 'QDe.101', 'QDe.131']\nnode_link_object_list =  [{'source': 'QDe.100', 'target': 'QDe.099'}, {'source': 'QDe.100', 'target': 'QDe.101'}, {'source': 'QDe.100', 'target': 'QDe.131'}]\ncurrent links  ['QDe.099', 'QDe.100']\nnode_link_object_list =  [{'source': 'QDe.101', 'target': 'QDe.099'}, {'source': 'QDe.101', 'target': 'QDe.100'}]\n>>>>>>>>>>>>found  QDe.115\ncurrent links  ['QDi.263']\nnode_link_object_list =  [{'source': 'QDe.118', 'target': 'QDi.263'}]\ncurrent links  ['QDe.010', 'QDe.131']\nnode_link_object_list =  [{'source': 'QDe.119', 'target': 'QDe.010'}, {'source': 'QDe.119', 'target': 'QDe.131'}]\ncurrent links  ['QDe.019', 'QDe.008', 'QDe.096', 'QDe.118']\nnode_link_object_list =  [{'source': 'QDe.121', 'target': 'QDe.019'}, {'source': 'QDe.121', 'target': 'QDe.008'}, {'source': 'QDe.121', 'target': 'QDe.096'}, {'source': 'QDe.121', 'target': 'QDe.118'}]\ncurrent links  ['QDi.244', 'QDe.001', 'QDe.092']\nnode_link_object_list =  [{'source': 'QDe.128', 'target': 'QDi.244'}, {'source': 'QDe.128', 'target': 'QDe.001'}, {'source': 'QDe.128', 'target': 'QDe.092'}]\ncurrent links  ['QDe.004', 'QDi.282']\nnode_link_object_list =  [{'source': 'QDe.129', 'target': 'QDe.004'}, {'source': 'QDe.129', 'target': 'QDi.282'}]\ncurrent links  ['QDe.008']\nnode_link_object_list =  [{'source': 'QDe.130', 'target': 'QDe.008'}]\ncurrent links  ['QDi.290']\nnode_link_object_list =  [{'source': 'QDe.131', 'target': 'QDi.290'}]\ncurrent links  ['QDi.352']\nnode_link_object_list =  [{'source': 'QDe.132', 'target': 'QDi.352'}]\ncurrent links  ['QDe.115', 'QDi.217', 'QDe.092']\nnode_link_object_list =  [{'source': 'QDe.133', 'target': 'QDe.115'}, {'source': 'QDe.133', 'target': 'QDi.217'}, {'source': 'QDe.133', 'target': 'QDe.092'}]\ncurrent links  ['QDe.014', 'QDi.136']\nnode_link_object_list =  [{'source': 'QDe.134', 'target': 'QDe.014'}, {'source': 'QDe.134', 'target': 'QDi.136'}]\ncurrent links  ['QDi.316', 'QDe.014', 'QDe.134', 'QDi.232']\nnode_link_object_list =  [{'source': 'QDe.135', 'target': 'QDi.316'}, {'source': 'QDe.135', 'target': 'QDe.014'}, {'source': 'QDe.135', 'target': 'QDe.134'}, {'source': 'QDe.135', 'target': 'QDi.232'}]\ncurrent links  ['QDi.318', 'QDe.004', 'QDi.006', 'QDe.129', 'QDe.014']\nnode_link_object_list =  [{'source': 'QDe.136', 'target': 'QDi.318'}, {'source': 'QDe.136', 'target': 'QDe.004'}, {'source': 'QDe.136', 'target': 'QDi.006'}, {'source': 'QDe.136', 'target': 'QDe.129'}, {'source': 'QDe.136', 'target': 'QDe.014'}]\ncurrent links  ['QDe.004', 'QDe.115', 'QDe.007', 'QDe.115', 'QDi.299', 'QDi.317', 'QDe.115']\nnode_link_object_list =  [{'source': 'QDe.137', 'target': 'QDe.004'}, {'source': 'QDe.137', 'target': 'QDe.115'}, {'source': 'QDe.137', 'target': 'QDe.007'}, {'source': 'QDe.137', 'target': 'QDe.115'}, {'source': 'QDe.137', 'target': 'QDi.299'}, {'source': 'QDe.137', 'target': 'QDi.317'}, {'source': 'QDe.137', 'target': 'QDe.115'}]\ncurrent links  ['QDe.004', 'QDe.014']\nnode_link_object_list =  [{'source': 'QDe.138', 'target': 'QDe.004'}, {'source': 'QDe.138', 'target': 'QDe.014'}]\ncurrent links  ['QDe.014', 'QDi.136']\nnode_link_object_list =  [{'source': 'QDe.139', 'target': 'QDe.014'}, {'source': 'QDe.139', 'target': 'QDi.136'}]\ncurrent links  ['QDe.014', 'QDe.134', 'QDe.141', 'QDe.014', 'QDi.136']\nnode_link_object_list =  [{'source': 'QDe.140', 'target': 'QDe.014'}, {'source': 'QDe.140', 'target': 'QDe.134'}, {'source': 'QDe.140', 'target': 'QDe.141'}, {'source': 'QDe.140', 'target': 'QDe.014'}, {'source': 'QDe.140', 'target': 'QDi.136'}]\ncurrent links  ['QDe.140', 'QDe.134', 'QDe.014', 'QDi.136']\nnode_link_object_list =  [{'source': 'QDe.141', 'target': 'QDe.140'}, {'source': 'QDe.141', 'target': 'QDe.134'}, {'source': 'QDe.141', 'target': 'QDe.014'}, {'source': 'QDe.141', 'target': 'QDi.136'}]\ncurrent links  ['QDe.014', 'QDe.138']\nnode_link_object_list =  [{'source': 'QDe.142', 'target': 'QDe.014'}, {'source': 'QDe.142', 'target': 'QDe.138'}]\ncurrent links  ['QDe.014', 'QDi.333']\nnode_link_object_list =  [{'source': 'QDe.143', 'target': 'QDe.014'}, {'source': 'QDe.143', 'target': 'QDi.333'}]\ncurrent links  ['QDe.137']\nnode_link_object_list =  [{'source': 'QDe.144', 'target': 'QDe.137'}]\ncurrent links  ['QDe.014', 'QDe.143', 'QDe.146']\nnode_link_object_list =  [{'source': 'QDe.145', 'target': 'QDe.014'}, {'source': 'QDe.145', 'target': 'QDe.143'}, {'source': 'QDe.145', 'target': 'QDe.146'}]\ncurrent links  ['QDe.014', 'QDe.141', 'QDe.143', 'QDe.145']\nnode_link_object_list =  [{'source': 'QDe.146', 'target': 'QDe.014'}, {'source': 'QDe.146', 'target': 'QDe.141'}, {'source': 'QDe.146', 'target': 'QDe.143'}, {'source': 'QDe.146', 'target': 'QDe.145'}]\ncurrent links  ['QDe.092']\nnode_link_object_list =  [{'source': 'QDe.147', 'target': 'QDe.092'}]\ncurrent links  ['QDe.115', 'QDe.137']\nnode_link_object_list =  [{'source': 'QDe.148', 'target': 'QDe.115'}, {'source': 'QDe.148', 'target': 'QDe.137'}]\ncurrent links  ['QDe.137']\nnode_link_object_list =  [{'source': 'QDe.149', 'target': 'QDe.137'}]\ncurrent links  ['QDe.115', 'QDe.092', 'QDe.133']\nnode_link_object_list =  [{'source': 'QDe.150', 'target': 'QDe.115'}, {'source': 'QDe.150', 'target': 'QDe.092'}, {'source': 'QDe.150', 'target': 'QDe.133'}]\ncurrent links  ['QDe.132', 'QDe.115']\nnode_link_object_list =  [{'source': 'QDe.152', 'target': 'QDe.132'}, {'source': 'QDe.152', 'target': 'QDe.115'}]\ncurrent links  ['QDe.115']\nnode_link_object_list =  [{'source': 'QDe.153', 'target': 'QDe.115'}]\ncurrent links  ['QDe.115']\nnode_link_object_list =  [{'source': 'QDe.154', 'target': 'QDe.115'}]\ncurrent links  ['QDe.115']\nnode_link_object_list =  [{'source': 'QDe.155', 'target': 'QDe.115'}]\ncurrent links  ['QDe.137']\nnode_link_object_list =  [{'source': 'QDe.156', 'target': 'QDe.137'}]\ncurrent links  ['QDi.412', 'QDe.115']\nnode_link_object_list =  [{'source': 'QDe.157', 'target': 'QDi.412'}, {'source': 'QDe.157', 'target': 'QDe.115'}]\ncurrent links  ['QDe.137']\nnode_link_object_list =  [{'source': 'QDe.158', 'target': 'QDe.137'}]\ncurrent links  ['QDe.004', 'QDe.014', 'QDe.135', 'QDe.141']\nnode_link_object_list =  [{'source': 'QDe.159', 'target': 'QDe.004'}, {'source': 'QDe.159', 'target': 'QDe.014'}, {'source': 'QDe.159', 'target': 'QDe.135'}, {'source': 'QDe.159', 'target': 'QDe.141'}]\ncurrent links  ['QDe.132']\nnode_link_object_list =  [{'source': 'QDe.160', 'target': 'QDe.132'}]\ncurrent links  ['QDe.132', 'QDe.115']\nnode_link_object_list =  [{'source': 'QDe.161', 'target': 'QDe.132'}, {'source': 'QDe.161', 'target': 'QDe.115'}]\ncurrent links  ['QDe.115', 'QDi.322', 'QDe.138']\nnode_link_object_list =  [{'source': 'QDe.162', 'target': 'QDe.115'}, {'source': 'QDe.162', 'target': 'QDi.322'}, {'source': 'QDe.162', 'target': 'QDe.138'}]\ncurrent links  ['QDi.415', 'QDe.115', 'QDe.141']\nnode_link_object_list =  [{'source': 'QDe.163', 'target': 'QDi.415'}, {'source': 'QDe.163', 'target': 'QDe.115'}, {'source': 'QDe.163', 'target': 'QDe.141'}]\ncurrent links  ['QDe.115']\nnode_link_object_list =  [{'source': 'QDe.164', 'target': 'QDe.115'}]\ncurrent links  ['QDi.299', 'QDe.115']\nnode_link_object_list =  [{'source': 'QDe.165', 'target': 'QDi.299'}, {'source': 'QDe.165', 'target': 'QDe.115'}]\ncurrent links  ['QDi.299', 'QDe.115']\nnode_link_object_list =  [{'source': 'QDe.166', 'target': 'QDi.299'}, {'source': 'QDe.166', 'target': 'QDe.115'}]\ncurrent links  ['QDe.115']\nnode_link_object_list =  [{'source': 'QDe.167', 'target': 'QDe.115'}]\ncurrent links  ['QDe.137', 'QDe.158', 'QDe.119']\nnode_link_object_list =  [{'source': 'QDe.168', 'target': 'QDe.137'}, {'source': 'QDe.168', 'target': 'QDe.158'}, {'source': 'QDe.168', 'target': 'QDe.119'}]\ncurrent links  ['QDi.204', 'QDe.115']\nnode_link_object_list =  [{'source': 'QDe.169', 'target': 'QDi.204'}, {'source': 'QDe.169', 'target': 'QDe.115'}]\nQDi.001  link count =  0\nQDi.002  link count =  0\nQDi.003  link count =  0\nQDi.006  link count =  10\nQDi.009  link count =  0\nQDi.012  link count =  1\nQDi.014  link count =  0\nQDi.015  link count =  0\nQDi.017  link count =  0\nQDi.018  link count =  0\nQDi.019  link count =  0\nQDi.020  link count =  1\nQDi.028  link count =  0\nQDi.029  link count =  1\nQDi.031  link count =  0\nQDi.037  link count =  0\nQDi.042  link count =  2\nQDi.054  link count =  1\nQDi.055  link count =  1\nQDi.056  link count =  2\nQDi.057  link count =  3\nQDi.058  link count =  4\nQDi.059  link count =  0\nQDi.060  link count =  1\nQDi.062  link count =  0\nQDi.064  link count =  0\nQDi.065  link count =  0\nQDi.067  link count =  0\nQDi.068  link count =  0\nQDi.070  link count =  0\nQDi.072  link count =  0\nQDi.074  link count =  0\nQDi.075  link count =  0\nQDi.076  link count =  0\nQDi.080  link count =  1\nQDi.081  link count =  0\nQDi.082  link count =  0\nQDi.083  link count =  0\nQDi.086  link count =  1\nQDi.087  link count =  3\nQDi.092  link count =  0\nQDi.095  link count =  0\nQDi.096  link count =  0\nQDi.111  link count =  0\nQDi.114  link count =  0\nQDi.119  link count =  0\nQDi.120  link count =  0\nQDi.122  link count =  0\nQDi.123  link count =  0\nQDi.124  link count =  2\nQDi.126  link count =  0\nQDi.129  link count =  0\nQDi.135  link count =  0\nQDi.136  link count =  9\nQDi.139  link count =  0\nQDi.140  link count =  0\nQDi.141  link count =  0\nQDi.142  link count =  0\nQDi.143  link count =  0\nQDi.144  link count =  0\nQDi.147  link count =  0\nQDi.149  link count =  0\nQDi.150  link count =  0\nQDi.152  link count =  1\nQDi.154  link count =  0\nQDi.155  link count =  0\nQDi.156  link count =  0\nQDi.167  link count =  1\nQDi.177  link count =  0\nQDi.184  link count =  0\nQDi.186  link count =  1\nQDi.187  link count =  0\nQDi.188  link count =  0\nQDi.190  link count =  0\nQDi.192  link count =  1\nQDi.193  link count =  1\nQDi.196  link count =  2\nQDi.198  link count =  0\nQDi.203  link count =  0\nQDi.204  link count =  3\nQDi.208  link count =  1\nQDi.216  link count =  1\nQDi.217  link count =  5\nQDi.218  link count =  2\nQDi.219  link count =  0\nQDi.222  link count =  0\nQDi.223  link count =  1\nQDi.226  link count =  1\nQDi.228  link count =  0\nQDi.229  link count =  1\nQDi.231  link count =  2\nQDi.232  link count =  4\nQDi.236  link count =  0\nQDi.237  link count =  0\nQDi.238  link count =  0\nQDi.241  link count =  3\nQDi.242  link count =  1\nQDi.243  link count =  1\nQDi.244  link count =  3\nQDi.245  link count =  3\nQDi.246  link count =  2\nQDi.247  link count =  1\nQDi.248  link count =  1\nQDi.249  link count =  1\nQDi.250  link count =  1\nQDi.251  link count =  2\nQDi.252  link count =  1\nQDi.261  link count =  1\nQDi.262  link count =  0\nQDi.263  link count =  4\nQDi.264  link count =  1\nQDi.265  link count =  1\nQDi.266  link count =  1\nQDi.268  link count =  1\nQDi.271  link count =  2\nQDi.272  link count =  1\nQDi.273  link count =  1\nQDi.276  link count =  3\nQDi.277  link count =  3\nQDi.278  link count =  1\nQDi.279  link count =  2\nQDi.280  link count =  2\nQDi.282  link count =  5\nQDi.283  link count =  1\nQDi.289  link count =  1\nQDi.290  link count =  1\nQDi.291  link count =  3\nQDi.292  link count =  2\nQDi.293  link count =  4\nQDi.294  link count =  2\nQDi.295  link count =  2\nQDi.296  link count =  2\nQDi.298  link count =  2\nQDi.299  link count =  7\nQDi.300  link count =  3\nQDi.301  link count =  3\nQDi.303  link count =  3\nQDi.304  link count =  4\nQDi.305  link count =  4\nQDi.306  link count =  1\nQDi.307  link count =  2\nQDi.308  link count =  1\nQDi.309  link count =  4\nQDi.311  link count =  2\nQDi.312  link count =  1\nQDi.313  link count =  1\nQDi.314  link count =  3\nQDi.315  link count =  2\nQDi.316  link count =  4\nQDi.317  link count =  6\nQDi.318  link count =  7\nQDi.319  link count =  1\nQDi.320  link count =  0\nQDi.322  link count =  2\nQDi.323  link count =  1\nQDi.324  link count =  2\nQDi.325  link count =  3\nQDi.326  link count =  4\nQDi.327  link count =  1\nQDi.328  link count =  1\nQDi.329  link count =  1\nQDi.330  link count =  1\nQDi.331  link count =  1\nQDi.332  link count =  1\nQDi.333  link count =  3\nQDi.334  link count =  2\nQDi.335  link count =  2\nQDi.336  link count =  1\nQDi.337  link count =  1\nQDi.338  link count =  1\nQDi.339  link count =  2\nQDi.340  link count =  2\nQDi.341  link count =  2\nQDi.342  link count =  1\nQDi.343  link count =  3\nQDi.344  link count =  1\nQDi.345  link count =  1\nQDi.348  link count =  2\nQDi.349  link count =  2\nQDi.350  link count =  2\nQDi.352  link count =  3\nQDi.353  link count =  1\nQDi.354  link count =  2\nQDi.355  link count =  1\nQDi.356  link count =  1\nQDi.357  link count =  1\nQDi.358  link count =  1\nQDi.359  link count =  1\nQDi.360  link count =  1\nQDi.361  link count =  1\nQDi.363  link count =  1\nQDi.364  link count =  1\nQDi.365  link count =  1\nQDi.366  link count =  1\nQDi.367  link count =  1\nQDi.368  link count =  1\nQDi.369  link count =  2\nQDi.370  link count =  1\nQDi.371  link count =  2\nQDi.372  link count =  1\nQDi.374  link count =  1\nQDi.375  link count =  1\nQDi.376  link count =  1\nQDi.377  link count =  1\nQDi.378  link count =  1\nQDi.380  link count =  1\nQDi.382  link count =  1\nQDi.383  link count =  1\nQDi.384  link count =  1\nQDi.385  link count =  1\nQDi.386  link count =  2\nQDi.387  link count =  1\nQDi.388  link count =  1\nQDi.389  link count =  1\nQDi.392  link count =  1\nQDi.394  link count =  2\nQDi.395  link count =  2\nQDi.396  link count =  1\nQDi.397  link count =  1\nQDi.398  link count =  0\nQDi.399  link count =  1\nQDi.400  link count =  1\nQDi.401  link count =  1\nQDi.403  link count =  1\nQDi.404  link count =  1\nQDi.405  link count =  1\nQDi.406  link count =  1\nQDi.407  link count =  1\nQDi.408  link count =  1\nQDi.409  link count =  1\nQDi.410  link count =  1\nQDi.411  link count =  1\nQDi.412  link count =  3\nQDi.413  link count =  1\nQDi.414  link count =  1\nQDi.415  link count =  4\nQDi.416  link count =  1\nQDi.417  link count =  1\nQDi.418  link count =  1\nQDi.419  link count =  1\nQDi.420  link count =  0\nQDi.421  link count =  2\nQDi.422  link count =  2\nQDi.423  link count =  3\nQDi.424  link count =  2\nQDi.425  link count =  2\nQDi.426  link count =  1\nQDi.427  link count =  2\nQDi.428  link count =  1\nQDi.429  link count =  1\nQDi.430  link count =  1\nQDi.431  link count =  1\nQDi.432  link count =  1\nQDi.433  link count =  2\nQDi.434  link count =  1\nQDi.435  link count =  1\nQDe.001  link count =  10\nQDe.002  link count =  5\nQDe.003  link count =  6\nQDe.004  link count =  38\nQDe.005  link count =  3\nQDe.006  link count =  0\nQDe.007  link count =  2\nQDe.008  link count =  7\nQDe.009  link count =  0\nQDe.010  link count =  8\nQDe.011  link count =  5\nQDe.012  link count =  1\nQDe.014  link count =  36\nQDe.015  link count =  1\nQDe.019  link count =  9\nQDe.020  link count =  0\nQDe.021  link count =  0\nQDe.068  link count =  4\nQDe.069  link count =  5\nQDe.070  link count =  4\nQDe.088  link count =  2\nQDe.089  link count =  1\nQDe.090  link count =  2\nQDe.091  link count =  0\nQDe.092  link count =  20\nQDe.093  link count =  0\nQDe.096  link count =  3\nQDe.098  link count =  3\nQDe.099  link count =  4\nQDe.100  link count =  6\nQDe.101  link count =  4\nQDe.104  link count =  0\nQDe.105  link count =  0\nQDe.106  link count =  0\nQDe.107  link count =  0\nQDe.108  link count =  0\nQDe.109  link count =  0\nQDe.110  link count =  0\nQDe.111  link count =  0\nQDe.112  link count =  0\nQDe.113  link count =  0\nQDe.114  link count =  0\nQDe.115  link count =  81\nQDe.116  link count =  0\nQDe.118  link count =  13\nQDe.119  link count =  5\nQDe.121  link count =  6\nQDe.128  link count =  11\nQDe.129  link count =  11\nQDe.130  link count =  4\nQDe.131  link count =  4\nQDe.132  link count =  7\nQDe.133  link count =  8\nQDe.134  link count =  10\nQDe.135  link count =  8\nQDe.136  link count =  6\nQDe.137  link count =  33\nQDe.138  link count =  5\nQDe.139  link count =  3\nQDe.140  link count =  7\nQDe.141  link count =  10\nQDe.142  link count =  2\nQDe.143  link count =  8\nQDe.144  link count =  2\nQDe.145  link count =  5\nQDe.146  link count =  5\nQDe.147  link count =  4\nQDe.148  link count =  3\nQDe.149  link count =  1\nQDe.150  link count =  3\nQDe.151  link count =  0\nQDe.152  link count =  2\nQDe.153  link count =  1\nQDe.154  link count =  1\nQDe.155  link count =  1\nQDe.156  link count =  1\nQDe.157  link count =  3\nQDe.158  link count =  2\nQDe.159  link count =  9\nQDe.160  link count =  1\nQDe.161  link count =  5\nQDe.162  link count =  3\nQDe.163  link count =  3\nQDe.164  link count =  1\nQDe.165  link count =  2\nQDe.166  link count =  2\nQDe.167  link count =  1\nQDe.168  link count =  3\nQDe.169  link count =  2\nnode =  {'DATAID': '113219', 'linkCount': 0, 'narrativeFileName': 'TBD', 'REFERENCE_NUMBER': 'QDi.001', 'id': 'QDi.001', 'name': 'MOHAMMED SALAHALDIN ABD EL HALIM ZIDANE', 'natnlty': 'Egypt', 'linksTo': [], 'links': []}\nnode =  {'DATAID': '111497', 'linkCount': 0, 'narrativeFileName': 'TBD', 'REFERENCE_NUMBER': 'QDi.002', 'id': 'QDi.002', 'name': 'AMIN MUHAMMAD UL HAQ SAAM KHAN', 'natnlty': 'Afghanistan', 'linksTo': [], 'links': []}\nnode =  {'DATAID': '111919', 'linkCount': 0, 'narrativeFileName': 'TBD', 'REFERENCE_NUMBER': 'QDi.003', 'id': 'QDi.003', 'name': 'SALIM AHMAD SALIM HAMDAN', 'natnlty': 'Yemen', 'linksTo': [], 'links': []}\nnode =  {'DATAID': '111923', 'linkCount': 10, 'narrativeFileName': 'TBD', 'REFERENCE_NUMBER': 'QDi.006', 'id': 'QDi.006', 'name': 'AIMAN MUHAMMED RABI AL-ZAWAHIRI', 'natnlty': 'Egypt', 'linksTo': ['QDe.004', 'QDe.003'], 'links': [{'source': 'QDi.006', 'target': 'QDe.004'}, {'source': 'QDi.006', 'target': 'QDe.003'}]}\nnode =  {'DATAID': '111942', 'linkCount': 0, 'narrativeFileName': 'TBD', 'REFERENCE_NUMBER': 'QDi.009', 'id': 'QDi.009', 'name': 'BILAL BIN MARWAN', 'natnlty': 'None reported', 'linksTo': [], 'links': []}\nlen(all_the_links) =  420\ndata.keys() =  dict_keys(['nodes', 'links'])\nlen(all_links_1) =  420\nal-qaida links =  0\n"
     ]
    },
    {
     "output_type": "display_data",
     "data": {
      "text/plain": [
       "\u001B[0;36m  File \u001B[0;32m<command-3005107788418193>, line 136\u001B[0;36m\u001B[0m\n",
       "\u001B[0;31m    print('node.id = \", node['id'])\u001B[0m\n",
       "\u001B[0m                                ^\u001B[0m\n",
       "\u001B[0;31mSyntaxError\u001B[0m\u001B[0;31m:\u001B[0m unterminated string literal (detected at line 136)\n"
      ]
     },
     "metadata": {
      "application/vnd.databricks.v1+output": {
       "addedWidgets": {},
       "arguments": {},
       "datasetInfos": [],
       "jupyterProps": {
        "ename": "SyntaxError",
        "evalue": "unterminated string literal (detected at line 136) (command-3005107788418193-4131231312, line 136)"
       },
       "metadata": {
        "errorSummary": ""
       },
       "removedWidgets": [],
       "sqlProps": null,
       "stackFrames": [
        "\u001B[0;36m  File \u001B[0;32m<command-3005107788418193>, line 136\u001B[0;36m\u001B[0m\n\u001B[0;31m    print('node.id = \", node['id'])\u001B[0m\n\u001B[0m                                ^\u001B[0m\n\u001B[0;31mSyntaxError\u001B[0m\u001B[0;31m:\u001B[0m unterminated string literal (detected at line 136)\n"
       ],
       "type": "baseError"
      }
     },
     "output_type": "display_data"
    }
   ],
   "source": [
    "import re\n",
    "links = None\n",
    "count = 0\n",
    "data = {}\n",
    "# data['comments'] = {}\n",
    "all_the_links = []\n",
    "sourceTarget = {}\n",
    "link_count_dict = {}\n",
    "total_links = 0\n",
    "findall = ''\n",
    "nodes = []\n",
    "# sourceTarget['QDi.9999'] = ['TEST FAKE DATA'] # for testing only; to be deleted\n",
    "for collection in [indiv_coll, ent_coll]:\n",
    "    for row in collection:  # indiv_coll:\n",
    "        reference_number = ''\n",
    "        rowAsDict = row.asDict()\n",
    "        # print(row.asDict())\n",
    "        has_nat2 = False\n",
    "        node = {}\n",
    "        if row['DATAID']:\n",
    "            node['DATAID'] = str(row['DATAID'])\n",
    "        else:\n",
    "            print(\"No DATAID!\")\n",
    "        node['linkCount'] = 0\n",
    "\n",
    "        count += 1\n",
    "        # if count > 13:\n",
    "        #     break;\n",
    "        full_name = ''\n",
    "        if 'SECOND_NAME' in rowAsDict.keys():\n",
    "            for name in [row['FIRST_NAME'], row['SECOND_NAME'],row['THIRD_NAME'], row['FOURTH_NAME']]:\n",
    "                if name:\n",
    "                    full_name = full_name + \" \" + name\n",
    "            full_name = full_name.strip()\n",
    "        else:\n",
    "            full_name = row['FIRST_NAME']\n",
    "\n",
    "        reference_number = row['REFERENCE_NUMBER'].rstrip('.')\n",
    "        node['REFERENCE_NUMBER'] = reference_number\n",
    "        node['id'] = reference_number        \n",
    "        node['name'] = full_name\n",
    "\n",
    "        node['narrativeFileName'] = reference_number.strip() + \".shtml\"\n",
    "\n",
    "        comments1 = row['COMMENTS1']\n",
    "        # regex = r\"(Q[I|E]\\..\\.\\d+\\.\\d+)\" old reference number convention\n",
    "        regex = r\"(QD[Ii|Ee]\\.\\d+)\"\n",
    "        if comments1:\n",
    "            findall = re.findall(regex, comments1)\n",
    "        # if count < 13:\n",
    "        #     print(\"findall = \", findall) #  re.findall(regex, comments1))\n",
    "\n",
    "        if reference_number == \"QDe.115\":\n",
    "            print(\">>>>>>>>>>>>found \", reference_number)\n",
    "        if reference_number in sourceTarget.keys():\n",
    "\n",
    "            link_list = sourceTarget[reference_number]\n",
    "            print(\"link list pre-existing source = \", link_list)\n",
    "        else:\n",
    "            link_list = []\n",
    "            sourceTarget[reference_number] = link_list\n",
    "\n",
    "        # if (len(findall) == 0):\n",
    "        #     print(\"link_list when len(findall) == 0: \", link_list)\n",
    "        #     # print(sourceTarget[reference_number])\n",
    "\n",
    "        for other_ref_num in findall:\n",
    "            # link_list = sourceTarget[reference_number]\n",
    "\n",
    "            if other_ref_num.rstrip('.') != reference_number:\n",
    "                link_list.append(other_ref_num)\n",
    "                sourceTarget[reference_number] = link_list\n",
    "\n",
    "        if len(link_list) > 0:\n",
    "            print(\"current links \", link_list)\n",
    "\n",
    "\n",
    "        nationality = ''\n",
    "        try:\n",
    "            if 'NATIONALITY' in rowAsDict.keys():\n",
    "                # if row['NATIONALITY']:\n",
    "                nationality = row['NATIONALITY']\n",
    "                # print(type(nationality))\n",
    "                if nationality:\n",
    "                    if nationality['VALUE']:\n",
    "                        # print (nationality['VALUE'])\n",
    "                        nationality = \",\".join(nationality['VALUE'])\n",
    "                else:\n",
    "                    nationality = \"None reported\"\n",
    "\n",
    "            if 'NATIONALITY2' in rowAsDict.keys():\n",
    "                # if row['NATIONALITY2']:\n",
    "                has_nat2 = True\n",
    "                nat2 = row['NATIONALITY2']\n",
    "                print('NATIONALITY2 = ', nat2, ', nationality = ', nationality) \n",
    "                if len(nationality) == 0:\n",
    "                    nationality = nat2\n",
    "                else:\n",
    "                    nationality = \",\".join([nationality, nat2])       \n",
    "\n",
    "            if len(nationality) > 0:\n",
    "                node[\"natnlty\"] = nationality\n",
    "        except:\n",
    "            print(\"Exception: nationality =\", nationality )\n",
    "            raise Exception(\"nationality\")\n",
    "\n",
    "\n",
    "\n",
    "        node['linksTo'] = link_list\n",
    "        num_node_links = len(sourceTarget[reference_number])\n",
    "        link_count_dict[reference_number] = num_node_links # len(sourceTarget[reference_number])\n",
    "        node['linkCount'] = node['linkCount'] + num_node_links # + len(sourceTarget[reference_number])\n",
    "        node_link_object_list = []\n",
    "        for link_ref_id in link_list:\n",
    "            link_object = {}\n",
    "            link_object['source'] = reference_number\n",
    "            link_object['target'] = link_ref_id\n",
    "            node_link_object_list.append(link_object)    \n",
    "            all_the_links.append(link_object)\n",
    "\n",
    "        if len(node_link_object_list) > 0:\n",
    "            print('node_link_object_list = ', node_link_object_list)\n",
    "        if (links is not None and len(links) > 0):\n",
    "            print(\"links = \", links)\n",
    "        node['links'] = node_link_object_list\n",
    "        # all_the_links.append(links)\n",
    "        if count < 13:\n",
    "            print('all_the_links = ', all_the_links)\n",
    "        total_links = total_links + num_node_links #  len(sourceTarget[reference_number])\n",
    "\n",
    "        nodes.append(node)\n",
    "        # if has_nat2:\n",
    "        #     print('has_nat2 node = ', node)\n",
    "\n",
    "\n",
    "\n",
    "for node in nodes:\n",
    "    node_link_count = 0\n",
    "    # print('node.id = ', node['id'])\n",
    "    for link in all_the_links:\n",
    "        # print(link['source'])\n",
    "        if node['id'] == link['source'] or node['id'] == link['target']:\n",
    "            node_link_count += 1\n",
    "    node['linkCount'] = node_link_count\n",
    "    print(node['id'], \" link count = \", node_link_count)\n",
    "\n",
    "\n",
    "\n",
    "\n",
    "\n",
    "for node in nodes[:5]:\n",
    "    print('node = ', node)\n",
    "\n",
    "data['nodes'] = nodes\n",
    "\n",
    "print('len(all_the_links) = ', len(all_the_links))\n",
    "#data['comments']['links'] = all_the_links\n",
    "data['links'] = all_the_links\n",
    "\n",
    "# print(\"link_count_dict = \", str(link_count_dict)[:300], \", total_links = \", total_links)\n",
    "# print(count)\n",
    "print('data.keys() = ', data.keys())\n",
    "all_links_1 = data['links']\n",
    "print('len(all_links_1) = ', len(all_links_1))\n",
    "print('al-qaida links = ', link_count_dict['QDe.115'])\n",
    "# print('data.links = ', data['links'])"
   ]
  },
  {
   "cell_type": "code",
   "execution_count": 0,
   "metadata": {
    "application/vnd.databricks.v1+cell": {
     "cellMetadata": {
      "byteLimit": 2048000,
      "rowLimit": 10000
     },
     "inputWidgets": {},
     "nuid": "0cea82ee-0ab1-43b3-90be-f103bb589906",
     "showTitle": false,
     "title": ""
    }
   },
   "outputs": [
    {
     "output_type": "execute_result",
     "data": {
      "text/plain": [
       "{'QDi.001': 0,\n",
       " 'QDi.002': 0,\n",
       " 'QDi.003': 0,\n",
       " 'QDi.006': 2,\n",
       " 'QDi.009': 0,\n",
       " 'QDi.012': 1,\n",
       " 'QDi.014': 0,\n",
       " 'QDi.015': 0,\n",
       " 'QDi.017': 0,\n",
       " 'QDi.018': 0,\n",
       " 'QDi.019': 0,\n",
       " 'QDi.020': 1,\n",
       " 'QDi.028': 0,\n",
       " 'QDi.029': 1,\n",
       " 'QDi.031': 0,\n",
       " 'QDi.037': 0,\n",
       " 'QDi.042': 1,\n",
       " 'QDi.054': 0,\n",
       " 'QDi.055': 0,\n",
       " 'QDi.056': 1,\n",
       " 'QDi.057': 3,\n",
       " 'QDi.058': 2,\n",
       " 'QDi.059': 0,\n",
       " 'QDi.060': 1,\n",
       " 'QDi.062': 0,\n",
       " 'QDi.064': 0,\n",
       " 'QDi.065': 0,\n",
       " 'QDi.067': 0,\n",
       " 'QDi.068': 0,\n",
       " 'QDi.070': 0,\n",
       " 'QDi.072': 0,\n",
       " 'QDi.074': 0,\n",
       " 'QDi.075': 0,\n",
       " 'QDi.076': 0,\n",
       " 'QDi.080': 1,\n",
       " 'QDi.081': 0,\n",
       " 'QDi.082': 0,\n",
       " 'QDi.083': 0,\n",
       " 'QDi.086': 0,\n",
       " 'QDi.087': 2,\n",
       " 'QDi.092': 0,\n",
       " 'QDi.095': 0,\n",
       " 'QDi.096': 0,\n",
       " 'QDi.111': 0,\n",
       " 'QDi.114': 0,\n",
       " 'QDi.119': 0,\n",
       " 'QDi.120': 0,\n",
       " 'QDi.122': 0,\n",
       " 'QDi.123': 0,\n",
       " 'QDi.124': 2,\n",
       " 'QDi.126': 0,\n",
       " 'QDi.129': 0,\n",
       " 'QDi.135': 0,\n",
       " 'QDi.136': 4,\n",
       " 'QDi.139': 0,\n",
       " 'QDi.140': 0,\n",
       " 'QDi.141': 0,\n",
       " 'QDi.142': 0,\n",
       " 'QDi.143': 0,\n",
       " 'QDi.144': 0,\n",
       " 'QDi.147': 0,\n",
       " 'QDi.149': 0,\n",
       " 'QDi.150': 0,\n",
       " 'QDi.152': 1,\n",
       " 'QDi.154': 0,\n",
       " 'QDi.155': 0,\n",
       " 'QDi.156': 0,\n",
       " 'QDi.167': 1,\n",
       " 'QDi.177': 0,\n",
       " 'QDi.184': 0,\n",
       " 'QDi.186': 1,\n",
       " 'QDi.187': 0,\n",
       " 'QDi.188': 0,\n",
       " 'QDi.190': 0,\n",
       " 'QDi.192': 1,\n",
       " 'QDi.193': 1,\n",
       " 'QDi.196': 2,\n",
       " 'QDi.198': 0,\n",
       " 'QDi.203': 0,\n",
       " 'QDi.204': 2,\n",
       " 'QDi.208': 0,\n",
       " 'QDi.216': 1,\n",
       " 'QDi.217': 1,\n",
       " 'QDi.218': 1,\n",
       " 'QDi.219': 0,\n",
       " 'QDi.222': 0,\n",
       " 'QDi.223': 1,\n",
       " 'QDi.226': 0,\n",
       " 'QDi.228': 0,\n",
       " 'QDi.229': 1,\n",
       " 'QDi.231': 2,\n",
       " 'QDi.232': 1,\n",
       " 'QDi.236': 0,\n",
       " 'QDi.237': 0,\n",
       " 'QDi.238': 0,\n",
       " 'QDi.241': 3,\n",
       " 'QDi.242': 1,\n",
       " 'QDi.243': 1,\n",
       " 'QDi.244': 2,\n",
       " 'QDi.245': 3,\n",
       " 'QDi.246': 2,\n",
       " 'QDi.247': 1,\n",
       " 'QDi.248': 1,\n",
       " 'QDi.249': 1,\n",
       " 'QDi.250': 1,\n",
       " 'QDi.251': 2,\n",
       " 'QDi.252': 1,\n",
       " 'QDi.261': 1,\n",
       " 'QDi.262': 0,\n",
       " 'QDi.263': 1,\n",
       " 'QDi.264': 1,\n",
       " 'QDi.265': 1,\n",
       " 'QDi.266': 1,\n",
       " 'QDi.268': 1,\n",
       " 'QDi.271': 2,\n",
       " 'QDi.272': 1,\n",
       " 'QDi.273': 1,\n",
       " 'QDi.276': 2,\n",
       " 'QDi.277': 2,\n",
       " 'QDi.278': 1,\n",
       " 'QDi.279': 2,\n",
       " 'QDi.280': 2,\n",
       " 'QDi.282': 2,\n",
       " 'QDi.283': 0,\n",
       " 'QDi.289': 1,\n",
       " 'QDi.290': 0,\n",
       " 'QDi.291': 3,\n",
       " 'QDi.292': 2,\n",
       " 'QDi.293': 2,\n",
       " 'QDi.294': 2,\n",
       " 'QDi.295': 2,\n",
       " 'QDi.296': 2,\n",
       " 'QDi.298': 2,\n",
       " 'QDi.299': 1,\n",
       " 'QDi.300': 2,\n",
       " 'QDi.301': 2,\n",
       " 'QDi.303': 2,\n",
       " 'QDi.304': 4,\n",
       " 'QDi.305': 4,\n",
       " 'QDi.306': 1,\n",
       " 'QDi.307': 2,\n",
       " 'QDi.308': 1,\n",
       " 'QDi.309': 4,\n",
       " 'QDi.311': 2,\n",
       " 'QDi.312': 1,\n",
       " 'QDi.313': 1,\n",
       " 'QDi.314': 3,\n",
       " 'QDi.315': 2,\n",
       " 'QDi.316': 3,\n",
       " 'QDi.317': 3,\n",
       " 'QDi.318': 6,\n",
       " 'QDi.319': 1,\n",
       " 'QDi.320': 0,\n",
       " 'QDi.322': 1,\n",
       " 'QDi.323': 1,\n",
       " 'QDi.324': 2,\n",
       " 'QDi.325': 3,\n",
       " 'QDi.326': 4,\n",
       " 'QDi.327': 1,\n",
       " 'QDi.328': 1,\n",
       " 'QDi.329': 1,\n",
       " 'QDi.330': 1,\n",
       " 'QDi.331': 1,\n",
       " 'QDi.332': 1,\n",
       " 'QDi.333': 2,\n",
       " 'QDi.334': 2,\n",
       " 'QDi.335': 2,\n",
       " 'QDi.336': 1,\n",
       " 'QDi.337': 1,\n",
       " 'QDi.338': 1,\n",
       " 'QDi.339': 2,\n",
       " 'QDi.340': 2,\n",
       " 'QDi.341': 2,\n",
       " 'QDi.342': 1,\n",
       " 'QDi.343': 3,\n",
       " 'QDi.344': 1,\n",
       " 'QDi.345': 1,\n",
       " 'QDi.348': 2,\n",
       " 'QDi.349': 2,\n",
       " 'QDi.350': 2,\n",
       " 'QDi.352': 1,\n",
       " 'QDi.353': 1,\n",
       " 'QDi.354': 2,\n",
       " 'QDi.355': 1,\n",
       " 'QDi.356': 1,\n",
       " 'QDi.357': 1,\n",
       " 'QDi.358': 1,\n",
       " 'QDi.359': 1,\n",
       " 'QDi.360': 1,\n",
       " 'QDi.361': 1,\n",
       " 'QDi.363': 1,\n",
       " 'QDi.364': 1,\n",
       " 'QDi.365': 1,\n",
       " 'QDi.366': 1,\n",
       " 'QDi.367': 1,\n",
       " 'QDi.368': 1,\n",
       " 'QDi.369': 2,\n",
       " 'QDi.370': 1,\n",
       " 'QDi.371': 2,\n",
       " 'QDi.372': 1,\n",
       " 'QDi.374': 1,\n",
       " 'QDi.375': 1,\n",
       " 'QDi.376': 1,\n",
       " 'QDi.377': 1,\n",
       " 'QDi.378': 1,\n",
       " 'QDi.380': 1,\n",
       " 'QDi.382': 1,\n",
       " 'QDi.383': 1,\n",
       " 'QDi.384': 1,\n",
       " 'QDi.385': 1,\n",
       " 'QDi.386': 2,\n",
       " 'QDi.387': 1,\n",
       " 'QDi.388': 1,\n",
       " 'QDi.389': 1,\n",
       " 'QDi.392': 1,\n",
       " 'QDi.394': 2,\n",
       " 'QDi.395': 2,\n",
       " 'QDi.396': 1,\n",
       " 'QDi.397': 1,\n",
       " 'QDi.398': 0,\n",
       " 'QDi.399': 1,\n",
       " 'QDi.400': 1,\n",
       " 'QDi.401': 1,\n",
       " 'QDi.403': 1,\n",
       " 'QDi.404': 1,\n",
       " 'QDi.405': 1,\n",
       " 'QDi.406': 1,\n",
       " 'QDi.407': 1,\n",
       " 'QDi.408': 1,\n",
       " 'QDi.409': 1,\n",
       " 'QDi.410': 1,\n",
       " 'QDi.411': 1,\n",
       " 'QDi.412': 2,\n",
       " 'QDi.413': 1,\n",
       " 'QDi.414': 1,\n",
       " 'QDi.415': 3,\n",
       " 'QDi.416': 1,\n",
       " 'QDi.417': 1,\n",
       " 'QDi.418': 1,\n",
       " 'QDi.419': 1,\n",
       " 'QDi.420': 0,\n",
       " 'QDi.421': 2,\n",
       " 'QDi.422': 2,\n",
       " 'QDi.423': 3,\n",
       " 'QDi.424': 2,\n",
       " 'QDi.425': 2,\n",
       " 'QDi.426': 1,\n",
       " 'QDi.427': 2,\n",
       " 'QDi.428': 1,\n",
       " 'QDi.429': 1,\n",
       " 'QDi.430': 1,\n",
       " 'QDi.431': 1,\n",
       " 'QDi.432': 1,\n",
       " 'QDi.433': 2,\n",
       " 'QDi.434': 1,\n",
       " 'QDi.435': 1,\n",
       " 'QDe.001': 2,\n",
       " 'QDe.002': 4,\n",
       " 'QDe.003': 1,\n",
       " 'QDe.004': 0,\n",
       " 'QDe.005': 3,\n",
       " 'QDe.006': 0,\n",
       " 'QDe.007': 1,\n",
       " 'QDe.008': 3,\n",
       " 'QDe.009': 0,\n",
       " 'QDe.010': 3,\n",
       " 'QDe.011': 1,\n",
       " 'QDe.012': 1,\n",
       " 'QDe.014': 1,\n",
       " 'QDe.015': 1,\n",
       " 'QDe.019': 4,\n",
       " 'QDe.020': 0,\n",
       " 'QDe.021': 0,\n",
       " 'QDe.068': 3,\n",
       " 'QDe.069': 2,\n",
       " 'QDe.070': 2,\n",
       " 'QDe.088': 0,\n",
       " 'QDe.089': 1,\n",
       " 'QDe.090': 1,\n",
       " 'QDe.091': 0,\n",
       " 'QDe.092': 1,\n",
       " 'QDe.093': 0,\n",
       " 'QDe.096': 0,\n",
       " 'QDe.098': 2,\n",
       " 'QDe.099': 2,\n",
       " 'QDe.100': 3,\n",
       " 'QDe.101': 2,\n",
       " 'QDe.104': 0,\n",
       " 'QDe.105': 0,\n",
       " 'QDe.106': 0,\n",
       " 'QDe.107': 0,\n",
       " 'QDe.108': 0,\n",
       " 'QDe.109': 0,\n",
       " 'QDe.110': 0,\n",
       " 'QDe.111': 0,\n",
       " 'QDe.112': 0,\n",
       " 'QDe.113': 0,\n",
       " 'QDe.114': 0,\n",
       " 'QDe.115': 0,\n",
       " 'QDe.116': 0,\n",
       " 'QDe.118': 1,\n",
       " 'QDe.119': 2,\n",
       " 'QDe.121': 4,\n",
       " 'QDe.128': 3,\n",
       " 'QDe.129': 2,\n",
       " 'QDe.130': 1,\n",
       " 'QDe.131': 1,\n",
       " 'QDe.132': 1,\n",
       " 'QDe.133': 3,\n",
       " 'QDe.134': 2,\n",
       " 'QDe.135': 4,\n",
       " 'QDe.136': 5,\n",
       " 'QDe.137': 7,\n",
       " 'QDe.138': 2,\n",
       " 'QDe.139': 2,\n",
       " 'QDe.140': 5,\n",
       " 'QDe.141': 4,\n",
       " 'QDe.142': 2,\n",
       " 'QDe.143': 2,\n",
       " 'QDe.144': 1,\n",
       " 'QDe.145': 3,\n",
       " 'QDe.146': 4,\n",
       " 'QDe.147': 1,\n",
       " 'QDe.148': 2,\n",
       " 'QDe.149': 1,\n",
       " 'QDe.150': 3,\n",
       " 'QDe.151': 0,\n",
       " 'QDe.152': 2,\n",
       " 'QDe.153': 1,\n",
       " 'QDe.154': 1,\n",
       " 'QDe.155': 1,\n",
       " 'QDe.156': 1,\n",
       " 'QDe.157': 2,\n",
       " 'QDe.158': 1,\n",
       " 'QDe.159': 4,\n",
       " 'QDe.160': 1,\n",
       " 'QDe.161': 2,\n",
       " 'QDe.162': 3,\n",
       " 'QDe.163': 3,\n",
       " 'QDe.164': 1,\n",
       " 'QDe.165': 2,\n",
       " 'QDe.166': 2,\n",
       " 'QDe.167': 1,\n",
       " 'QDe.168': 3,\n",
       " 'QDe.169': 2}"
      ]
     },
     "execution_count": 97,
     "metadata": {},
     "output_type": "execute_result"
    },
    {
     "output_type": "display_data",
     "data": {
      "text/html": [
       "<style scoped>\n",
       "  .ansiout {\n",
       "    display: block;\n",
       "    unicode-bidi: embed;\n",
       "    white-space: pre-wrap;\n",
       "    word-wrap: break-word;\n",
       "    word-break: break-all;\n",
       "    font-family: \"Menlo\", \"Monaco\", \"Consolas\", \"Ubuntu Mono\", \"Source Code Pro\", monospace;\n",
       "    font-size: 13px;\n",
       "    color: #555;\n",
       "    margin-left: 4px;\n",
       "    line-height: 19px;\n",
       "  }\n",
       "</style>"
      ]
     },
     "metadata": {
      "application/vnd.databricks.v1+output": {
       "arguments": {},
       "data": "",
       "errorSummary": "",
       "errorTraceType": null,
       "metadata": {},
       "type": "ipynbError"
      }
     },
     "output_type": "display_data"
    }
   ],
   "source": [
    "link_count_dict"
   ]
  },
  {
   "cell_type": "code",
   "execution_count": 0,
   "metadata": {
    "application/vnd.databricks.v1+cell": {
     "cellMetadata": {
      "byteLimit": 2048000,
      "rowLimit": 10000
     },
     "inputWidgets": {},
     "nuid": "aab1e46b-8bff-4515-a861-1f6be52f3184",
     "showTitle": false,
     "title": ""
    }
   },
   "outputs": [
    {
     "output_type": "execute_result",
     "data": {
      "text/plain": [
       "'{\"nodes\": [{\"DATAID\": \"113219\", \"linkCount\": 0, \"narrativeFileName\": \"TBD\", \"REFERENCE_NUMBER\": \"QDi.001\", \"id\": \"QDi.001\", \"name\": \"MOHAMMED SALAHALDIN ABD EL HALIM ZIDANE\", \"natnlty\": \"Egypt\", \"linksTo\": [], \"links\": []}, {\"DATAID\": \"111497\", \"linkCount\": 0, \"narrativeFileName\": \"TBD\", \"REFERENCE_NUMBER\": \"QDi.002\", \"id\": \"QDi.002\", \"name\": \"AMIN MUHAMMAD UL HAQ SAAM KHAN\", \"natnlty\": \"Afghanistan\", \"linksTo\": [], \"links\": []}, {\"DATAID\": \"111919\", \"linkCount\": 0, \"narrativeFileName\": \"TBD\", \"REFERENCE_NUMBER\": \"QDi.003\", \"id\": \"QDi.003\", \"name\": \"SALIM AHMAD SALIM HAMDAN\", \"natnlty\": \"Yemen\", \"linksTo\": [], \"links\": []}, {\"DATAID\": \"111923\", \"linkCount\": 10, \"narrativeFileName\": \"TBD\", \"REFERENCE_NUMBER\": \"QDi.006\", \"id\": \"QDi.006\", \"name\": \"AIMAN MUHAMMED RABI AL-ZAWAHIRI\", \"natnlty\": \"Egypt\", \"linksTo\": [\"QDe.004\", \"QDe.003\"], \"links\": [{\"source\": \"QDi.006\", \"target\": \"QDe.004\"}, {\"source\": \"QDi.006\", \"target\": \"QDe.003\"}]}, {\"DATAID\": \"111942\", \"linkCount\": 0, \"narrativeFileName\": \"TBD\", \"REFERENCE_NUMBER\": \"QDi.009\", \"id\": \"QDi.009\", \"name\": \"BILAL BIN MARWAN\", \"natnlty\": \"None reported\", \"linksTo\": [], \"links\": []}, {\"DATAID\": \"111900\", \"linkCount\": 1, \"narrativeFileName\": \"TBD\", \"REFERENCE_NUMBER\": \"QDi.012\", \"id\": \"QDi.012\", \"name\": \"NASHWAN ABD AL-RAZZAQ ABD AL-BAQI\", \"natnlty\": \"Iraq\", \"linksTo\": [\"QDe.098\"], \"links\": [{\"source\": \"QDi.012\", \"target\": \"QDe.098\"}]}, {\"DATAID\": \"111498\", \"linkCount\": 0, \"narrativeFileName\": \"TBD\", \"REFERENCE_NUMBER\": \"QDi.014\", \"id\": \"QDi.014\", \"name\": \"TARIQ ANWAR EL SAYED AHMED\", \"natnlty\": \"Egypt\", \"linksTo\": [], \"links\": []}, {\"DATAID\": \"112026\", \"linkCount\": 0, \"narrativeFileName\": \"TBD\", \"REFERENCE_NUMBER\": \"QDi.015\", \"id\": \"QDi.015\", \"name\": \"MAHFOUZ OULD AL-WALID\", \"natnlty\": \"Mauritania\", \"linksTo\": [], \"links\": []}, {\"DATAID\": \"111782\", \"linkCount\": 0, \"narrativeFileName\": \"TBD\", \"REFERENCE_NUMBER\": \"QDi.017\", \"id\": \"QDi.017\", \"name\": \"THARWAT SALAH SHIHATA\", \"natnlty\": \"Egypt\", \"linksTo\": [], \"links\": []}, {\"DATAID\": \"111514\", \"linkCount\": 0, \"narrativeFileName\": \"TBD\", \"REFERENCE_NUMBER\": \"QDi.018\", \"id\": \"QDi.018\", \"name\": \"ABDUL MANAN AGHA\", \"natnlty\": \"None reported\", \"linksTo\": [], \"links\": []}, {\"DATAID\": \"111947\", \"linkCount\": 0, \"narrativeFileName\": \"TBD\", \"REFERENCE_NUMBER\": \"QDi.019\", \"id\": \"QDi.019\", \"name\": \"ABDULLAH AHMED ABDULLAH EL ALFI\", \"natnlty\": \"Egypt\", \"linksTo\": [], \"links\": []}, {\"DATAID\": \"111660\", \"linkCount\": 1, \"narrativeFileName\": \"TBD\", \"REFERENCE_NUMBER\": \"QDi.020\", \"id\": \"QDi.020\", \"name\": \"MOHAMMAD HAMDI MOHAMMAD SADIQ AL-AHDAL\", \"natnlty\": \"Yemen\", \"linksTo\": [\"QDe.004\"], \"links\": [{\"source\": \"QDi.020\", \"target\": \"QDe.004\"}]}, {\"DATAID\": \"112044\", \"linkCount\": 0, \"narrativeFileName\": \"TBD\", \"REFERENCE_NUMBER\": \"QDi.028\", \"id\": \"QDi.028\", \"name\": \"AHMED KHALFAN GHAILANI\", \"natnlty\": \"United Republic of Tanzania\", \"linksTo\": [], \"links\": []}, {\"DATAID\": \"112078\", \"linkCount\": 1, \"narrativeFileName\": \"TBD\", \"REFERENCE_NUMBER\": \"QDi.029\", \"id\": \"QDi.029\", \"name\": \"RAED MUHAMMAD HASAN MUHAMMAD HIJAZI\", \"natnlty\": \"Jordan,United States of America\", \"linksTo\": [\"QDe.115\"], \"links\": [{\"source\": \"QDi.029\", \"target\": \"QDe.115\"}]}, {\"DATAID\": \"112283\", \"linkCount\": 0, \"narrativeFileName\": \"TBD\", \"REFERENCE_NUMBER\": \"QDi.031\", \"id\": \"QDi.031\", \"name\": \"OMAR MAHMOUD UTHMAN\", \"natnlty\": \"Jordan\", \"linksTo\": [], \"links\": []}, {\"DATAID\": \"113328\", \"linkCount\": 0, \"narrativeFileName\": \"TBD\", \"REFERENCE_NUMBER\": \"QDi.037\", \"id\": \"QDi.037\", \"name\": \"ABDUL RAHMAN YASIN\", \"natnlty\": \"United States of America\", \"linksTo\": [], \"links\": []}, {\"DATAID\": \"111944\", \"linkCount\": 2, \"narrativeFileName\": \"TBD\", \"REFERENCE_NUMBER\": \"QDi.042\", \"id\": \"QDi.042\", \"name\": \"HASSAN DAHIR AWEYS\", \"natnlty\": \"Somalia\", \"linksTo\": [\"QDe.002\"], \"links\": [{\"source\": \"QDi.042\", \"target\": \"QDe.002\"}]}, {\"DATAID\": \"111449\", \"linkCount\": 1, \"narrativeFileName\": \"TBD\", \"REFERENCE_NUMBER\": \"QDi.054\", \"id\": \"QDi.054\", \"name\": \"MAJEED ABDUL CHAUDHRY\", \"natnlty\": \"Pakistan\", \"linksTo\": [], \"links\": []}, {\"DATAID\": \"112032\", \"linkCount\": 1, \"narrativeFileName\": \"TBD\", \"REFERENCE_NUMBER\": \"QDi.055\", \"id\": \"QDi.055\", \"name\": \"MAHMOOD SULTAN BASHIR-UD-DIN\", \"natnlty\": \"Pakistan\", \"linksTo\": [], \"links\": []}, {\"DATAID\": \"113440\", \"linkCount\": 2, \"narrativeFileName\": \"TBD\", \"REFERENCE_NUMBER\": \"QDi.056\", \"id\": \"QDi.056\", \"name\": \"MOHAMMED TUFAIL\", \"natnlty\": \"Pakistan\", \"linksTo\": [\"QDe.068\"], \"links\": [{\"source\": \"QDi.056\", \"target\": \"QDe.068\"}]}, {\"DATAID\": \"111639\", \"linkCount\": 3, \"narrativeFileName\": \"TBD\", \"REFERENCE_NUMBER\": \"QDi.057\", \"id\": \"QDi.057\", \"name\": \"IBRAHIM ALI ABU BAKR TANTOUSH\", \"natnlty\": \"Libya\", \"linksTo\": [\"QDe.069\", \"QDe.070\", \"QDe.011\"], \"links\": [{\"source\": \"QDi.057\", \"target\": \"QDe.069\"}, {\"source\": \"QDi.057\", \"target\": \"QDe.070\"}, {\"source\": \"QDi.057\", \"target\": \"QDe.011\"}]}, {\"DATAID\": \"111902\", \"linkCount\": 4, \"narrativeFileName\": \"TBD\", \"REFERENCE_NUMBER\": \"QDi.058\", \"id\": \"QDi.058\", \"name\": \"BOUBEKEUR BOULGHITI\", \"natnlty\": \"Algeria,State of Palestine\", \"linksTo\": [\"QDe.069\", \"QDe.004\"], \"links\": [{\"source\": \"QDi.058\", \"target\": \"QDe.069\"}, {\"source\": \"QDi.058\", \"target\": \"QDe.004\"}]}, {\"DATAID\": \"111763\", \"linkCount\": 0, \"narrativeFileName\": \"TBD\", \"REFERENCE_NUMBER\": \"QDi.059\", \"id\": \"QDi.059\", \"name\": \"KHALID ABD AL-RAHMAN HAMD AL-FAWAZ\", \"natnlty\": \"Saudi Arabia\", \"linksTo\": [], \"links\": []}, {\"DATAID\": \"111735\", \"linkCount\": 1, \"narrativeFileName\": \"TBD\", \"REFERENCE_NUMBER\": \"QDi.060\", \"id\": \"QDi.060\", \"name\": \"MOHAMED BEN BELGACEM BEN ABDALLAH AL-AOUADI\", \"natnlty\": \"Tunisia\", \"linksTo\": [\"QDe.143\"], \"links\": [{\"source\": \"QDi.060\", \"target\": \"QDe.143\"}]}, {\"DATAID\": \"111796\", \"linkCount\": 0, \"narrativeFileName\": \"TBD\", \"REFERENCE_NUMBER\": \"QDi.062\", \"id\": \"QDi.062\", \"name\": \"MOHAMED LAKHAL\", \"natnlty\": \"Tunisia\", \"linksTo\": [], \"links\": []}, {\"DATAID\": \"111806\", \"linkCount\": 0, \"narrativeFileName\": \"TBD\", \"REFERENCE_NUMBER\": \"QDi.064\", \"id\": \"QDi.064\", \"name\": \"SAMI BEN KHAMIS BEN SALEH ELSSEID\", \"natnlty\": \"Tunisia\", \"linksTo\": [], \"links\": []}, {\"DATAID\": \"111805\", \"linkCount\": 0, \"narrativeFileName\": \"TBD\", \"REFERENCE_NUMBER\": \"QDi.065\", \"id\": \"QDi.065\", \"name\": \"ABD EL KADER MAHMOUD MOHAMED EL SAYED\", \"natnlty\": \"Egypt\", \"linksTo\": [], \"links\": []}, {\"DATAID\": \"112166\", \"linkCount\": 0, \"narrativeFileName\": \"TBD\", \"REFERENCE_NUMBER\": \"QDi.067\", \"id\": \"QDi.067\", \"name\": \"MOSTAFA KAMEL MOSTAFA IBRAHIM\", \"natnlty\": \"United Kingdom of Great Britain and Northern Ireland\", \"linksTo\": [], \"links\": []}, {\"DATAID\": \"112033\", \"linkCount\": 0, \"narrativeFileName\": \"TBD\", \"REFERENCE_NUMBER\": \"QDi.068\", \"id\": \"QDi.068\", \"name\": \"ADEL BEN AL-AZHAR BEN YOUSSEF HAMDI\", \"natnlty\": \"Tunisia\", \"linksTo\": [], \"links\": []}, {\"DATAID\": \"111800\", \"linkCount\": 0, \"narrativeFileName\": \"TBD\", \"REFERENCE_NUMBER\": \"QDi.070\", \"id\": \"QDi.070\", \"name\": \"YASSINE CHEKKOURI\", \"natnlty\": \"Morocco\", \"linksTo\": [], \"links\": []}, {\"DATAID\": \"112248\", \"linkCount\": 0, \"narrativeFileName\": \"TBD\", \"REFERENCE_NUMBER\": \"QDi.072\", \"id\": \"QDi.072\", \"name\": \"MEHDI BEN MOHAMED BEN MOHAMED KAMMOUN\", \"natnlty\": \"Tunisia\", \"linksTo\": [], \"links\": []}, {\"DATAID\": \"111920\", \"linkCount\": 0, \"narrativeFileName\": \"TBD\", \"REFERENCE_NUMBER\": \"QDi.074\", \"id\": \"QDi.074\", \"name\": \"TAREK BEN HABIB BEN AL-TOUMI AL-MAAROUFI\", \"natnlty\": \"Tunisia\", \"linksTo\": [], \"links\": []}, {\"DATAID\": \"113322\", \"linkCount\": 0, \"narrativeFileName\": \"TBD\", \"REFERENCE_NUMBER\": \"QDi.075\", \"id\": \"QDi.075\", \"name\": \"ABDELHALIM HAFED ABDELFATTAH REMADNA\", \"natnlty\": \"Algeria\", \"linksTo\": [], \"links\": []}, {\"DATAID\": \"113223\", \"linkCount\": 0, \"narrativeFileName\": \"TBD\", \"REFERENCE_NUMBER\": \"QDi.076\", \"id\": \"QDi.076\", \"name\": \"ISAM ALI MOHAMED ALOUCHE\", \"natnlty\": \"Jordan\", \"linksTo\": [], \"links\": []}, {\"DATAID\": \"112030\", \"linkCount\": 1, \"narrativeFileName\": \"TBD\", \"REFERENCE_NUMBER\": \"QDi.080\", \"id\": \"QDi.080\", \"name\": \"SAID BAHAJI\", \"natnlty\": \"Germany,Morocco\", \"linksTo\": [\"QDe.004\"], \"links\": [{\"source\": \"QDi.080\", \"target\": \"QDe.004\"}]}, {\"DATAID\": \"111943\", \"linkCount\": 0, \"narrativeFileName\": \"TBD\", \"REFERENCE_NUMBER\": \"QDi.081\", \"id\": \"QDi.081\", \"name\": \"RAMZI MOHAMED ABDULLAH BINALSHIBH\", \"natnlty\": \"Yemen\", \"linksTo\": [], \"links\": []}, {\"DATAID\": \"111951\", \"linkCount\": 0, \"narrativeFileName\": \"TBD\", \"REFERENCE_NUMBER\": \"QDi.082\", \"id\": \"QDi.082\", \"name\": \"MOUNIR EL MOTASSADEQ\", \"natnlty\": \"Morocco\", \"linksTo\": [], \"links\": []}, {\"DATAID\": \"112043\", \"linkCount\": 0, \"narrativeFileName\": \"TBD\", \"REFERENCE_NUMBER\": \"QDi.083\", \"id\": \"QDi.083\", \"name\": \"ZAKARYA ESSABAR\", \"natnlty\": \"Morocco\", \"linksTo\": [], \"links\": []}, {\"DATAID\": \"111451\", \"linkCount\": 1, \"narrativeFileName\": \"TBD\", \"REFERENCE_NUMBER\": \"QDi.086\", \"id\": \"QDi.086\", \"name\": \"MOHAMAD IQBAL ABDURRAHMAN\", \"natnlty\": \"Indonesia\", \"linksTo\": [], \"links\": []}, {\"DATAID\": \"112001\", \"linkCount\": 3, \"narrativeFileName\": \"TBD\", \"REFERENCE_NUMBER\": \"QDi.087\", \"id\": \"QDi.087\", \"name\": \"NURJAMAN RIDUAN ISAMUDDIN\", \"natnlty\": \"Indonesia\", \"linksTo\": [\"QDe.092\", \"QDi.218\"], \"links\": [{\"source\": \"QDi.087\", \"target\": \"QDe.092\"}, {\"source\": \"QDi.087\", \"target\": \"QDi.218\"}]}, {\"DATAID\": \"111734\", \"linkCount\": 0, \"narrativeFileName\": \"TBD\", \"REFERENCE_NUMBER\": \"QDi.092\", \"id\": \"QDi.092\", \"name\": \"MEHREZ BEN MAHMOUD BEN SASSI AL-AMDOUNI\", \"natnlty\": \"Tunisia\", \"linksTo\": [], \"links\": []}, {\"DATAID\": \"112038\", \"linkCount\": 0, \"narrativeFileName\": \"TBD\", \"REFERENCE_NUMBER\": \"QDi.095\", \"id\": \"QDi.095\", \"name\": \"LIONEL DUMONT\", \"natnlty\": \"France\", \"linksTo\": [], \"links\": []}, {\"DATAID\": \"112042\", \"linkCount\": 0, \"narrativeFileName\": \"TBD\", \"REFERENCE_NUMBER\": \"QDi.096\", \"id\": \"QDi.096\", \"name\": \"MOUSSA BEN OMAR BEN ALI ESSAADI\", \"natnlty\": \"Tunisia\", \"linksTo\": [], \"links\": []}, {\"DATAID\": \"112039\", \"linkCount\": 0, \"narrativeFileName\": \"TBD\", \"REFERENCE_NUMBER\": \"QDi.111\", \"id\": \"QDi.111\", \"name\": \"AGUS DWIKARNA\", \"natnlty\": \"Indonesia\", \"linksTo\": [], \"links\": []}, {\"DATAID\": \"112007\", \"linkCount\": 0, \"narrativeFileName\": \"TBD\", \"REFERENCE_NUMBER\": \"QDi.114\", \"id\": \"QDi.114\", \"name\": \"SALIM Y SALAMUDDIN JULKIPLI\", \"natnlty\": \"Philippines\", \"linksTo\": [], \"links\": []}, {\"DATAID\": \"113211\", \"linkCount\": 0, \"narrativeFileName\": \"TBD\", \"REFERENCE_NUMBER\": \"QDi.119\", \"id\": \"QDi.119\", \"name\": \"ARIS MUNANDAR\", \"natnlty\": \"Indonesia\", \"linksTo\": [], \"links\": []}, {\"DATAID\": \"113313\", \"linkCount\": 0, \"narrativeFileName\": \"TBD\", \"REFERENCE_NUMBER\": \"QDi.120\", \"id\": \"QDi.120\", \"name\": \"ABDUL HAKIM MURAD\", \"natnlty\": \"Pakistan\", \"linksTo\": [], \"links\": []}, {\"DATAID\": \"113220\", \"linkCount\": 0, \"narrativeFileName\": \"TBD\", \"REFERENCE_NUMBER\": \"QDi.122\", \"id\": \"QDi.122\", \"name\": \"PARLINDUNGAN SIREGAR\", \"natnlty\": \"Indonesia\", \"linksTo\": [], \"links\": []}, {\"DATAID\": \"113222\", \"linkCount\": 0, \"narrativeFileName\": \"TBD\", \"REFERENCE_NUMBER\": \"QDi.123\", \"id\": \"QDi.123\", \"name\": \"YASSIN SYAWAL\", \"natnlty\": \"Indonesia\", \"linksTo\": [], \"links\": []}, {\"DATAID\": \"113439\", \"linkCount\": 2, \"narrativeFileName\": \"TBD\", \"REFERENCE_NUMBER\": \"QDi.124\", \"id\": \"QDi.124\", \"name\": \"YAZID SUFAAT\", \"natnlty\": \"Malaysia\", \"linksTo\": [\"QDe.092\", \"QDe.004\"], \"links\": [{\"source\": \"QDi.124\", \"target\": \"QDe.092\"}, {\"source\": \"QDi.124\", \"target\": \"QDe.004\"}]}, {\"DATAID\": \"113442\", \"linkCount\": 0, \"narrativeFileName\": \"TBD\", \"REFERENCE_NUMBER\": \"QDi.126\", \"id\": \"QDi.126\", \"name\": \"YUNOS UMPARA MOKLIS\", \"natnlty\": \"Philippines\", \"linksTo\": [], \"links\": []}, {\"DATAID\": \"112379\", \"linkCount\": 0, \"narrativeFileName\": \"TBD\", \"REFERENCE_NUMBER\": \"QDi.129\", \"id\": \"QDi.129\", \"name\": \"DJAMEL MOUSTFA\", \"natnlty\": \"Algeria\", \"linksTo\": [], \"links\": []}, {\"DATAID\": \"112138\", \"linkCount\": 0, \"narrativeFileName\": \"TBD\", \"REFERENCE_NUMBER\": \"QDi.135\", \"id\": \"QDi.135\", \"name\": \"DAWOOD IBRAHIM KASKAR\", \"natnlty\": \"India\", \"linksTo\": [], \"links\": []}, {\"DATAID\": \"111794\", \"linkCount\": 9, \"narrativeFileName\": \"TBD\", \"REFERENCE_NUMBER\": \"QDi.136\", \"id\": \"QDi.136\", \"name\": \"MOKHTAR BELMOKHTAR\", \"natnlty\": \"Algeria\", \"linksTo\": [\"QDe.014\", \"QDe.139\", \"QDe.140\", \"QDe.141\"], \"links\": [{\"source\": \"QDi.136\", \"target\": \"QDe.014\"}, {\"source\": \"QDi.136\", \"target\": \"QDe.139\"}, {\"source\": \"QDi.136\", \"target\": \"QDe.140\"}, {\"source\": \"QDi.136\", \"target\": \"QDe.141\"}]}, {\"DATAID\": \"111922\", \"linkCount\": 0, \"narrativeFileName\": \"TBD\", \"REFERENCE_NUMBER\": \"QDi.139\", \"id\": \"QDi.139\", \"name\": \"IMED BEN MEKKI ZARKAOUI\", \"natnlty\": \"Tunisia\", \"linksTo\": [], \"links\": []}, {\"DATAID\": \"111916\", \"linkCount\": 0, \"narrativeFileName\": \"TBD\", \"REFERENCE_NUMBER\": \"QDi.140\", \"id\": \"QDi.140\", \"name\": \"KAMAL BEN MAOELDI BEN HASSAN AL-HAMRAOUI\", \"natnlty\": \"Tunisia\", \"linksTo\": [], \"links\": []}, {\"DATAID\": \"112035\", \"linkCount\": 0, \"narrativeFileName\": \"TBD\", \"REFERENCE_NUMBER\": \"QDi.141\", \"id\": \"QDi.141\", \"name\": \"MAXAMED CABDULLAAH CIISE\", \"natnlty\": \"Somalia\", \"linksTo\": [], \"links\": []}, {\"DATAID\": \"112040\", \"linkCount\": 0, \"narrativeFileName\": \"TBD\", \"REFERENCE_NUMBER\": \"QDi.142\", \"id\": \"QDi.142\", \"name\": \"RADI ABD EL SAMIE ABOU EL YAZID EL AYASHI\", \"natnlty\": \"Egypt\", \"linksTo\": [], \"links\": []}, {\"DATAID\": \"111799\", \"linkCount\": 0, \"narrativeFileName\": \"TBD\", \"REFERENCE_NUMBER\": \"QDi.143\", \"id\": \"QDi.143\", \"name\": \"HAMADI BEN ABDUL AZIZ BEN ALI BOUYEHIA\", \"natnlty\": \"Tunisia\", \"linksTo\": [], \"links\": []}, {\"DATAID\": \"111810\", \"linkCount\": 0, \"narrativeFileName\": \"TBD\", \"REFERENCE_NUMBER\": \"QDi.144\", \"id\": \"QDi.144\", \"name\": \"MOHAMMAD TAHIR HAMMID HUSSEIN\", \"natnlty\": \"Iraq\", \"linksTo\": [], \"links\": []}, {\"DATAID\": \"112378\", \"linkCount\": 0, \"narrativeFileName\": \"TBD\", \"REFERENCE_NUMBER\": \"QDi.147\", \"id\": \"QDi.147\", \"name\": \"MOHAMED AMIN MOSTAFA\", \"natnlty\": \"Iraq\", \"linksTo\": [], \"links\": []}, {\"DATAID\": \"111837\", \"linkCount\": 0, \"narrativeFileName\": \"TBD\", \"REFERENCE_NUMBER\": \"QDi.149\", \"id\": \"QDi.149\", \"name\": \"NOUREDDINE BEN ALI BEN BELKASSEM AL-DRISSI\", \"natnlty\": \"Tunisia\", \"linksTo\": [], \"links\": []}, {\"DATAID\": \"113436\", \"linkCount\": 0, \"narrativeFileName\": \"TBD\", \"REFERENCE_NUMBER\": \"QDi.150\", \"id\": \"QDi.150\", \"name\": \"AL-AZHAR BEN KHALIFA BEN AHMED ROUINE\", \"natnlty\": \"Tunisia\", \"linksTo\": [], \"links\": []}, {\"DATAID\": \"112028\", \"linkCount\": 1, \"narrativeFileName\": \"TBD\", \"REFERENCE_NUMBER\": \"QDi.152\", \"id\": \"QDi.152\", \"name\": \"SAIFI AMMARI\", \"natnlty\": \"Algeria\", \"linksTo\": [\"QDe.014\"], \"links\": [{\"source\": \"QDi.152\", \"target\": \"QDe.014\"}]}, {\"DATAID\": \"111496\", \"linkCount\": 0, \"narrativeFileName\": \"TBD\", \"REFERENCE_NUMBER\": \"QDi.154\", \"id\": \"QDi.154\", \"name\": \"SULAIMAN JASSEM SULAIMAN ALI ABO GHAITH\", \"natnlty\": \"Kuwait\", \"linksTo\": [], \"links\": []}, {\"DATAID\": \"112494\", \"linkCount\": 0, \"narrativeFileName\": \"TBD\", \"REFERENCE_NUMBER\": \"QDi.155\", \"id\": \"QDi.155\", \"name\": \"DJAMEL LOUNICI\", \"natnlty\": \"Algeria\", \"linksTo\": [], \"links\": []}, {\"DATAID\": \"111924\", \"linkCount\": 0, \"narrativeFileName\": \"TBD\", \"REFERENCE_NUMBER\": \"QDi.156\", \"id\": \"QDi.156\", \"name\": \"ABD-AL-MAJID AZIZ AL-ZINDANI\", \"natnlty\": \"Yemen\", \"linksTo\": [], \"links\": []}, {\"DATAID\": \"112037\", \"linkCount\": 1, \"narrativeFileName\": \"TBD\", \"REFERENCE_NUMBER\": \"QDi.167\", \"id\": \"QDi.167\", \"name\": \"KAMEL DJERMANE\", \"natnlty\": \"Algeria\", \"linksTo\": [\"QDe.014\"], \"links\": [{\"source\": \"QDi.167\", \"target\": \"QDe.014\"}]}, {\"DATAID\": \"111785\", \"linkCount\": 0, \"narrativeFileName\": \"TBD\", \"REFERENCE_NUMBER\": \"QDi.177\", \"id\": \"QDi.177\", \"name\": \"HABIB BEN AHMED AL-LOUBIRI\", \"natnlty\": \"Tunisia\", \"linksTo\": [], \"links\": []}, {\"DATAID\": \"111704\", \"linkCount\": 0, \"narrativeFileName\": \"TBD\", \"REFERENCE_NUMBER\": \"QDi.184\", \"id\": \"QDi.184\", \"name\": \"MUHSIN FADHIL AYED ASHOUR AL-FADHLI\", \"natnlty\": \"Kuwait\", \"linksTo\": [], \"links\": []}, {\"DATAID\": \"113215\", \"linkCount\": 1, \"narrativeFileName\": \"TBD\", \"REFERENCE_NUMBER\": \"QDi.186\", \"id\": \"QDi.186\", \"name\": \"ABU RUSDAN\", \"natnlty\": \"None reported\", \"linksTo\": [\"QDe.092\"], \"links\": [{\"source\": \"QDi.186\", \"target\": \"QDe.092\"}]}, {\"DATAID\": \"113444\", \"linkCount\": 0, \"narrativeFileName\": \"TBD\", \"REFERENCE_NUMBER\": \"QDi.187\", \"id\": \"QDi.187\", \"name\": \"ARIS SUMARSONO\", \"natnlty\": \"Indonesia\", \"linksTo\": [], \"links\": []}, {\"DATAID\": \"111798\", \"linkCount\": 0, \"narrativeFileName\": \"TBD\", \"REFERENCE_NUMBER\": \"QDi.188\", \"id\": \"QDi.188\", \"name\": \"FAYCAL BOUGHANEMI\", \"natnlty\": \"Tunisia\", \"linksTo\": [], \"links\": []}, {\"DATAID\": \"112483\", \"linkCount\": 0, \"narrativeFileName\": \"TBD\", \"REFERENCE_NUMBER\": \"QDi.190\", \"id\": \"QDi.190\", \"name\": \"ABDELKADER LAAGOUB\", \"natnlty\": \"Morocco\", \"linksTo\": [], \"links\": []}, {\"DATAID\": \"111533\", \"linkCount\": 1, \"narrativeFileName\": \"TBD\", \"REFERENCE_NUMBER\": \"QDi.192\", \"id\": \"QDi.192\", \"name\": \"ABD ALLAH MOHAMED RAGAB ABDEL RAHMAN\", \"natnlty\": \"Egypt\", \"linksTo\": [\"QDe.003\"], \"links\": [{\"source\": \"QDi.192\", \"target\": \"QDe.003\"}]}, {\"DATAID\": \"111641\", \"linkCount\": 1, \"narrativeFileName\": \"TBD\", \"REFERENCE_NUMBER\": \"QDi.193\", \"id\": \"QDi.193\", \"name\": \"ZAKI EZAT ZAKI AHMED\", \"natnlty\": \"Egypt\", \"linksTo\": [\"QDe.003\"], \"links\": [{\"source\": \"QDi.193\", \"target\": \"QDe.003\"}]}, {\"DATAID\": \"113212\", \"linkCount\": 2, \"narrativeFileName\": \"TBD\", \"REFERENCE_NUMBER\": \"QDi.196\", \"id\": \"QDi.196\", \"name\": \"ALI SAYYID MUHAMED MUSTAFA BAKRI\", \"natnlty\": \"Egypt\", \"linksTo\": [\"QDe.004\", \"QDe.003\"], \"links\": [{\"source\": \"QDi.196\", \"target\": \"QDe.004\"}, {\"source\": \"QDi.196\", \"target\": \"QDe.003\"}]}, {\"DATAID\": \"112021\", \"linkCount\": 0, \"narrativeFileName\": \"TBD\", \"REFERENCE_NUMBER\": \"QDi.198\", \"id\": \"QDi.198\", \"name\": \"HANI AL-SAYYID AL-SEBAI YUSIF\", \"natnlty\": \"Egypt\", \"linksTo\": [], \"links\": []}, {\"DATAID\": \"111953\", \"linkCount\": 0, \"narrativeFileName\": \"TBD\", \"REFERENCE_NUMBER\": \"QDi.203\", \"id\": \"QDi.203\", \"name\": \"FARHAD KANABI AHMAD\", \"natnlty\": \"Iraq\", \"linksTo\": [], \"links\": []}, {\"DATAID\": \"112075\", \"linkCount\": 3, \"narrativeFileName\": \"TBD\", \"REFERENCE_NUMBER\": \"QDi.204\", \"id\": \"QDi.204\", \"name\": \"ISNILON TOTONI HAPILON\", \"natnlty\": \"Philippines\", \"linksTo\": [\"QDe.001\", \"QDe.115\"], \"links\": [{\"source\": \"QDi.204\", \"target\": \"QDe.001\"}, {\"source\": \"QDi.204\", \"target\": \"QDe.115\"}]}, {\"DATAID\": \"113323\", \"linkCount\": 1, \"narrativeFileName\": \"TBD\", \"REFERENCE_NUMBER\": \"QDi.208\", \"id\": \"QDi.208\", \"name\": \"RADULAN SAHIRON\", \"natnlty\": \"Philippines\", \"linksTo\": [], \"links\": []}, {\"DATAID\": \"111790\", \"linkCount\": 1, \"narrativeFileName\": \"TBD\", \"REFERENCE_NUMBER\": \"QDi.216\", \"id\": \"QDi.216\", \"name\": \"ABDULLAH ANSHORI\", \"natnlty\": \"Indonesia\", \"linksTo\": [\"QDe.092\"], \"links\": [{\"source\": \"QDi.216\", \"target\": \"QDe.092\"}]}, {\"DATAID\": \"111792\", \"linkCount\": 5, \"narrativeFileName\": \"TBD\", \"REFERENCE_NUMBER\": \"QDi.217\", \"id\": \"QDi.217\", \"name\": \"ABU BAKAR BA\\'ASYIR\", \"natnlty\": \"Indonesia\", \"linksTo\": [\"QDe.133\"], \"links\": [{\"source\": \"QDi.217\", \"target\": \"QDe.133\"}]}, {\"DATAID\": \"111952\", \"linkCount\": 2, \"narrativeFileName\": \"TBD\", \"REFERENCE_NUMBER\": \"QDi.218\", \"id\": \"QDi.218\", \"name\": \"GUN GUN RUSMAN GUNAWAN\", \"natnlty\": \"Indonesia\", \"linksTo\": [\"QDi.087\"], \"links\": [{\"source\": \"QDi.218\", \"target\": \"QDi.087\"}]}, {\"DATAID\": \"113435\", \"linkCount\": 0, \"narrativeFileName\": \"TBD\", \"REFERENCE_NUMBER\": \"QDi.219\", \"id\": \"QDi.219\", \"name\": \"TAUFIK RIFKI\", \"natnlty\": \"Indonesia\", \"linksTo\": [], \"links\": []}, {\"DATAID\": \"2758395\", \"linkCount\": 0, \"narrativeFileName\": \"TBD\", \"REFERENCE_NUMBER\": \"QDi.222\", \"id\": \"QDi.222\", \"name\": \"NESSIM BEN ROMDHANE SAHRAOUI\", \"natnlty\": \"Tunisia\", \"linksTo\": [], \"links\": []}, {\"DATAID\": \"2758288\", \"linkCount\": 1, \"narrativeFileName\": \"TBD\", \"REFERENCE_NUMBER\": \"QDi.223\", \"id\": \"QDi.223\", \"name\": \"MERAI ABDEFATTAH KHALIL ZOGHBI\", \"natnlty\": \"Libya\", \"linksTo\": [\"QDe.011\"], \"links\": [{\"source\": \"QDi.223\", \"target\": \"QDe.011\"}]}, {\"DATAID\": \"2762998\", \"linkCount\": 1, \"narrativeFileName\": \"TBD\", \"REFERENCE_NUMBER\": \"QDi.226\", \"id\": \"QDi.226\", \"name\": \"NAJMUDDIN FARAJ AHMAD\", \"natnlty\": \"Iraq\", \"linksTo\": [], \"links\": []}, {\"DATAID\": \"2760967\", \"linkCount\": 0, \"narrativeFileName\": \"TBD\", \"REFERENCE_NUMBER\": \"QDi.228\", \"id\": \"QDi.228\", \"name\": \"MOHAMMED AL GHABRA\", \"natnlty\": \"United Kingdom of Great Britain and Northern Ireland\", \"linksTo\": [], \"links\": []}, {\"DATAID\": \"2786469\", \"linkCount\": 1, \"narrativeFileName\": \"TBD\", \"REFERENCE_NUMBER\": \"QDi.229\", \"id\": \"QDi.229\", \"name\": \"ALY SOLIMAN MASSOUD ABDUL SAYED\", \"natnlty\": \"Libya\", \"linksTo\": [\"QDe.011\"], \"links\": [{\"source\": \"QDi.229\", \"target\": \"QDe.011\"}]}, {\"DATAID\": \"2786246\", \"linkCount\": 2, \"narrativeFileName\": \"TBD\", \"REFERENCE_NUMBER\": \"QDi.231\", \"id\": \"QDi.231\", \"name\": \"SALEM NOR ELDIN AMOHAMED AL-DABSKI\", \"natnlty\": \"Libya\", \"linksTo\": [\"QDe.011\", \"QDe.004\"], \"links\": [{\"source\": \"QDi.231\", \"target\": \"QDe.011\"}, {\"source\": \"QDi.231\", \"target\": \"QDe.004\"}]}, {\"DATAID\": \"2785476\", \"linkCount\": 4, \"narrativeFileName\": \"TBD\", \"REFERENCE_NUMBER\": \"QDi.232\", \"id\": \"QDi.232\", \"name\": \"ABDELMALEK DROUKDEL\", \"natnlty\": \"Algeria\", \"linksTo\": [\"QDe.014\"], \"links\": [{\"source\": \"QDi.232\", \"target\": \"QDe.014\"}]}, {\"DATAID\": \"2797951\", \"linkCount\": 0, \"narrativeFileName\": \"TBD\", \"REFERENCE_NUMBER\": \"QDi.236\", \"id\": \"QDi.236\", \"name\": \"HAMID ABDALLAH AHMAD AL-ALI\", \"natnlty\": \"Kuwait\", \"linksTo\": [], \"links\": []}, {\"DATAID\": \"2797952\", \"linkCount\": 0, \"narrativeFileName\": \"TBD\", \"REFERENCE_NUMBER\": \"QDi.237\", \"id\": \"QDi.237\", \"name\": \"JABER ABDALLAH JABER AHMAD AL-JALAHMAH\", \"natnlty\": \"Kuwait\", \"linksTo\": [], \"links\": []}, {\"DATAID\": \"2797841\", \"linkCount\": 0, \"narrativeFileName\": \"TBD\", \"REFERENCE_NUMBER\": \"QDi.238\", \"id\": \"QDi.238\", \"name\": \"MUBARAK MUSHAKHAS SANAD MUBARAK AL-BATHALI\", \"natnlty\": \"Kuwait\", \"linksTo\": [], \"links\": []}, {\"DATAID\": \"2813362\", \"linkCount\": 3, \"narrativeFileName\": \"TBD\", \"REFERENCE_NUMBER\": \"QDi.241\", \"id\": \"QDi.241\", \"name\": \"ANGELO RAMIREZ TRINIDAD\", \"natnlty\": \"Philippines\", \"linksTo\": [\"QDe.128\", \"QDe.001\", \"QDe.092\"], \"links\": [{\"source\": \"QDi.241\", \"target\": \"QDe.128\"}, {\"source\": \"QDi.241\", \"target\": \"QDe.001\"}, {\"source\": \"QDi.241\", \"target\": \"QDe.092\"}]}, {\"DATAID\": \"2812923\", \"linkCount\": 1, \"narrativeFileName\": \"TBD\", \"REFERENCE_NUMBER\": \"QDi.242\", \"id\": \"QDi.242\", \"name\": \"DINNO AMOR ROSALEJOS PAREJA\", \"natnlty\": \"Philippines\", \"linksTo\": [\"QDe.128\"], \"links\": [{\"source\": \"QDi.242\", \"target\": \"QDe.128\"}]}, {\"DATAID\": \"2813147\", \"linkCount\": 1, \"narrativeFileName\": \"TBD\", \"REFERENCE_NUMBER\": \"QDi.243\", \"id\": \"QDi.243\", \"name\": \"FELICIANO SEMBORIO DELOS REYES JR.\", \"natnlty\": \"Philippines\", \"linksTo\": [\"QDe.128\"], \"links\": [{\"source\": \"QDi.243\", \"target\": \"QDe.128\"}]}, {\"DATAID\": \"2813148\", \"linkCount\": 3, \"narrativeFileName\": \"TBD\", \"REFERENCE_NUMBER\": \"QDi.244\", \"id\": \"QDi.244\", \"name\": \"HILARION DEL ROSARIO SANTOS\", \"natnlty\": \"Philippines\", \"linksTo\": [\"QDe.128\", \"QDe.001\"], \"links\": [{\"source\": \"QDi.244\", \"target\": \"QDe.128\"}, {\"source\": \"QDi.244\", \"target\": \"QDe.001\"}]}, {\"DATAID\": \"2813149\", \"linkCount\": 3, \"narrativeFileName\": \"TBD\", \"REFERENCE_NUMBER\": \"QDi.245\", \"id\": \"QDi.245\", \"name\": \"PIO ABOGNE DE VERA\", \"natnlty\": \"Philippines\", \"linksTo\": [\"QDe.128\", \"QDe.001\", \"QDe.092\"], \"links\": [{\"source\": \"QDi.245\", \"target\": \"QDe.128\"}, {\"source\": \"QDi.245\", \"target\": \"QDe.001\"}, {\"source\": \"QDi.245\", \"target\": \"QDe.092\"}]}, {\"DATAID\": \"2813036\", \"linkCount\": 2, \"narrativeFileName\": \"TBD\", \"REFERENCE_NUMBER\": \"QDi.246\", \"id\": \"QDi.246\", \"name\": \"REDENDO CAIN DELLOSA\", \"natnlty\": \"Philippines\", \"linksTo\": [\"QDe.128\", \"QDe.001\"], \"links\": [{\"source\": \"QDi.246\", \"target\": \"QDe.128\"}, {\"source\": \"QDi.246\", \"target\": \"QDe.001\"}]}, {\"DATAID\": \"2813150\", \"linkCount\": 1, \"narrativeFileName\": \"TBD\", \"REFERENCE_NUMBER\": \"QDi.247\", \"id\": \"QDi.247\", \"name\": \"RUBEN PESTANO LAVILLA, JR\", \"natnlty\": \"Philippines\", \"linksTo\": [\"QDe.128\"], \"links\": [{\"source\": \"QDi.247\", \"target\": \"QDe.128\"}]}, {\"DATAID\": \"2813253\", \"linkCount\": 1, \"narrativeFileName\": \"TBD\", \"REFERENCE_NUMBER\": \"QDi.248\", \"id\": \"QDi.248\", \"name\": \"RICARDO PEREZ AYERAS\", \"natnlty\": \"Philippines\", \"linksTo\": [\"QDe.128\"], \"links\": [{\"source\": \"QDi.248\", \"target\": \"QDe.128\"}]}, {\"DATAID\": \"2816344\", \"linkCount\": 1, \"narrativeFileName\": \"TBD\", \"REFERENCE_NUMBER\": \"QDi.249\", \"id\": \"QDi.249\", \"name\": \"YAHIA DJOUADI\", \"natnlty\": \"Algeria\", \"linksTo\": [\"QDe.014\"], \"links\": [{\"source\": \"QDi.249\", \"target\": \"QDe.014\"}]}, {\"DATAID\": \"2816565\", \"linkCount\": 1, \"narrativeFileName\": \"TBD\", \"REFERENCE_NUMBER\": \"QDi.250\", \"id\": \"QDi.250\", \"name\": \"AMOR MOHAMED GHEDEIR\", \"natnlty\": \"Algeria\", \"linksTo\": [\"QDe.014\"], \"links\": [{\"source\": \"QDi.250\", \"target\": \"QDe.014\"}]}, {\"DATAID\": \"2816345\", \"linkCount\": 2, \"narrativeFileName\": \"TBD\", \"REFERENCE_NUMBER\": \"QDi.251\", \"id\": \"QDi.251\", \"name\": \"SALAH EDDINE GASMI\", \"natnlty\": \"Algeria\", \"linksTo\": [\"QDe.014\", \"QDi.232\"], \"links\": [{\"source\": \"QDi.251\", \"target\": \"QDe.014\"}, {\"source\": \"QDi.251\", \"target\": \"QDi.232\"}]}, {\"DATAID\": \"2816243\", \"linkCount\": 1, \"narrativeFileName\": \"TBD\", \"REFERENCE_NUMBER\": \"QDi.252\", \"id\": \"QDi.252\", \"name\": \"AHMED DEGHDEGH\", \"natnlty\": \"Algeria\", \"linksTo\": [\"QDe.014\"], \"links\": [{\"source\": \"QDi.252\", \"target\": \"QDe.014\"}]}, {\"DATAID\": \"2830354\", \"linkCount\": 1, \"narrativeFileName\": \"TBD\", \"REFERENCE_NUMBER\": \"QDi.261\", \"id\": \"QDi.261\", \"name\": \"ADEM YILMAZ\", \"natnlty\": \"Türkiye\", \"linksTo\": [\"QDe.119\"], \"links\": [{\"source\": \"QDi.261\", \"target\": \"QDe.119\"}]}, {\"DATAID\": \"2830919\", \"linkCount\": 0, \"narrativeFileName\": \"TBD\", \"REFERENCE_NUMBER\": \"QDi.262\", \"id\": \"QDi.262\", \"name\": \"REDOUANE EL HABHAB\", \"natnlty\": \"Germany,Morocco\", \"linksTo\": [], \"links\": []}, {\"DATAID\": \"2833107\", \"linkCount\": 4, \"narrativeFileName\": \"TBD\", \"REFERENCE_NUMBER\": \"QDi.263\", \"id\": \"QDi.263\", \"name\": \"HAFIZ MUHAMMAD SAEED\", \"natnlty\": \"Pakistan\", \"linksTo\": [\"QDe.118\"], \"links\": [{\"source\": \"QDi.263\", \"target\": \"QDe.118\"}]}, {\"DATAID\": \"2832887\", \"linkCount\": 1, \"narrativeFileName\": \"TBD\", \"REFERENCE_NUMBER\": \"QDi.264\", \"id\": \"QDi.264\", \"name\": \"ZAKI-UR-REHMAN LAKHVI\", \"natnlty\": \"Pakistan\", \"linksTo\": [\"QDe.118\"], \"links\": [{\"source\": \"QDi.264\", \"target\": \"QDe.118\"}]}, {\"DATAID\": \"2832890\", \"linkCount\": 1, \"narrativeFileName\": \"TBD\", \"REFERENCE_NUMBER\": \"QDi.265\", \"id\": \"QDi.265\", \"name\": \"HAJI MUHAMMAD ASHRAF\", \"natnlty\": \"Pakistan\", \"linksTo\": [\"QDe.118\"], \"links\": [{\"source\": \"QDi.265\", \"target\": \"QDe.118\"}]}, {\"DATAID\": \"2832991\", \"linkCount\": 1, \"narrativeFileName\": \"TBD\", \"REFERENCE_NUMBER\": \"QDi.266\", \"id\": \"QDi.266\", \"name\": \"MAHMOUD MOHAMMAD AHMED BAHAZIQ\", \"natnlty\": \"Saudi Arabia\", \"linksTo\": [\"QDe.118\"], \"links\": [{\"source\": \"QDi.266\", \"target\": \"QDe.118\"}]}, {\"DATAID\": \"2854925\", \"linkCount\": 1, \"narrativeFileName\": \"TBD\", \"REFERENCE_NUMBER\": \"QDi.268\", \"id\": \"QDi.268\", \"name\": \"ABDUL HAQ\", \"natnlty\": \"China\", \"linksTo\": [\"QDe.088\"], \"links\": [{\"source\": \"QDi.268\", \"target\": \"QDe.088\"}]}, {\"DATAID\": \"2863362\", \"linkCount\": 2, \"narrativeFileName\": \"TBD\", \"REFERENCE_NUMBER\": \"QDi.271\", \"id\": \"QDi.271\", \"name\": \"ARIF QASMANI\", \"natnlty\": \"Pakistan\", \"linksTo\": [\"QDe.118\", \"QDe.004\"], \"links\": [{\"source\": \"QDi.271\", \"target\": \"QDe.118\"}, {\"source\": \"QDi.271\", \"target\": \"QDe.004\"}]}, {\"DATAID\": \"2863574\", \"linkCount\": 1, \"narrativeFileName\": \"TBD\", \"REFERENCE_NUMBER\": \"QDi.272\", \"id\": \"QDi.272\", \"name\": \"MOHAMMED YAHYA MUJAHID\", \"natnlty\": \"Pakistan\", \"linksTo\": [\"QDe.118\"], \"links\": [{\"source\": \"QDi.272\", \"target\": \"QDe.118\"}]}, {\"DATAID\": \"2863393\", \"linkCount\": 1, \"narrativeFileName\": \"TBD\", \"REFERENCE_NUMBER\": \"QDi.273\", \"id\": \"QDi.273\", \"name\": \"FAZEEL-A-TUL SHAYKH ABU MOHAMMED AMEEN AL-PESHAWARI\", \"natnlty\": \"Afghanistan\", \"linksTo\": [\"QDe.004\"], \"links\": [{\"source\": \"QDi.273\", \"target\": \"QDe.004\"}]}, {\"DATAID\": \"2892251\", \"linkCount\": 3, \"narrativeFileName\": \"TBD\", \"REFERENCE_NUMBER\": \"QDi.276\", \"id\": \"QDi.276\", \"name\": \"AKRAM TURKI HISHAN AL-MAZIDIH\", \"natnlty\": \"None reported\", \"linksTo\": [\"QDi.277\", \"QDe.115\"], \"links\": [{\"source\": \"QDi.276\", \"target\": \"QDi.277\"}, {\"source\": \"QDi.276\", \"target\": \"QDe.115\"}]}, {\"DATAID\": \"2892252\", \"linkCount\": 3, \"narrativeFileName\": \"TBD\", \"REFERENCE_NUMBER\": \"QDi.277\", \"id\": \"QDi.277\", \"name\": \"GHAZY FEZZA HISHAN AL-MAZIDIH\", \"natnlty\": \"None reported\", \"linksTo\": [\"QDi.276\", \"QDe.115\"], \"links\": [{\"source\": \"QDi.277\", \"target\": \"QDi.276\"}, {\"source\": \"QDi.277\", \"target\": \"QDe.115\"}]}, {\"DATAID\": \"2894441\", \"linkCount\": 1, \"narrativeFileName\": \"TBD\", \"REFERENCE_NUMBER\": \"QDi.278\", \"id\": \"QDi.278\", \"name\": \"MUTHANNA HARITH AL-DARI\", \"natnlty\": \"Iraq\", \"linksTo\": [\"QDe.115\"], \"links\": [{\"source\": \"QDi.278\", \"target\": \"QDe.115\"}]}, {\"DATAID\": \"2902221\", \"linkCount\": 2, \"narrativeFileName\": \"TBD\", \"REFERENCE_NUMBER\": \"QDi.279\", \"id\": \"QDi.279\", \"name\": \"MOHAMED BELKALEM\", \"natnlty\": \"Algeria\", \"linksTo\": [\"QDe.159\", \"QDe.014\"], \"links\": [{\"source\": \"QDi.279\", \"target\": \"QDe.159\"}, {\"source\": \"QDi.279\", \"target\": \"QDe.014\"}]}, {\"DATAID\": \"2901762\", \"linkCount\": 2, \"narrativeFileName\": \"TBD\", \"REFERENCE_NUMBER\": \"QDi.280\", \"id\": \"QDi.280\", \"name\": \"TAYEB NAIL\", \"natnlty\": \"Algeria\", \"linksTo\": [\"QDe.159\", \"QDe.014\"], \"links\": [{\"source\": \"QDi.280\", \"target\": \"QDe.159\"}, {\"source\": \"QDi.280\", \"target\": \"QDe.014\"}]}, {\"DATAID\": \"2903810\", \"linkCount\": 5, \"narrativeFileName\": \"TBD\", \"REFERENCE_NUMBER\": \"QDi.282\", \"id\": \"QDi.282\", \"name\": \"QASIM MOHAMED MAHDI AL-RIMI\", \"natnlty\": \"Yemen\", \"linksTo\": [\"QDe.129\", \"QDi.006\"], \"links\": [{\"source\": \"QDi.282\", \"target\": \"QDe.129\"}, {\"source\": \"QDi.282\", \"target\": \"QDi.006\"}]}, {\"DATAID\": \"2913655\", \"linkCount\": 1, \"narrativeFileName\": \"TBD\", \"REFERENCE_NUMBER\": \"QDi.283\", \"id\": \"QDi.283\", \"name\": \"ANWAR NASSER ABDULLA AL-AULAQI\", \"natnlty\": \"United States of America,Yemen\", \"linksTo\": [], \"links\": []}, {\"DATAID\": \"2959427\", \"linkCount\": 1, \"narrativeFileName\": \"TBD\", \"REFERENCE_NUMBER\": \"QDi.289\", \"id\": \"QDi.289\", \"name\": \"SAID JAN ‘ABD AL-SALAM\", \"natnlty\": \"Afghanistan\", \"linksTo\": [\"QDe.004\"], \"links\": [{\"source\": \"QDi.289\", \"target\": \"QDe.004\"}]}, {\"DATAID\": \"2960872\", \"linkCount\": 1, \"narrativeFileName\": \"TBD\", \"REFERENCE_NUMBER\": \"QDi.290\", \"id\": \"QDi.290\", \"name\": \"DOKU KHAMATOVICH UMAROV\", \"natnlty\": \"Russian Federation,former Soviet Union\", \"linksTo\": [], \"links\": []}, {\"DATAID\": \"2962519\", \"linkCount\": 3, \"narrativeFileName\": \"TBD\", \"REFERENCE_NUMBER\": \"QDi.291\", \"id\": \"QDi.291\", \"name\": \"IBRAHIM HASSAN TALI AL-ASIRI\", \"natnlty\": \"Saudi Arabia\", \"linksTo\": [\"QDe.129\", \"QDi.282\", \"QDi.283\"], \"links\": [{\"source\": \"QDi.291\", \"target\": \"QDe.129\"}, {\"source\": \"QDi.291\", \"target\": \"QDi.282\"}, {\"source\": \"QDi.291\", \"target\": \"QDi.283\"}]}, {\"DATAID\": \"2968403\", \"linkCount\": 2, \"narrativeFileName\": \"TBD\", \"REFERENCE_NUMBER\": \"QDi.292\", \"id\": \"QDi.292\", \"name\": \"OTHMAN AHMED OTHMAN AL-GHAMDI\", \"natnlty\": \"Saudi Arabia\", \"linksTo\": [\"QDe.129\", \"QDi.282\"], \"links\": [{\"source\": \"QDi.292\", \"target\": \"QDe.129\"}, {\"source\": \"QDi.292\", \"target\": \"QDi.282\"}]}, {\"DATAID\": \"2971675\", \"linkCount\": 4, \"narrativeFileName\": \"TBD\", \"REFERENCE_NUMBER\": \"QDi.293\", \"id\": \"QDi.293\", \"name\": \"ABDUL RAHIM BA\\'AYSIR\", \"natnlty\": \"Indonesia\", \"linksTo\": [\"QDe.092\", \"QDi.217\"], \"links\": [{\"source\": \"QDi.293\", \"target\": \"QDe.092\"}, {\"source\": \"QDi.293\", \"target\": \"QDi.217\"}]}, {\"DATAID\": \"2971762\", \"linkCount\": 2, \"narrativeFileName\": \"TBD\", \"REFERENCE_NUMBER\": \"QDi.294\", \"id\": \"QDi.294\", \"name\": \"UMAR PATEK\", \"natnlty\": \"Indonesia\", \"linksTo\": [\"QDe.092\", \"QDe.001\"], \"links\": [{\"source\": \"QDi.294\", \"target\": \"QDe.092\"}, {\"source\": \"QDi.294\", \"target\": \"QDe.001\"}]}, {\"DATAID\": \"2972739\", \"linkCount\": 2, \"narrativeFileName\": \"TBD\", \"REFERENCE_NUMBER\": \"QDi.295\", \"id\": \"QDi.295\", \"name\": \"MUHAMMAD JIBRIL ABDUL RAHMAN\", \"natnlty\": \"Indonesia\", \"linksTo\": [\"QDe.092\", \"QDi.086\"], \"links\": [{\"source\": \"QDi.295\", \"target\": \"QDe.092\"}, {\"source\": \"QDi.295\", \"target\": \"QDi.086\"}]}, {\"DATAID\": \"2973988\", \"linkCount\": 2, \"narrativeFileName\": \"TBD\", \"REFERENCE_NUMBER\": \"QDi.296\", \"id\": \"QDi.296\", \"name\": \"MATI UR-REHMAN ALI MUHAMMAD\", \"natnlty\": \"Pakistan\", \"linksTo\": [\"QDe.096\", \"QDe.130\"], \"links\": [{\"source\": \"QDi.296\", \"target\": \"QDe.096\"}, {\"source\": \"QDi.296\", \"target\": \"QDe.130\"}]}, {\"DATAID\": \"2974555\", \"linkCount\": 2, \"narrativeFileName\": \"TBD\", \"REFERENCE_NUMBER\": \"QDi.298\", \"id\": \"QDi.298\", \"name\": \"ABD AL-RAHMAN OULD MUHAMMAD AL-HUSAYN OULD MUHAMMAD SALIM\", \"natnlty\": \"Mauritania\", \"linksTo\": [\"QDe.004\", \"QDe.014\"], \"links\": [{\"source\": \"QDi.298\", \"target\": \"QDe.004\"}, {\"source\": \"QDi.298\", \"target\": \"QDe.014\"}]}, {\"DATAID\": \"2975516\", \"linkCount\": 7, \"narrativeFileName\": \"TBD\", \"REFERENCE_NUMBER\": \"QDi.299\", \"id\": \"QDi.299\", \"name\": \"IBRAHIM AWWAD IBRAHIM ALI AL-BADRI AL-SAMARRAI\", \"natnlty\": \"Iraq\", \"linksTo\": [\"QDe.115\"], \"links\": [{\"source\": \"QDi.299\", \"target\": \"QDe.115\"}]}, {\"DATAID\": \"2982105\", \"linkCount\": 3, \"narrativeFileName\": \"TBD\", \"REFERENCE_NUMBER\": \"QDi.300\", \"id\": \"QDi.300\", \"name\": \"MONIR CHOUKA\", \"natnlty\": \"Germany,Morocco\", \"linksTo\": [\"QDe.010\", \"QDi.301\"], \"links\": [{\"source\": \"QDi.300\", \"target\": \"QDe.010\"}, {\"source\": \"QDi.300\", \"target\": \"QDi.301\"}]}, {\"DATAID\": \"2981652\", \"linkCount\": 3, \"narrativeFileName\": \"TBD\", \"REFERENCE_NUMBER\": \"QDi.301\", \"id\": \"QDi.301\", \"name\": \"YASSIN CHOUKA\", \"natnlty\": \"Germany,Morocco\", \"linksTo\": [\"QDe.010\", \"QDi.300\"], \"links\": [{\"source\": \"QDi.301\", \"target\": \"QDe.010\"}, {\"source\": \"QDi.301\", \"target\": \"QDi.300\"}]}, {\"DATAID\": \"2983791\", \"linkCount\": 3, \"narrativeFileName\": \"TBD\", \"REFERENCE_NUMBER\": \"QDi.303\", \"id\": \"QDi.303\", \"name\": \"FAZAL RAHIM\", \"natnlty\": \"Afghanistan\", \"linksTo\": [\"QDe.010\", \"QDe.004\"], \"links\": [{\"source\": \"QDi.303\", \"target\": \"QDe.010\"}, {\"source\": \"QDi.303\", \"target\": \"QDe.004\"}]}, {\"DATAID\": \"2983821\", \"linkCount\": 4, \"narrativeFileName\": \"TBD\", \"REFERENCE_NUMBER\": \"QDi.304\", \"id\": \"QDi.304\", \"name\": \"MOCHAMMAD ACHWAN\", \"natnlty\": \"Indonesia\", \"linksTo\": [\"QDe.133\", \"QDi.217\", \"QDi.293\", \"QDe.092\"], \"links\": [{\"source\": \"QDi.304\", \"target\": \"QDe.133\"}, {\"source\": \"QDi.304\", \"target\": \"QDi.217\"}, {\"source\": \"QDi.304\", \"target\": \"QDi.293\"}, {\"source\": \"QDi.304\", \"target\": \"QDe.092\"}]}, {\"DATAID\": \"2983638\", \"linkCount\": 4, \"narrativeFileName\": \"TBD\", \"REFERENCE_NUMBER\": \"QDi.305\", \"id\": \"QDi.305\", \"name\": \"ABDUL ROSYID RIDHO BA\\'ASYIR\", \"natnlty\": \"Indonesia\", \"linksTo\": [\"QDi.217\", \"QDi.293\", \"QDe.133\", \"QDe.092\"], \"links\": [{\"source\": \"QDi.305\", \"target\": \"QDi.217\"}, {\"source\": \"QDi.305\", \"target\": \"QDi.293\"}, {\"source\": \"QDi.305\", \"target\": \"QDe.133\"}, {\"source\": \"QDi.305\", \"target\": \"QDe.092\"}]}, {\"DATAID\": \"2983746\", \"linkCount\": 1, \"narrativeFileName\": \"TBD\", \"REFERENCE_NUMBER\": \"QDi.306\", \"id\": \"QDi.306\", \"name\": \"MUSTAFA HAJJI MUHAMMAD KHAN\", \"natnlty\": \"Pakistan,Saudi Arabia\", \"linksTo\": [\"QDe.004\"], \"links\": [{\"source\": \"QDi.306\", \"target\": \"QDe.004\"}]}, {\"DATAID\": \"2983834\", \"linkCount\": 2, \"narrativeFileName\": \"TBD\", \"REFERENCE_NUMBER\": \"QDi.307\", \"id\": \"QDi.307\", \"name\": \"HAFIZ ABDUL SALAM BHUTTAVI\", \"natnlty\": \"Pakistan\", \"linksTo\": [\"QDe.118\", \"QDi.263\"], \"links\": [{\"source\": \"QDi.307\", \"target\": \"QDe.118\"}, {\"source\": \"QDi.307\", \"target\": \"QDi.263\"}]}, {\"DATAID\": \"2983973\", \"linkCount\": 1, \"narrativeFileName\": \"TBD\", \"REFERENCE_NUMBER\": \"QDi.308\", \"id\": \"QDi.308\", \"name\": \"ZAFAR IQBAL\", \"natnlty\": \"Pakistan\", \"linksTo\": [\"QDe.118\"], \"links\": [{\"source\": \"QDi.308\", \"target\": \"QDe.118\"}]}, {\"DATAID\": \"2983651\", \"linkCount\": 4, \"narrativeFileName\": \"TBD\", \"REFERENCE_NUMBER\": \"QDi.309\", \"id\": \"QDi.309\", \"name\": \"ABDUR REHMAN\", \"natnlty\": \"Pakistan\", \"linksTo\": [\"QDe.004\", \"QDe.130\", \"QDe.019\", \"QDe.121\"], \"links\": [{\"source\": \"QDi.309\", \"target\": \"QDe.004\"}, {\"source\": \"QDi.309\", \"target\": \"QDe.130\"}, {\"source\": \"QDi.309\", \"target\": \"QDe.019\"}, {\"source\": \"QDi.309\", \"target\": \"QDe.121\"}]}, {\"DATAID\": \"2999481\", \"linkCount\": 2, \"narrativeFileName\": \"TBD\", \"REFERENCE_NUMBER\": \"QDi.311\", \"id\": \"QDi.311\", \"name\": \"AYYUB BASHIR\", \"natnlty\": \"Uzbekistan,Afghanistan\", \"linksTo\": [\"QDe.010\", \"QDi.303\"], \"links\": [{\"source\": \"QDi.311\", \"target\": \"QDe.010\"}, {\"source\": \"QDi.311\", \"target\": \"QDi.303\"}]}, {\"DATAID\": \"2999482\", \"linkCount\": 1, \"narrativeFileName\": \"TBD\", \"REFERENCE_NUMBER\": \"QDi.312\", \"id\": \"QDi.312\", \"name\": \"AAMIR ALI CHAUDHRY\", \"natnlty\": \"Pakistan\", \"linksTo\": [\"QDe.132\"], \"links\": [{\"source\": \"QDi.312\", \"target\": \"QDe.132\"}]}, {\"DATAID\": \"3002734\", \"linkCount\": 1, \"narrativeFileName\": \"TBD\", \"REFERENCE_NUMBER\": \"QDi.313\", \"id\": \"QDi.313\", \"name\": \"DJAMEL AKKACHA\", \"natnlty\": \"Algeria\", \"linksTo\": [\"QDe.014\"], \"links\": [{\"source\": \"QDi.313\", \"target\": \"QDe.014\"}]}, {\"DATAID\": \"3012888\", \"linkCount\": 3, \"narrativeFileName\": \"TBD\", \"REFERENCE_NUMBER\": \"QDi.314\", \"id\": \"QDi.314\", \"name\": \"ABDERRAHMANE OULD EL AMAR\", \"natnlty\": \"Mali\", \"linksTo\": [\"QDe.134\", \"QDe.014\", \"QDi.136\"], \"links\": [{\"source\": \"QDi.314\", \"target\": \"QDe.134\"}, {\"source\": \"QDi.314\", \"target\": \"QDe.014\"}, {\"source\": \"QDi.314\", \"target\": \"QDi.136\"}]}, {\"DATAID\": \"3013119\", \"linkCount\": 2, \"narrativeFileName\": \"TBD\", \"REFERENCE_NUMBER\": \"QDi.315\", \"id\": \"QDi.315\", \"name\": \"HAMADA OULD MOHAMED EL KHAIRY\", \"natnlty\": \"Mauritania,Mali\", \"linksTo\": [\"QDe.134\", \"QDe.014\"], \"links\": [{\"source\": \"QDi.315\", \"target\": \"QDe.134\"}, {\"source\": \"QDi.315\", \"target\": \"QDe.014\"}]}, {\"DATAID\": \"3012677\", \"linkCount\": 4, \"narrativeFileName\": \"TBD\", \"REFERENCE_NUMBER\": \"QDi.316\", \"id\": \"QDi.316\", \"name\": \"IYAD AG GHALI\", \"natnlty\": \"Mali\", \"linksTo\": [\"QDe.135\", \"QDe.014\", \"QDe.134\"], \"links\": [{\"source\": \"QDi.316\", \"target\": \"QDe.135\"}, {\"source\": \"QDi.316\", \"target\": \"QDe.014\"}, {\"source\": \"QDi.316\", \"target\": \"QDe.134\"}]}, {\"DATAID\": \"3020633\", \"linkCount\": 6, \"narrativeFileName\": \"TBD\", \"REFERENCE_NUMBER\": \"QDi.317\", \"id\": \"QDi.317\", \"name\": \"ABU MOHAMMED AL-JAWLANI\", \"natnlty\": \"Syrian Arab Republic\", \"linksTo\": [\"QDe.137\", \"QDe.115\", \"QDi.006\"], \"links\": [{\"source\": \"QDi.317\", \"target\": \"QDe.137\"}, {\"source\": \"QDi.317\", \"target\": \"QDe.115\"}, {\"source\": \"QDi.317\", \"target\": \"QDi.006\"}]}, {\"DATAID\": \"3026942\", \"linkCount\": 7, \"narrativeFileName\": \"TBD\", \"REFERENCE_NUMBER\": \"QDi.318\", \"id\": \"QDi.318\", \"name\": \"MUHAMMAD JAMAL ABD-AL RAHIM AHMAD AL-KASHIF\", \"natnlty\": \"Egypt\", \"linksTo\": [\"QDe.004\", \"QDe.003\", \"QDe.136\", \"QDe.129\", \"QDi.006\", \"QDe.014\"], \"links\": [{\"source\": \"QDi.318\", \"target\": \"QDe.004\"}, {\"source\": \"QDi.318\", \"target\": \"QDe.003\"}, {\"source\": \"QDi.318\", \"target\": \"QDe.136\"}, {\"source\": \"QDi.318\", \"target\": \"QDe.129\"}, {\"source\": \"QDi.318\", \"target\": \"QDi.006\"}, {\"source\": \"QDi.318\", \"target\": \"QDe.014\"}]}, {\"DATAID\": \"3026710\", \"linkCount\": 1, \"narrativeFileName\": \"TBD\", \"REFERENCE_NUMBER\": \"QDi.319\", \"id\": \"QDi.319\", \"name\": \"MOHAMED LAHBOUS\", \"natnlty\": \"Mali\", \"linksTo\": [\"QDe.134\"], \"links\": [{\"source\": \"QDi.319\", \"target\": \"QDe.134\"}]}, {\"DATAID\": \"3029127\", \"linkCount\": 0, \"narrativeFileName\": \"TBD\", \"REFERENCE_NUMBER\": \"QDi.320\", \"id\": \"QDi.320\", \"name\": \"ABD-AL-HAMID AL-MASLI\", \"natnlty\": \"Libya\", \"linksTo\": [], \"links\": []}, {\"DATAID\": \"6908425\", \"linkCount\": 2, \"narrativeFileName\": \"TBD\", \"REFERENCE_NUMBER\": \"QDi.322\", \"id\": \"QDi.322\", \"name\": \"ABUBAKAR MOHAMMED SHEKAU\", \"natnlty\": \"Nigeria\", \"linksTo\": [\"QDe.138\"], \"links\": [{\"source\": \"QDi.322\", \"target\": \"QDe.138\"}]}, {\"DATAID\": \"6908423\", \"linkCount\": 1, \"narrativeFileName\": \"TBD\", \"REFERENCE_NUMBER\": \"QDi.323\", \"id\": \"QDi.323\", \"name\": \"SAID ARIF\", \"natnlty\": \"Algeria\", \"linksTo\": [\"QDe.137\"], \"links\": [{\"source\": \"QDi.323\", \"target\": \"QDe.137\"}]}, {\"DATAID\": \"6908400\", \"linkCount\": 2, \"narrativeFileName\": \"TBD\", \"REFERENCE_NUMBER\": \"QDi.324\", \"id\": \"QDi.324\", \"name\": \"ABDUL MOHSEN ABDALLAH IBRAHIM AL CHAREKH\", \"natnlty\": \"Saudi Arabia\", \"linksTo\": [\"QDe.004\", \"QDe.137\"], \"links\": [{\"source\": \"QDi.324\", \"target\": \"QDe.004\"}, {\"source\": \"QDi.324\", \"target\": \"QDe.137\"}]}, {\"DATAID\": \"6908395\", \"linkCount\": 3, \"narrativeFileName\": \"TBD\", \"REFERENCE_NUMBER\": \"QDi.325\", \"id\": \"QDi.325\", \"name\": \"ABOU MOHAMED AL ADNANI\", \"natnlty\": \"Iraq\", \"linksTo\": [\"QDe.115\", \"QDi.317\", \"QDi.299\"], \"links\": [{\"source\": \"QDi.325\", \"target\": \"QDe.115\"}, {\"source\": \"QDi.325\", \"target\": \"QDi.317\"}, {\"source\": \"QDi.325\", \"target\": \"QDi.299\"}]}, {\"DATAID\": \"6908398\", \"linkCount\": 4, \"narrativeFileName\": \"TBD\", \"REFERENCE_NUMBER\": \"QDi.326\", \"id\": \"QDi.326\", \"name\": \"HAMID HAMAD HAMID AL-‘ALI\", \"natnlty\": \"Kuwait\", \"linksTo\": [\"QDe.115\", \"QDe.137\", \"QDi.299\", \"QDi.317\"], \"links\": [{\"source\": \"QDi.326\", \"target\": \"QDe.115\"}, {\"source\": \"QDi.326\", \"target\": \"QDe.137\"}, {\"source\": \"QDi.326\", \"target\": \"QDi.299\"}, {\"source\": \"QDi.326\", \"target\": \"QDi.317\"}]}, {\"DATAID\": \"6908424\", \"linkCount\": 1, \"narrativeFileName\": \"TBD\", \"REFERENCE_NUMBER\": \"QDi.327\", \"id\": \"QDi.327\", \"name\": \"ABDELRAHMAN MOUHAMAD ZAFIR AL DABIDI AL JAHANI\", \"natnlty\": \"Saudi Arabia\", \"linksTo\": [\"QDe.137\"], \"links\": [{\"source\": \"QDi.327\", \"target\": \"QDe.137\"}]}, {\"DATAID\": \"6908396\", \"linkCount\": 1, \"narrativeFileName\": \"TBD\", \"REFERENCE_NUMBER\": \"QDi.328\", \"id\": \"QDi.328\", \"name\": \"HAJJAJ BIN FAHD AL AJMI\", \"natnlty\": \"Kuwait\", \"linksTo\": [\"QDe.137\"], \"links\": [{\"source\": \"QDi.328\", \"target\": \"QDe.137\"}]}, {\"DATAID\": \"6908407\", \"linkCount\": 1, \"narrativeFileName\": \"TBD\", \"REFERENCE_NUMBER\": \"QDi.329\", \"id\": \"QDi.329\", \"name\": \"AHMED ABDULLAH SALEH AL-KHAZMARI AL-ZAHRANI\", \"natnlty\": \"Saudi Arabia\", \"linksTo\": [\"QDe.004\"], \"links\": [{\"source\": \"QDi.329\", \"target\": \"QDe.004\"}]}, {\"DATAID\": \"6908408\", \"linkCount\": 1, \"narrativeFileName\": \"TBD\", \"REFERENCE_NUMBER\": \"QDi.330\", \"id\": \"QDi.330\", \"name\": \"AZZAM ABDULLAH ZUREIK AL-MAULID AL-SUBHI\", \"natnlty\": \"Saudi Arabia\", \"linksTo\": [\"QDe.004\"], \"links\": [{\"source\": \"QDi.330\", \"target\": \"QDe.004\"}]}, {\"DATAID\": \"6908411\", \"linkCount\": 1, \"narrativeFileName\": \"TBD\", \"REFERENCE_NUMBER\": \"QDi.331\", \"id\": \"QDi.331\", \"name\": \"ANDERS CAMEROON OSTENSVIG DALE\", \"natnlty\": \"Norway\", \"linksTo\": [\"QDe.129\"], \"links\": [{\"source\": \"QDi.331\", \"target\": \"QDe.129\"}]}, {\"DATAID\": \"6908401\", \"linkCount\": 1, \"narrativeFileName\": \"TBD\", \"REFERENCE_NUMBER\": \"QDi.332\", \"id\": \"QDi.332\", \"name\": \"IBRAHIM SULEIMAN HAMAD AL-HABLAIN\", \"natnlty\": \"Saudi Arabia\", \"linksTo\": [\"QDe.144\"], \"links\": [{\"source\": \"QDi.332\", \"target\": \"QDe.144\"}]}, {\"DATAID\": \"6908413\", \"linkCount\": 3, \"narrativeFileName\": \"TBD\", \"REFERENCE_NUMBER\": \"QDi.333\", \"id\": \"QDi.333\", \"name\": \"SEIFALLAH BEN OMAR BEN MOHAMED BEN HASSINE\", \"natnlty\": \"Tunisia\", \"linksTo\": [\"QDe.090\", \"QDe.143\"], \"links\": [{\"source\": \"QDi.333\", \"target\": \"QDe.090\"}, {\"source\": \"QDi.333\", \"target\": \"QDe.143\"}]}, {\"DATAID\": \"6908414\", \"linkCount\": 2, \"narrativeFileName\": \"TBD\", \"REFERENCE_NUMBER\": \"QDi.334\", \"id\": \"QDi.334\", \"name\": \"‘ABD AL-RAHMAN BIN ‘UMAYR AL-NU’AYMI\", \"natnlty\": \"Qatar\", \"linksTo\": [\"QDe.004\", \"QDe.115\"], \"links\": [{\"source\": \"QDi.334\", \"target\": \"QDe.004\"}, {\"source\": \"QDi.334\", \"target\": \"QDe.115\"}]}, {\"DATAID\": \"6908399\", \"linkCount\": 2, \"narrativeFileName\": \"TBD\", \"REFERENCE_NUMBER\": \"QDi.335\", \"id\": \"QDi.335\", \"name\": \"‘ABD AL-RAHMAN KHALAF ‘UBAYD JUDAY’ AL-‘ANIZI\", \"natnlty\": \"Kuwait\", \"linksTo\": [\"QDe.004\", \"QDe.115\"], \"links\": [{\"source\": \"QDi.335\", \"target\": \"QDe.004\"}, {\"source\": \"QDi.335\", \"target\": \"QDe.115\"}]}, {\"DATAID\": \"6908416\", \"linkCount\": 1, \"narrativeFileName\": \"TBD\", \"REFERENCE_NUMBER\": \"QDi.336\", \"id\": \"QDi.336\", \"name\": \"ANAS HASAN KHATTAB\", \"natnlty\": \"Syrian Arab Republic\", \"linksTo\": [\"QDe.137\"], \"links\": [{\"source\": \"QDi.336\", \"target\": \"QDe.137\"}]}, {\"DATAID\": \"6908417\", \"linkCount\": 1, \"narrativeFileName\": \"TBD\", \"REFERENCE_NUMBER\": \"QDi.337\", \"id\": \"QDi.337\", \"name\": \"MAYSAR ALI MUSA ABDALLAH AL-JUBURI\", \"natnlty\": \"Iraq\", \"linksTo\": [\"QDe.137\"], \"links\": [{\"source\": \"QDi.337\", \"target\": \"QDe.137\"}]}, {\"DATAID\": \"6908397\", \"linkCount\": 1, \"narrativeFileName\": \"TBD\", \"REFERENCE_NUMBER\": \"QDi.338\", \"id\": \"QDi.338\", \"name\": \"SHAFI SULTAN MOHAMMED AL-AJMI\", \"natnlty\": \"Kuwait\", \"linksTo\": [\"QDe.137\"], \"links\": [{\"source\": \"QDi.338\", \"target\": \"QDe.137\"}]}, {\"DATAID\": \"6908419\", \"linkCount\": 2, \"narrativeFileName\": \"TBD\", \"REFERENCE_NUMBER\": \"QDi.339\", \"id\": \"QDi.339\", \"name\": \"‘ABD AL-RAHMAN MUHAMMAD MUSTAFA AL-QADULI\", \"natnlty\": \"Iraq\", \"linksTo\": [\"QDe.115\", \"QDe.004\"], \"links\": [{\"source\": \"QDi.339\", \"target\": \"QDe.115\"}, {\"source\": \"QDi.339\", \"target\": \"QDe.004\"}]}, {\"DATAID\": \"6908420\", \"linkCount\": 2, \"narrativeFileName\": \"TBD\", \"REFERENCE_NUMBER\": \"QDi.340\", \"id\": \"QDi.340\", \"name\": \"EMILIE EDWIGE KONIG\", \"natnlty\": \"France\", \"linksTo\": [\"QDe.115\", \"QDe.004\"], \"links\": [{\"source\": \"QDi.340\", \"target\": \"QDe.115\"}, {\"source\": \"QDi.340\", \"target\": \"QDe.004\"}]}, {\"DATAID\": \"6908421\", \"linkCount\": 2, \"narrativeFileName\": \"TBD\", \"REFERENCE_NUMBER\": \"QDi.341\", \"id\": \"QDi.341\", \"name\": \"KEVIN JORDAN AXEL GUIAVARCH\", \"natnlty\": \"France\", \"linksTo\": [\"QDe.137\", \"QDe.115\"], \"links\": [{\"source\": \"QDi.341\", \"target\": \"QDe.137\"}, {\"source\": \"QDi.341\", \"target\": \"QDe.115\"}]}, {\"DATAID\": \"6908422\", \"linkCount\": 1, \"narrativeFileName\": \"TBD\", \"REFERENCE_NUMBER\": \"QDi.342\", \"id\": \"QDi.342\", \"name\": \"OUMAR DIABY\", \"natnlty\": \"Senegal\", \"linksTo\": [\"QDe.137\"], \"links\": [{\"source\": \"QDi.342\", \"target\": \"QDe.137\"}]}, {\"DATAID\": \"6908440\", \"linkCount\": 3, \"narrativeFileName\": \"TBD\", \"REFERENCE_NUMBER\": \"QDi.343\", \"id\": \"QDi.343\", \"name\": \"ASHRAF MUHAMMAD YUSUF \\'UTHMAN \\'ABD AL-SALAM\", \"natnlty\": \"Jordan\", \"linksTo\": [\"QDe.004\", \"QDe.137\", \"QDe.115\"], \"links\": [{\"source\": \"QDi.343\", \"target\": \"QDe.004\"}, {\"source\": \"QDi.343\", \"target\": \"QDe.137\"}, {\"source\": \"QDi.343\", \"target\": \"QDe.115\"}]}, {\"DATAID\": \"6908441\", \"linkCount\": 1, \"narrativeFileName\": \"TBD\", \"REFERENCE_NUMBER\": \"QDi.344\", \"id\": \"QDi.344\", \"name\": \"IBRAHIM \\'ISA HAJJI MUHAMMAD AL-BAKR\", \"natnlty\": \"Qatar\", \"linksTo\": [\"QDe.004\"], \"links\": [{\"source\": \"QDi.344\", \"target\": \"QDe.004\"}]}, {\"DATAID\": \"6908442\", \"linkCount\": 1, \"narrativeFileName\": \"TBD\", \"REFERENCE_NUMBER\": \"QDi.345\", \"id\": \"QDi.345\", \"name\": \"TARKHAN TAYUMURAZOVICH BATIRASHVILI\", \"natnlty\": \"Georgia\", \"linksTo\": [\"QDe.115\"], \"links\": [{\"source\": \"QDi.345\", \"target\": \"QDe.115\"}]}, {\"DATAID\": \"6908445\", \"linkCount\": 2, \"narrativeFileName\": \"TBD\", \"REFERENCE_NUMBER\": \"QDi.348\", \"id\": \"QDi.348\", \"name\": \"ANGGA DIMAS PERSHADA\", \"natnlty\": \"Indonesia\", \"linksTo\": [\"QDe.092\", \"QDe.147\"], \"links\": [{\"source\": \"QDi.348\", \"target\": \"QDe.092\"}, {\"source\": \"QDi.348\", \"target\": \"QDe.147\"}]}, {\"DATAID\": \"6908446\", \"linkCount\": 2, \"narrativeFileName\": \"TBD\", \"REFERENCE_NUMBER\": \"QDi.349\", \"id\": \"QDi.349\", \"name\": \"BAMBANG SUKIRNO\", \"natnlty\": \"Indonesia\", \"linksTo\": [\"QDe.092\", \"QDe.147\"], \"links\": [{\"source\": \"QDi.349\", \"target\": \"QDe.092\"}, {\"source\": \"QDi.349\", \"target\": \"QDe.147\"}]}, {\"DATAID\": \"6908447\", \"linkCount\": 2, \"narrativeFileName\": \"TBD\", \"REFERENCE_NUMBER\": \"QDi.350\", \"id\": \"QDi.350\", \"name\": \"WIJI JOKO SANTOSO\", \"natnlty\": \"Indonesia\", \"linksTo\": [\"QDe.092\", \"QDe.147\"], \"links\": [{\"source\": \"QDi.350\", \"target\": \"QDe.092\"}, {\"source\": \"QDi.350\", \"target\": \"QDe.147\"}]}, {\"DATAID\": \"6908452\", \"linkCount\": 3, \"narrativeFileName\": \"TBD\", \"REFERENCE_NUMBER\": \"QDi.352\", \"id\": \"QDi.352\", \"name\": \"MAULANA FAZLULLAH\", \"natnlty\": \"None reported\", \"linksTo\": [\"QDe.132\"], \"links\": [{\"source\": \"QDi.352\", \"target\": \"QDe.132\"}]}, {\"DATAID\": \"6908453\", \"linkCount\": 1, \"narrativeFileName\": \"TBD\", \"REFERENCE_NUMBER\": \"QDi.353\", \"id\": \"QDi.353\", \"name\": \"ALI BEN TAHER BEN FALEH OUNI HARZI\", \"natnlty\": \"Tunisia\", \"linksTo\": [\"QDe.143\"], \"links\": [{\"source\": \"QDi.353\", \"target\": \"QDe.143\"}]}, {\"DATAID\": \"6908454\", \"linkCount\": 2, \"narrativeFileName\": \"TBD\", \"REFERENCE_NUMBER\": \"QDi.354\", \"id\": \"QDi.354\", \"name\": \"TARAK BEN TAHER BEN FALEH OUNI HARZI\", \"natnlty\": \"Tunisia\", \"linksTo\": [\"QDe.115\", \"QDe.143\"], \"links\": [{\"source\": \"QDi.354\", \"target\": \"QDe.115\"}, {\"source\": \"QDi.354\", \"target\": \"QDe.143\"}]}, {\"DATAID\": \"6908468\", \"linkCount\": 1, \"narrativeFileName\": \"TBD\", \"REFERENCE_NUMBER\": \"QDi.355\", \"id\": \"QDi.355\", \"name\": \"SOFIANE BEN GOUMO\", \"natnlty\": \"Libya\", \"linksTo\": [\"QDe.145\"], \"links\": [{\"source\": \"QDi.355\", \"target\": \"QDe.145\"}]}, {\"DATAID\": \"6908473\", \"linkCount\": 1, \"narrativeFileName\": \"TBD\", \"REFERENCE_NUMBER\": \"QDi.356\", \"id\": \"QDi.356\", \"name\": \"AQSA MAHMOOD\", \"natnlty\": \"United Kingdom of Great Britain and Northern Ireland\", \"linksTo\": [\"QDe.115\"], \"links\": [{\"source\": \"QDi.356\", \"target\": \"QDe.115\"}]}, {\"DATAID\": \"6908484\", \"linkCount\": 1, \"narrativeFileName\": \"TBD\", \"REFERENCE_NUMBER\": \"QDi.357\", \"id\": \"QDi.357\", \"name\": \"ASEEL MUTHANA\", \"natnlty\": \"United Kingdom of Great Britain and Northern Ireland\", \"linksTo\": [\"QDe.115\"], \"links\": [{\"source\": \"QDi.357\", \"target\": \"QDe.115\"}]}, {\"DATAID\": \"6908474\", \"linkCount\": 1, \"narrativeFileName\": \"TBD\", \"REFERENCE_NUMBER\": \"QDi.358\", \"id\": \"QDi.358\", \"name\": \"NASSER AHMED MUTHANA\", \"natnlty\": \"United Kingdom of Great Britain and Northern Ireland\", \"linksTo\": [\"QDe.115\"], \"links\": [{\"source\": \"QDi.358\", \"target\": \"QDe.115\"}]}, {\"DATAID\": \"6908475\", \"linkCount\": 1, \"narrativeFileName\": \"TBD\", \"REFERENCE_NUMBER\": \"QDi.359\", \"id\": \"QDi.359\", \"name\": \"OMAR ALI HUSSAIN\", \"natnlty\": \"United Kingdom of Great Britain and Northern Ireland\", \"linksTo\": [\"QDe.115\"], \"links\": [{\"source\": \"QDi.359\", \"target\": \"QDe.115\"}]}, {\"DATAID\": \"6908476\", \"linkCount\": 1, \"narrativeFileName\": \"TBD\", \"REFERENCE_NUMBER\": \"QDi.360\", \"id\": \"QDi.360\", \"name\": \"SALLY-ANNE FRANCES JONES\", \"natnlty\": \"United Kingdom of Great Britain and Northern Ireland\", \"linksTo\": [\"QDe.115\"], \"links\": [{\"source\": \"QDi.360\", \"target\": \"QDe.115\"}]}, {\"DATAID\": \"6908477\", \"linkCount\": 1, \"narrativeFileName\": \"TBD\", \"REFERENCE_NUMBER\": \"QDi.361\", \"id\": \"QDi.361\", \"name\": \"AMRU AL-ABSI\", \"natnlty\": \"None reported\", \"linksTo\": [\"QDe.115\"], \"links\": [{\"source\": \"QDi.361\", \"target\": \"QDe.115\"}]}, {\"DATAID\": \"6908487\", \"linkCount\": 1, \"narrativeFileName\": \"TBD\", \"REFERENCE_NUMBER\": \"QDi.363\", \"id\": \"QDi.363\", \"name\": \"MAGHOMED MAGHOMEDZAKIROVICH ABDURAKHMANOV\", \"natnlty\": \"Russian Federation\", \"linksTo\": [\"QDe.115\"], \"links\": [{\"source\": \"QDi.363\", \"target\": \"QDe.115\"}]}, {\"DATAID\": \"6908488\", \"linkCount\": 1, \"narrativeFileName\": \"TBD\", \"REFERENCE_NUMBER\": \"QDi.364\", \"id\": \"QDi.364\", \"name\": \"ISLAM SEIT-UMAROVICH ATABIEV\", \"natnlty\": \"Russian Federation\", \"linksTo\": [\"QDe.115\"], \"links\": [{\"source\": \"QDi.364\", \"target\": \"QDe.115\"}]}, {\"DATAID\": \"6908489\", \"linkCount\": 1, \"narrativeFileName\": \"TBD\", \"REFERENCE_NUMBER\": \"QDi.365\", \"id\": \"QDi.365\", \"name\": \"AKHMED RAJAPOVICH CHATAEV\", \"natnlty\": \"Russian Federation\", \"linksTo\": [\"QDe.115\"], \"links\": [{\"source\": \"QDi.365\", \"target\": \"QDe.115\"}]}, {\"DATAID\": \"6908490\", \"linkCount\": 1, \"narrativeFileName\": \"TBD\", \"REFERENCE_NUMBER\": \"QDi.366\", \"id\": \"QDi.366\", \"name\": \"TARKHAN ISMAILOVICH GAZIEV\", \"natnlty\": \"Russian Federation\", \"linksTo\": [\"QDe.115\"], \"links\": [{\"source\": \"QDi.366\", \"target\": \"QDe.115\"}]}, {\"DATAID\": \"6908492\", \"linkCount\": 1, \"narrativeFileName\": \"TBD\", \"REFERENCE_NUMBER\": \"QDi.367\", \"id\": \"QDi.367\", \"name\": \"ZAURBEK SALIMOVICH GUCHAEV\", \"natnlty\": \"Russian Federation\", \"linksTo\": [\"QDe.148\"], \"links\": [{\"source\": \"QDi.367\", \"target\": \"QDe.148\"}]}, {\"DATAID\": \"6908493\", \"linkCount\": 1, \"narrativeFileName\": \"TBD\", \"REFERENCE_NUMBER\": \"QDi.368\", \"id\": \"QDi.368\", \"name\": \"SHAMIL MAGOMEDOVICH ISMAILOV\", \"natnlty\": \"Russian Federation\", \"linksTo\": [\"QDe.137\"], \"links\": [{\"source\": \"QDi.368\", \"target\": \"QDe.137\"}]}, {\"DATAID\": \"6908478\", \"linkCount\": 2, \"narrativeFileName\": \"TBD\", \"REFERENCE_NUMBER\": \"QDi.369\", \"id\": \"QDi.369\", \"name\": \"MU’TASSIM YAHYA ‘ALI AL-RUMAYSH\", \"natnlty\": \"Yemen\", \"linksTo\": [\"QDe.115\", \"QDe.129\"], \"links\": [{\"source\": \"QDi.369\", \"target\": \"QDe.115\"}, {\"source\": \"QDi.369\", \"target\": \"QDe.129\"}]}, {\"DATAID\": \"6908479\", \"linkCount\": 1, \"narrativeFileName\": \"TBD\", \"REFERENCE_NUMBER\": \"QDi.370\", \"id\": \"QDi.370\", \"name\": \"TARAD MOHAMMAD Alnori Alfares ALJARBA\", \"natnlty\": \"Saudi Arabia\", \"linksTo\": [\"QDe.115\"], \"links\": [{\"source\": \"QDi.370\", \"target\": \"QDe.115\"}]}, {\"DATAID\": \"6908525\", \"linkCount\": 2, \"narrativeFileName\": \"TBD\", \"REFERENCE_NUMBER\": \"QDi.371\", \"id\": \"QDi.371\", \"name\": \"ABD AL-BASET AZZOUZ\", \"natnlty\": \"Libya\", \"linksTo\": [\"QDe.004\", \"QDi.006\"], \"links\": [{\"source\": \"QDi.371\", \"target\": \"QDe.004\"}, {\"source\": \"QDi.371\", \"target\": \"QDi.006\"}]}, {\"DATAID\": \"6908527\", \"linkCount\": 1, \"narrativeFileName\": \"TBD\", \"REFERENCE_NUMBER\": \"QDi.372\", \"id\": \"QDi.372\", \"name\": \"GULMUROD KHALIMOV\", \"natnlty\": \"Tajikistan\", \"linksTo\": [\"QDe.115\"], \"links\": [{\"source\": \"QDi.372\", \"target\": \"QDe.115\"}]}, {\"DATAID\": \"6908529\", \"linkCount\": 1, \"narrativeFileName\": \"TBD\", \"REFERENCE_NUMBER\": \"QDi.374\", \"id\": \"QDi.374\", \"name\": \"NUSRET IMAMOVIC\", \"natnlty\": \"Bosnia and Herzegovina\", \"linksTo\": [\"QDe.137\"], \"links\": [{\"source\": \"QDi.374\", \"target\": \"QDe.137\"}]}, {\"DATAID\": \"6908481\", \"linkCount\": 1, \"narrativeFileName\": \"TBD\", \"REFERENCE_NUMBER\": \"QDi.375\", \"id\": \"QDi.375\", \"name\": \"BOUBAKER BEN HABIB BEN AL-HAKIM\", \"natnlty\": \"France,Tunisia\", \"linksTo\": [\"QDe.115\"], \"links\": [{\"source\": \"QDi.375\", \"target\": \"QDe.115\"}]}, {\"DATAID\": \"6908482\", \"linkCount\": 1, \"narrativeFileName\": \"TBD\", \"REFERENCE_NUMBER\": \"QDi.376\", \"id\": \"QDi.376\", \"name\": \"PETER CHERIF\", \"natnlty\": \"France\", \"linksTo\": [\"QDe.129\"], \"links\": [{\"source\": \"QDi.376\", \"target\": \"QDe.129\"}]}, {\"DATAID\": \"6908530\", \"linkCount\": 1, \"narrativeFileName\": \"TBD\", \"REFERENCE_NUMBER\": \"QDi.377\", \"id\": \"QDi.377\", \"name\": \"MUHANNAD AL-NAJDI\", \"natnlty\": \"Saudi Arabia\", \"linksTo\": [\"QDe.004\"], \"links\": [{\"source\": \"QDi.377\", \"target\": \"QDe.004\"}]}, {\"DATAID\": \"6908483\", \"linkCount\": 1, \"narrativeFileName\": \"TBD\", \"REFERENCE_NUMBER\": \"QDi.378\", \"id\": \"QDi.378\", \"name\": \"MAXIME HAUCHARD\", \"natnlty\": \"France\", \"linksTo\": [\"QDe.115\"], \"links\": [{\"source\": \"QDi.378\", \"target\": \"QDe.115\"}]}, {\"DATAID\": \"6908470\", \"linkCount\": 1, \"narrativeFileName\": \"TBD\", \"REFERENCE_NUMBER\": \"QDi.380\", \"id\": \"QDi.380\", \"name\": \"ABD AL-LATIF BIN ABDALLAH SALIH MUHAMMAD AL-KAWARI\", \"natnlty\": \"Qatar\", \"linksTo\": [\"QDe.004\"], \"links\": [{\"source\": \"QDi.380\", \"target\": \"QDe.004\"}]}, {\"DATAID\": \"6908472\", \"linkCount\": 1, \"narrativeFileName\": \"TBD\", \"REFERENCE_NUMBER\": \"QDi.382\", \"id\": \"QDi.382\", \"name\": \"SA\\'D BIN SA\\'D MUHAMMAD SHARIYAN AL-KA\\'BI\", \"natnlty\": \"Qatar\", \"linksTo\": [\"QDe.137\"], \"links\": [{\"source\": \"QDi.382\", \"target\": \"QDe.137\"}]}, {\"DATAID\": \"6908531\", \"linkCount\": 1, \"narrativeFileName\": \"TBD\", \"REFERENCE_NUMBER\": \"QDi.383\", \"id\": \"QDi.383\", \"name\": \"MORAD LAABOUDI\", \"natnlty\": \"Morocco\", \"linksTo\": [\"QDe.115\"], \"links\": [{\"source\": \"QDi.383\", \"target\": \"QDe.115\"}]}, {\"DATAID\": \"6908532\", \"linkCount\": 1, \"narrativeFileName\": \"TBD\", \"REFERENCE_NUMBER\": \"QDi.384\", \"id\": \"QDi.384\", \"name\": \"ALI MUSA AL-SHAWAKH\", \"natnlty\": \"Syrian Arab Republic\", \"linksTo\": [\"QDe.115\"], \"links\": [{\"source\": \"QDi.384\", \"target\": \"QDe.115\"}]}, {\"DATAID\": \"6908533\", \"linkCount\": 1, \"narrativeFileName\": \"TBD\", \"REFERENCE_NUMBER\": \"QDi.385\", \"id\": \"QDi.385\", \"name\": \"HASAN AL-SALAHAYN SALIH AL-SHA’ARI\", \"natnlty\": \"Libya\", \"linksTo\": [\"QDe.115\"], \"links\": [{\"source\": \"QDi.385\", \"target\": \"QDe.115\"}]}, {\"DATAID\": \"6908534\", \"linkCount\": 2, \"narrativeFileName\": \"TBD\", \"REFERENCE_NUMBER\": \"QDi.386\", \"id\": \"QDi.386\", \"name\": \"MOUNIR BEN DHAOU BEN BRAHIM BEN HELAL\", \"natnlty\": \"Tunisia\", \"linksTo\": [\"QDe.014\", \"QDe.115\"], \"links\": [{\"source\": \"QDi.386\", \"target\": \"QDe.014\"}, {\"source\": \"QDi.386\", \"target\": \"QDe.115\"}]}, {\"DATAID\": \"6908535\", \"linkCount\": 1, \"narrativeFileName\": \"TBD\", \"REFERENCE_NUMBER\": \"QDi.387\", \"id\": \"QDi.387\", \"name\": \"MOHAMMED ABDEL-HALIM HEMAIDA SALEH\", \"natnlty\": \"Egypt\", \"linksTo\": [\"QDe.004\"], \"links\": [{\"source\": \"QDi.387\", \"target\": \"QDe.004\"}]}, {\"DATAID\": \"6908536\", \"linkCount\": 1, \"narrativeFileName\": \"TBD\", \"REFERENCE_NUMBER\": \"QDi.388\", \"id\": \"QDi.388\", \"name\": \"SALIM BENGHALEM\", \"natnlty\": \"France\", \"linksTo\": [\"QDe.115\"], \"links\": [{\"source\": \"QDi.388\", \"target\": \"QDe.115\"}]}, {\"DATAID\": \"6908537\", \"linkCount\": 1, \"narrativeFileName\": \"TBD\", \"REFERENCE_NUMBER\": \"QDi.389\", \"id\": \"QDi.389\", \"name\": \"ABU UBAYDAH YUSUF AL-ANABI\", \"natnlty\": \"Algeria\", \"linksTo\": [\"QDe.014\"], \"links\": [{\"source\": \"QDi.389\", \"target\": \"QDe.014\"}]}, {\"DATAID\": \"6908542\", \"linkCount\": 1, \"narrativeFileName\": \"TBD\", \"REFERENCE_NUMBER\": \"QDi.392\", \"id\": \"QDi.392\", \"name\": \"FAYSAL AHMAD BIN ALI AL-ZAHRANI\", \"natnlty\": \"Saudi Arabia\", \"linksTo\": [\"QDe.115\"], \"links\": [{\"source\": \"QDi.392\", \"target\": \"QDe.115\"}]}, {\"DATAID\": \"6908544\", \"linkCount\": 2, \"narrativeFileName\": \"TBD\", \"REFERENCE_NUMBER\": \"QDi.394\", \"id\": \"QDi.394\", \"name\": \"HUSAYN JUAYTHINI\", \"natnlty\": \"State of Palestine\", \"linksTo\": [\"QDe.115\", \"QDi.299\"], \"links\": [{\"source\": \"QDi.394\", \"target\": \"QDe.115\"}, {\"source\": \"QDi.394\", \"target\": \"QDi.299\"}]}, {\"DATAID\": \"6908545\", \"linkCount\": 2, \"narrativeFileName\": \"TBD\", \"REFERENCE_NUMBER\": \"QDi.395\", \"id\": \"QDi.395\", \"name\": \"MUHAMMAD SHOLEH IBRAHIM\", \"natnlty\": \"Indonesia\", \"linksTo\": [\"QDe.133\", \"QDe.115\"], \"links\": [{\"source\": \"QDi.395\", \"target\": \"QDe.133\"}, {\"source\": \"QDi.395\", \"target\": \"QDe.115\"}]}, {\"DATAID\": \"6908547\", \"linkCount\": 1, \"narrativeFileName\": \"TBD\", \"REFERENCE_NUMBER\": \"QDi.396\", \"id\": \"QDi.396\", \"name\": \"ASLAN AVGAZAROVICH BYUTUKAEV\", \"natnlty\": \"Russian Federation\", \"linksTo\": [\"QDe.100\"], \"links\": [{\"source\": \"QDi.396\", \"target\": \"QDe.100\"}]}, {\"DATAID\": \"6908548\", \"linkCount\": 1, \"narrativeFileName\": \"TBD\", \"REFERENCE_NUMBER\": \"QDi.397\", \"id\": \"QDi.397\", \"name\": \"AYRAT NASIMOVICH VAKHITOV\", \"natnlty\": \"Russian Federation\", \"linksTo\": [\"QDe.137\"], \"links\": [{\"source\": \"QDi.397\", \"target\": \"QDe.137\"}]}, {\"DATAID\": \"6908574\", \"linkCount\": 0, \"narrativeFileName\": \"TBD\", \"REFERENCE_NUMBER\": \"QDi.398\", \"id\": \"QDi.398\", \"name\": \"RUSTAM MAGOMEDOVICH ASELDEROV\", \"natnlty\": \"Russian Federation\", \"linksTo\": [], \"links\": []}, {\"DATAID\": \"6908575\", \"linkCount\": 1, \"narrativeFileName\": \"TBD\", \"REFERENCE_NUMBER\": \"QDi.399\", \"id\": \"QDi.399\", \"name\": \"BASSAM AHMAD AL-HASRI\", \"natnlty\": \"Syrian Arab Republic,State of Palestine\", \"linksTo\": [\"QDe.137\"], \"links\": [{\"source\": \"QDi.399\", \"target\": \"QDe.137\"}]}, {\"DATAID\": \"6908576\", \"linkCount\": 1, \"narrativeFileName\": \"TBD\", \"REFERENCE_NUMBER\": \"QDi.400\", \"id\": \"QDi.400\", \"name\": \"IYAD NAZMI SALIH KHALIL\", \"natnlty\": \"Jordan\", \"linksTo\": [\"QDe.137\"], \"links\": [{\"source\": \"QDi.400\", \"target\": \"QDe.137\"}]}, {\"DATAID\": \"6908577\", \"linkCount\": 1, \"narrativeFileName\": \"TBD\", \"REFERENCE_NUMBER\": \"QDi.401\", \"id\": \"QDi.401\", \"name\": \"GHALIB ABDULLAH AL-ZAIDI\", \"natnlty\": \"Yemen\", \"linksTo\": [\"QDe.129\"], \"links\": [{\"source\": \"QDi.401\", \"target\": \"QDe.129\"}]}, {\"DATAID\": \"6908598\", \"linkCount\": 1, \"narrativeFileName\": \"TBD\", \"REFERENCE_NUMBER\": \"QDi.403\", \"id\": \"QDi.403\", \"name\": \"FARED SAAL\", \"natnlty\": \"Germany,Algeria\", \"linksTo\": [\"QDe.115\"], \"links\": [{\"source\": \"QDi.403\", \"target\": \"QDe.115\"}]}, {\"DATAID\": \"6908600\", \"linkCount\": 1, \"narrativeFileName\": \"TBD\", \"REFERENCE_NUMBER\": \"QDi.404\", \"id\": \"QDi.404\", \"name\": \"MUHAMMAD BAHRUM NAIM ANGGIH TAMTOMO\", \"natnlty\": \"Indonesia\", \"linksTo\": [\"QDe.115\"], \"links\": [{\"source\": \"QDi.404\", \"target\": \"QDe.115\"}]}, {\"DATAID\": \"6908601\", \"linkCount\": 1, \"narrativeFileName\": \"TBD\", \"REFERENCE_NUMBER\": \"QDi.405\", \"id\": \"QDi.405\", \"name\": \"Malik Ruslanovich Barkhanoev\", \"natnlty\": \"Russian Federation\", \"linksTo\": [\"QDe.115\"], \"links\": [{\"source\": \"QDi.405\", \"target\": \"QDe.115\"}]}, {\"DATAID\": \"6908602\", \"linkCount\": 1, \"narrativeFileName\": \"TBD\", \"REFERENCE_NUMBER\": \"QDi.406\", \"id\": \"QDi.406\", \"name\": \"Murad Iraklievich Margoshvili\", \"natnlty\": \"Russian Federation,Georgia\", \"linksTo\": [\"QDe.137\"], \"links\": [{\"source\": \"QDi.406\", \"target\": \"QDe.137\"}]}, {\"DATAID\": \"6908603\", \"linkCount\": 1, \"narrativeFileName\": \"TBD\", \"REFERENCE_NUMBER\": \"QDi.407\", \"id\": \"QDi.407\", \"name\": \"OMAN ROCHMAN\", \"natnlty\": \"Indonesia\", \"linksTo\": [\"QDe.115\"], \"links\": [{\"source\": \"QDi.407\", \"target\": \"QDe.115\"}]}, {\"DATAID\": \"6908608\", \"linkCount\": 1, \"narrativeFileName\": \"TBD\", \"REFERENCE_NUMBER\": \"QDi.408\", \"id\": \"QDi.408\", \"name\": \"ALEXANDA AMON KOTEY\", \"natnlty\": \"United Kingdom of Great Britain and Northern Ireland\", \"linksTo\": [\"QDe.115\"], \"links\": [{\"source\": \"QDi.408\", \"target\": \"QDe.115\"}]}, {\"DATAID\": \"6908609\", \"linkCount\": 1, \"narrativeFileName\": \"TBD\", \"REFERENCE_NUMBER\": \"QDi.409\", \"id\": \"QDi.409\", \"name\": \"ELSHAFEE EL SHEIKH\", \"natnlty\": \"United Kingdom of Great Britain and Northern Ireland\", \"linksTo\": [\"QDe.115\"], \"links\": [{\"source\": \"QDi.409\", \"target\": \"QDe.115\"}]}, {\"DATAID\": \"6908611\", \"linkCount\": 1, \"narrativeFileName\": \"TBD\", \"REFERENCE_NUMBER\": \"QDi.410\", \"id\": \"QDi.410\", \"name\": \"SHANE DOMINIC CRAWFORD\", \"natnlty\": \"Trinidad and Tobago\", \"linksTo\": [\"QDe.115\"], \"links\": [{\"source\": \"QDi.410\", \"target\": \"QDe.115\"}]}, {\"DATAID\": \"6908658\", \"linkCount\": 1, \"narrativeFileName\": \"TBD\", \"REFERENCE_NUMBER\": \"QDi.411\", \"id\": \"QDi.411\", \"name\": \"SALIM MUSTAFA MUHAMMAD AL-MANSUR\", \"natnlty\": \"Iraq\", \"linksTo\": [\"QDe.115\"], \"links\": [{\"source\": \"QDi.411\", \"target\": \"QDe.115\"}]}, {\"DATAID\": \"6908659\", \"linkCount\": 3, \"narrativeFileName\": \"TBD\", \"REFERENCE_NUMBER\": \"QDi.412\", \"id\": \"QDi.412\", \"name\": \"UMAR MAHMUD IRHAYYIM AL-KUBAYSI\", \"natnlty\": \"Iraq\", \"linksTo\": [\"QDe.115\", \"QDe.157\"], \"links\": [{\"source\": \"QDi.412\", \"target\": \"QDe.115\"}, {\"source\": \"QDi.412\", \"target\": \"QDe.157\"}]}, {\"DATAID\": \"6908700\", \"linkCount\": 1, \"narrativeFileName\": \"TBD\", \"REFERENCE_NUMBER\": \"QDi.413\", \"id\": \"QDi.413\", \"name\": \"MYRNA AJIJUL MABANZA\", \"natnlty\": \"Philippines\", \"linksTo\": [\"QDe.115\"], \"links\": [{\"source\": \"QDi.413\", \"target\": \"QDe.115\"}]}, {\"DATAID\": \"6908701\", \"linkCount\": 1, \"narrativeFileName\": \"TBD\", \"REFERENCE_NUMBER\": \"QDi.414\", \"id\": \"QDi.414\", \"name\": \"ABDULPATTA ESCALON ABUBAKAR\", \"natnlty\": \"Philippines\", \"linksTo\": [\"QDe.115\"], \"links\": [{\"source\": \"QDi.414\", \"target\": \"QDe.115\"}]}, {\"DATAID\": \"6908718\", \"linkCount\": 4, \"narrativeFileName\": \"TBD\", \"REFERENCE_NUMBER\": \"QDi.415\", \"id\": \"QDi.415\", \"name\": \"ADNAN ABOU WALID AL-SAHRAOUI\", \"natnlty\": \"None reported\", \"linksTo\": [\"QDe.134\", \"QDe.141\", \"QDe.115\"], \"links\": [{\"source\": \"QDi.415\", \"target\": \"QDe.134\"}, {\"source\": \"QDi.415\", \"target\": \"QDe.141\"}, {\"source\": \"QDi.415\", \"target\": \"QDe.115\"}]}, {\"DATAID\": \"6908719\", \"linkCount\": 1, \"narrativeFileName\": \"TBD\", \"REFERENCE_NUMBER\": \"QDi.416\", \"id\": \"QDi.416\", \"name\": \"MOHAMMED YUSIP KARIM\", \"natnlty\": \"Indonesia\", \"linksTo\": [\"QDe.115\"], \"links\": [{\"source\": \"QDi.416\", \"target\": \"QDe.115\"}]}, {\"DATAID\": \"6908720\", \"linkCount\": 1, \"narrativeFileName\": \"TBD\", \"REFERENCE_NUMBER\": \"QDi.417\", \"id\": \"QDi.417\", \"name\": \"MOHAMAD RAFI BIN UDIN\", \"natnlty\": \"Malaysia,Indonesia\", \"linksTo\": [\"QDe.115\"], \"links\": [{\"source\": \"QDi.417\", \"target\": \"QDe.115\"}]}, {\"DATAID\": \"6908721\", \"linkCount\": 1, \"narrativeFileName\": \"TBD\", \"REFERENCE_NUMBER\": \"QDi.418\", \"id\": \"QDi.418\", \"name\": \"MUHAMMED REZA LAHAMAN KIRAM\", \"natnlty\": \"Philippines\", \"linksTo\": [\"QDe.115\"], \"links\": [{\"source\": \"QDi.418\", \"target\": \"QDe.115\"}]}, {\"DATAID\": \"6908742\", \"linkCount\": 1, \"narrativeFileName\": \"TBD\", \"REFERENCE_NUMBER\": \"QDi.419\", \"id\": \"QDi.419\", \"name\": \"ANJEM CHOUDARY\", \"natnlty\": \"United Kingdom of Great Britain and Northern Ireland\", \"linksTo\": [\"QDe.115\"], \"links\": [{\"source\": \"QDi.419\", \"target\": \"QDe.115\"}]}, {\"DATAID\": \"6908757\", \"linkCount\": 0, \"narrativeFileName\": \"TBD\", \"REFERENCE_NUMBER\": \"QDi.420\", \"id\": \"QDi.420\", \"name\": \"TAHA IBRAHIM ABDALLAH BAKR AL KHUWAYT\", \"natnlty\": \"Iraq\", \"linksTo\": [], \"links\": []}, {\"DATAID\": \"6908767\", \"linkCount\": 2, \"narrativeFileName\": \"TBD\", \"REFERENCE_NUMBER\": \"QDi.421\", \"id\": \"QDi.421\", \"name\": \"HAMZA USAMA MUHAMMAD BIN LADEN\", \"natnlty\": \"None reported\", \"linksTo\": [\"QDi.006\", \"QDe.004\"], \"links\": [{\"source\": \"QDi.421\", \"target\": \"QDi.006\"}, {\"source\": \"QDi.421\", \"target\": \"QDe.004\"}]}, {\"DATAID\": \"6908769\", \"linkCount\": 2, \"narrativeFileName\": \"TBD\", \"REFERENCE_NUMBER\": \"QDi.422\", \"id\": \"QDi.422\", \"name\": \"MOHAMMED MASOOD AZHAR ALVI\", \"natnlty\": \"Pakistan\", \"linksTo\": [\"QDe.019\", \"QDe.008\"], \"links\": [{\"source\": \"QDi.422\", \"target\": \"QDe.019\"}, {\"source\": \"QDi.422\", \"target\": \"QDe.008\"}]}, {\"DATAID\": \"6908782\", \"linkCount\": 3, \"narrativeFileName\": \"TBD\", \"REFERENCE_NUMBER\": \"QDi.423\", \"id\": \"QDi.423\", \"name\": \"ALI MAYCHOU\", \"natnlty\": \"Morocco\", \"linksTo\": [\"QDe.014\", \"QDe.135\", \"QDe.159\"], \"links\": [{\"source\": \"QDi.423\", \"target\": \"QDe.014\"}, {\"source\": \"QDi.423\", \"target\": \"QDe.135\"}, {\"source\": \"QDi.423\", \"target\": \"QDe.159\"}]}, {\"DATAID\": \"6908783\", \"linkCount\": 2, \"narrativeFileName\": \"TBD\", \"REFERENCE_NUMBER\": \"QDi.424\", \"id\": \"QDi.424\", \"name\": \"BAH AG MOUSSA\", \"natnlty\": \"Mali\", \"linksTo\": [\"QDe.135\", \"QDe.159\"], \"links\": [{\"source\": \"QDi.424\", \"target\": \"QDe.135\"}, {\"source\": \"QDi.424\", \"target\": \"QDe.159\"}]}, {\"DATAID\": \"6908823\", \"linkCount\": 2, \"narrativeFileName\": \"TBD\", \"REFERENCE_NUMBER\": \"QDi.425\", \"id\": \"QDi.425\", \"name\": \"AMADOU KOUFA\", \"natnlty\": \"None reported\", \"linksTo\": [\"QDe.159\", \"QDe.014\"], \"links\": [{\"source\": \"QDi.425\", \"target\": \"QDe.159\"}, {\"source\": \"QDi.425\", \"target\": \"QDe.014\"}]}, {\"DATAID\": \"6908841\", \"linkCount\": 1, \"narrativeFileName\": \"TBD\", \"REFERENCE_NUMBER\": \"QDi.426\", \"id\": \"QDi.426\", \"name\": \"Amir Muhammad Sa’id Abdal-Rahman al-Salbi\", \"natnlty\": \"Iraq\", \"linksTo\": [\"QDe.115\"], \"links\": [{\"source\": \"QDi.426\", \"target\": \"QDe.115\"}]}, {\"DATAID\": \"6908843\", \"linkCount\": 2, \"narrativeFileName\": \"TBD\", \"REFERENCE_NUMBER\": \"QDi.427\", \"id\": \"QDi.427\", \"name\": \"NOOR WALI MEHSUD\", \"natnlty\": \"Pakistan\", \"linksTo\": [\"QDe.132\", \"QDi.352\"], \"links\": [{\"source\": \"QDi.427\", \"target\": \"QDe.132\"}, {\"source\": \"QDi.427\", \"target\": \"QDi.352\"}]}, {\"DATAID\": \"6908833\", \"linkCount\": 1, \"narrativeFileName\": \"TBD\", \"REFERENCE_NUMBER\": \"QDi.428\", \"id\": \"QDi.428\", \"name\": \"JAMAL HUSSEIN HASSAN ZEINIYE\", \"natnlty\": \"Syrian Arab Republic\", \"linksTo\": [\"QDe.137\"], \"links\": [{\"source\": \"QDi.428\", \"target\": \"QDe.137\"}]}, {\"DATAID\": \"6908857\", \"linkCount\": 1, \"narrativeFileName\": \"TBD\", \"REFERENCE_NUMBER\": \"QDi.429\", \"id\": \"QDi.429\", \"name\": \"MOHAMMAD ALI AL HABBO\", \"natnlty\": \"Syrian Arab Republic\", \"linksTo\": [\"QDe.115\"], \"links\": [{\"source\": \"QDi.429\", \"target\": \"QDe.115\"}]}, {\"DATAID\": \"6908858\", \"linkCount\": 1, \"narrativeFileName\": \"TBD\", \"REFERENCE_NUMBER\": \"QDi.430\", \"id\": \"QDi.430\", \"name\": \"EMRAAN ALI\", \"natnlty\": \"Trinidad and Tobago,United States of America\", \"linksTo\": [\"QDe.115\"], \"links\": [{\"source\": \"QDi.430\", \"target\": \"QDe.115\"}]}, {\"DATAID\": \"6908866\", \"linkCount\": 1, \"narrativeFileName\": \"TBD\", \"REFERENCE_NUMBER\": \"QDi.431\", \"id\": \"QDi.431\", \"name\": \"SANAULLAH GHAFARI\", \"natnlty\": \"Afghanistan\", \"linksTo\": [\"QDe.161\"], \"links\": [{\"source\": \"QDi.431\", \"target\": \"QDe.161\"}]}, {\"DATAID\": \"6908861\", \"linkCount\": 1, \"narrativeFileName\": \"TBD\", \"REFERENCE_NUMBER\": \"QDi.432\", \"id\": \"QDi.432\", \"name\": \"ASHRAF AL-QIZANI\", \"natnlty\": \"Tunisia\", \"linksTo\": [\"QDe.115\"], \"links\": [{\"source\": \"QDi.432\", \"target\": \"QDe.115\"}]}, {\"DATAID\": \"6908887\", \"linkCount\": 2, \"narrativeFileName\": \"TBD\", \"REFERENCE_NUMBER\": \"QDi.433\", \"id\": \"QDi.433\", \"name\": \"ABDUL REHMAN MAKKI\", \"natnlty\": \"Pakistan\", \"linksTo\": [\"QDe.118\", \"QDi.263\"], \"links\": [{\"source\": \"QDi.433\", \"target\": \"QDe.118\"}, {\"source\": \"QDi.433\", \"target\": \"QDi.263\"}]}, {\"DATAID\": \"6908904\", \"linkCount\": 1, \"narrativeFileName\": \"TBD\", \"REFERENCE_NUMBER\": \"QDi.434\", \"id\": \"QDi.434\", \"name\": \"MAULAWI RAJAB\", \"natnlty\": \"Afghanistan\", \"linksTo\": [\"QDe.161\"], \"links\": [{\"source\": \"QDi.434\", \"target\": \"QDe.161\"}]}, {\"DATAID\": \"6908905\", \"linkCount\": 1, \"narrativeFileName\": \"TBD\", \"REFERENCE_NUMBER\": \"QDi.435\", \"id\": \"QDi.435\", \"name\": \"SULTAN AZIZ AZAM\", \"natnlty\": \"None reported\", \"linksTo\": [\"QDe.161\"], \"links\": [{\"source\": \"QDi.435\", \"target\": \"QDe.161\"}]}, {\"DATAID\": \"113445\", \"linkCount\": 10, \"narrativeFileName\": \"TBD\", \"REFERENCE_NUMBER\": \"QDe.001\", \"id\": \"QDe.001\", \"name\": \"ABU SAYYAF GROUP\", \"linksTo\": [\"QDe.092\", \"QDi.208\"], \"links\": [{\"source\": \"QDe.001\", \"target\": \"QDe.092\"}, {\"source\": \"QDe.001\", \"target\": \"QDi.208\"}]}, {\"DATAID\": \"113457\", \"linkCount\": 5, \"narrativeFileName\": \"TBD\", \"REFERENCE_NUMBER\": \"QDe.002\", \"id\": \"QDe.002\", \"name\": \"AL-ITIHAAD AL-ISLAMIYA / AIAI\", \"linksTo\": [\"QDe.004\", \"QDi.006\", \"QDi.042\", \"QDe.072\"], \"links\": [{\"source\": \"QDe.002\", \"target\": \"QDe.004\"}, {\"source\": \"QDe.002\", \"target\": \"QDi.006\"}, {\"source\": \"QDe.002\", \"target\": \"QDi.042\"}, {\"source\": \"QDe.002\", \"target\": \"QDe.072\"}]}, {\"DATAID\": \"113236\", \"linkCount\": 6, \"narrativeFileName\": \"TBD\", \"REFERENCE_NUMBER\": \"QDe.003\", \"id\": \"QDe.003\", \"name\": \"EGYPTIAN ISLAMIC JIHAD\", \"linksTo\": [\"QDi.006\"], \"links\": [{\"source\": \"QDe.003\", \"target\": \"QDi.006\"}]}, {\"DATAID\": \"113458\", \"linkCount\": 38, \"narrativeFileName\": \"TBD\", \"REFERENCE_NUMBER\": \"QDe.004\", \"id\": \"QDe.004\", \"name\": \"AL-QAIDA\", \"linksTo\": [], \"links\": []}, {\"DATAID\": \"113459\", \"linkCount\": 3, \"narrativeFileName\": \"TBD\", \"REFERENCE_NUMBER\": \"QDe.005\", \"id\": \"QDe.005\", \"name\": \"AL RASHID TRUST\", \"linksTo\": [\"QDe.073\", \"QDe.073\", \"QDe.019\"], \"links\": [{\"source\": \"QDe.005\", \"target\": \"QDe.073\"}, {\"source\": \"QDe.005\", \"target\": \"QDe.073\"}, {\"source\": \"QDe.005\", \"target\": \"QDe.019\"}]}, {\"DATAID\": \"113237\", \"linkCount\": 0, \"narrativeFileName\": \"TBD\", \"REFERENCE_NUMBER\": \"QDe.006\", \"id\": \"QDe.006\", \"name\": \"ARMED ISLAMIC GROUP\", \"linksTo\": [], \"links\": []}, {\"DATAID\": \"113461\", \"linkCount\": 2, \"narrativeFileName\": \"TBD\", \"REFERENCE_NUMBER\": \"QDe.007\", \"id\": \"QDe.007\", \"name\": \"ASBAT AL-ANSAR\", \"linksTo\": [\"QDe.115\"], \"links\": [{\"source\": \"QDe.007\", \"target\": \"QDe.115\"}]}, {\"DATAID\": \"113263\", \"linkCount\": 7, \"narrativeFileName\": \"TBD\", \"REFERENCE_NUMBER\": \"QDe.008\", \"id\": \"QDe.008\", \"name\": \"HARAKAT UL-MUJAHIDIN / HUM\", \"linksTo\": [\"QDe.019\", \"QDe.096\", \"QDe.118\"], \"links\": [{\"source\": \"QDe.008\", \"target\": \"QDe.019\"}, {\"source\": \"QDe.008\", \"target\": \"QDe.096\"}, {\"source\": \"QDe.008\", \"target\": \"QDe.118\"}]}, {\"DATAID\": \"114074\", \"linkCount\": 0, \"narrativeFileName\": \"TBD\", \"REFERENCE_NUMBER\": \"QDe.009\", \"id\": \"QDe.009\", \"name\": \"ISLAMIC ARMY OF ADEN\", \"linksTo\": [], \"links\": []}, {\"DATAID\": \"113964\", \"linkCount\": 8, \"narrativeFileName\": \"TBD\", \"REFERENCE_NUMBER\": \"QDe.010\", \"id\": \"QDe.010\", \"name\": \"ISLAMIC MOVEMENT OF UZBEKISTAN\", \"linksTo\": [\"QDe.088\", \"QDe.119\", \"QDe.131\"], \"links\": [{\"source\": \"QDe.010\", \"target\": \"QDe.088\"}, {\"source\": \"QDe.010\", \"target\": \"QDe.119\"}, {\"source\": \"QDe.010\", \"target\": \"QDe.131\"}]}, {\"DATAID\": \"114090\", \"linkCount\": 5, \"narrativeFileName\": \"TBD\", \"REFERENCE_NUMBER\": \"QDe.011\", \"id\": \"QDe.011\", \"name\": \"LIBYAN ISLAMIC FIGHTING GROUP\", \"linksTo\": [\"QDe.004\"], \"links\": [{\"source\": \"QDe.011\", \"target\": \"QDe.004\"}]}, {\"DATAID\": \"113858\", \"linkCount\": 1, \"narrativeFileName\": \"TBD\", \"REFERENCE_NUMBER\": \"QDe.012\", \"id\": \"QDe.012\", \"name\": \"MAKHTAB AL-KHIDAMAT\", \"linksTo\": [\"QDe.004\"], \"links\": [{\"source\": \"QDe.012\", \"target\": \"QDe.004\"}]}, {\"DATAID\": \"113995\", \"linkCount\": 36, \"narrativeFileName\": \"TBD\", \"REFERENCE_NUMBER\": \"QDe.014\", \"id\": \"QDe.014\", \"name\": \"THE ORGANIZATION OF AL-QAIDA IN THE ISLAMIC MAGHREB\", \"linksTo\": [\"QDi.232\"], \"links\": [{\"source\": \"QDe.014\", \"target\": \"QDi.232\"}]}, {\"DATAID\": \"114113\", \"linkCount\": 1, \"narrativeFileName\": \"TBD\", \"REFERENCE_NUMBER\": \"QDe.015\", \"id\": \"QDe.015\", \"name\": \"WAFA HUMANITARIAN ORGANIZATION\", \"linksTo\": [\"QDe.004\"], \"links\": [{\"source\": \"QDe.015\", \"target\": \"QDe.004\"}]}, {\"DATAID\": \"113965\", \"linkCount\": 9, \"narrativeFileName\": \"TBD\", \"REFERENCE_NUMBER\": \"QDe.019\", \"id\": \"QDe.019\", \"name\": \"JAISH-I-MOHAMMED\", \"linksTo\": [\"QDe.008\", \"QDe.118\", \"QDe.121\", \"QDe.130\"], \"links\": [{\"source\": \"QDe.019\", \"target\": \"QDe.008\"}, {\"source\": \"QDe.019\", \"target\": \"QDe.118\"}, {\"source\": \"QDe.019\", \"target\": \"QDe.121\"}, {\"source\": \"QDe.019\", \"target\": \"QDe.130\"}]}, {\"DATAID\": \"113854\", \"linkCount\": 0, \"narrativeFileName\": \"TBD\", \"REFERENCE_NUMBER\": \"QDe.020\", \"id\": \"QDe.020\", \"name\": \"JAM\\'YAH TA\\'AWUN AL-ISLAMIA\", \"linksTo\": [], \"links\": []}, {\"DATAID\": \"113993\", \"linkCount\": 0, \"narrativeFileName\": \"TBD\", \"REFERENCE_NUMBER\": \"QDe.021\", \"id\": \"QDe.021\", \"name\": \"RABITA TRUST\", \"linksTo\": [], \"links\": []}, {\"DATAID\": \"113883\", \"linkCount\": 4, \"narrativeFileName\": \"TBD\", \"REFERENCE_NUMBER\": \"QDe.068\", \"id\": \"QDe.068\", \"name\": \"UMMAH TAMEER E-NAU (UTN)\", \"linksTo\": [\"QDi.055\", \"QDi.054\", \"QDi.056\"], \"links\": [{\"source\": \"QDe.068\", \"target\": \"QDi.055\"}, {\"source\": \"QDe.068\", \"target\": \"QDi.054\"}, {\"source\": \"QDe.068\", \"target\": \"QDi.056\"}]}, {\"DATAID\": \"113226\", \"linkCount\": 5, \"narrativeFileName\": \"TBD\", \"REFERENCE_NUMBER\": \"QDe.069\", \"id\": \"QDe.069\", \"name\": \"AFGHAN SUPPORT COMMITTEE (ASC)\", \"linksTo\": [\"QDe.070\", \"QDi.058\"], \"links\": [{\"source\": \"QDe.069\", \"target\": \"QDe.070\"}, {\"source\": \"QDe.069\", \"target\": \"QDi.058\"}]}, {\"DATAID\": \"113994\", \"linkCount\": 4, \"narrativeFileName\": \"TBD\", \"REFERENCE_NUMBER\": \"QDe.070\", \"id\": \"QDe.070\", \"name\": \"REVIVAL OF ISLAMIC HERITAGE SOCIETY\", \"linksTo\": [\"QDi.058\", \"QDe.069\"], \"links\": [{\"source\": \"QDe.070\", \"target\": \"QDi.058\"}, {\"source\": \"QDe.070\", \"target\": \"QDe.069\"}]}, {\"DATAID\": \"113356\", \"linkCount\": 2, \"narrativeFileName\": \"TBD\", \"REFERENCE_NUMBER\": \"QDe.088\", \"id\": \"QDe.088\", \"name\": \"EASTERN TURKISTAN ISLAMIC MOVEMENT (ETIM)\", \"linksTo\": [], \"links\": []}, {\"DATAID\": \"113977\", \"linkCount\": 1, \"narrativeFileName\": \"TBD\", \"REFERENCE_NUMBER\": \"QDe.089\", \"id\": \"QDe.089\", \"name\": \"MOROCCAN ISLAMIC COMBATANT GROUP\", \"linksTo\": [\"QDe.014\"], \"links\": [{\"source\": \"QDe.089\", \"target\": \"QDe.014\"}]}, {\"DATAID\": \"113997\", \"linkCount\": 2, \"narrativeFileName\": \"TBD\", \"REFERENCE_NUMBER\": \"QDe.090\", \"id\": \"QDe.090\", \"name\": \"TUNISIAN COMBATANT GROUP\", \"linksTo\": [\"QDe.014\"], \"links\": [{\"source\": \"QDe.090\", \"target\": \"QDe.014\"}]}, {\"DATAID\": \"113476\", \"linkCount\": 0, \"narrativeFileName\": \"TBD\", \"REFERENCE_NUMBER\": \"QDe.091\", \"id\": \"QDe.091\", \"name\": \"GLOBAL RELIEF FOUNDATION (GRF)\", \"linksTo\": [], \"links\": []}, {\"DATAID\": \"113967\", \"linkCount\": 20, \"narrativeFileName\": \"TBD\", \"REFERENCE_NUMBER\": \"QDe.092\", \"id\": \"QDe.092\", \"name\": \"JEMAAH ISLAMIYAH\", \"linksTo\": [\"QDe.001\"], \"links\": [{\"source\": \"QDe.092\", \"target\": \"QDe.001\"}]}, {\"DATAID\": \"113474\", \"linkCount\": 0, \"narrativeFileName\": \"TBD\", \"REFERENCE_NUMBER\": \"QDe.093\", \"id\": \"QDe.093\", \"name\": \"BENEVOLENCE INTERNATIONAL FOUNDATION\", \"linksTo\": [], \"links\": []}, {\"DATAID\": \"114089\", \"linkCount\": 3, \"narrativeFileName\": \"TBD\", \"REFERENCE_NUMBER\": \"QDe.096\", \"id\": \"QDe.096\", \"name\": \"LASHKAR I JHANGVI (LJ)\", \"linksTo\": [], \"links\": []}, {\"DATAID\": \"113460\", \"linkCount\": 3, \"narrativeFileName\": \"TBD\", \"REFERENCE_NUMBER\": \"QDe.098\", \"id\": \"QDe.098\", \"name\": \"ANSAR AL-ISLAM\", \"linksTo\": [\"QDi.226\", \"QDe.115\"], \"links\": [{\"source\": \"QDe.098\", \"target\": \"QDi.226\"}, {\"source\": \"QDe.098\", \"target\": \"QDe.115\"}]}, {\"DATAID\": \"113963\", \"linkCount\": 4, \"narrativeFileName\": \"TBD\", \"REFERENCE_NUMBER\": \"QDe.099\", \"id\": \"QDe.099\", \"name\": \"ISLAMIC INTERNATIONAL BRIGADE (IIB)\", \"linksTo\": [\"QDe.100\", \"QDe.101\"], \"links\": [{\"source\": \"QDe.099\", \"target\": \"QDe.100\"}, {\"source\": \"QDe.099\", \"target\": \"QDe.101\"}]}, {\"DATAID\": \"113868\", \"linkCount\": 6, \"narrativeFileName\": \"TBD\", \"REFERENCE_NUMBER\": \"QDe.100\", \"id\": \"QDe.100\", \"name\": \"RIYADUS-SALIKHIN RECONNAISSANCE AND SABOTAGE BATTALION OF CHECHEN MARTYRS (RSRSBCM)\", \"linksTo\": [\"QDe.099\", \"QDe.101\", \"QDe.131\"], \"links\": [{\"source\": \"QDe.100\", \"target\": \"QDe.099\"}, {\"source\": \"QDe.100\", \"target\": \"QDe.101\"}, {\"source\": \"QDe.100\", \"target\": \"QDe.131\"}]}, {\"DATAID\": \"114111\", \"linkCount\": 4, \"narrativeFileName\": \"TBD\", \"REFERENCE_NUMBER\": \"QDe.101\", \"id\": \"QDe.101\", \"name\": \"SPECIAL PURPOSE ISLAMIC REGIMENT (SPIR)\", \"linksTo\": [\"QDe.099\", \"QDe.100\"], \"links\": [{\"source\": \"QDe.101\", \"target\": \"QDe.099\"}, {\"source\": \"QDe.101\", \"target\": \"QDe.100\"}]}, {\"DATAID\": \"113455\", \"linkCount\": 0, \"narrativeFileName\": \"TBD\", \"REFERENCE_NUMBER\": \"QDe.104\", \"id\": \"QDe.104\", \"name\": \"AL-HARAMAIN FOUNDATION (PAKISTAN)\", \"linksTo\": [], \"links\": []}, {\"DATAID\": \"113338\", \"linkCount\": 0, \"narrativeFileName\": \"TBD\", \"REFERENCE_NUMBER\": \"QDe.105\", \"id\": \"QDe.105\", \"name\": \"AL-HARAMAYN FOUNDATION (KENYA)\", \"linksTo\": [], \"links\": []}, {\"DATAID\": \"113339\", \"linkCount\": 0, \"narrativeFileName\": \"TBD\", \"REFERENCE_NUMBER\": \"QDe.106\", \"id\": \"QDe.106\", \"name\": \"AL-HARAMAYN FOUNDATION (TANZANIA)\", \"linksTo\": [], \"links\": []}, {\"DATAID\": \"113231\", \"linkCount\": 0, \"narrativeFileName\": \"TBD\", \"REFERENCE_NUMBER\": \"QDe.107\", \"id\": \"QDe.107\", \"name\": \"AL FURQAN\", \"linksTo\": [], \"links\": []}, {\"DATAID\": \"114112\", \"linkCount\": 0, \"narrativeFileName\": \"TBD\", \"REFERENCE_NUMBER\": \"QDe.108\", \"id\": \"QDe.108\", \"name\": \"TAIBAH INTERNATIONAL-BOSNIA OFFICES\", \"linksTo\": [], \"links\": []}, {\"DATAID\": \"113232\", \"linkCount\": 0, \"narrativeFileName\": \"TBD\", \"REFERENCE_NUMBER\": \"QDe.109\", \"id\": \"QDe.109\", \"name\": \"AL-HARAMAIN & AL MASJED AL-AQSA CHARITY FOUNDATION\", \"linksTo\": [], \"links\": []}, {\"DATAID\": \"113453\", \"linkCount\": 0, \"narrativeFileName\": \"TBD\", \"REFERENCE_NUMBER\": \"QDe.110\", \"id\": \"QDe.110\", \"name\": \"AL-HARAMAIN: AFGHANISTAN BRANCH\", \"linksTo\": [], \"links\": []}, {\"DATAID\": \"113335\", \"linkCount\": 0, \"narrativeFileName\": \"TBD\", \"REFERENCE_NUMBER\": \"QDe.111\", \"id\": \"QDe.111\", \"name\": \"AL-HARAMAIN: ALBANIA BRANCH\", \"linksTo\": [], \"links\": []}, {\"DATAID\": \"113454\", \"linkCount\": 0, \"narrativeFileName\": \"TBD\", \"REFERENCE_NUMBER\": \"QDe.112\", \"id\": \"QDe.112\", \"name\": \"AL-HARAMAIN: BANGLADESH BRANCH\", \"linksTo\": [], \"links\": []}, {\"DATAID\": \"113233\", \"linkCount\": 0, \"narrativeFileName\": \"TBD\", \"REFERENCE_NUMBER\": \"QDe.113\", \"id\": \"QDe.113\", \"name\": \"AL-HARAMAIN: ETHIOPIA BRANCH\", \"linksTo\": [], \"links\": []}, {\"DATAID\": \"113235\", \"linkCount\": 0, \"narrativeFileName\": \"TBD\", \"REFERENCE_NUMBER\": \"QDe.114\", \"id\": \"QDe.114\", \"name\": \"AL-HARAMAIN: THE NETHERLANDS BRANCH\", \"linksTo\": [], \"links\": []}, {\"DATAID\": \"113966\", \"linkCount\": 81, \"narrativeFileName\": \"TBD\", \"REFERENCE_NUMBER\": \"QDe.115\", \"id\": \"QDe.115\", \"name\": \"AL-QAIDA IN IRAQ\", \"linksTo\": [], \"links\": []}, {\"DATAID\": \"113234\", \"linkCount\": 0, \"narrativeFileName\": \"TBD\", \"REFERENCE_NUMBER\": \"QDe.116\", \"id\": \"QDe.116\", \"name\": \"AL-HARAMAIN FOUNDATION (UNION OF THE COMOROS)\", \"linksTo\": [], \"links\": []}, {\"DATAID\": \"114076\", \"linkCount\": 13, \"narrativeFileName\": \"TBD\", \"REFERENCE_NUMBER\": \"QDe.118\", \"id\": \"QDe.118\", \"name\": \"LASHKAR-E-TAYYIBA\", \"linksTo\": [\"QDi.263\"], \"links\": [{\"source\": \"QDe.118\", \"target\": \"QDi.263\"}]}, {\"DATAID\": \"113853\", \"linkCount\": 5, \"narrativeFileName\": \"TBD\", \"REFERENCE_NUMBER\": \"QDe.119\", \"id\": \"QDe.119\", \"name\": \"ISLAMIC JIHAD GROUP\", \"linksTo\": [\"QDe.010\", \"QDe.131\"], \"links\": [{\"source\": \"QDe.119\", \"target\": \"QDe.010\"}, {\"source\": \"QDe.119\", \"target\": \"QDe.131\"}]}, {\"DATAID\": \"113227\", \"linkCount\": 6, \"narrativeFileName\": \"TBD\", \"REFERENCE_NUMBER\": \"QDe.121\", \"id\": \"QDe.121\", \"name\": \"AL-AKHTAR TRUST INTERNATIONAL\", \"linksTo\": [\"QDe.019\", \"QDe.008\", \"QDe.096\", \"QDe.118\"], \"links\": [{\"source\": \"QDe.121\", \"target\": \"QDe.019\"}, {\"source\": \"QDe.121\", \"target\": \"QDe.008\"}, {\"source\": \"QDe.121\", \"target\": \"QDe.096\"}, {\"source\": \"QDe.121\", \"target\": \"QDe.118\"}]}, {\"DATAID\": \"2812924\", \"linkCount\": 11, \"narrativeFileName\": \"TBD\", \"REFERENCE_NUMBER\": \"QDe.128\", \"id\": \"QDe.128\", \"name\": \"RAJAH SOLAIMAN MOVEMENT\", \"linksTo\": [\"QDi.244\", \"QDe.001\", \"QDe.092\"], \"links\": [{\"source\": \"QDe.128\", \"target\": \"QDi.244\"}, {\"source\": \"QDe.128\", \"target\": \"QDe.001\"}, {\"source\": \"QDe.128\", \"target\": \"QDe.092\"}]}, {\"DATAID\": \"2881836\", \"linkCount\": 11, \"narrativeFileName\": \"TBD\", \"REFERENCE_NUMBER\": \"QDe.129\", \"id\": \"QDe.129\", \"name\": \"AL-QAIDA IN THE ARABIAN PENINSULA (AQAP)\", \"linksTo\": [\"QDe.004\", \"QDi.282\"], \"links\": [{\"source\": \"QDe.129\", \"target\": \"QDe.004\"}, {\"source\": \"QDe.129\", \"target\": \"QDi.282\"}]}, {\"DATAID\": \"2921366\", \"linkCount\": 4, \"narrativeFileName\": \"TBD\", \"REFERENCE_NUMBER\": \"QDe.130\", \"id\": \"QDe.130\", \"name\": \"HARAKAT-UL JIHAD ISLAMI\", \"linksTo\": [\"QDe.008\"], \"links\": [{\"source\": \"QDe.130\", \"target\": \"QDe.008\"}]}, {\"DATAID\": \"2971893\", \"linkCount\": 4, \"narrativeFileName\": \"TBD\", \"REFERENCE_NUMBER\": \"QDe.131\", \"id\": \"QDe.131\", \"name\": \"EMARAT KAVKAZ\", \"linksTo\": [\"QDi.290\"], \"links\": [{\"source\": \"QDe.131\", \"target\": \"QDi.290\"}]}, {\"DATAID\": \"2971894\", \"linkCount\": 7, \"narrativeFileName\": \"TBD\", \"REFERENCE_NUMBER\": \"QDe.132\", \"id\": \"QDe.132\", \"name\": \"TEHRIK-E TALIBAN PAKISTAN (TTP)\", \"linksTo\": [\"QDi.352\"], \"links\": [{\"source\": \"QDe.132\", \"target\": \"QDi.352\"}]}, {\"DATAID\": \"2983820\", \"linkCount\": 8, \"narrativeFileName\": \"TBD\", \"REFERENCE_NUMBER\": \"QDe.133\", \"id\": \"QDe.133\", \"name\": \"JEMMAH ANSHORUT TAUHID (JAT)\", \"linksTo\": [\"QDe.115\", \"QDi.217\", \"QDe.092\"], \"links\": [{\"source\": \"QDe.133\", \"target\": \"QDe.115\"}, {\"source\": \"QDe.133\", \"target\": \"QDi.217\"}, {\"source\": \"QDe.133\", \"target\": \"QDe.092\"}]}, {\"DATAID\": \"3001252\", \"linkCount\": 10, \"narrativeFileName\": \"TBD\", \"REFERENCE_NUMBER\": \"QDe.134\", \"id\": \"QDe.134\", \"name\": \"MOUVEMENT POUR\\\\n                                                  L’UNIFICATION ET LE JIHAD EN AFRIQUE DE L’OUEST\\\\n                                                  (MUJAO)\", \"linksTo\": [\"QDe.014\", \"QDi.136\"], \"links\": [{\"source\": \"QDe.134\", \"target\": \"QDe.014\"}, {\"source\": \"QDe.134\", \"target\": \"QDi.136\"}]}, {\"DATAID\": \"3014161\", \"linkCount\": 8, \"narrativeFileName\": \"TBD\", \"REFERENCE_NUMBER\": \"QDe.135\", \"id\": \"QDe.135\", \"name\": \"ANSAR EDDINE\", \"linksTo\": [\"QDi.316\", \"QDe.014\", \"QDe.134\", \"QDi.232\"], \"links\": [{\"source\": \"QDe.135\", \"target\": \"QDi.316\"}, {\"source\": \"QDe.135\", \"target\": \"QDe.014\"}, {\"source\": \"QDe.135\", \"target\": \"QDe.134\"}, {\"source\": \"QDe.135\", \"target\": \"QDi.232\"}]}, {\"DATAID\": \"3026605\", \"linkCount\": 6, \"narrativeFileName\": \"TBD\", \"REFERENCE_NUMBER\": \"QDe.136\", \"id\": \"QDe.136\", \"name\": \"MUHAMMAD JAMAL NETWORK (MJN)\", \"linksTo\": [\"QDi.318\", \"QDe.004\", \"QDi.006\", \"QDe.129\", \"QDe.014\"], \"links\": [{\"source\": \"QDe.136\", \"target\": \"QDi.318\"}, {\"source\": \"QDe.136\", \"target\": \"QDe.004\"}, {\"source\": \"QDe.136\", \"target\": \"QDi.006\"}, {\"source\": \"QDe.136\", \"target\": \"QDe.129\"}, {\"source\": \"QDe.136\", \"target\": \"QDe.014\"}]}, {\"DATAID\": \"6908429\", \"linkCount\": 33, \"narrativeFileName\": \"TBD\", \"REFERENCE_NUMBER\": \"QDe.137\", \"id\": \"QDe.137\", \"name\": \"AL-NUSRAH FRONT FOR THE PEOPLE OF THE LEVANT\", \"linksTo\": [\"QDe.004\", \"QDe.115\", \"QDe.007\", \"QDe.115\", \"QDi.299\", \"QDi.317\", \"QDe.115\"], \"links\": [{\"source\": \"QDe.137\", \"target\": \"QDe.004\"}, {\"source\": \"QDe.137\", \"target\": \"QDe.115\"}, {\"source\": \"QDe.137\", \"target\": \"QDe.007\"}, {\"source\": \"QDe.137\", \"target\": \"QDe.115\"}, {\"source\": \"QDe.137\", \"target\": \"QDi.299\"}, {\"source\": \"QDe.137\", \"target\": \"QDi.317\"}, {\"source\": \"QDe.137\", \"target\": \"QDe.115\"}]}, {\"DATAID\": \"6908431\", \"linkCount\": 5, \"narrativeFileName\": \"TBD\", \"REFERENCE_NUMBER\": \"QDe.138\", \"id\": \"QDe.138\", \"name\": \"JAMA\\'ATU AHLIS SUNNA LIDDA\\'AWATI WAL-JIHAD\", \"linksTo\": [\"QDe.004\", \"QDe.014\"], \"links\": [{\"source\": \"QDe.138\", \"target\": \"QDe.004\"}, {\"source\": \"QDe.138\", \"target\": \"QDe.014\"}]}, {\"DATAID\": \"6908426\", \"linkCount\": 3, \"narrativeFileName\": \"TBD\", \"REFERENCE_NUMBER\": \"QDe.139\", \"id\": \"QDe.139\", \"name\": \"AL MOUAKAOUNE BIDDAM\", \"linksTo\": [\"QDe.014\", \"QDi.136\"], \"links\": [{\"source\": \"QDe.139\", \"target\": \"QDe.014\"}, {\"source\": \"QDe.139\", \"target\": \"QDi.136\"}]}, {\"DATAID\": \"6908427\", \"linkCount\": 7, \"narrativeFileName\": \"TBD\", \"REFERENCE_NUMBER\": \"QDe.140\", \"id\": \"QDe.140\", \"name\": \"AL MOULATHAMOUN\", \"linksTo\": [\"QDe.014\", \"QDe.134\", \"QDe.141\", \"QDe.014\", \"QDi.136\"], \"links\": [{\"source\": \"QDe.140\", \"target\": \"QDe.014\"}, {\"source\": \"QDe.140\", \"target\": \"QDe.134\"}, {\"source\": \"QDe.140\", \"target\": \"QDe.141\"}, {\"source\": \"QDe.140\", \"target\": \"QDe.014\"}, {\"source\": \"QDe.140\", \"target\": \"QDi.136\"}]}, {\"DATAID\": \"6908428\", \"linkCount\": 10, \"narrativeFileName\": \"TBD\", \"REFERENCE_NUMBER\": \"QDe.141\", \"id\": \"QDe.141\", \"name\": \"AL MOURABITOUN\", \"linksTo\": [\"QDe.140\", \"QDe.134\", \"QDe.014\", \"QDi.136\"], \"links\": [{\"source\": \"QDe.141\", \"target\": \"QDe.140\"}, {\"source\": \"QDe.141\", \"target\": \"QDe.134\"}, {\"source\": \"QDe.141\", \"target\": \"QDe.014\"}, {\"source\": \"QDe.141\", \"target\": \"QDi.136\"}]}, {\"DATAID\": \"6908430\", \"linkCount\": 2, \"narrativeFileName\": \"TBD\", \"REFERENCE_NUMBER\": \"QDe.142\", \"id\": \"QDe.142\", \"name\": \"ANSARUL MUSLIMINA FI BILADIS SUDAN\", \"linksTo\": [\"QDe.014\", \"QDe.138\"], \"links\": [{\"source\": \"QDe.142\", \"target\": \"QDe.014\"}, {\"source\": \"QDe.142\", \"target\": \"QDe.138\"}]}, {\"DATAID\": \"6908410\", \"linkCount\": 8, \"narrativeFileName\": \"TBD\", \"REFERENCE_NUMBER\": \"QDe.143\", \"id\": \"QDe.143\", \"name\": \"ANSAR AL-SHARI’A IN TUNISIA (AAS-T)\", \"linksTo\": [\"QDe.014\", \"QDi.333\"], \"links\": [{\"source\": \"QDe.143\", \"target\": \"QDe.014\"}, {\"source\": \"QDe.143\", \"target\": \"QDi.333\"}]}, {\"DATAID\": \"6908409\", \"linkCount\": 2, \"narrativeFileName\": \"TBD\", \"REFERENCE_NUMBER\": \"QDe.144\", \"id\": \"QDe.144\", \"name\": \"ABDALLAH AZZAM BRIGADES (AAB)\", \"linksTo\": [\"QDe.137\"], \"links\": [{\"source\": \"QDe.144\", \"target\": \"QDe.137\"}]}, {\"DATAID\": \"6908437\", \"linkCount\": 5, \"narrativeFileName\": \"TBD\", \"REFERENCE_NUMBER\": \"QDe.145\", \"id\": \"QDe.145\", \"name\": \"ANSAR AL CHARIA DERNA\", \"linksTo\": [\"QDe.014\", \"QDe.143\", \"QDe.146\"], \"links\": [{\"source\": \"QDe.145\", \"target\": \"QDe.014\"}, {\"source\": \"QDe.145\", \"target\": \"QDe.143\"}, {\"source\": \"QDe.145\", \"target\": \"QDe.146\"}]}, {\"DATAID\": \"6908438\", \"linkCount\": 5, \"narrativeFileName\": \"TBD\", \"REFERENCE_NUMBER\": \"QDe.146\", \"id\": \"QDe.146\", \"name\": \"ANSAR AL CHARIA BENGHAZI\", \"linksTo\": [\"QDe.014\", \"QDe.141\", \"QDe.143\", \"QDe.145\"], \"links\": [{\"source\": \"QDe.146\", \"target\": \"QDe.014\"}, {\"source\": \"QDe.146\", \"target\": \"QDe.141\"}, {\"source\": \"QDe.146\", \"target\": \"QDe.143\"}, {\"source\": \"QDe.146\", \"target\": \"QDe.145\"}]}, {\"DATAID\": \"6908448\", \"linkCount\": 4, \"narrativeFileName\": \"TBD\", \"REFERENCE_NUMBER\": \"QDe.147\", \"id\": \"QDe.147\", \"name\": \"HILAL AHMAR SOCIETY INDONESIA (HASI)\", \"linksTo\": [\"QDe.092\"], \"links\": [{\"source\": \"QDe.147\", \"target\": \"QDe.092\"}]}, {\"DATAID\": \"6908463\", \"linkCount\": 3, \"narrativeFileName\": \"TBD\", \"REFERENCE_NUMBER\": \"QDe.148\", \"id\": \"QDe.148\", \"name\": \"THE ARMY OF EMIGRANTS AND SUPPORTERS\", \"linksTo\": [\"QDe.115\", \"QDe.137\"], \"links\": [{\"source\": \"QDe.148\", \"target\": \"QDe.115\"}, {\"source\": \"QDe.148\", \"target\": \"QDe.137\"}]}, {\"DATAID\": \"6908521\", \"linkCount\": 1, \"narrativeFileName\": \"TBD\", \"REFERENCE_NUMBER\": \"QDe.149\", \"id\": \"QDe.149\", \"name\": \"HARAKAT SHAM AL-ISLAM\", \"linksTo\": [\"QDe.137\"], \"links\": [{\"source\": \"QDe.149\", \"target\": \"QDe.137\"}]}, {\"DATAID\": \"6908485\", \"linkCount\": 3, \"narrativeFileName\": \"TBD\", \"REFERENCE_NUMBER\": \"QDe.150\", \"id\": \"QDe.150\", \"name\": \"MUJAHIDIN INDONESIAN TIMUR (MIT)\", \"linksTo\": [\"QDe.115\", \"QDe.092\", \"QDe.133\"], \"links\": [{\"source\": \"QDe.150\", \"target\": \"QDe.115\"}, {\"source\": \"QDe.150\", \"target\": \"QDe.092\"}, {\"source\": \"QDe.150\", \"target\": \"QDe.133\"}]}, {\"DATAID\": \"6908486\", \"linkCount\": 0, \"narrativeFileName\": \"TBD\", \"REFERENCE_NUMBER\": \"QDe.151\", \"id\": \"QDe.151\", \"name\": \"JUND AL-KHILAFAH IN ALGERIA (JAK-A)\", \"linksTo\": [], \"links\": []}, {\"DATAID\": \"6908599\", \"linkCount\": 2, \"narrativeFileName\": \"TBD\", \"REFERENCE_NUMBER\": \"QDe.152\", \"id\": \"QDe.152\", \"name\": \"JAMAAT-UL-AHRAR (JuA)\", \"linksTo\": [\"QDe.132\", \"QDe.115\"], \"links\": [{\"source\": \"QDe.152\", \"target\": \"QDe.132\"}, {\"source\": \"QDe.152\", \"target\": \"QDe.115\"}]}, {\"DATAID\": \"6908604\", \"linkCount\": 1, \"narrativeFileName\": \"TBD\", \"REFERENCE_NUMBER\": \"QDe.153\", \"id\": \"QDe.153\", \"name\": \"HANIFA MONEY EXCHANGE OFFICE (BRANCH LOCATED IN ALBU KAMAL,\\\\nSYRIAN ARAB REPUBLIC)\", \"linksTo\": [\"QDe.115\"], \"links\": [{\"source\": \"QDe.153\", \"target\": \"QDe.115\"}]}, {\"DATAID\": \"6908605\", \"linkCount\": 1, \"narrativeFileName\": \"TBD\", \"REFERENCE_NUMBER\": \"QDe.154\", \"id\": \"QDe.154\", \"name\": \"SELSELAT AL-THAHAB\", \"linksTo\": [\"QDe.115\"], \"links\": [{\"source\": \"QDe.154\", \"target\": \"QDe.115\"}]}, {\"DATAID\": \"6908606\", \"linkCount\": 1, \"narrativeFileName\": \"TBD\", \"REFERENCE_NUMBER\": \"QDe.155\", \"id\": \"QDe.155\", \"name\": \"Jaysh Khalid Ibn al Waleed\", \"linksTo\": [\"QDe.115\"], \"links\": [{\"source\": \"QDe.155\", \"target\": \"QDe.115\"}]}, {\"DATAID\": \"6908607\", \"linkCount\": 1, \"narrativeFileName\": \"TBD\", \"REFERENCE_NUMBER\": \"QDe.156\", \"id\": \"QDe.156\", \"name\": \"JUND AL AQSA\", \"linksTo\": [\"QDe.137\"], \"links\": [{\"source\": \"QDe.156\", \"target\": \"QDe.137\"}]}, {\"DATAID\": \"6908660\", \"linkCount\": 3, \"narrativeFileName\": \"TBD\", \"REFERENCE_NUMBER\": \"QDe.157\", \"id\": \"QDe.157\", \"name\": \"AL-KAWTHAR MONEY EXCHANGE\", \"linksTo\": [\"QDi.412\", \"QDe.115\"], \"links\": [{\"source\": \"QDe.157\", \"target\": \"QDi.412\"}, {\"source\": \"QDe.157\", \"target\": \"QDe.115\"}]}, {\"DATAID\": \"6908669\", \"linkCount\": 2, \"narrativeFileName\": \"TBD\", \"REFERENCE_NUMBER\": \"QDe.158\", \"id\": \"QDe.158\", \"name\": \"KHATIBA IMAM AL-BUKHARI (KIB)\", \"linksTo\": [\"QDe.137\"], \"links\": [{\"source\": \"QDe.158\", \"target\": \"QDe.137\"}]}, {\"DATAID\": \"6908726\", \"linkCount\": 9, \"narrativeFileName\": \"TBD\", \"REFERENCE_NUMBER\": \"QDe.159\", \"id\": \"QDe.159\", \"name\": \"JAMA\\'A NUSRAT UL-ISLAM WA AL-MUSLIMIN (JNIM)\", \"linksTo\": [\"QDe.004\", \"QDe.014\", \"QDe.135\", \"QDe.141\"], \"links\": [{\"source\": \"QDe.159\", \"target\": \"QDe.004\"}, {\"source\": \"QDe.159\", \"target\": \"QDe.014\"}, {\"source\": \"QDe.159\", \"target\": \"QDe.135\"}, {\"source\": \"QDe.159\", \"target\": \"QDe.141\"}]}, {\"DATAID\": \"6908768\", \"linkCount\": 1, \"narrativeFileName\": \"TBD\", \"REFERENCE_NUMBER\": \"QDe.160\", \"id\": \"QDe.160\", \"name\": \"TARIQ GIDAR GROUP (TGG)\", \"linksTo\": [\"QDe.132\"], \"links\": [{\"source\": \"QDe.160\", \"target\": \"QDe.132\"}]}, {\"DATAID\": \"6908777\", \"linkCount\": 5, \"narrativeFileName\": \"TBD\", \"REFERENCE_NUMBER\": \"QDe.161\", \"id\": \"QDe.161\", \"name\": \"ISLAMIC STATE IN IRAQ AND THE LEVANT - KHORASAN (ISIL-K)\", \"linksTo\": [\"QDe.132\", \"QDe.115\"], \"links\": [{\"source\": \"QDe.161\", \"target\": \"QDe.132\"}, {\"source\": \"QDe.161\", \"target\": \"QDe.115\"}]}, {\"DATAID\": \"6908802\", \"linkCount\": 3, \"narrativeFileName\": \"TBD\", \"REFERENCE_NUMBER\": \"QDe.162\", \"id\": \"QDe.162\", \"name\": \"ISLAMIC STATE WEST AFRICA PROVINCE (ISWAP)\", \"linksTo\": [\"QDe.115\", \"QDi.322\", \"QDe.138\"], \"links\": [{\"source\": \"QDe.162\", \"target\": \"QDe.115\"}, {\"source\": \"QDe.162\", \"target\": \"QDi.322\"}, {\"source\": \"QDe.162\", \"target\": \"QDe.138\"}]}, {\"DATAID\": \"6908803\", \"linkCount\": 3, \"narrativeFileName\": \"TBD\", \"REFERENCE_NUMBER\": \"QDe.163\", \"id\": \"QDe.163\", \"name\": \"ISLAMIC STATE IN THE GREATER SAHARA (ISGS)\", \"linksTo\": [\"QDi.415\", \"QDe.115\", \"QDe.141\"], \"links\": [{\"source\": \"QDe.163\", \"target\": \"QDi.415\"}, {\"source\": \"QDe.163\", \"target\": \"QDe.115\"}, {\"source\": \"QDe.163\", \"target\": \"QDe.141\"}]}, {\"DATAID\": \"6908835\", \"linkCount\": 1, \"narrativeFileName\": \"TBD\", \"REFERENCE_NUMBER\": \"QDe.164\", \"id\": \"QDe.164\", \"name\": \"JAMAAH ANSHARUT DAULAH\", \"linksTo\": [\"QDe.115\"], \"links\": [{\"source\": \"QDe.164\", \"target\": \"QDe.115\"}]}, {\"DATAID\": \"6908836\", \"linkCount\": 2, \"narrativeFileName\": \"TBD\", \"REFERENCE_NUMBER\": \"QDe.165\", \"id\": \"QDe.165\", \"name\": \"ISLAMIC STATE IN IRAQ AND THE LEVANT - LIBYA\", \"linksTo\": [\"QDi.299\", \"QDe.115\"], \"links\": [{\"source\": \"QDe.165\", \"target\": \"QDi.299\"}, {\"source\": \"QDe.165\", \"target\": \"QDe.115\"}]}, {\"DATAID\": \"6908837\", \"linkCount\": 2, \"narrativeFileName\": \"TBD\", \"REFERENCE_NUMBER\": \"QDe.166\", \"id\": \"QDe.166\", \"name\": \"ISLAMIC STATE IN IRAQ AND THE LEVANT - YEMEN\", \"linksTo\": [\"QDi.299\", \"QDe.115\"], \"links\": [{\"source\": \"QDe.166\", \"target\": \"QDi.299\"}, {\"source\": \"QDe.166\", \"target\": \"QDe.115\"}]}, {\"DATAID\": \"6908862\", \"linkCount\": 1, \"narrativeFileName\": \"TBD\", \"REFERENCE_NUMBER\": \"QDe.167\", \"id\": \"QDe.167\", \"name\": \"JUND AL-KHILAFAH IN TUNISIA (JAK-T)\", \"linksTo\": [\"QDe.115\"], \"links\": [{\"source\": \"QDe.167\", \"target\": \"QDe.115\"}]}, {\"DATAID\": \"6908877\", \"linkCount\": 3, \"narrativeFileName\": \"TBD\", \"REFERENCE_NUMBER\": \"QDe.168\", \"id\": \"QDe.168\", \"name\": \"KHATIBA AL-TAWHID WAL-JIHAD (KTJ)\", \"linksTo\": [\"QDe.137\", \"QDe.158\", \"QDe.119\"], \"links\": [{\"source\": \"QDe.168\", \"target\": \"QDe.137\"}, {\"source\": \"QDe.168\", \"target\": \"QDe.158\"}, {\"source\": \"QDe.168\", \"target\": \"QDe.119\"}]}, {\"DATAID\": \"6908886\", \"linkCount\": 2, \"narrativeFileName\": \"TBD\", \"REFERENCE_NUMBER\": \"QDe.169\", \"id\": \"QDe.169\", \"name\": \"Islamic State In Iraq And the Levant In South-East Asia\\\\n                (ISIL-SEA, ISIL-South East Asia)\", \"linksTo\": [\"QDi.204\", \"QDe.115\"], \"links\": [{\"source\": \"QDe.169\", \"target\": \"QDi.204\"}, {\"source\": \"QDe.169\", \"target\": \"QDe.115\"}]}], \"links\": [{\"source\": \"QDi.006\", \"target\": \"QDe.004\"}, {\"source\": \"QDi.006\", \"target\": \"QDe.003\"}, {\"source\": \"QDi.012\", \"target\": \"QDe.098\"}, {\"source\": \"QDi.020\", \"target\": \"QDe.004\"}, {\"source\": \"QDi.029\", \"target\": \"QDe.115\"}, {\"source\": \"QDi.042\", \"target\": \"QDe.002\"}, {\"source\": \"QDi.056\", \"target\": \"QDe.068\"}, {\"source\": \"QDi.057\", \"target\": \"QDe.069\"}, {\"source\": \"QDi.057\", \"target\": \"QDe.070\"}, {\"source\": \"QDi.057\", \"target\": \"QDe.011\"}, {\"source\": \"QDi.058\", \"target\": \"QDe.069\"}, {\"source\": \"QDi.058\", \"target\": \"QDe.004\"}, {\"source\": \"QDi.060\", \"target\": \"QDe.143\"}, {\"source\": \"QDi.080\", \"target\": \"QDe.004\"}, {\"source\": \"QDi.087\", \"target\": \"QDe.092\"}, {\"source\": \"QDi.087\", \"target\": \"QDi.218\"}, {\"source\": \"QDi.124\", \"target\": \"QDe.092\"}, {\"source\": \"QDi.124\", \"target\": \"QDe.004\"}, {\"source\": \"QDi.136\", \"target\": \"QDe.014\"}, {\"source\": \"QDi.136\", \"target\": \"QDe.139\"}, {\"source\": \"QDi.136\", \"target\": \"QDe.140\"}, {\"source\": \"QDi.136\", \"target\": \"QDe.141\"}, {\"source\": \"QDi.152\", \"target\": \"QDe.014\"}, {\"source\": \"QDi.167\", \"target\": \"QDe.014\"}, {\"source\": \"QDi.186\", \"target\": \"QDe.092\"}, {\"source\": \"QDi.192\", \"target\": \"QDe.003\"}, {\"source\": \"QDi.193\", \"target\": \"QDe.003\"}, {\"source\": \"QDi.196\", \"target\": \"QDe.004\"}, {\"source\": \"QDi.196\", \"target\": \"QDe.003\"}, {\"source\": \"QDi.204\", \"target\": \"QDe.001\"}, {\"source\": \"QDi.204\", \"target\": \"QDe.115\"}, {\"source\": \"QDi.216\", \"target\": \"QDe.092\"}, {\"source\": \"QDi.217\", \"target\": \"QDe.133\"}, {\"source\": \"QDi.218\", \"target\": \"QDi.087\"}, {\"source\": \"QDi.223\", \"target\": \"QDe.011\"}, {\"source\": \"QDi.229\", \"target\": \"QDe.011\"}, {\"source\": \"QDi.231\", \"target\": \"QDe.011\"}, {\"source\": \"QDi.231\", \"target\": \"QDe.004\"}, {\"source\": \"QDi.232\", \"target\": \"QDe.014\"}, {\"source\": \"QDi.241\", \"target\": \"QDe.128\"}, {\"source\": \"QDi.241\", \"target\": \"QDe.001\"}, {\"source\": \"QDi.241\", \"target\": \"QDe.092\"}, {\"source\": \"QDi.242\", \"target\": \"QDe.128\"}, {\"source\": \"QDi.243\", \"target\": \"QDe.128\"}, {\"source\": \"QDi.244\", \"target\": \"QDe.128\"}, {\"source\": \"QDi.244\", \"target\": \"QDe.001\"}, {\"source\": \"QDi.245\", \"target\": \"QDe.128\"}, {\"source\": \"QDi.245\", \"target\": \"QDe.001\"}, {\"source\": \"QDi.245\", \"target\": \"QDe.092\"}, {\"source\": \"QDi.246\", \"target\": \"QDe.128\"}, {\"source\": \"QDi.246\", \"target\": \"QDe.001\"}, {\"source\": \"QDi.247\", \"target\": \"QDe.128\"}, {\"source\": \"QDi.248\", \"target\": \"QDe.128\"}, {\"source\": \"QDi.249\", \"target\": \"QDe.014\"}, {\"source\": \"QDi.250\", \"target\": \"QDe.014\"}, {\"source\": \"QDi.251\", \"target\": \"QDe.014\"}, {\"source\": \"QDi.251\", \"target\": \"QDi.232\"}, {\"source\": \"QDi.252\", \"target\": \"QDe.014\"}, {\"source\": \"QDi.261\", \"target\": \"QDe.119\"}, {\"source\": \"QDi.263\", \"target\": \"QDe.118\"}, {\"source\": \"QDi.264\", \"target\": \"QDe.118\"}, {\"source\": \"QDi.265\", \"target\": \"QDe.118\"}, {\"source\": \"QDi.266\", \"target\": \"QDe.118\"}, {\"source\": \"QDi.268\", \"target\": \"QDe.088\"}, {\"source\": \"QDi.271\", \"target\": \"QDe.118\"}, {\"source\": \"QDi.271\", \"target\": \"QDe.004\"}, {\"source\": \"QDi.272\", \"target\": \"QDe.118\"}, {\"source\": \"QDi.273\", \"target\": \"QDe.004\"}, {\"source\": \"QDi.276\", \"target\": \"QDi.277\"}, {\"source\": \"QDi.276\", \"target\": \"QDe.115\"}, {\"source\": \"QDi.277\", \"target\": \"QDi.276\"}, {\"source\": \"QDi.277\", \"target\": \"QDe.115\"}, {\"source\": \"QDi.278\", \"target\": \"QDe.115\"}, {\"source\": \"QDi.279\", \"target\": \"QDe.159\"}, {\"source\": \"QDi.279\", \"target\": \"QDe.014\"}, {\"source\": \"QDi.280\", \"target\": \"QDe.159\"}, {\"source\": \"QDi.280\", \"target\": \"QDe.014\"}, {\"source\": \"QDi.282\", \"target\": \"QDe.129\"}, {\"source\": \"QDi.282\", \"target\": \"QDi.006\"}, {\"source\": \"QDi.289\", \"target\": \"QDe.004\"}, {\"source\": \"QDi.291\", \"target\": \"QDe.129\"}, {\"source\": \"QDi.291\", \"target\": \"QDi.282\"}, {\"source\": \"QDi.291\", \"target\": \"QDi.283\"}, {\"source\": \"QDi.292\", \"target\": \"QDe.129\"}, {\"source\": \"QDi.292\", \"target\": \"QDi.282\"}, {\"source\": \"QDi.293\", \"target\": \"QDe.092\"}, {\"source\": \"QDi.293\", \"target\": \"QDi.217\"}, {\"source\": \"QDi.294\", \"target\": \"QDe.092\"}, {\"source\": \"QDi.294\", \"target\": \"QDe.001\"}, {\"source\": \"QDi.295\", \"target\": \"QDe.092\"}, {\"source\": \"QDi.295\", \"target\": \"QDi.086\"}, {\"source\": \"QDi.296\", \"target\": \"QDe.096\"}, {\"source\": \"QDi.296\", \"target\": \"QDe.130\"}, {\"source\": \"QDi.298\", \"target\": \"QDe.004\"}, {\"source\": \"QDi.298\", \"target\": \"QDe.014\"}, {\"source\": \"QDi.299\", \"target\": \"QDe.115\"}, {\"source\": \"QDi.300\", \"target\": \"QDe.010\"}, {\"source\": \"QDi.300\", \"target\": \"QDi.301\"}, {\"source\": \"QDi.301\", \"target\": \"QDe.010\"}, {\"source\": \"QDi.301\", \"target\": \"QDi.300\"}, {\"source\": \"QDi.303\", \"target\": \"QDe.010\"}, {\"source\": \"QDi.303\", \"target\": \"QDe.004\"}, {\"source\": \"QDi.304\", \"target\": \"QDe.133\"}, {\"source\": \"QDi.304\", \"target\": \"QDi.217\"}, {\"source\": \"QDi.304\", \"target\": \"QDi.293\"}, {\"source\": \"QDi.304\", \"target\": \"QDe.092\"}, {\"source\": \"QDi.305\", \"target\": \"QDi.217\"}, {\"source\": \"QDi.305\", \"target\": \"QDi.293\"}, {\"source\": \"QDi.305\", \"target\": \"QDe.133\"}, {\"source\": \"QDi.305\", \"target\": \"QDe.092\"}, {\"source\": \"QDi.306\", \"target\": \"QDe.004\"}, {\"source\": \"QDi.307\", \"target\": \"QDe.118\"}, {\"source\": \"QDi.307\", \"target\": \"QDi.263\"}, {\"source\": \"QDi.308\", \"target\": \"QDe.118\"}, {\"source\": \"QDi.309\", \"target\": \"QDe.004\"}, {\"source\": \"QDi.309\", \"target\": \"QDe.130\"}, {\"source\": \"QDi.309\", \"target\": \"QDe.019\"}, {\"source\": \"QDi.309\", \"target\": \"QDe.121\"}, {\"source\": \"QDi.311\", \"target\": \"QDe.010\"}, {\"source\": \"QDi.311\", \"target\": \"QDi.303\"}, {\"source\": \"QDi.312\", \"target\": \"QDe.132\"}, {\"source\": \"QDi.313\", \"target\": \"QDe.014\"}, {\"source\": \"QDi.314\", \"target\": \"QDe.134\"}, {\"source\": \"QDi.314\", \"target\": \"QDe.014\"}, {\"source\": \"QDi.314\", \"target\": \"QDi.136\"}, {\"source\": \"QDi.315\", \"target\": \"QDe.134\"}, {\"source\": \"QDi.315\", \"target\": \"QDe.014\"}, {\"source\": \"QDi.316\", \"target\": \"QDe.135\"}, {\"source\": \"QDi.316\", \"target\": \"QDe.014\"}, {\"source\": \"QDi.316\", \"target\": \"QDe.134\"}, {\"source\": \"QDi.317\", \"target\": \"QDe.137\"}, {\"source\": \"QDi.317\", \"target\": \"QDe.115\"}, {\"source\": \"QDi.317\", \"target\": \"QDi.006\"}, {\"source\": \"QDi.318\", \"target\": \"QDe.004\"}, {\"source\": \"QDi.318\", \"target\": \"QDe.003\"}, {\"source\": \"QDi.318\", \"target\": \"QDe.136\"}, {\"source\": \"QDi.318\", \"target\": \"QDe.129\"}, {\"source\": \"QDi.318\", \"target\": \"QDi.006\"}, {\"source\": \"QDi.318\", \"target\": \"QDe.014\"}, {\"source\": \"QDi.319\", \"target\": \"QDe.134\"}, {\"source\": \"QDi.322\", \"target\": \"QDe.138\"}, {\"source\": \"QDi.323\", \"target\": \"QDe.137\"}, {\"source\": \"QDi.324\", \"target\": \"QDe.004\"}, {\"source\": \"QDi.324\", \"target\": \"QDe.137\"}, {\"source\": \"QDi.325\", \"target\": \"QDe.115\"}, {\"source\": \"QDi.325\", \"target\": \"QDi.317\"}, {\"source\": \"QDi.325\", \"target\": \"QDi.299\"}, {\"source\": \"QDi.326\", \"target\": \"QDe.115\"}, {\"source\": \"QDi.326\", \"target\": \"QDe.137\"}, {\"source\": \"QDi.326\", \"target\": \"QDi.299\"}, {\"source\": \"QDi.326\", \"target\": \"QDi.317\"}, {\"source\": \"QDi.327\", \"target\": \"QDe.137\"}, {\"source\": \"QDi.328\", \"target\": \"QDe.137\"}, {\"source\": \"QDi.329\", \"target\": \"QDe.004\"}, {\"source\": \"QDi.330\", \"target\": \"QDe.004\"}, {\"source\": \"QDi.331\", \"target\": \"QDe.129\"}, {\"source\": \"QDi.332\", \"target\": \"QDe.144\"}, {\"source\": \"QDi.333\", \"target\": \"QDe.090\"}, {\"source\": \"QDi.333\", \"target\": \"QDe.143\"}, {\"source\": \"QDi.334\", \"target\": \"QDe.004\"}, {\"source\": \"QDi.334\", \"target\": \"QDe.115\"}, {\"source\": \"QDi.335\", \"target\": \"QDe.004\"}, {\"source\": \"QDi.335\", \"target\": \"QDe.115\"}, {\"source\": \"QDi.336\", \"target\": \"QDe.137\"}, {\"source\": \"QDi.337\", \"target\": \"QDe.137\"}, {\"source\": \"QDi.338\", \"target\": \"QDe.137\"}, {\"source\": \"QDi.339\", \"target\": \"QDe.115\"}, {\"source\": \"QDi.339\", \"target\": \"QDe.004\"}, {\"source\": \"QDi.340\", \"target\": \"QDe.115\"}, {\"source\": \"QDi.340\", \"target\": \"QDe.004\"}, {\"source\": \"QDi.341\", \"target\": \"QDe.137\"}, {\"source\": \"QDi.341\", \"target\": \"QDe.115\"}, {\"source\": \"QDi.342\", \"target\": \"QDe.137\"}, {\"source\": \"QDi.343\", \"target\": \"QDe.004\"}, {\"source\": \"QDi.343\", \"target\": \"QDe.137\"}, {\"source\": \"QDi.343\", \"target\": \"QDe.115\"}, {\"source\": \"QDi.344\", \"target\": \"QDe.004\"}, {\"source\": \"QDi.345\", \"target\": \"QDe.115\"}, {\"source\": \"QDi.348\", \"target\": \"QDe.092\"}, {\"source\": \"QDi.348\", \"target\": \"QDe.147\"}, {\"source\": \"QDi.349\", \"target\": \"QDe.092\"}, {\"source\": \"QDi.349\", \"target\": \"QDe.147\"}, {\"source\": \"QDi.350\", \"target\": \"QDe.092\"}, {\"source\": \"QDi.350\", \"target\": \"QDe.147\"}, {\"source\": \"QDi.352\", \"target\": \"QDe.132\"}, {\"source\": \"QDi.353\", \"target\": \"QDe.143\"}, {\"source\": \"QDi.354\", \"target\": \"QDe.115\"}, {\"source\": \"QDi.354\", \"target\": \"QDe.143\"}, {\"source\": \"QDi.355\", \"target\": \"QDe.145\"}, {\"source\": \"QDi.356\", \"target\": \"QDe.115\"}, {\"source\": \"QDi.357\", \"target\": \"QDe.115\"}, {\"source\": \"QDi.358\", \"target\": \"QDe.115\"}, {\"source\": \"QDi.359\", \"target\": \"QDe.115\"}, {\"source\": \"QDi.360\", \"target\": \"QDe.115\"}, {\"source\": \"QDi.361\", \"target\": \"QDe.115\"}, {\"source\": \"QDi.363\", \"target\": \"QDe.115\"}, {\"source\": \"QDi.364\", \"target\": \"QDe.115\"}, {\"source\": \"QDi.365\", \"target\": \"QDe.115\"}, {\"source\": \"QDi.366\", \"target\": \"QDe.115\"}, {\"source\": \"QDi.367\", \"target\": \"QDe.148\"}, {\"source\": \"QDi.368\", \"target\": \"QDe.137\"}, {\"source\": \"QDi.369\", \"target\": \"QDe.115\"}, {\"source\": \"QDi.369\", \"target\": \"QDe.129\"}, {\"source\": \"QDi.370\", \"target\": \"QDe.115\"}, {\"source\": \"QDi.371\", \"target\": \"QDe.004\"}, {\"source\": \"QDi.371\", \"target\": \"QDi.006\"}, {\"source\": \"QDi.372\", \"target\": \"QDe.115\"}, {\"source\": \"QDi.374\", \"target\": \"QDe.137\"}, {\"source\": \"QDi.375\", \"target\": \"QDe.115\"}, {\"source\": \"QDi.376\", \"target\": \"QDe.129\"}, {\"source\": \"QDi.377\", \"target\": \"QDe.004\"}, {\"source\": \"QDi.378\", \"target\": \"QDe.115\"}, {\"source\": \"QDi.380\", \"target\": \"QDe.004\"}, {\"source\": \"QDi.382\", \"target\": \"QDe.137\"}, {\"source\": \"QDi.383\", \"target\": \"QDe.115\"}, {\"source\": \"QDi.384\", \"target\": \"QDe.115\"}, {\"source\": \"QDi.385\", \"target\": \"QDe.115\"}, {\"source\": \"QDi.386\", \"target\": \"QDe.014\"}, {\"source\": \"QDi.386\", \"target\": \"QDe.115\"}, {\"source\": \"QDi.387\", \"target\": \"QDe.004\"}, {\"source\": \"QDi.388\", \"target\": \"QDe.115\"}, {\"source\": \"QDi.389\", \"target\": \"QDe.014\"}, {\"source\": \"QDi.392\", \"target\": \"QDe.115\"}, {\"source\": \"QDi.394\", \"target\": \"QDe.115\"}, {\"source\": \"QDi.394\", \"target\": \"QDi.299\"}, {\"source\": \"QDi.395\", \"target\": \"QDe.133\"}, {\"source\": \"QDi.395\", \"target\": \"QDe.115\"}, {\"source\": \"QDi.396\", \"target\": \"QDe.100\"}, {\"source\": \"QDi.397\", \"target\": \"QDe.137\"}, {\"source\": \"QDi.399\", \"target\": \"QDe.137\"}, {\"source\": \"QDi.400\", \"target\": \"QDe.137\"}, {\"source\": \"QDi.401\", \"target\": \"QDe.129\"}, {\"source\": \"QDi.403\", \"target\": \"QDe.115\"}, {\"source\": \"QDi.404\", \"target\": \"QDe.115\"}, {\"source\": \"QDi.405\", \"target\": \"QDe.115\"}, {\"source\": \"QDi.406\", \"target\": \"QDe.137\"}, {\"source\": \"QDi.407\", \"target\": \"QDe.115\"}, {\"source\": \"QDi.408\", \"target\": \"QDe.115\"}, {\"source\": \"QDi.409\", \"target\": \"QDe.115\"}, {\"source\": \"QDi.410\", \"target\": \"QDe.115\"}, {\"source\": \"QDi.411\", \"target\": \"QDe.115\"}, {\"source\": \"QDi.412\", \"target\": \"QDe.115\"}, {\"source\": \"QDi.412\", \"target\": \"QDe.157\"}, {\"source\": \"QDi.413\", \"target\": \"QDe.115\"}, {\"source\": \"QDi.414\", \"target\": \"QDe.115\"}, {\"source\": \"QDi.415\", \"target\": \"QDe.134\"}, {\"source\": \"QDi.415\", \"target\": \"QDe.141\"}, {\"source\": \"QDi.415\", \"target\": \"QDe.115\"}, {\"source\": \"QDi.416\", \"target\": \"QDe.115\"}, {\"source\": \"QDi.417\", \"target\": \"QDe.115\"}, {\"source\": \"QDi.418\", \"target\": \"QDe.115\"}, {\"source\": \"QDi.419\", \"target\": \"QDe.115\"}, {\"source\": \"QDi.421\", \"target\": \"QDi.006\"}, {\"source\": \"QDi.421\", \"target\": \"QDe.004\"}, {\"source\": \"QDi.422\", \"target\": \"QDe.019\"}, {\"source\": \"QDi.422\", \"target\": \"QDe.008\"}, {\"source\": \"QDi.423\", \"target\": \"QDe.014\"}, {\"source\": \"QDi.423\", \"target\": \"QDe.135\"}, {\"source\": \"QDi.423\", \"target\": \"QDe.159\"}, {\"source\": \"QDi.424\", \"target\": \"QDe.135\"}, {\"source\": \"QDi.424\", \"target\": \"QDe.159\"}, {\"source\": \"QDi.425\", \"target\": \"QDe.159\"}, {\"source\": \"QDi.425\", \"target\": \"QDe.014\"}, {\"source\": \"QDi.426\", \"target\": \"QDe.115\"}, {\"source\": \"QDi.427\", \"target\": \"QDe.132\"}, {\"source\": \"QDi.427\", \"target\": \"QDi.352\"}, {\"source\": \"QDi.428\", \"target\": \"QDe.137\"}, {\"source\": \"QDi.429\", \"target\": \"QDe.115\"}, {\"source\": \"QDi.430\", \"target\": \"QDe.115\"}, {\"source\": \"QDi.431\", \"target\": \"QDe.161\"}, {\"source\": \"QDi.432\", \"target\": \"QDe.115\"}, {\"source\": \"QDi.433\", \"target\": \"QDe.118\"}, {\"source\": \"QDi.433\", \"target\": \"QDi.263\"}, {\"source\": \"QDi.434\", \"target\": \"QDe.161\"}, {\"source\": \"QDi.435\", \"target\": \"QDe.161\"}, {\"source\": \"QDe.001\", \"target\": \"QDe.092\"}, {\"source\": \"QDe.001\", \"target\": \"QDi.208\"}, {\"source\": \"QDe.002\", \"target\": \"QDe.004\"}, {\"source\": \"QDe.002\", \"target\": \"QDi.006\"}, {\"source\": \"QDe.002\", \"target\": \"QDi.042\"}, {\"source\": \"QDe.002\", \"target\": \"QDe.072\"}, {\"source\": \"QDe.003\", \"target\": \"QDi.006\"}, {\"source\": \"QDe.005\", \"target\": \"QDe.073\"}, {\"source\": \"QDe.005\", \"target\": \"QDe.073\"}, {\"source\": \"QDe.005\", \"target\": \"QDe.019\"}, {\"source\": \"QDe.007\", \"target\": \"QDe.115\"}, {\"source\": \"QDe.008\", \"target\": \"QDe.019\"}, {\"source\": \"QDe.008\", \"target\": \"QDe.096\"}, {\"source\": \"QDe.008\", \"target\": \"QDe.118\"}, {\"source\": \"QDe.010\", \"target\": \"QDe.088\"}, {\"source\": \"QDe.010\", \"target\": \"QDe.119\"}, {\"source\": \"QDe.010\", \"target\": \"QDe.131\"}, {\"source\": \"QDe.011\", \"target\": \"QDe.004\"}, {\"source\": \"QDe.012\", \"target\": \"QDe.004\"}, {\"source\": \"QDe.014\", \"target\": \"QDi.232\"}, {\"source\": \"QDe.015\", \"target\": \"QDe.004\"}, {\"source\": \"QDe.019\", \"target\": \"QDe.008\"}, {\"source\": \"QDe.019\", \"target\": \"QDe.118\"}, {\"source\": \"QDe.019\", \"target\": \"QDe.121\"}, {\"source\": \"QDe.019\", \"target\": \"QDe.130\"}, {\"source\": \"QDe.068\", \"target\": \"QDi.055\"}, {\"source\": \"QDe.068\", \"target\": \"QDi.054\"}, {\"source\": \"QDe.068\", \"target\": \"QDi.056\"}, {\"source\": \"QDe.069\", \"target\": \"QDe.070\"}, {\"source\": \"QDe.069\", \"target\": \"QDi.058\"}, {\"source\": \"QDe.070\", \"target\": \"QDi.058\"}, {\"source\": \"QDe.070\", \"target\": \"QDe.069\"}, {\"source\": \"QDe.089\", \"target\": \"QDe.014\"}, {\"source\": \"QDe.090\", \"target\": \"QDe.014\"}, {\"source\": \"QDe.092\", \"target\": \"QDe.001\"}, {\"source\": \"QDe.098\", \"target\": \"QDi.226\"}, {\"source\": \"QDe.098\", \"target\": \"QDe.115\"}, {\"source\": \"QDe.099\", \"target\": \"QDe.100\"}, {\"source\": \"QDe.099\", \"target\": \"QDe.101\"}, {\"source\": \"QDe.100\", \"target\": \"QDe.099\"}, {\"source\": \"QDe.100\", \"target\": \"QDe.101\"}, {\"source\": \"QDe.100\", \"target\": \"QDe.131\"}, {\"source\": \"QDe.101\", \"target\": \"QDe.099\"}, {\"source\": \"QDe.101\", \"target\": \"QDe.100\"}, {\"source\": \"QDe.118\", \"target\": \"QDi.263\"}, {\"source\": \"QDe.119\", \"target\": \"QDe.010\"}, {\"source\": \"QDe.119\", \"target\": \"QDe.131\"}, {\"source\": \"QDe.121\", \"target\": \"QDe.019\"}, {\"source\": \"QDe.121\", \"target\": \"QDe.008\"}, {\"source\": \"QDe.121\", \"target\": \"QDe.096\"}, {\"source\": \"QDe.121\", \"target\": \"QDe.118\"}, {\"source\": \"QDe.128\", \"target\": \"QDi.244\"}, {\"source\": \"QDe.128\", \"target\": \"QDe.001\"}, {\"source\": \"QDe.128\", \"target\": \"QDe.092\"}, {\"source\": \"QDe.129\", \"target\": \"QDe.004\"}, {\"source\": \"QDe.129\", \"target\": \"QDi.282\"}, {\"source\": \"QDe.130\", \"target\": \"QDe.008\"}, {\"source\": \"QDe.131\", \"target\": \"QDi.290\"}, {\"source\": \"QDe.132\", \"target\": \"QDi.352\"}, {\"source\": \"QDe.133\", \"target\": \"QDe.115\"}, {\"source\": \"QDe.133\", \"target\": \"QDi.217\"}, {\"source\": \"QDe.133\", \"target\": \"QDe.092\"}, {\"source\": \"QDe.134\", \"target\": \"QDe.014\"}, {\"source\": \"QDe.134\", \"target\": \"QDi.136\"}, {\"source\": \"QDe.135\", \"target\": \"QDi.316\"}, {\"source\": \"QDe.135\", \"target\": \"QDe.014\"}, {\"source\": \"QDe.135\", \"target\": \"QDe.134\"}, {\"source\": \"QDe.135\", \"target\": \"QDi.232\"}, {\"source\": \"QDe.136\", \"target\": \"QDi.318\"}, {\"source\": \"QDe.136\", \"target\": \"QDe.004\"}, {\"source\": \"QDe.136\", \"target\": \"QDi.006\"}, {\"source\": \"QDe.136\", \"target\": \"QDe.129\"}, {\"source\": \"QDe.136\", \"target\": \"QDe.014\"}, {\"source\": \"QDe.137\", \"target\": \"QDe.004\"}, {\"source\": \"QDe.137\", \"target\": \"QDe.115\"}, {\"source\": \"QDe.137\", \"target\": \"QDe.007\"}, {\"source\": \"QDe.137\", \"target\": \"QDe.115\"}, {\"source\": \"QDe.137\", \"target\": \"QDi.299\"}, {\"source\": \"QDe.137\", \"target\": \"QDi.317\"}, {\"source\": \"QDe.137\", \"target\": \"QDe.115\"}, {\"source\": \"QDe.138\", \"target\": \"QDe.004\"}, {\"source\": \"QDe.138\", \"target\": \"QDe.014\"}, {\"source\": \"QDe.139\", \"target\": \"QDe.014\"}, {\"source\": \"QDe.139\", \"target\": \"QDi.136\"}, {\"source\": \"QDe.140\", \"target\": \"QDe.014\"}, {\"source\": \"QDe.140\", \"target\": \"QDe.134\"}, {\"source\": \"QDe.140\", \"target\": \"QDe.141\"}, {\"source\": \"QDe.140\", \"target\": \"QDe.014\"}, {\"source\": \"QDe.140\", \"target\": \"QDi.136\"}, {\"source\": \"QDe.141\", \"target\": \"QDe.140\"}, {\"source\": \"QDe.141\", \"target\": \"QDe.134\"}, {\"source\": \"QDe.141\", \"target\": \"QDe.014\"}, {\"source\": \"QDe.141\", \"target\": \"QDi.136\"}, {\"source\": \"QDe.142\", \"target\": \"QDe.014\"}, {\"source\": \"QDe.142\", \"target\": \"QDe.138\"}, {\"source\": \"QDe.143\", \"target\": \"QDe.014\"}, {\"source\": \"QDe.143\", \"target\": \"QDi.333\"}, {\"source\": \"QDe.144\", \"target\": \"QDe.137\"}, {\"source\": \"QDe.145\", \"target\": \"QDe.014\"}, {\"source\": \"QDe.145\", \"target\": \"QDe.143\"}, {\"source\": \"QDe.145\", \"target\": \"QDe.146\"}, {\"source\": \"QDe.146\", \"target\": \"QDe.014\"}, {\"source\": \"QDe.146\", \"target\": \"QDe.141\"}, {\"source\": \"QDe.146\", \"target\": \"QDe.143\"}, {\"source\": \"QDe.146\", \"target\": \"QDe.145\"}, {\"source\": \"QDe.147\", \"target\": \"QDe.092\"}, {\"source\": \"QDe.148\", \"target\": \"QDe.115\"}, {\"source\": \"QDe.148\", \"target\": \"QDe.137\"}, {\"source\": \"QDe.149\", \"target\": \"QDe.137\"}, {\"source\": \"QDe.150\", \"target\": \"QDe.115\"}, {\"source\": \"QDe.150\", \"target\": \"QDe.092\"}, {\"source\": \"QDe.150\", \"target\": \"QDe.133\"}, {\"source\": \"QDe.152\", \"target\": \"QDe.132\"}, {\"source\": \"QDe.152\", \"target\": \"QDe.115\"}, {\"source\": \"QDe.153\", \"target\": \"QDe.115\"}, {\"source\": \"QDe.154\", \"target\": \"QDe.115\"}, {\"source\": \"QDe.155\", \"target\": \"QDe.115\"}, {\"source\": \"QDe.156\", \"target\": \"QDe.137\"}, {\"source\": \"QDe.157\", \"target\": \"QDi.412\"}, {\"source\": \"QDe.157\", \"target\": \"QDe.115\"}, {\"source\": \"QDe.158\", \"target\": \"QDe.137\"}, {\"source\": \"QDe.159\", \"target\": \"QDe.004\"}, {\"source\": \"QDe.159\", \"target\": \"QDe.014\"}, {\"source\": \"QDe.159\", \"target\": \"QDe.135\"}, {\"source\": \"QDe.159\", \"target\": \"QDe.141\"}, {\"source\": \"QDe.160\", \"target\": \"QDe.132\"}, {\"source\": \"QDe.161\", \"target\": \"QDe.132\"}, {\"source\": \"QDe.161\", \"target\": \"QDe.115\"}, {\"source\": \"QDe.162\", \"target\": \"QDe.115\"}, {\"source\": \"QDe.162\", \"target\": \"QDi.322\"}, {\"source\": \"QDe.162\", \"target\": \"QDe.138\"}, {\"source\": \"QDe.163\", \"target\": \"QDi.415\"}, {\"source\": \"QDe.163\", \"target\": \"QDe.115\"}, {\"source\": \"QDe.163\", \"target\": \"QDe.141\"}, {\"source\": \"QDe.164\", \"target\": \"QDe.115\"}, {\"source\": \"QDe.165\", \"target\": \"QDi.299\"}, {\"source\": \"QDe.165\", \"target\": \"QDe.115\"}, {\"source\": \"QDe.166\", \"target\": \"QDi.299\"}, {\"source\": \"QDe.166\", \"target\": \"QDe.115\"}, {\"source\": \"QDe.167\", \"target\": \"QDe.115\"}, {\"source\": \"QDe.168\", \"target\": \"QDe.137\"}, {\"source\": \"QDe.168\", \"target\": \"QDe.158\"}, {\"source\": \"QDe.168\", \"target\": \"QDe.119\"}, {\"source\": \"QDe.169\", \"target\": \"QDi.204\"}, {\"source\": \"QDe.169\", \"target\": \"QDe.115\"}]}'"
      ]
     },
     "execution_count": 105,
     "metadata": {},
     "output_type": "execute_result"
    },
    {
     "output_type": "display_data",
     "data": {
      "text/plain": [
       "\u001B[0;31m---------------------------------------------------------------------------\u001B[0m\n",
       "\u001B[0;31mTypeError\u001B[0m                                 Traceback (most recent call last)\n",
       "File \u001B[0;32m<command-4295812964398075>, line 1\u001B[0m\n",
       "\u001B[0;32m----> 1\u001B[0m json\u001B[38;5;241m.\u001B[39mdump(data, ensure_ascii\u001B[38;5;241m=\u001B[39m\u001B[38;5;28;01mFalse\u001B[39;00m, indent\u001B[38;5;241m=\u001B[39m\u001B[38;5;241m4\u001B[39m)\n",
       "\n",
       "\u001B[0;31mTypeError\u001B[0m: dump() missing 1 required positional argument: 'fp'"
      ]
     },
     "metadata": {
      "application/vnd.databricks.v1+output": {
       "addedWidgets": {},
       "arguments": {},
       "datasetInfos": [],
       "jupyterProps": {
        "ename": "TypeError",
        "evalue": "dump() missing 1 required positional argument: 'fp'"
       },
       "metadata": {
        "errorSummary": ""
       },
       "removedWidgets": [],
       "sqlProps": null,
       "stackFrames": [
        "\u001B[0;31m---------------------------------------------------------------------------\u001B[0m",
        "\u001B[0;31mTypeError\u001B[0m                                 Traceback (most recent call last)",
        "File \u001B[0;32m<command-4295812964398075>, line 1\u001B[0m\n\u001B[0;32m----> 1\u001B[0m json\u001B[38;5;241m.\u001B[39mdump(data, ensure_ascii\u001B[38;5;241m=\u001B[39m\u001B[38;5;28;01mFalse\u001B[39;00m, indent\u001B[38;5;241m=\u001B[39m\u001B[38;5;241m4\u001B[39m)\n",
        "\u001B[0;31mTypeError\u001B[0m: dump() missing 1 required positional argument: 'fp'"
       ],
       "type": "baseError"
      }
     },
     "output_type": "display_data"
    }
   ],
   "source": [
    "json.dumps(data, ensure_ascii=False)  # , ensure_ascii=False, indent=4)"
   ]
  },
  {
   "cell_type": "code",
   "execution_count": 0,
   "metadata": {
    "application/vnd.databricks.v1+cell": {
     "cellMetadata": {
      "byteLimit": 2048000,
      "rowLimit": 10000
     },
     "inputWidgets": {},
     "nuid": "b80e9056-bd52-47dd-9c66-eb233d22e725",
     "showTitle": false,
     "title": ""
    }
   },
   "outputs": [
    {
     "output_type": "display_data",
     "data": {
      "text/html": [
       "<style scoped>\n",
       "  .table-result-container {\n",
       "    max-height: 300px;\n",
       "    overflow: auto;\n",
       "  }\n",
       "  table, th, td {\n",
       "    border: 1px solid black;\n",
       "    border-collapse: collapse;\n",
       "  }\n",
       "  th, td {\n",
       "    padding: 5px;\n",
       "  }\n",
       "  th {\n",
       "    text-align: left;\n",
       "  }\n",
       "</style><div class='table-result-container'><table class='table-result'><thead style='background-color: white'><tr><th>path</th><th>name</th><th>size</th><th>modificationTime</th></tr></thead><tbody><tr><td>dbfs:/FileStore/</td><td>FileStore/</td><td>0</td><td>1717861809978</td></tr><tr><td>dbfs:/Volumes/</td><td>Volumes/</td><td>0</td><td>0</td></tr><tr><td>dbfs:/databricks-datasets/</td><td>databricks-datasets/</td><td>0</td><td>0</td></tr><tr><td>dbfs:/databricks-results/</td><td>databricks-results/</td><td>0</td><td>0</td></tr><tr><td>dbfs:/delta/</td><td>delta/</td><td>0</td><td>1717861809978</td></tr><tr><td>dbfs:/mnt/</td><td>mnt/</td><td>0</td><td>1717861809978</td></tr><tr><td>dbfs:/pipelines/</td><td>pipelines/</td><td>0</td><td>1717861809978</td></tr><tr><td>dbfs:/tmp/</td><td>tmp/</td><td>0</td><td>1717861809978</td></tr><tr><td>dbfs:/user/</td><td>user/</td><td>0</td><td>1717861809978</td></tr></tbody></table></div>"
      ]
     },
     "metadata": {
      "application/vnd.databricks.v1+output": {
       "addedWidgets": {},
       "aggData": [],
       "aggError": "",
       "aggOverflow": false,
       "aggSchema": [],
       "aggSeriesLimitReached": false,
       "aggType": "",
       "arguments": {},
       "columnCustomDisplayInfos": {},
       "data": [
        [
         "dbfs:/FileStore/",
         "FileStore/",
         0,
         1717861809978
        ],
        [
         "dbfs:/Volumes/",
         "Volumes/",
         0,
         0
        ],
        [
         "dbfs:/databricks-datasets/",
         "databricks-datasets/",
         0,
         0
        ],
        [
         "dbfs:/databricks-results/",
         "databricks-results/",
         0,
         0
        ],
        [
         "dbfs:/delta/",
         "delta/",
         0,
         1717861809978
        ],
        [
         "dbfs:/mnt/",
         "mnt/",
         0,
         1717861809978
        ],
        [
         "dbfs:/pipelines/",
         "pipelines/",
         0,
         1717861809978
        ],
        [
         "dbfs:/tmp/",
         "tmp/",
         0,
         1717861809978
        ],
        [
         "dbfs:/user/",
         "user/",
         0,
         1717861809978
        ]
       ],
       "datasetInfos": [],
       "dbfsResultPath": null,
       "isJsonSchema": true,
       "metadata": {},
       "overflow": false,
       "plotOptions": {
        "customPlotOptions": {},
        "displayType": "table",
        "pivotAggregation": null,
        "pivotColumns": null,
        "xColumns": null,
        "yColumns": null
       },
       "removedWidgets": [],
       "schema": [
        {
         "metadata": "{}",
         "name": "path",
         "type": "\"string\""
        },
        {
         "metadata": "{}",
         "name": "name",
         "type": "\"string\""
        },
        {
         "metadata": "{}",
         "name": "size",
         "type": "\"long\""
        },
        {
         "metadata": "{}",
         "name": "modificationTime",
         "type": "\"long\""
        }
       ],
       "type": "table"
      }
     },
     "output_type": "display_data"
    },
    {
     "output_type": "display_data",
     "data": {
      "text/html": [
       "<style scoped>\n",
       "  .ansiout {\n",
       "    display: block;\n",
       "    unicode-bidi: embed;\n",
       "    white-space: pre-wrap;\n",
       "    word-wrap: break-word;\n",
       "    word-break: break-all;\n",
       "    font-family: \"Menlo\", \"Monaco\", \"Consolas\", \"Ubuntu Mono\", \"Source Code Pro\", monospace;\n",
       "    font-size: 13px;\n",
       "    color: #555;\n",
       "    margin-left: 4px;\n",
       "    line-height: 19px;\n",
       "  }\n",
       "</style>"
      ]
     },
     "metadata": {
      "application/vnd.databricks.v1+output": {
       "arguments": {},
       "data": "",
       "errorSummary": "",
       "errorTraceType": null,
       "metadata": {},
       "type": "ipynbError"
      }
     },
     "output_type": "display_data"
    }
   ],
   "source": [
    "%fs\n",
    "ls"
   ]
  },
  {
   "cell_type": "code",
   "execution_count": 0,
   "metadata": {
    "application/vnd.databricks.v1+cell": {
     "cellMetadata": {
      "byteLimit": 2048000,
      "rowLimit": 10000
     },
     "inputWidgets": {},
     "nuid": "820b78ab-c372-496f-9701-b9085831575a",
     "showTitle": false,
     "title": ""
    }
   },
   "outputs": [
    {
     "output_type": "display_data",
     "data": {
      "text/plain": [
       "\u001B[0;31m---------------------------------------------------------------------------\u001B[0m\n",
       "\u001B[0;31mOSError\u001B[0m                                   Traceback (most recent call last)\n",
       "File \u001B[0;32m<command-3145779843545171>, line 8\u001B[0m\n",
       "\u001B[1;32m      5\u001B[0m path \u001B[38;5;241m=\u001B[39m \u001B[38;5;124m\"\u001B[39m\u001B[38;5;124m/Volumes/dbacademy_john_f_kraus19_ctr_mail_mil/example/bronze/data.json\u001B[39m\u001B[38;5;124m\"\u001B[39m\n",
       "\u001B[1;32m      7\u001B[0m \u001B[38;5;28;01mimport\u001B[39;00m \u001B[38;5;21;01mjson\u001B[39;00m\n",
       "\u001B[0;32m----> 8\u001B[0m \u001B[38;5;28;01mwith\u001B[39;00m \u001B[38;5;28mopen\u001B[39m(path, \u001B[38;5;124m'\u001B[39m\u001B[38;5;124mw\u001B[39m\u001B[38;5;124m'\u001B[39m, encoding\u001B[38;5;241m=\u001B[39m\u001B[38;5;124m'\u001B[39m\u001B[38;5;124mutf-8\u001B[39m\u001B[38;5;124m'\u001B[39m) \u001B[38;5;28;01mas\u001B[39;00m f:\n",
       "\u001B[1;32m      9\u001B[0m     json\u001B[38;5;241m.\u001B[39mdump(data, f, ensure_ascii\u001B[38;5;241m=\u001B[39m\u001B[38;5;28;01mFalse\u001B[39;00m, indent\u001B[38;5;241m=\u001B[39m\u001B[38;5;241m4\u001B[39m)\n",
       "\n",
       "\u001B[0;31mOSError\u001B[0m: [Errno 22] Invalid argument"
      ]
     },
     "metadata": {
      "application/vnd.databricks.v1+output": {
       "addedWidgets": {},
       "arguments": {},
       "datasetInfos": [],
       "jupyterProps": {
        "ename": "OSError",
        "evalue": "[Errno 22] Invalid argument"
       },
       "metadata": {
        "errorSummary": "<span class='ansi-red-fg'>OSError</span>: [Errno 22] Invalid argument"
       },
       "removedWidgets": [],
       "sqlProps": null,
       "stackFrames": [
        "\u001B[0;31m---------------------------------------------------------------------------\u001B[0m",
        "\u001B[0;31mOSError\u001B[0m                                   Traceback (most recent call last)",
        "File \u001B[0;32m<command-3145779843545171>, line 8\u001B[0m\n\u001B[1;32m      5\u001B[0m path \u001B[38;5;241m=\u001B[39m \u001B[38;5;124m\"\u001B[39m\u001B[38;5;124m/Volumes/dbacademy_john_f_kraus19_ctr_mail_mil/example/bronze/data.json\u001B[39m\u001B[38;5;124m\"\u001B[39m\n\u001B[1;32m      7\u001B[0m \u001B[38;5;28;01mimport\u001B[39;00m \u001B[38;5;21;01mjson\u001B[39;00m\n\u001B[0;32m----> 8\u001B[0m \u001B[38;5;28;01mwith\u001B[39;00m \u001B[38;5;28mopen\u001B[39m(path, \u001B[38;5;124m'\u001B[39m\u001B[38;5;124mw\u001B[39m\u001B[38;5;124m'\u001B[39m, encoding\u001B[38;5;241m=\u001B[39m\u001B[38;5;124m'\u001B[39m\u001B[38;5;124mutf-8\u001B[39m\u001B[38;5;124m'\u001B[39m) \u001B[38;5;28;01mas\u001B[39;00m f:\n\u001B[1;32m      9\u001B[0m     json\u001B[38;5;241m.\u001B[39mdump(data, f, ensure_ascii\u001B[38;5;241m=\u001B[39m\u001B[38;5;28;01mFalse\u001B[39;00m, indent\u001B[38;5;241m=\u001B[39m\u001B[38;5;241m4\u001B[39m)\n",
        "\u001B[0;31mOSError\u001B[0m: [Errno 22] Invalid argument"
       ],
       "type": "baseError"
      }
     },
     "output_type": "display_data"
    }
   ],
   "source": [
    "# path = \"/Volumes/main/default/example-data/data.json\"\n",
    "# path = \"/Volumes/incidents/bronze/data.json\"\n",
    "# path = \"/dbfs/mnt/data.json\"\n",
    "#path = \"/dbfs/user/hive/warehouse/default/data.json\"\n",
    "path = \"/Volumes/dbacademy_john_f_kraus19_ctr_mail_mil/example/bronze/data.json\"\n",
    "\n",
    "import json\n",
    "with open(path, 'w', encoding='utf-8') as f:\n",
    "    json.dump(data, f, ensure_ascii=False, indent=4)\n",
    "\n"
   ]
  },
  {
   "cell_type": "code",
   "execution_count": 0,
   "metadata": {
    "application/vnd.databricks.v1+cell": {
     "cellMetadata": {
      "byteLimit": 2048000,
      "rowLimit": 10000
     },
     "inputWidgets": {},
     "nuid": "bc56d08c-0fed-4da5-a1f9-5ca488ae00b0",
     "showTitle": false,
     "title": ""
    }
   },
   "outputs": [
    {
     "output_type": "display_data",
     "data": {
      "text/html": [
       "<style scoped>\n",
       "  .ansiout {\n",
       "    display: block;\n",
       "    unicode-bidi: embed;\n",
       "    white-space: pre-wrap;\n",
       "    word-wrap: break-word;\n",
       "    word-break: break-all;\n",
       "    font-family: \"Menlo\", \"Monaco\", \"Consolas\", \"Ubuntu Mono\", \"Source Code Pro\", monospace;\n",
       "    font-size: 13px;\n",
       "    color: #555;\n",
       "    margin-left: 4px;\n",
       "    line-height: 19px;\n",
       "  }\n",
       "</style>"
      ]
     },
     "metadata": {
      "application/vnd.databricks.v1+output": {
       "arguments": {},
       "data": "",
       "errorSummary": "",
       "errorTraceType": null,
       "metadata": {},
       "type": "ipynbError"
      }
     },
     "output_type": "display_data"
    }
   ],
   "source": [
    "import json\n",
    "with open('data.json', 'w', encoding='utf-8') as f:\n",
    "    json.dump(data, f, ensure_ascii=False, indent=4)\n"
   ]
  },
  {
   "cell_type": "code",
   "execution_count": 0,
   "metadata": {
    "application/vnd.databricks.v1+cell": {
     "cellMetadata": {
      "byteLimit": 2048000,
      "rowLimit": 10000
     },
     "inputWidgets": {},
     "nuid": "a0971148-2e4b-4e3c-b63a-e04508433afd",
     "showTitle": false,
     "title": ""
    }
   },
   "outputs": [
    {
     "output_type": "stream",
     "name": "stdout",
     "output_type": "stream",
     "text": [
      "/Workspace/Users/john.f.kraus19.ctr@mail.mil\n{\n    \"nodes\": [\n        {\n            \"DATAID\": 113219,\n            \"linkCount\": 0,\n            \"narrativeFileName\": \"TBD\",\n            \"REFERENCE_NUMBER\": \"QDi.001\",\n            \"name\": \"MOHAMMED SALAHALDIN ABD EL HALIM ZIDANE\",\n            \"natnlty\": \"Egypt\",\n            \"linksTo\": [],\n            \"links\": []\n        },\n        {\n            \"DATAID\": 111497,\n            \"linkCount\": 0,\n            \"narrativeFileName\": \"TBD\",\n            \"REFERENCE_NUMBER\": \"QDi.002\",\n            \"name\": \"AMIN MUHAMMAD UL HAQ SAAM KHAN\",\n            \"natnlty\": \"Afghanistan\",\n            \"linksTo\": [],\n            \"links\": []\n        },\n        {\n            \"DATAID\": 111919,\n            \"linkCount\": 0,\n            \"narrativeFileName\": \"TBD\",\n            \"REFERENCE_NUMBER\": \"QDi.003\",\n            \"name\": \"SALIM AHMAD SALIM HAMDAN\",\n            \"natnlty\": \"Yemen\",\n            \"linksTo\": [],\n            \"links\": []\n        },\n        {\n            \"DATAID\": 111923,\n            \"linkCount\": 2,\n            \"narrativeFileName\": \"TBD\",\n            \"REFERENCE_NUMBER\": \"QDi.006\",\n            \"name\": \"AIMAN MUHAMMED RABI AL-ZAWAHIRI\",\n            \"natnlty\": \"Egypt\",\n            \"linksTo\": [\n                \"QDe.004\",\n                \"QDe.003\"\n            ],\n            \"links\": [\n                {\n                    \"source\": \"QDi.006\",\n                    \"target\": \"QDe.004\"\n                },\n                {\n                    \"source\": \"QDi.006\",\n                    \"target\": \"QDe.003\"\n                }\n            ]\n        },\n        {\n            \"DATAID\": 111942,\n            \"linkCount\": 0,\n            \"narrativeFileName\": \"TBD\",\n            \"REFERENCE_NUMBER\": \"QDi.009\",\n            \"name\": \"BILAL BIN MARWAN\",\n            \"natnlty\": \"None reported\",\n            \"linksTo\": [],\n            \"links\": []\n        },\n        {\n            \"DATAID\": 111900,\n            \"linkCount\": 1,\n            \"narrativeFileName\": \"TBD\",\n            \"REFERENCE_NUMBER\": \"QDi.012\",\n            \"name\": \"NASHWAN ABD AL-RAZZAQ ABD AL-BAQI\",\n            \"natnlty\": \"Iraq\",\n            \"linksTo\": [\n                \"QDe.098\"\n            ],\n            \"links\": [\n                {\n                    \"source\": \"QDi.012\",\n                    \"target\": \"QDe.098\"\n                }\n            ]\n        },\n        {\n            \"DATAID\": 111498,\n            \"linkCount\": 0,\n            \"narrativeFileName\": \"TBD\",\n            \"REFERENCE_NUMBER\": \"QDi.014\",\n            \"name\": \"TARIQ ANWAR EL SAYED AHMED\",\n            \"natnlty\": \"Egypt\",\n            \"linksTo\": [],\n            \"links\": []\n        },\n        {\n            \"DATAID\": 112026,\n            \"linkCount\": 0,\n            \"narrativeFileName\": \"TBD\",\n            \"REFERENCE_NUMBER\": \"QDi.015\",\n            \"name\": \"MAHFOUZ OULD AL-WALID\",\n            \"natnlty\": \"Mauritania\",\n            \"linksTo\": [],\n            \"links\": []\n        },\n        {\n            \"DATAID\": 111782,\n            \"linkCount\": 0,\n            \"narrativeFileName\": \"TBD\",\n            \"REFERENCE_NUMBER\": \"QDi.017\",\n            \"name\": \"THARWAT SALAH SHIHATA\",\n            \"natnlty\": \"Egypt\",\n            \"linksTo\": [],\n            \"links\": []\n        },\n        {\n            \"DATAID\": 111514,\n            \"linkCount\": 0,\n            \"narrativeFileName\": \"TBD\",\n            \"REFERENCE_NUMBER\": \"QDi.018\",\n            \"name\": \"ABDUL MANAN AGHA\",\n            \"natnlty\": \"None reported\",\n            \"linksTo\": [],\n            \"links\": []\n        },\n        {\n            \"DATAID\": 111947,\n            \"linkCount\": 0,\n            \"narrativeFileName\": \"TBD\",\n            \"REFERENCE_NUMBER\": \"QDi.019\",\n            \"name\": \"ABDULLAH AHMED ABDULLAH EL ALFI\",\n            \"natnlty\": \"Egypt\",\n            \"linksTo\": [],\n            \"links\": []\n        },\n        {\n            \"DATAID\": 111660,\n            \"linkCount\": 1,\n            \"narrativeFileName\": \"TBD\",\n            \"REFERENCE_NUMBER\": \"QDi.020\",\n            \"name\": \"MOHAMMAD HAMDI MOHAMMAD SADIQ AL-AHDAL\",\n            \"natnlty\": \"Yemen\",\n            \"linksTo\": [\n                \"QDe.004\"\n            ],\n            \"links\": [\n                {\n                    \"source\": \"QDi.020\",\n                    \"target\": \"QDe.004\"\n                }\n            ]\n        },\n        {\n            \"DATAID\": 112044,\n            \"linkCount\": 0,\n            \"narrativeFileName\": \"TBD\",\n            \"REFERENCE_NUMBER\": \"QDi.028\",\n            \"name\": \"AHMED KHALFAN GHAILANI\",\n            \"natnlty\": \"United Republic of Tanzania\",\n            \"linksTo\": [],\n            \"links\": []\n        },\n        {\n            \"DATAID\": 112078,\n            \"linkCount\": 1,\n            \"narrativeFileName\": \"TBD\",\n            \"REFERENCE_NUMBER\": \"QDi.029\",\n            \"name\": \"RAED MUHAMMAD HASAN MUHAMMAD HIJAZI\",\n            \"natnlty\": \"Jordan,United States of America\",\n            \"linksTo\": [\n                \"QDe.115\"\n            ],\n            \"links\": [\n                {\n                    \"source\": \"QDi.029\",\n                    \"target\": \"QDe.115\"\n                }\n            ]\n        },\n        {\n            \"DATAID\": 112283,\n            \"linkCount\": 0,\n            \"narrativeFileName\": \"TBD\",\n            \"REFERENCE_NUMBER\": \"QDi.031\",\n            \"name\": \"OMAR MAHMOUD UTHMAN\",\n            \"natnlty\": \"Jordan\",\n            \"linksTo\": [],\n            \"links\": []\n        },\n        {\n            \"DATAID\": 113328,\n            \"linkCount\": 0,\n            \"narrativeFileName\": \"TBD\",\n            \"REFERENCE_NUMBER\": \"QDi.037\",\n            \"name\": \"ABDUL RAHMAN YASIN\",\n            \"natnlty\": \"United States of America\",\n            \"linksTo\": [],\n            \"links\": []\n        },\n        {\n            \"DATAID\": 111944,\n            \"linkCount\": 1,\n            \"narrativeFileName\": \"TBD\",\n            \"REFERENCE_NUMBER\": \"QDi.042\",\n            \"name\": \"HASSAN DAHIR AWEYS\",\n            \"natnlty\": \"Somalia\",\n            \"linksTo\": [\n                \"QDe.002\"\n            ],\n            \"links\": [\n                {\n                    \"source\": \"QDi.042\",\n                    \"target\": \"QDe.002\"\n                }\n            ]\n        },\n        {\n            \"DATAID\": 111449,\n            \"linkCount\": 0,\n            \"narrativeFileName\": \"TBD\",\n            \"REFERENCE_NUMBER\": \"QDi.054\",\n            \"name\": \"MAJEED ABDUL CHAUDHRY\",\n            \"natnlty\": \"Pakistan\",\n            \"linksTo\": [],\n            \"links\": []\n        },\n        {\n            \"DATAID\": 112032,\n            \"linkCount\": 0,\n            \"narrativeFileName\": \"TBD\",\n            \"REFERENCE_NUMBER\": \"QDi.055\",\n            \"name\": \"MAHMOOD SULTAN BASHIR-UD-DIN\",\n            \"natnlty\": \"Pakistan\",\n            \"linksTo\": [],\n            \"links\": []\n        },\n        {\n            \"DATAID\": 113440,\n            \"linkCount\": 1,\n            \"narrativeFileName\": \"TBD\",\n            \"REFERENCE_NUMBER\": \"QDi.056\",\n            \"name\": \"MOHAMMED TUFAIL\",\n            \"natnlty\": \"Pakistan\",\n            \"linksTo\": [\n                \"QDe.068\"\n            ],\n            \"links\": [\n                {\n                    \"source\": \"QDi.056\",\n                    \"target\": \"QDe.068\"\n                }\n            ]\n        },\n        {\n            \"DATAID\": 111639,\n            \"linkCount\": 3,\n            \"narrativeFileName\": \"TBD\",\n            \"REFERENCE_NUMBER\": \"QDi.057\",\n            \"name\": \"IBRAHIM ALI ABU BAKR TANTOUSH\",\n            \"natnlty\": \"Libya\",\n            \"linksTo\": [\n                \"QDe.069\",\n                \"QDe.070\",\n                \"QDe.011\"\n            ],\n            \"links\": [\n                {\n                    \"source\": \"QDi.057\",\n                    \"target\": \"QDe.069\"\n                },\n                {\n                    \"source\": \"QDi.057\",\n                    \"target\": \"QDe.070\"\n                },\n                {\n                    \"source\": \"QDi.057\",\n                    \"target\": \"QDe.011\"\n                }\n            ]\n        },\n        {\n            \"DATAID\": 111902,\n            \"linkCount\": 2,\n            \"narrativeFileName\": \"TBD\",\n            \"REFERENCE_NUMBER\": \"QDi.058\",\n            \"name\": \"BOUBEKEUR BOULGHITI\",\n            \"natnlty\": \"Algeria,State of Palestine\",\n            \"linksTo\": [\n                \"QDe.069\",\n                \"QDe.004\"\n            ],\n            \"links\": [\n                {\n                    \"source\": \"QDi.058\",\n                    \"target\": \"QDe.069\"\n                },\n                {\n                    \"source\": \"QDi.058\",\n                    \"target\": \"QDe.004\"\n                }\n            ]\n        },\n        {\n            \"DATAID\": 111763,\n            \"linkCount\": 0,\n            \"narrativeFileName\": \"TBD\",\n            \"REFERENCE_NUMBER\": \"QDi.059\",\n            \"name\": \"KHALID ABD AL-RAHMAN HAMD AL-FAWAZ\",\n            \"natnlty\": \"Saudi Arabia\",\n            \"linksTo\": [],\n            \"links\": []\n        },\n        {\n            \"DATAID\": 111735,\n            \"linkCount\": 1,\n            \"narrativeFileName\": \"TBD\",\n            \"REFERENCE_NUMBER\": \"QDi.060\",\n            \"name\": \"MOHAMED BEN BELGACEM BEN ABDALLAH AL-AOUADI\",\n            \"natnlty\": \"Tunisia\",\n            \"linksTo\": [\n                \"QDe.143\"\n            ],\n            \"links\": [\n                {\n                    \"source\": \"QDi.060\",\n                    \"target\": \"QDe.143\"\n                }\n            ]\n        },\n        {\n            \"DATAID\": 111796,\n            \"linkCount\": 0,\n            \"narrativeFileName\": \"TBD\",\n            \"REFERENCE_NUMBER\": \"QDi.062\",\n            \"name\": \"MOHAMED LAKHAL\",\n            \"natnlty\": \"Tunisia\",\n            \"linksTo\": [],\n            \"links\": []\n        },\n        {\n            \"DATAID\": 111806,\n            \"linkCount\": 0,\n            \"narrativeFileName\": \"TBD\",\n            \"REFERENCE_NUMBER\": \"QDi.064\",\n            \"name\": \"SAMI BEN KHAMIS BEN SALEH ELSSEID\",\n            \"natnlty\": \"Tunisia\",\n            \"linksTo\": [],\n            \"links\": []\n        },\n        {\n            \"DATAID\": 111805,\n            \"linkCount\": 0,\n            \"narrativeFileName\": \"TBD\",\n            \"REFERENCE_NUMBER\": \"QDi.065\",\n            \"name\": \"ABD EL KADER MAHMOUD MOHAMED EL SAYED\",\n            \"natnlty\": \"Egypt\",\n            \"linksTo\": [],\n            \"links\": []\n        },\n        {\n            \"DATAID\": 112166,\n            \"linkCount\": 0,\n            \"narrativeFileName\": \"TBD\",\n            \"REFERENCE_NUMBER\": \"QDi.067\",\n            \"name\": \"MOSTAFA KAMEL MOSTAFA IBRAHIM\",\n            \"natnlty\": \"United Kingdom of Great Britain and Northern Ireland\",\n            \"linksTo\": [],\n            \"links\": []\n        },\n        {\n            \"DATAID\": 112033,\n            \"linkCount\": 0,\n            \"narrativeFileName\": \"TBD\",\n            \"REFERENCE_NUMBER\": \"QDi.068\",\n            \"name\": \"ADEL BEN AL-AZHAR BEN YOUSSEF HAMDI\",\n            \"natnlty\": \"Tunisia\",\n            \"linksTo\": [],\n            \"links\": []\n        },\n        {\n            \"DATAID\": 111800,\n            \"linkCount\": 0,\n            \"narrativeFileName\": \"TBD\",\n            \"REFERENCE_NUMBER\": \"QDi.070\",\n            \"name\": \"YASSINE CHEKKOURI\",\n            \"natnlty\": \"Morocco\",\n            \"linksTo\": [],\n            \"links\": []\n        },\n        {\n            \"DATAID\": 112248,\n            \"linkCount\": 0,\n            \"narrativeFileName\": \"TBD\",\n            \"REFERENCE_NUMBER\": \"QDi.072\",\n            \"name\": \"MEHDI BEN MOHAMED BEN MOHAMED KAMMOUN\",\n            \"natnlty\": \"Tunisia\",\n            \"linksTo\": [],\n            \"links\": []\n        },\n        {\n            \"DATAID\": 111920,\n            \"linkCount\": 0,\n            \"narrativeFileName\": \"TBD\",\n            \"REFERENCE_NUMBER\": \"QDi.074\",\n            \"name\": \"TAREK BEN HABIB BEN AL-TOUMI AL-MAAROUFI\",\n            \"natnlty\": \"Tunisia\",\n            \"linksTo\": [],\n            \"links\": []\n        },\n        {\n            \"DATAID\": 113322,\n            \"linkCount\": 0,\n            \"narrativeFileName\": \"TBD\",\n            \"REFERENCE_NUMBER\": \"QDi.075\",\n            \"name\": \"ABDELHALIM HAFED ABDELFATTAH REMADNA\",\n            \"natnlty\": \"Algeria\",\n            \"linksTo\": [],\n            \"links\": []\n        },\n        {\n            \"DATAID\": 113223,\n            \"linkCount\": 0,\n            \"narrativeFileName\": \"TBD\",\n            \"REFERENCE_NUMBER\": \"QDi.076\",\n            \"name\": \"ISAM ALI MOHAMED ALOUCHE\",\n            \"natnlty\": \"Jordan\",\n            \"linksTo\": [],\n            \"links\": []\n        },\n        {\n            \"DATAID\": 112030,\n            \"linkCount\": 1,\n            \"narrativeFileName\": \"TBD\",\n            \"REFERENCE_NUMBER\": \"QDi.080\",\n            \"name\": \"SAID BAHAJI\",\n            \"natnlty\": \"Germany,Morocco\",\n            \"linksTo\": [\n                \"QDe.004\"\n            ],\n            \"links\": [\n                {\n                    \"source\": \"QDi.080\",\n                    \"target\": \"QDe.004\"\n                }\n            ]\n        },\n        {\n            \"DATAID\": 111943,\n            \"linkCount\": 0,\n            \"narrativeFileName\": \"TBD\",\n            \"REFERENCE_NUMBER\": \"QDi.081\",\n            \"name\": \"RAMZI MOHAMED ABDULLAH BINALSHIBH\",\n            \"natnlty\": \"Yemen\",\n            \"linksTo\": [],\n            \"links\": []\n        },\n        {\n            \"DATAID\": 111951,\n            \"linkCount\": 0,\n            \"narrativeFileName\": \"TBD\",\n            \"REFERENCE_NUMBER\": \"QDi.082\",\n            \"name\": \"MOUNIR EL MOTASSADEQ\",\n            \"natnlty\": \"Morocco\",\n            \"linksTo\": [],\n            \"links\": []\n        },\n        {\n            \"DATAID\": 112043,\n            \"linkCount\": 0,\n            \"narrativeFileName\": \"TBD\",\n            \"REFERENCE_NUMBER\": \"QDi.083\",\n            \"name\": \"ZAKARYA ESSABAR\",\n            \"natnlty\": \"Morocco\",\n            \"linksTo\": [],\n            \"links\": []\n        },\n        {\n            \"DATAID\": 111451,\n            \"linkCount\": 0,\n            \"narrativeFileName\": \"TBD\",\n            \"REFERENCE_NUMBER\": \"QDi.086\",\n            \"name\": \"MOHAMAD IQBAL ABDURRAHMAN\",\n            \"natnlty\": \"Indonesia\",\n            \"linksTo\": [],\n            \"links\": []\n        },\n        {\n            \"DATAID\": 112001,\n            \"linkCount\": 2,\n            \"narrativeFileName\": \"TBD\",\n            \"REFERENCE_NUMBER\": \"QDi.087\",\n            \"name\": \"NURJAMAN RIDUAN ISAMUDDIN\",\n            \"natnlty\": \"Indonesia\",\n            \"linksTo\": [\n                \"QDe.092\",\n                \"QDi.218\"\n            ],\n            \"links\": [\n                {\n                    \"source\": \"QDi.087\",\n                    \"target\": \"QDe.092\"\n                },\n                {\n                    \"source\": \"QDi.087\",\n                    \"target\": \"QDi.218\"\n                }\n            ]\n        },\n        {\n            \"DATAID\": 111734,\n            \"linkCount\": 0,\n            \"narrativeFileName\": \"TBD\",\n            \"REFERENCE_NUMBER\": \"QDi.092\",\n            \"name\": \"MEHREZ BEN MAHMOUD BEN SASSI AL-AMDOUNI\",\n            \"natnlty\": \"Tunisia\",\n            \"linksTo\": [],\n            \"links\": []\n        },\n        {\n            \"DATAID\": 112038,\n            \"linkCount\": 0,\n            \"narrativeFileName\": \"TBD\",\n            \"REFERENCE_NUMBER\": \"QDi.095\",\n            \"name\": \"LIONEL DUMONT\",\n            \"natnlty\": \"France\",\n            \"linksTo\": [],\n            \"links\": []\n        },\n        {\n            \"DATAID\": 112042,\n            \"linkCount\": 0,\n            \"narrativeFileName\": \"TBD\",\n            \"REFERENCE_NUMBER\": \"QDi.096\",\n            \"name\": \"MOUSSA BEN OMAR BEN ALI ESSAADI\",\n            \"natnlty\": \"Tunisia\",\n            \"linksTo\": [],\n            \"links\": []\n        },\n        {\n            \"DATAID\": 112039,\n            \"linkCount\": 0,\n            \"narrativeFileName\": \"TBD\",\n            \"REFERENCE_NUMBER\": \"QDi.111\",\n            \"name\": \"AGUS DWIKARNA\",\n            \"natnlty\": \"Indonesia\",\n            \"linksTo\": [],\n            \"links\": []\n        },\n        {\n            \"DATAID\": 112007,\n            \"linkCount\": 0,\n            \"narrativeFileName\": \"TBD\",\n            \"REFERENCE_NUMBER\": \"QDi.114\",\n            \"name\": \"SALIM Y SALAMUDDIN JULKIPLI\",\n            \"natnlty\": \"Philippines\",\n            \"linksTo\": [],\n            \"links\": []\n        },\n        {\n            \"DATAID\": 113211,\n            \"linkCount\": 0,\n            \"narrativeFileName\": \"TBD\",\n            \"REFERENCE_NUMBER\": \"QDi.119\",\n            \"name\": \"ARIS MUNANDAR\",\n            \"natnlty\": \"Indonesia\",\n            \"linksTo\": [],\n            \"links\": []\n        },\n        {\n            \"DATAID\": 113313,\n            \"linkCount\": 0,\n            \"narrativeFileName\": \"TBD\",\n            \"REFERENCE_NUMBER\": \"QDi.120\",\n            \"name\": \"ABDUL HAKIM MURAD\",\n            \"natnlty\": \"Pakistan\",\n            \"linksTo\": [],\n            \"links\": []\n        },\n        {\n            \"DATAID\": 113220,\n            \"linkCount\": 0,\n            \"narrativeFileName\": \"TBD\",\n            \"REFERENCE_NUMBER\": \"QDi.122\",\n            \"name\": \"PARLINDUNGAN SIREGAR\",\n            \"natnlty\": \"Indonesia\",\n            \"linksTo\": [],\n            \"links\": []\n        },\n        {\n            \"DATAID\": 113222,\n            \"linkCount\": 0,\n            \"narrativeFileName\": \"TBD\",\n            \"REFERENCE_NUMBER\": \"QDi.123\",\n            \"name\": \"YASSIN SYAWAL\",\n            \"natnlty\": \"Indonesia\",\n            \"linksTo\": [],\n            \"links\": []\n        },\n        {\n            \"DATAID\": 113439,\n            \"linkCount\": 2,\n            \"narrativeFileName\": \"TBD\",\n            \"REFERENCE_NUMBER\": \"QDi.124\",\n            \"name\": \"YAZID SUFAAT\",\n            \"natnlty\": \"Malaysia\",\n            \"linksTo\": [\n                \"QDe.092\",\n                \"QDe.004\"\n            ],\n            \"links\": [\n                {\n                    \"source\": \"QDi.124\",\n                    \"target\": \"QDe.092\"\n                },\n                {\n                    \"source\": \"QDi.124\",\n                    \"target\": \"QDe.004\"\n                }\n            ]\n        },\n        {\n            \"DATAID\": 113442,\n            \"linkCount\": 0,\n            \"narrativeFileName\": \"TBD\",\n            \"REFERENCE_NUMBER\": \"QDi.126\",\n            \"name\": \"YUNOS UMPARA MOKLIS\",\n            \"natnlty\": \"Philippines\",\n            \"linksTo\": [],\n            \"links\": []\n        },\n        {\n            \"DATAID\": 112379,\n            \"linkCount\": 0,\n            \"narrativeFileName\": \"TBD\",\n            \"REFERENCE_NUMBER\": \"QDi.129\",\n            \"name\": \"DJAMEL MOUSTFA\",\n            \"natnlty\": \"Algeria\",\n            \"linksTo\": [],\n            \"links\": []\n        },\n        {\n            \"DATAID\": 112138,\n            \"linkCount\": 0,\n            \"narrativeFileName\": \"TBD\",\n            \"REFERENCE_NUMBER\": \"QDi.135\",\n            \"name\": \"DAWOOD IBRAHIM KASKAR\",\n            \"natnlty\": \"India\",\n            \"linksTo\": [],\n            \"links\": []\n        },\n        {\n            \"DATAID\": 111794,\n            \"linkCount\": 4,\n            \"narrativeFileName\": \"TBD\",\n            \"REFERENCE_NUMBER\": \"QDi.136\",\n            \"name\": \"MOKHTAR BELMOKHTAR\",\n            \"natnlty\": \"Algeria\",\n            \"linksTo\": [\n                \"QDe.014\",\n                \"QDe.139\",\n                \"QDe.140\",\n                \"QDe.141\"\n            ],\n            \"links\": [\n                {\n                    \"source\": \"QDi.136\",\n                    \"target\": \"QDe.014\"\n                },\n                {\n                    \"source\": \"QDi.136\",\n                    \"target\": \"QDe.139\"\n                },\n                {\n                    \"source\": \"QDi.136\",\n                    \"target\": \"QDe.140\"\n                },\n                {\n                    \"source\": \"QDi.136\",\n                    \"target\": \"QDe.141\"\n                }\n            ]\n        },\n        {\n            \"DATAID\": 111922,\n            \"linkCount\": 0,\n            \"narrativeFileName\": \"TBD\",\n            \"REFERENCE_NUMBER\": \"QDi.139\",\n            \"name\": \"IMED BEN MEKKI ZARKAOUI\",\n            \"natnlty\": \"Tunisia\",\n            \"linksTo\": [],\n            \"links\": []\n        },\n        {\n            \"DATAID\": 111916,\n            \"linkCount\": 0,\n            \"narrativeFileName\": \"TBD\",\n            \"REFERENCE_NUMBER\": \"QDi.140\",\n            \"name\": \"KAMAL BEN MAOELDI BEN HASSAN AL-HAMRAOUI\",\n            \"natnlty\": \"Tunisia\",\n            \"linksTo\": [],\n            \"links\": []\n        },\n        {\n            \"DATAID\": 112035,\n            \"linkCount\": 0,\n            \"narrativeFileName\": \"TBD\",\n            \"REFERENCE_NUMBER\": \"QDi.141\",\n            \"name\": \"MAXAMED CABDULLAAH CIISE\",\n            \"natnlty\": \"Somalia\",\n            \"linksTo\": [],\n            \"links\": []\n        },\n        {\n            \"DATAID\": 112040,\n            \"linkCount\": 0,\n            \"narrativeFileName\": \"TBD\",\n            \"REFERENCE_NUMBER\": \"QDi.142\",\n            \"name\": \"RADI ABD EL SAMIE ABOU EL YAZID EL AYASHI\",\n            \"natnlty\": \"Egypt\",\n            \"linksTo\": [],\n            \"links\": []\n        },\n        {\n            \"DATAID\": 111799,\n            \"linkCount\": 0,\n            \"narrativeFileName\": \"TBD\",\n            \"REFERENCE_NUMBER\": \"QDi.143\",\n            \"name\": \"HAMADI BEN ABDUL AZIZ BEN ALI BOUYEHIA\",\n            \"natnlty\": \"Tunisia\",\n            \"linksTo\": [],\n            \"links\": []\n        },\n        {\n            \"DATAID\": 111810,\n            \"linkCount\": 0,\n            \"narrativeFileName\": \"TBD\",\n            \"REFERENCE_NUMBER\": \"QDi.144\",\n            \"name\": \"MOHAMMAD TAHIR HAMMID HUSSEIN\",\n            \"natnlty\": \"Iraq\",\n            \"linksTo\": [],\n            \"links\": []\n        },\n        {\n            \"DATAID\": 112378,\n            \"linkCount\": 0,\n            \"narrativeFileName\": \"TBD\",\n            \"REFERENCE_NUMBER\": \"QDi.147\",\n            \"name\": \"MOHAMED AMIN MOSTAFA\",\n            \"natnlty\": \"Iraq\",\n            \"linksTo\": [],\n            \"links\": []\n        },\n        {\n            \"DATAID\": 111837,\n            \"linkCount\": 0,\n            \"narrativeFileName\": \"TBD\",\n            \"REFERENCE_NUMBER\": \"QDi.149\",\n            \"name\": \"NOUREDDINE BEN ALI BEN BELKASSEM AL-DRISSI\",\n            \"natnlty\": \"Tunisia\",\n            \"linksTo\": [],\n            \"links\": []\n        },\n        {\n            \"DATAID\": 113436,\n            \"linkCount\": 0,\n            \"narrativeFileName\": \"TBD\",\n            \"REFERENCE_NUMBER\": \"QDi.150\",\n            \"name\": \"AL-AZHAR BEN KHALIFA BEN AHMED ROUINE\",\n            \"natnlty\": \"Tunisia\",\n            \"linksTo\": [],\n            \"links\": []\n        },\n        {\n            \"DATAID\": 112028,\n            \"linkCount\": 1,\n            \"narrativeFileName\": \"TBD\",\n            \"REFERENCE_NUMBER\": \"QDi.152\",\n            \"name\": \"SAIFI AMMARI\",\n            \"natnlty\": \"Algeria\",\n            \"linksTo\": [\n                \"QDe.014\"\n            ],\n            \"links\": [\n                {\n                    \"source\": \"QDi.152\",\n                    \"target\": \"QDe.014\"\n                }\n            ]\n        },\n        {\n            \"DATAID\": 111496,\n            \"linkCount\": 0,\n            \"narrativeFileName\": \"TBD\",\n            \"REFERENCE_NUMBER\": \"QDi.154\",\n            \"name\": \"SULAIMAN JASSEM SULAIMAN ALI ABO GHAITH\",\n            \"natnlty\": \"Kuwait\",\n            \"linksTo\": [],\n            \"links\": []\n        },\n        {\n            \"DATAID\": 112494,\n            \"linkCount\": 0,\n            \"narrativeFileName\": \"TBD\",\n            \"REFERENCE_NUMBER\": \"QDi.155\",\n            \"name\": \"DJAMEL LOUNICI\",\n            \"natnlty\": \"Algeria\",\n            \"linksTo\": [],\n            \"links\": []\n        },\n        {\n            \"DATAID\": 111924,\n            \"linkCount\": 0,\n            \"narrativeFileName\": \"TBD\",\n            \"REFERENCE_NUMBER\": \"QDi.156\",\n            \"name\": \"ABD-AL-MAJID AZIZ AL-ZINDANI\",\n            \"natnlty\": \"Yemen\",\n            \"linksTo\": [],\n            \"links\": []\n        },\n        {\n            \"DATAID\": 112037,\n            \"linkCount\": 1,\n            \"narrativeFileName\": \"TBD\",\n            \"REFERENCE_NUMBER\": \"QDi.167\",\n            \"name\": \"KAMEL DJERMANE\",\n            \"natnlty\": \"Algeria\",\n            \"linksTo\": [\n                \"QDe.014\"\n            ],\n            \"links\": [\n                {\n                    \"source\": \"QDi.167\",\n                    \"target\": \"QDe.014\"\n                }\n            ]\n        },\n        {\n            \"DATAID\": 111785,\n            \"linkCount\": 0,\n            \"narrativeFileName\": \"TBD\",\n            \"REFERENCE_NUMBER\": \"QDi.177\",\n            \"name\": \"HABIB BEN AHMED AL-LOUBIRI\",\n            \"natnlty\": \"Tunisia\",\n            \"linksTo\": [],\n            \"links\": []\n        },\n        {\n            \"DATAID\": 111704,\n            \"linkCount\": 0,\n            \"narrativeFileName\": \"TBD\",\n            \"REFERENCE_NUMBER\": \"QDi.184\",\n            \"name\": \"MUHSIN FADHIL AYED ASHOUR AL-FADHLI\",\n            \"natnlty\": \"Kuwait\",\n            \"linksTo\": [],\n            \"links\": []\n        },\n        {\n            \"DATAID\": 113215,\n            \"linkCount\": 1,\n            \"narrativeFileName\": \"TBD\",\n            \"REFERENCE_NUMBER\": \"QDi.186\",\n            \"name\": \"ABU RUSDAN\",\n           \n\n*** WARNING: max output size exceeded, skipping output. ***\n\n\"QDi.316\",\n            \"target\": \"QDe.134\"\n        },\n        {\n            \"source\": \"QDi.317\",\n            \"target\": \"QDe.137\"\n        },\n        {\n            \"source\": \"QDi.317\",\n            \"target\": \"QDe.115\"\n        },\n        {\n            \"source\": \"QDi.317\",\n            \"target\": \"QDi.006\"\n        },\n        {\n            \"source\": \"QDi.318\",\n            \"target\": \"QDe.004\"\n        },\n        {\n            \"source\": \"QDi.318\",\n            \"target\": \"QDe.003\"\n        },\n        {\n            \"source\": \"QDi.318\",\n            \"target\": \"QDe.136\"\n        },\n        {\n            \"source\": \"QDi.318\",\n            \"target\": \"QDe.129\"\n        },\n        {\n            \"source\": \"QDi.318\",\n            \"target\": \"QDi.006\"\n        },\n        {\n            \"source\": \"QDi.318\",\n            \"target\": \"QDe.014\"\n        },\n        {\n            \"source\": \"QDi.319\",\n            \"target\": \"QDe.134\"\n        },\n        {\n            \"source\": \"QDi.322\",\n            \"target\": \"QDe.138\"\n        },\n        {\n            \"source\": \"QDi.323\",\n            \"target\": \"QDe.137\"\n        },\n        {\n            \"source\": \"QDi.324\",\n            \"target\": \"QDe.004\"\n        },\n        {\n            \"source\": \"QDi.324\",\n            \"target\": \"QDe.137\"\n        },\n        {\n            \"source\": \"QDi.325\",\n            \"target\": \"QDe.115\"\n        },\n        {\n            \"source\": \"QDi.325\",\n            \"target\": \"QDi.317\"\n        },\n        {\n            \"source\": \"QDi.325\",\n            \"target\": \"QDi.299\"\n        },\n        {\n            \"source\": \"QDi.326\",\n            \"target\": \"QDe.115\"\n        },\n        {\n            \"source\": \"QDi.326\",\n            \"target\": \"QDe.137\"\n        },\n        {\n            \"source\": \"QDi.326\",\n            \"target\": \"QDi.299\"\n        },\n        {\n            \"source\": \"QDi.326\",\n            \"target\": \"QDi.317\"\n        },\n        {\n            \"source\": \"QDi.327\",\n            \"target\": \"QDe.137\"\n        },\n        {\n            \"source\": \"QDi.328\",\n            \"target\": \"QDe.137\"\n        },\n        {\n            \"source\": \"QDi.329\",\n            \"target\": \"QDe.004\"\n        },\n        {\n            \"source\": \"QDi.330\",\n            \"target\": \"QDe.004\"\n        },\n        {\n            \"source\": \"QDi.331\",\n            \"target\": \"QDe.129\"\n        },\n        {\n            \"source\": \"QDi.332\",\n            \"target\": \"QDe.144\"\n        },\n        {\n            \"source\": \"QDi.333\",\n            \"target\": \"QDe.090\"\n        },\n        {\n            \"source\": \"QDi.333\",\n            \"target\": \"QDe.143\"\n        },\n        {\n            \"source\": \"QDi.334\",\n            \"target\": \"QDe.004\"\n        },\n        {\n            \"source\": \"QDi.334\",\n            \"target\": \"QDe.115\"\n        },\n        {\n            \"source\": \"QDi.335\",\n            \"target\": \"QDe.004\"\n        },\n        {\n            \"source\": \"QDi.335\",\n            \"target\": \"QDe.115\"\n        },\n        {\n            \"source\": \"QDi.336\",\n            \"target\": \"QDe.137\"\n        },\n        {\n            \"source\": \"QDi.337\",\n            \"target\": \"QDe.137\"\n        },\n        {\n            \"source\": \"QDi.338\",\n            \"target\": \"QDe.137\"\n        },\n        {\n            \"source\": \"QDi.339\",\n            \"target\": \"QDe.115\"\n        },\n        {\n            \"source\": \"QDi.339\",\n            \"target\": \"QDe.004\"\n        },\n        {\n            \"source\": \"QDi.340\",\n            \"target\": \"QDe.115\"\n        },\n        {\n            \"source\": \"QDi.340\",\n            \"target\": \"QDe.004\"\n        },\n        {\n            \"source\": \"QDi.341\",\n            \"target\": \"QDe.137\"\n        },\n        {\n            \"source\": \"QDi.341\",\n            \"target\": \"QDe.115\"\n        },\n        {\n            \"source\": \"QDi.342\",\n            \"target\": \"QDe.137\"\n        },\n        {\n            \"source\": \"QDi.343\",\n            \"target\": \"QDe.004\"\n        },\n        {\n            \"source\": \"QDi.343\",\n            \"target\": \"QDe.137\"\n        },\n        {\n            \"source\": \"QDi.343\",\n            \"target\": \"QDe.115\"\n        },\n        {\n            \"source\": \"QDi.344\",\n            \"target\": \"QDe.004\"\n        },\n        {\n            \"source\": \"QDi.345\",\n            \"target\": \"QDe.115\"\n        },\n        {\n            \"source\": \"QDi.348\",\n            \"target\": \"QDe.092\"\n        },\n        {\n            \"source\": \"QDi.348\",\n            \"target\": \"QDe.147\"\n        },\n        {\n            \"source\": \"QDi.349\",\n            \"target\": \"QDe.092\"\n        },\n        {\n            \"source\": \"QDi.349\",\n            \"target\": \"QDe.147\"\n        },\n        {\n            \"source\": \"QDi.350\",\n            \"target\": \"QDe.092\"\n        },\n        {\n            \"source\": \"QDi.350\",\n            \"target\": \"QDe.147\"\n        },\n        {\n            \"source\": \"QDi.352\",\n            \"target\": \"QDe.132\"\n        },\n        {\n            \"source\": \"QDi.353\",\n            \"target\": \"QDe.143\"\n        },\n        {\n            \"source\": \"QDi.354\",\n            \"target\": \"QDe.115\"\n        },\n        {\n            \"source\": \"QDi.354\",\n            \"target\": \"QDe.143\"\n        },\n        {\n            \"source\": \"QDi.355\",\n            \"target\": \"QDe.145\"\n        },\n        {\n            \"source\": \"QDi.356\",\n            \"target\": \"QDe.115\"\n        },\n        {\n            \"source\": \"QDi.357\",\n            \"target\": \"QDe.115\"\n        },\n        {\n            \"source\": \"QDi.358\",\n            \"target\": \"QDe.115\"\n        },\n        {\n            \"source\": \"QDi.359\",\n            \"target\": \"QDe.115\"\n        },\n        {\n            \"source\": \"QDi.360\",\n            \"target\": \"QDe.115\"\n        },\n        {\n            \"source\": \"QDi.361\",\n            \"target\": \"QDe.115\"\n        },\n        {\n            \"source\": \"QDi.363\",\n            \"target\": \"QDe.115\"\n        },\n        {\n            \"source\": \"QDi.364\",\n            \"target\": \"QDe.115\"\n        },\n        {\n            \"source\": \"QDi.365\",\n            \"target\": \"QDe.115\"\n        },\n        {\n            \"source\": \"QDi.366\",\n            \"target\": \"QDe.115\"\n        },\n        {\n            \"source\": \"QDi.367\",\n            \"target\": \"QDe.148\"\n        },\n        {\n            \"source\": \"QDi.368\",\n            \"target\": \"QDe.137\"\n        },\n        {\n            \"source\": \"QDi.369\",\n            \"target\": \"QDe.115\"\n        },\n        {\n            \"source\": \"QDi.369\",\n            \"target\": \"QDe.129\"\n        },\n        {\n            \"source\": \"QDi.370\",\n            \"target\": \"QDe.115\"\n        },\n        {\n            \"source\": \"QDi.371\",\n            \"target\": \"QDe.004\"\n        },\n        {\n            \"source\": \"QDi.371\",\n            \"target\": \"QDi.006\"\n        },\n        {\n            \"source\": \"QDi.372\",\n            \"target\": \"QDe.115\"\n        },\n        {\n            \"source\": \"QDi.374\",\n            \"target\": \"QDe.137\"\n        },\n        {\n            \"source\": \"QDi.375\",\n            \"target\": \"QDe.115\"\n        },\n        {\n            \"source\": \"QDi.376\",\n            \"target\": \"QDe.129\"\n        },\n        {\n            \"source\": \"QDi.377\",\n            \"target\": \"QDe.004\"\n        },\n        {\n            \"source\": \"QDi.378\",\n            \"target\": \"QDe.115\"\n        },\n        {\n            \"source\": \"QDi.380\",\n            \"target\": \"QDe.004\"\n        },\n        {\n            \"source\": \"QDi.382\",\n            \"target\": \"QDe.137\"\n        },\n        {\n            \"source\": \"QDi.383\",\n            \"target\": \"QDe.115\"\n        },\n        {\n            \"source\": \"QDi.384\",\n            \"target\": \"QDe.115\"\n        },\n        {\n            \"source\": \"QDi.385\",\n            \"target\": \"QDe.115\"\n        },\n        {\n            \"source\": \"QDi.386\",\n            \"target\": \"QDe.014\"\n        },\n        {\n            \"source\": \"QDi.386\",\n            \"target\": \"QDe.115\"\n        },\n        {\n            \"source\": \"QDi.387\",\n            \"target\": \"QDe.004\"\n        },\n        {\n            \"source\": \"QDi.388\",\n            \"target\": \"QDe.115\"\n        },\n        {\n            \"source\": \"QDi.389\",\n            \"target\": \"QDe.014\"\n        },\n        {\n            \"source\": \"QDi.392\",\n            \"target\": \"QDe.115\"\n        },\n        {\n            \"source\": \"QDi.394\",\n            \"target\": \"QDe.115\"\n        },\n        {\n            \"source\": \"QDi.394\",\n            \"target\": \"QDi.299\"\n        },\n        {\n            \"source\": \"QDi.395\",\n            \"target\": \"QDe.133\"\n        },\n        {\n            \"source\": \"QDi.395\",\n            \"target\": \"QDe.115\"\n        },\n        {\n            \"source\": \"QDi.396\",\n            \"target\": \"QDe.100\"\n        },\n        {\n            \"source\": \"QDi.397\",\n            \"target\": \"QDe.137\"\n        },\n        {\n            \"source\": \"QDi.399\",\n            \"target\": \"QDe.137\"\n        },\n        {\n            \"source\": \"QDi.400\",\n            \"target\": \"QDe.137\"\n        },\n        {\n            \"source\": \"QDi.401\",\n            \"target\": \"QDe.129\"\n        },\n        {\n            \"source\": \"QDi.403\",\n            \"target\": \"QDe.115\"\n        },\n        {\n            \"source\": \"QDi.404\",\n            \"target\": \"QDe.115\"\n        },\n        {\n            \"source\": \"QDi.405\",\n            \"target\": \"QDe.115\"\n        },\n        {\n            \"source\": \"QDi.406\",\n            \"target\": \"QDe.137\"\n        },\n        {\n            \"source\": \"QDi.407\",\n            \"target\": \"QDe.115\"\n        },\n        {\n            \"source\": \"QDi.408\",\n            \"target\": \"QDe.115\"\n        },\n        {\n            \"source\": \"QDi.409\",\n            \"target\": \"QDe.115\"\n        },\n        {\n            \"source\": \"QDi.410\",\n            \"target\": \"QDe.115\"\n        },\n        {\n            \"source\": \"QDi.411\",\n            \"target\": \"QDe.115\"\n        },\n        {\n            \"source\": \"QDi.412\",\n            \"target\": \"QDe.115\"\n        },\n        {\n            \"source\": \"QDi.412\",\n            \"target\": \"QDe.157\"\n        },\n        {\n            \"source\": \"QDi.413\",\n            \"target\": \"QDe.115\"\n        },\n        {\n            \"source\": \"QDi.414\",\n            \"target\": \"QDe.115\"\n        },\n        {\n            \"source\": \"QDi.415\",\n            \"target\": \"QDe.134\"\n        },\n        {\n            \"source\": \"QDi.415\",\n            \"target\": \"QDe.141\"\n        },\n        {\n            \"source\": \"QDi.415\",\n            \"target\": \"QDe.115\"\n        },\n        {\n            \"source\": \"QDi.416\",\n            \"target\": \"QDe.115\"\n        },\n        {\n            \"source\": \"QDi.417\",\n            \"target\": \"QDe.115\"\n        },\n        {\n            \"source\": \"QDi.418\",\n            \"target\": \"QDe.115\"\n        },\n        {\n            \"source\": \"QDi.419\",\n            \"target\": \"QDe.115\"\n        },\n        {\n            \"source\": \"QDi.421\",\n            \"target\": \"QDi.006\"\n        },\n        {\n            \"source\": \"QDi.421\",\n            \"target\": \"QDe.004\"\n        },\n        {\n            \"source\": \"QDi.422\",\n            \"target\": \"QDe.019\"\n        },\n        {\n            \"source\": \"QDi.422\",\n            \"target\": \"QDe.008\"\n        },\n        {\n            \"source\": \"QDi.423\",\n            \"target\": \"QDe.014\"\n        },\n        {\n            \"source\": \"QDi.423\",\n            \"target\": \"QDe.135\"\n        },\n        {\n            \"source\": \"QDi.423\",\n            \"target\": \"QDe.159\"\n        },\n        {\n            \"source\": \"QDi.424\",\n            \"target\": \"QDe.135\"\n        },\n        {\n            \"source\": \"QDi.424\",\n            \"target\": \"QDe.159\"\n        },\n        {\n            \"source\": \"QDi.425\",\n            \"target\": \"QDe.159\"\n        },\n        {\n            \"source\": \"QDi.425\",\n            \"target\": \"QDe.014\"\n        },\n        {\n            \"source\": \"QDi.426\",\n            \"target\": \"QDe.115\"\n        },\n        {\n            \"source\": \"QDi.427\",\n            \"target\": \"QDe.132\"\n        },\n        {\n            \"source\": \"QDi.427\",\n            \"target\": \"QDi.352\"\n        },\n        {\n            \"source\": \"QDi.428\",\n            \"target\": \"QDe.137\"\n        },\n        {\n            \"source\": \"QDi.429\",\n            \"target\": \"QDe.115\"\n        },\n        {\n            \"source\": \"QDi.430\",\n            \"target\": \"QDe.115\"\n        },\n        {\n            \"source\": \"QDi.431\",\n            \"target\": \"QDe.161\"\n        },\n        {\n            \"source\": \"QDi.432\",\n            \"target\": \"QDe.115\"\n        },\n        {\n            \"source\": \"QDi.433\",\n            \"target\": \"QDe.118\"\n        },\n        {\n            \"source\": \"QDi.433\",\n            \"target\": \"QDi.263\"\n        },\n        {\n            \"source\": \"QDi.434\",\n            \"target\": \"QDe.161\"\n        },\n        {\n            \"source\": \"QDi.435\",\n            \"target\": \"QDe.161\"\n        },\n        {\n            \"source\": \"QDe.001\",\n            \"target\": \"QDe.092\"\n        },\n        {\n            \"source\": \"QDe.001\",\n            \"target\": \"QDi.208\"\n        },\n        {\n            \"source\": \"QDe.002\",\n            \"target\": \"QDe.004\"\n        },\n        {\n            \"source\": \"QDe.002\",\n            \"target\": \"QDi.006\"\n        },\n        {\n            \"source\": \"QDe.002\",\n            \"target\": \"QDi.042\"\n        },\n        {\n            \"source\": \"QDe.002\",\n            \"target\": \"QDe.072\"\n        },\n        {\n            \"source\": \"QDe.003\",\n            \"target\": \"QDi.006\"\n        },\n        {\n            \"source\": \"QDe.005\",\n            \"target\": \"QDe.073\"\n        },\n        {\n            \"source\": \"QDe.005\",\n            \"target\": \"QDe.073\"\n        },\n        {\n            \"source\": \"QDe.005\",\n            \"target\": \"QDe.019\"\n        },\n        {\n            \"source\": \"QDe.007\",\n            \"target\": \"QDe.115\"\n        },\n        {\n            \"source\": \"QDe.008\",\n            \"target\": \"QDe.019\"\n        },\n        {\n            \"source\": \"QDe.008\",\n            \"target\": \"QDe.096\"\n        },\n        {\n            \"source\": \"QDe.008\",\n            \"target\": \"QDe.118\"\n        },\n        {\n            \"source\": \"QDe.010\",\n            \"target\": \"QDe.088\"\n        },\n        {\n            \"source\": \"QDe.010\",\n            \"target\": \"QDe.119\"\n        },\n        {\n            \"source\": \"QDe.010\",\n            \"target\": \"QDe.131\"\n        },\n        {\n            \"source\": \"QDe.011\",\n            \"target\": \"QDe.004\"\n        },\n        {\n            \"source\": \"QDe.012\",\n            \"target\": \"QDe.004\"\n        },\n        {\n            \"source\": \"QDe.014\",\n            \"target\": \"QDi.232\"\n        },\n        {\n            \"source\": \"QDe.015\",\n            \"target\": \"QDe.004\"\n        },\n        {\n            \"source\": \"QDe.019\",\n            \"target\": \"QDe.008\"\n        },\n        {\n            \"source\": \"QDe.019\",\n            \"target\": \"QDe.118\"\n        },\n        {\n            \"source\": \"QDe.019\",\n            \"target\": \"QDe.121\"\n        },\n        {\n            \"source\": \"QDe.019\",\n            \"target\": \"QDe.130\"\n        },\n        {\n            \"source\": \"QDe.068\",\n            \"target\": \"QDi.055\"\n        },\n        {\n            \"source\": \"QDe.068\",\n            \"target\": \"QDi.054\"\n        },\n        {\n            \"source\": \"QDe.068\",\n            \"target\": \"QDi.056\"\n        },\n        {\n            \"source\": \"QDe.069\",\n            \"target\": \"QDe.070\"\n        },\n        {\n            \"source\": \"QDe.069\",\n            \"target\": \"QDi.058\"\n        },\n        {\n            \"source\": \"QDe.070\",\n            \"target\": \"QDi.058\"\n        },\n        {\n            \"source\": \"QDe.070\",\n            \"target\": \"QDe.069\"\n        },\n        {\n            \"source\": \"QDe.089\",\n            \"target\": \"QDe.014\"\n        },\n        {\n            \"source\": \"QDe.090\",\n            \"target\": \"QDe.014\"\n        },\n        {\n            \"source\": \"QDe.092\",\n            \"target\": \"QDe.001\"\n        },\n        {\n            \"source\": \"QDe.098\",\n            \"target\": \"QDi.226\"\n        },\n        {\n            \"source\": \"QDe.098\",\n            \"target\": \"QDe.115\"\n        },\n        {\n            \"source\": \"QDe.099\",\n            \"target\": \"QDe.100\"\n        },\n        {\n            \"source\": \"QDe.099\",\n            \"target\": \"QDe.101\"\n        },\n        {\n            \"source\": \"QDe.100\",\n            \"target\": \"QDe.099\"\n        },\n        {\n            \"source\": \"QDe.100\",\n            \"target\": \"QDe.101\"\n        },\n        {\n            \"source\": \"QDe.100\",\n            \"target\": \"QDe.131\"\n        },\n        {\n            \"source\": \"QDe.101\",\n            \"target\": \"QDe.099\"\n        },\n        {\n            \"source\": \"QDe.101\",\n            \"target\": \"QDe.100\"\n        },\n        {\n            \"source\": \"QDe.118\",\n            \"target\": \"QDi.263\"\n        },\n        {\n            \"source\": \"QDe.119\",\n            \"target\": \"QDe.010\"\n        },\n        {\n            \"source\": \"QDe.119\",\n            \"target\": \"QDe.131\"\n        },\n        {\n            \"source\": \"QDe.121\",\n            \"target\": \"QDe.019\"\n        },\n        {\n            \"source\": \"QDe.121\",\n            \"target\": \"QDe.008\"\n        },\n        {\n            \"source\": \"QDe.121\",\n            \"target\": \"QDe.096\"\n        },\n        {\n            \"source\": \"QDe.121\",\n            \"target\": \"QDe.118\"\n        },\n        {\n            \"source\": \"QDe.128\",\n            \"target\": \"QDi.244\"\n        },\n        {\n            \"source\": \"QDe.128\",\n            \"target\": \"QDe.001\"\n        },\n        {\n            \"source\": \"QDe.128\",\n            \"target\": \"QDe.092\"\n        },\n        {\n            \"source\": \"QDe.129\",\n            \"target\": \"QDe.004\"\n        },\n        {\n            \"source\": \"QDe.129\",\n            \"target\": \"QDi.282\"\n        },\n        {\n            \"source\": \"QDe.130\",\n            \"target\": \"QDe.008\"\n        },\n        {\n            \"source\": \"QDe.131\",\n            \"target\": \"QDi.290\"\n        },\n        {\n            \"source\": \"QDe.132\",\n            \"target\": \"QDi.352\"\n        },\n        {\n            \"source\": \"QDe.133\",\n            \"target\": \"QDe.115\"\n        },\n        {\n            \"source\": \"QDe.133\",\n            \"target\": \"QDi.217\"\n        },\n        {\n            \"source\": \"QDe.133\",\n            \"target\": \"QDe.092\"\n        },\n        {\n            \"source\": \"QDe.134\",\n            \"target\": \"QDe.014\"\n        },\n        {\n            \"source\": \"QDe.134\",\n            \"target\": \"QDi.136\"\n        },\n        {\n            \"source\": \"QDe.135\",\n            \"target\": \"QDi.316\"\n        },\n        {\n            \"source\": \"QDe.135\",\n            \"target\": \"QDe.014\"\n        },\n        {\n            \"source\": \"QDe.135\",\n            \"target\": \"QDe.134\"\n        },\n        {\n            \"source\": \"QDe.135\",\n            \"target\": \"QDi.232\"\n        },\n        {\n            \"source\": \"QDe.136\",\n            \"target\": \"QDi.318\"\n        },\n        {\n            \"source\": \"QDe.136\",\n            \"target\": \"QDe.004\"\n        },\n        {\n            \"source\": \"QDe.136\",\n            \"target\": \"QDi.006\"\n        },\n        {\n            \"source\": \"QDe.136\",\n            \"target\": \"QDe.129\"\n        },\n        {\n            \"source\": \"QDe.136\",\n            \"target\": \"QDe.014\"\n        },\n        {\n            \"source\": \"QDe.137\",\n            \"target\": \"QDe.004\"\n        },\n        {\n            \"source\": \"QDe.137\",\n            \"target\": \"QDe.115\"\n        },\n        {\n            \"source\": \"QDe.137\",\n            \"target\": \"QDe.007\"\n        },\n        {\n            \"source\": \"QDe.137\",\n            \"target\": \"QDe.115\"\n        },\n        {\n            \"source\": \"QDe.137\",\n            \"target\": \"QDi.299\"\n        },\n        {\n            \"source\": \"QDe.137\",\n            \"target\": \"QDi.317\"\n        },\n        {\n            \"source\": \"QDe.137\",\n            \"target\": \"QDe.115\"\n        },\n        {\n            \"source\": \"QDe.138\",\n            \"target\": \"QDe.004\"\n        },\n        {\n            \"source\": \"QDe.138\",\n            \"target\": \"QDe.014\"\n        },\n        {\n            \"source\": \"QDe.139\",\n            \"target\": \"QDe.014\"\n        },\n        {\n            \"source\": \"QDe.139\",\n            \"target\": \"QDi.136\"\n        },\n        {\n            \"source\": \"QDe.140\",\n            \"target\": \"QDe.014\"\n        },\n        {\n            \"source\": \"QDe.140\",\n            \"target\": \"QDe.134\"\n        },\n        {\n            \"source\": \"QDe.140\",\n            \"target\": \"QDe.141\"\n        },\n        {\n            \"source\": \"QDe.140\",\n            \"target\": \"QDe.014\"\n        },\n        {\n            \"source\": \"QDe.140\",\n            \"target\": \"QDi.136\"\n        },\n        {\n            \"source\": \"QDe.141\",\n            \"target\": \"QDe.140\"\n        },\n        {\n            \"source\": \"QDe.141\",\n            \"target\": \"QDe.134\"\n        },\n        {\n            \"source\": \"QDe.141\",\n            \"target\": \"QDe.014\"\n        },\n        {\n            \"source\": \"QDe.141\",\n            \"target\": \"QDi.136\"\n        },\n        {\n            \"source\": \"QDe.142\",\n            \"target\": \"QDe.014\"\n        },\n        {\n            \"source\": \"QDe.142\",\n            \"target\": \"QDe.138\"\n        },\n        {\n            \"source\": \"QDe.143\",\n            \"target\": \"QDe.014\"\n        },\n        {\n            \"source\": \"QDe.143\",\n            \"target\": \"QDi.333\"\n        },\n        {\n            \"source\": \"QDe.144\",\n            \"target\": \"QDe.137\"\n        },\n        {\n            \"source\": \"QDe.145\",\n            \"target\": \"QDe.014\"\n        },\n        {\n            \"source\": \"QDe.145\",\n            \"target\": \"QDe.143\"\n        },\n        {\n            \"source\": \"QDe.145\",\n            \"target\": \"QDe.146\"\n        },\n        {\n            \"source\": \"QDe.146\",\n            \"target\": \"QDe.014\"\n        },\n        {\n            \"source\": \"QDe.146\",\n            \"target\": \"QDe.141\"\n        },\n        {\n            \"source\": \"QDe.146\",\n            \"target\": \"QDe.143\"\n        },\n        {\n            \"source\": \"QDe.146\",\n            \"target\": \"QDe.145\"\n        },\n        {\n            \"source\": \"QDe.147\",\n            \"target\": \"QDe.092\"\n        },\n        {\n            \"source\": \"QDe.148\",\n            \"target\": \"QDe.115\"\n        },\n        {\n            \"source\": \"QDe.148\",\n            \"target\": \"QDe.137\"\n        },\n        {\n            \"source\": \"QDe.149\",\n            \"target\": \"QDe.137\"\n        },\n        {\n            \"source\": \"QDe.150\",\n            \"target\": \"QDe.115\"\n        },\n        {\n            \"source\": \"QDe.150\",\n            \"target\": \"QDe.092\"\n        },\n        {\n            \"source\": \"QDe.150\",\n            \"target\": \"QDe.133\"\n        },\n        {\n            \"source\": \"QDe.152\",\n            \"target\": \"QDe.132\"\n        },\n        {\n            \"source\": \"QDe.152\",\n            \"target\": \"QDe.115\"\n        },\n        {\n            \"source\": \"QDe.153\",\n            \"target\": \"QDe.115\"\n        },\n        {\n            \"source\": \"QDe.154\",\n            \"target\": \"QDe.115\"\n        },\n        {\n            \"source\": \"QDe.155\",\n            \"target\": \"QDe.115\"\n        },\n        {\n            \"source\": \"QDe.156\",\n            \"target\": \"QDe.137\"\n        },\n        {\n            \"source\": \"QDe.157\",\n            \"target\": \"QDi.412\"\n        },\n        {\n            \"source\": \"QDe.157\",\n            \"target\": \"QDe.115\"\n        },\n        {\n            \"source\": \"QDe.158\",\n            \"target\": \"QDe.137\"\n        },\n        {\n            \"source\": \"QDe.159\",\n            \"target\": \"QDe.004\"\n        },\n        {\n            \"source\": \"QDe.159\",\n            \"target\": \"QDe.014\"\n        },\n        {\n            \"source\": \"QDe.159\",\n            \"target\": \"QDe.135\"\n        },\n        {\n            \"source\": \"QDe.159\",\n            \"target\": \"QDe.141\"\n        },\n        {\n            \"source\": \"QDe.160\",\n            \"target\": \"QDe.132\"\n        },\n        {\n            \"source\": \"QDe.161\",\n            \"target\": \"QDe.132\"\n        },\n        {\n            \"source\": \"QDe.161\",\n            \"target\": \"QDe.115\"\n        },\n        {\n            \"source\": \"QDe.162\",\n            \"target\": \"QDe.115\"\n        },\n        {\n            \"source\": \"QDe.162\",\n            \"target\": \"QDi.322\"\n        },\n        {\n            \"source\": \"QDe.162\",\n            \"target\": \"QDe.138\"\n        },\n        {\n            \"source\": \"QDe.163\",\n            \"target\": \"QDi.415\"\n        },\n        {\n            \"source\": \"QDe.163\",\n            \"target\": \"QDe.115\"\n        },\n        {\n            \"source\": \"QDe.163\",\n            \"target\": \"QDe.141\"\n        },\n        {\n            \"source\": \"QDe.164\",\n            \"target\": \"QDe.115\"\n        },\n        {\n            \"source\": \"QDe.165\",\n            \"target\": \"QDi.299\"\n        },\n        {\n            \"source\": \"QDe.165\",\n            \"target\": \"QDe.115\"\n        },\n        {\n            \"source\": \"QDe.166\",\n            \"target\": \"QDi.299\"\n        },\n        {\n            \"source\": \"QDe.166\",\n            \"target\": \"QDe.115\"\n        },\n        {\n            \"source\": \"QDe.167\",\n            \"target\": \"QDe.115\"\n        },\n        {\n            \"source\": \"QDe.168\",\n            \"target\": \"QDe.137\"\n        },\n        {\n            \"source\": \"QDe.168\",\n            \"target\": \"QDe.158\"\n        },\n        {\n            \"source\": \"QDe.168\",\n            \"target\": \"QDe.119\"\n        },\n        {\n            \"source\": \"QDe.169\",\n            \"target\": \"QDi.204\"\n        },\n        {\n            \"source\": \"QDe.169\",\n            \"target\": \"QDe.115\"\n        }\n    ]\n}"
     ]
    },
    {
     "output_type": "display_data",
     "data": {
      "text/html": [
       "<style scoped>\n",
       "  .ansiout {\n",
       "    display: block;\n",
       "    unicode-bidi: embed;\n",
       "    white-space: pre-wrap;\n",
       "    word-wrap: break-word;\n",
       "    word-break: break-all;\n",
       "    font-family: \"Menlo\", \"Monaco\", \"Consolas\", \"Ubuntu Mono\", \"Source Code Pro\", monospace;\n",
       "    font-size: 13px;\n",
       "    color: #555;\n",
       "    margin-left: 4px;\n",
       "    line-height: 19px;\n",
       "  }\n",
       "</style>"
      ]
     },
     "metadata": {
      "application/vnd.databricks.v1+output": {
       "arguments": {},
       "data": "",
       "errorSummary": "",
       "errorTraceType": null,
       "metadata": {},
       "type": "ipynbError"
      }
     },
     "output_type": "display_data"
    }
   ],
   "source": [
    "%sh\n",
    "pwd\n",
    "# ls -lahtr\n",
    "cat /Workspace/Users/john.f.kraus19.ctr@mail.mil/data.json"
   ]
  },
  {
   "cell_type": "code",
   "execution_count": 0,
   "metadata": {
    "application/vnd.databricks.v1+cell": {
     "cellMetadata": {
      "byteLimit": 2048000,
      "rowLimit": 10000
     },
     "inputWidgets": {},
     "nuid": "9dd015ea-41f5-4591-a1ec-061c2e87140c",
     "showTitle": false,
     "title": ""
    }
   },
   "outputs": [],
   "source": []
  },
  {
   "cell_type": "code",
   "execution_count": 0,
   "metadata": {
    "application/vnd.databricks.v1+cell": {
     "cellMetadata": {
      "byteLimit": 2048000,
      "rowLimit": 10000
     },
     "inputWidgets": {},
     "nuid": "bbe0d275-45da-4901-938d-3325d8e4c6e3",
     "showTitle": false,
     "title": ""
    }
   },
   "outputs": [
    {
     "output_type": "stream",
     "name": "stdout",
     "output_type": "stream",
     "text": [
      "{'QI.A.12.01': ['TEST FAKE DATA'], 'QDi.001': [], 'QDi.002': [], 'QDi.003': [], 'QDi.006': [], 'QDi.009': [], 'QDi.012': [], 'QDi.014': [], 'QDi.015': [], 'QDi.017': [], 'QDi.018': [], 'QDi.019': [], 'QDi.020': [], 'QDi.028': [], 'QDi.029': [], 'QDi.031': [], 'QDi.037': [], 'QDi.042': [], 'QDi.054': [], 'QDi.055': [], 'QDi.056': [], 'QDi.057': [], 'QDi.058': [], 'QDi.059': [], 'QDi.060': [], 'QDi.062': [], 'QDi.064': [], 'QDi.065': [], 'QDi.067': [], 'QDi.068': [], 'QDi.070': [], 'QDi.072': [], 'QDi.074': [], 'QDi.075': [], 'QDi.076': [], 'QDi.080': [], 'QDi.081': [], 'QDi.082': [], 'QDi.083': [], 'QDi.086': [], 'QDi.087': [], 'QDi.092': [], 'QDi.095': [], 'QDi.096': [], 'QDi.111': [], 'QDi.114': [], 'QDi.119': [], 'QDi.120': [], 'QDi.122': [], 'QDi.123': [], 'QDi.124': [], 'QDi.126': [], 'QDi.129': [], 'QDi.135': [], 'QDi.136': [], 'QDi.139': [], 'QDi.140': [], 'QDi.141': [], 'QDi.142': [], 'QDi.143': [], 'QDi.144': [], 'QDi.147': [], 'QDi.149': [], 'QDi.150': [], 'QDi.152': [], 'QDi.154': [], 'QDi.155': [], 'QDi.156': [], 'QDi.167': [], 'QDi.177': [], 'QDi.184': [], 'QDi.186': [], 'QDi.187': [], 'QDi.188': [], 'QDi.190': [], 'QDi.192': [], 'QDi.193': [], 'QDi.196': [], 'QDi.198': [], 'QDi.203': [], 'QDi.204': [], 'QDi.208': [], 'QDi.216': [], 'QDi.217': [], 'QDi.218': [], 'QDi.219': [], 'QDi.222': [], 'QDi.223': [], 'QDi.226': [], 'QDi.228': [], 'QDi.229': [], 'QDi.231': [], 'QDi.232': [], 'QDi.236': [], 'QDi.237': [], 'QDi.238': [], 'QDi.241': [], 'QDi.242': [], 'QDi.243': [], 'QDi.244': [], 'QDi.245': [], 'QDi.246': [], 'QDi.247': [], 'QDi.248': [], 'QDi.249': [], 'QDi.250': [], 'QDi.251': [], 'QDi.252': [], 'QDi.261': [], 'QDi.262': [], 'QDi.263': [], 'QDi.264': [], 'QDi.265': [], 'QDi.266': [], 'QDi.268': [], 'QDi.271': [], 'QDi.272': [], 'QDi.273': [], 'QDi.276': [], 'QDi.277': [], 'QDi.278': [], 'QDi.279': [], 'QDi.280': [], 'QDi.282': [], 'QDi.283': [], 'QDi.289': [], 'QDi.290': [], 'QDi.291': [], 'QDi.292': [], 'QDi.293': [], 'QDi.294': [], 'QDi.295': [], 'QDi.296': [], 'QDi.298': [], 'QDi.299': [], 'QDi.300': [], 'QDi.301': [], 'QDi.303': [], 'QDi.304': [], 'QDi.305': [], 'QDi.306': [], 'QDi.307': [], 'QDi.308': [], 'QDi.309': [], 'QDi.311': [], 'QDi.312': [], 'QDi.313': [], 'QDi.314': [], 'QDi.315': [], 'QDi.316': [], 'QDi.317': [], 'QDi.318': [], 'QDi.319': [], 'QDi.320': [], 'QDi.322': [], 'QDi.323': [], 'QDi.324': [], 'QDi.325': [], 'QDi.326': [], 'QDi.327': [], 'QDi.328': [], 'QDi.329': [], 'QDi.330': [], 'QDi.331': [], 'QDi.332': [], 'QDi.333': [], 'QDi.334': [], 'QDi.335': [], 'QDi.336': [], 'QDi.337': [], 'QDi.338': [], 'QDi.339': [], 'QDi.340': [], 'QDi.341': [], 'QDi.342': [], 'QDi.343': [], 'QDi.344': [], 'QDi.345': [], 'QDi.348': [], 'QDi.349': [], 'QDi.350': [], 'QDi.352': [], 'QDi.353': [], 'QDi.354': [], 'QDi.355': [], 'QDi.356': [], 'QDi.357': [], 'QDi.358': [], 'QDi.359': [], 'QDi.360': [], 'QDi.361': [], 'QDi.363': [], 'QDi.364': [], 'QDi.365': [], 'QDi.366': [], 'QDi.367': [], 'QDi.368': [], 'QDi.369': [], 'QDi.370': [], 'QDi.371': [], 'QDi.372': [], 'QDi.374': [], 'QDi.375': [], 'QDi.376': [], 'QDi.377': [], 'QDi.378': [], 'QDi.380': [], 'QDi.382': [], 'QDi.383': [], 'QDi.384': [], 'QDi.385': [], 'QDi.386': [], 'QDi.387': [], 'QDi.388': [], 'QDi.389': [], 'QDi.392': [], 'QDi.394': [], 'QDi.395': [], 'QDi.396': [], 'QDi.397': [], 'QDi.398': [], 'QDi.399': [], 'QDi.400': [], 'QDi.401': [], 'QDi.403': [], 'QDi.404': [], 'QDi.405': [], 'QDi.406': [], 'QDi.407': [], 'QDi.408': [], 'QDi.409': [], 'QDi.410': [], 'QDi.411': [], 'QDi.412': [], 'QDi.413': [], 'QDi.414': [], 'QDi.415': [], 'QDi.416': [], 'QDi.417': [], 'QDi.418': [], 'QDi.419': [], 'QDi.420': [], 'QDi.421': [], 'QDi.422': [], 'QDi.423': [], 'QDi.424': [], 'QDi.425': [], 'QDi.426': [], 'QDi.427': [], 'QDi.428': [], 'QDi.429': [], 'QDi.430': [], 'QDi.431': [], 'QDi.432': [], 'QDi.433': [], 'QDi.434': [], 'QDi.435': [], 'QDe.001': [], 'QDe.002': [], 'QDe.003': [], 'QDe.004': [], 'QDe.005': [], 'QDe.006': [], 'QDe.007': [], 'QDe.008': [], 'QDe.009': [], 'QDe.010': [], 'QDe.011': [], 'QDe.012': [], 'QDe.014': [], 'QDe.015': [], 'QDe.019': [], 'QDe.020': [], 'QDe.021': [], 'QDe.068': [], 'QDe.069': [], 'QDe.070': [], 'QDe.088': [], 'QDe.089': [], 'QDe.090': [], 'QDe.091': [], 'QDe.092': [], 'QDe.093': [], 'QDe.096': [], 'QDe.098': [], 'QDe.099': [], 'QDe.100': [], 'QDe.101': [], 'QDe.104': [], 'QDe.105': [], 'QDe.106': [], 'QDe.107': [], 'QDe.108': [], 'QDe.109': [], 'QDe.110': [], 'QDe.111': [], 'QDe.112': [], 'QDe.113': [], 'QDe.114': [], 'QDe.115': [], 'QDe.116': [], 'QDe.118': [], 'QDe.119': [], 'QDe.121': [], 'QDe.128': [], 'QDe.129': [], 'QDe.130': [], 'QDe.131': [], 'QDe.132': [], 'QDe.133': [], 'QDe.134': [], 'QDe.135': [], 'QDe.136': [], 'QDe.137': [], 'QDe.138': [], 'QDe.139': [], 'QDe.140': [], 'QDe.141': [], 'QDe.142': [], 'QDe.143': [], 'QDe.144': [], 'QDe.145': [], 'QDe.146': [], 'QDe.147': [], 'QDe.148': [], 'QDe.149': [], 'QDe.150': [], 'QDe.151': [], 'QDe.152': [], 'QDe.153': [], 'QDe.154': [], 'QDe.155': [], 'QDe.156': [], 'QDe.157': [], 'QDe.158': [], 'QDe.159': [], 'QDe.160': [], 'QDe.161': [], 'QDe.162': [], 'QDe.163': [], 'QDe.164': [], 'QDe.165': [], 'QDe.166': [], 'QDe.167': [], 'QDe.168': [], 'QDe.169': []}\n"
     ]
    },
    {
     "output_type": "display_data",
     "data": {
      "text/plain": [
       "\u001B[0;31m---------------------------------------------------------------------------\u001B[0m\n",
       "\u001B[0;31mTypeError\u001B[0m                                 Traceback (most recent call last)\n",
       "File \u001B[0;32m<command-3005107788418193>, line 41\u001B[0m\n",
       "\u001B[1;32m     39\u001B[0m     nationality \u001B[38;5;241m=\u001B[39m row[\u001B[38;5;124m'\u001B[39m\u001B[38;5;124mNATIONALITY\u001B[39m\u001B[38;5;124m'\u001B[39m]\n",
       "\u001B[1;32m     40\u001B[0m     \u001B[38;5;66;03m# print(type(nationality))\u001B[39;00m\n",
       "\u001B[0;32m---> 41\u001B[0m     \u001B[38;5;28;01mif\u001B[39;00m nationality[\u001B[38;5;124m'\u001B[39m\u001B[38;5;124mVALUE\u001B[39m\u001B[38;5;124m'\u001B[39m]:\n",
       "\u001B[1;32m     42\u001B[0m         \u001B[38;5;66;03m# print (nationality['VALUE'])\u001B[39;00m\n",
       "\u001B[1;32m     43\u001B[0m         nationality \u001B[38;5;241m=\u001B[39m \u001B[38;5;124m\"\u001B[39m\u001B[38;5;124m,\u001B[39m\u001B[38;5;124m\"\u001B[39m\u001B[38;5;241m.\u001B[39mjoin(nationality[\u001B[38;5;124m'\u001B[39m\u001B[38;5;124mVALUE\u001B[39m\u001B[38;5;124m'\u001B[39m])\n",
       "\u001B[1;32m     45\u001B[0m \u001B[38;5;28;01mif\u001B[39;00m \u001B[38;5;124m'\u001B[39m\u001B[38;5;124mNATIONALITY2\u001B[39m\u001B[38;5;124m'\u001B[39m \u001B[38;5;129;01min\u001B[39;00m rowAsDict\u001B[38;5;241m.\u001B[39mkeys():\n",
       "\u001B[1;32m     46\u001B[0m     \u001B[38;5;66;03m# if row['NATIONALITY2']:\u001B[39;00m\n",
       "\n",
       "\u001B[0;31mTypeError\u001B[0m: 'NoneType' object is not subscriptable"
      ]
     },
     "metadata": {
      "application/vnd.databricks.v1+output": {
       "addedWidgets": {},
       "arguments": {},
       "datasetInfos": [],
       "jupyterProps": {
        "ename": "TypeError",
        "evalue": "'NoneType' object is not subscriptable"
       },
       "metadata": {
        "errorSummary": ""
       },
       "removedWidgets": [],
       "sqlProps": null,
       "stackFrames": [
        "\u001B[0;31m---------------------------------------------------------------------------\u001B[0m",
        "\u001B[0;31mTypeError\u001B[0m                                 Traceback (most recent call last)",
        "File \u001B[0;32m<command-3005107788418193>, line 41\u001B[0m\n\u001B[1;32m     39\u001B[0m     nationality \u001B[38;5;241m=\u001B[39m row[\u001B[38;5;124m'\u001B[39m\u001B[38;5;124mNATIONALITY\u001B[39m\u001B[38;5;124m'\u001B[39m]\n\u001B[1;32m     40\u001B[0m     \u001B[38;5;66;03m# print(type(nationality))\u001B[39;00m\n\u001B[0;32m---> 41\u001B[0m     \u001B[38;5;28;01mif\u001B[39;00m nationality[\u001B[38;5;124m'\u001B[39m\u001B[38;5;124mVALUE\u001B[39m\u001B[38;5;124m'\u001B[39m]:\n\u001B[1;32m     42\u001B[0m         \u001B[38;5;66;03m# print (nationality['VALUE'])\u001B[39;00m\n\u001B[1;32m     43\u001B[0m         nationality \u001B[38;5;241m=\u001B[39m \u001B[38;5;124m\"\u001B[39m\u001B[38;5;124m,\u001B[39m\u001B[38;5;124m\"\u001B[39m\u001B[38;5;241m.\u001B[39mjoin(nationality[\u001B[38;5;124m'\u001B[39m\u001B[38;5;124mVALUE\u001B[39m\u001B[38;5;124m'\u001B[39m])\n\u001B[1;32m     45\u001B[0m \u001B[38;5;28;01mif\u001B[39;00m \u001B[38;5;124m'\u001B[39m\u001B[38;5;124mNATIONALITY2\u001B[39m\u001B[38;5;124m'\u001B[39m \u001B[38;5;129;01min\u001B[39;00m rowAsDict\u001B[38;5;241m.\u001B[39mkeys():\n\u001B[1;32m     46\u001B[0m     \u001B[38;5;66;03m# if row['NATIONALITY2']:\u001B[39;00m\n",
        "\u001B[0;31mTypeError\u001B[0m: 'NoneType' object is not subscriptable"
       ],
       "type": "baseError"
      }
     },
     "output_type": "display_data"
    }
   ],
   "source": [
    "print(sourceTarget)"
   ]
  },
  {
   "cell_type": "code",
   "execution_count": 0,
   "metadata": {
    "application/vnd.databricks.v1+cell": {
     "cellMetadata": {
      "byteLimit": 2048000,
      "rowLimit": 10000
     },
     "inputWidgets": {},
     "nuid": "9f92b297-37a9-453d-9bda-b7d3890dea5f",
     "showTitle": false,
     "title": ""
    }
   },
   "outputs": [
    {
     "output_type": "stream",
     "name": "stdout",
     "output_type": "stream",
     "text": [
      "0\n[]\n0\n"
     ]
    },
    {
     "output_type": "display_data",
     "data": {
      "text/plain": [
       "\u001B[0;31m---------------------------------------------------------------------------\u001B[0m\n",
       "\u001B[0;31mTypeError\u001B[0m                                 Traceback (most recent call last)\n",
       "File \u001B[0;32m<command-3005107788418193>, line 41\u001B[0m\n",
       "\u001B[1;32m     39\u001B[0m     nationality \u001B[38;5;241m=\u001B[39m row[\u001B[38;5;124m'\u001B[39m\u001B[38;5;124mNATIONALITY\u001B[39m\u001B[38;5;124m'\u001B[39m]\n",
       "\u001B[1;32m     40\u001B[0m     \u001B[38;5;66;03m# print(type(nationality))\u001B[39;00m\n",
       "\u001B[0;32m---> 41\u001B[0m     \u001B[38;5;28;01mif\u001B[39;00m nationality[\u001B[38;5;124m'\u001B[39m\u001B[38;5;124mVALUE\u001B[39m\u001B[38;5;124m'\u001B[39m]:\n",
       "\u001B[1;32m     42\u001B[0m         \u001B[38;5;66;03m# print (nationality['VALUE'])\u001B[39;00m\n",
       "\u001B[1;32m     43\u001B[0m         nationality \u001B[38;5;241m=\u001B[39m \u001B[38;5;124m\"\u001B[39m\u001B[38;5;124m,\u001B[39m\u001B[38;5;124m\"\u001B[39m\u001B[38;5;241m.\u001B[39mjoin(nationality[\u001B[38;5;124m'\u001B[39m\u001B[38;5;124mVALUE\u001B[39m\u001B[38;5;124m'\u001B[39m])\n",
       "\u001B[1;32m     45\u001B[0m \u001B[38;5;28;01mif\u001B[39;00m \u001B[38;5;124m'\u001B[39m\u001B[38;5;124mNATIONALITY2\u001B[39m\u001B[38;5;124m'\u001B[39m \u001B[38;5;129;01min\u001B[39;00m rowAsDict\u001B[38;5;241m.\u001B[39mkeys():\n",
       "\u001B[1;32m     46\u001B[0m     \u001B[38;5;66;03m# if row['NATIONALITY2']:\u001B[39;00m\n",
       "\n",
       "\u001B[0;31mTypeError\u001B[0m: 'NoneType' object is not subscriptable"
      ]
     },
     "metadata": {
      "application/vnd.databricks.v1+output": {
       "addedWidgets": {},
       "arguments": {},
       "datasetInfos": [],
       "jupyterProps": {
        "ename": "TypeError",
        "evalue": "'NoneType' object is not subscriptable"
       },
       "metadata": {
        "errorSummary": ""
       },
       "removedWidgets": [],
       "sqlProps": null,
       "stackFrames": [
        "\u001B[0;31m---------------------------------------------------------------------------\u001B[0m",
        "\u001B[0;31mTypeError\u001B[0m                                 Traceback (most recent call last)",
        "File \u001B[0;32m<command-3005107788418193>, line 41\u001B[0m\n\u001B[1;32m     39\u001B[0m     nationality \u001B[38;5;241m=\u001B[39m row[\u001B[38;5;124m'\u001B[39m\u001B[38;5;124mNATIONALITY\u001B[39m\u001B[38;5;124m'\u001B[39m]\n\u001B[1;32m     40\u001B[0m     \u001B[38;5;66;03m# print(type(nationality))\u001B[39;00m\n\u001B[0;32m---> 41\u001B[0m     \u001B[38;5;28;01mif\u001B[39;00m nationality[\u001B[38;5;124m'\u001B[39m\u001B[38;5;124mVALUE\u001B[39m\u001B[38;5;124m'\u001B[39m]:\n\u001B[1;32m     42\u001B[0m         \u001B[38;5;66;03m# print (nationality['VALUE'])\u001B[39;00m\n\u001B[1;32m     43\u001B[0m         nationality \u001B[38;5;241m=\u001B[39m \u001B[38;5;124m\"\u001B[39m\u001B[38;5;124m,\u001B[39m\u001B[38;5;124m\"\u001B[39m\u001B[38;5;241m.\u001B[39mjoin(nationality[\u001B[38;5;124m'\u001B[39m\u001B[38;5;124mVALUE\u001B[39m\u001B[38;5;124m'\u001B[39m])\n\u001B[1;32m     45\u001B[0m \u001B[38;5;28;01mif\u001B[39;00m \u001B[38;5;124m'\u001B[39m\u001B[38;5;124mNATIONALITY2\u001B[39m\u001B[38;5;124m'\u001B[39m \u001B[38;5;129;01min\u001B[39;00m rowAsDict\u001B[38;5;241m.\u001B[39mkeys():\n\u001B[1;32m     46\u001B[0m     \u001B[38;5;66;03m# if row['NATIONALITY2']:\u001B[39;00m\n",
        "\u001B[0;31mTypeError\u001B[0m: 'NoneType' object is not subscriptable"
       ],
       "type": "baseError"
      }
     },
     "output_type": "display_data"
    }
   ],
   "source": [
    "set_of_all_links=set()\n",
    "print(len(all_links_1))\n",
    "print(all_links_1)\n",
    "for link in all_links_1:\n",
    "    linkObj = Link(link['source'], link['target']) \n",
    "    set_of_all_links.add(linkObj)\n",
    "                         \n",
    "print(len(set_of_all_links))   "
   ]
  },
  {
   "cell_type": "code",
   "execution_count": 0,
   "metadata": {
    "application/vnd.databricks.v1+cell": {
     "cellMetadata": {
      "byteLimit": 2048000,
      "rowLimit": 10000
     },
     "inputWidgets": {},
     "nuid": "45a9343d-ad8a-4810-8492-73cab4eac800",
     "showTitle": false,
     "title": ""
    }
   },
   "outputs": [
    {
     "output_type": "stream",
     "name": "stdout",
     "output_type": "stream",
     "text": [
      "+-------+--------------------+------+----------------+--------------+------+-----------+--------------------+--------------------+------------------------+--------------------+-------------------------+--------------------+----------+---------+--------------------+--------------------+--------+----------------+--------------+--------+-----------------+-------------+-------------------+------------+----------+\n|ADDRESS|           COMMENTS1|DATAID|      FIRST_NAME|   FOURTH_NAME|GENDER|GOODQUALITY|  INDIVIDUAL_ADDRESS|    INDIVIDUAL_ALIAS|INDIVIDUAL_DATE_OF_BIRTH| INDIVIDUAL_DOCUMENT|INDIVIDUAL_PLACE_OF_BIRTH|    LAST_DAY_UPDATED| LISTED_ON|LIST_TYPE|NAME_ORIGINAL_SCRIPT|         NATIONALITY|PASSPORT|REFERENCE_NUMBER|   SECOND_NAME|SORT_KEY|SORT_KEY_LAST_MOD|   THIRD_NAME|              TITLE|UN_LIST_TYPE|VERSIONNUM|\n+-------+--------------------+------+----------------+--------------+------+-----------+--------------------+--------------------+------------------------+--------------------+-------------------------+--------------------+----------+---------+--------------------+--------------------+--------+----------------+--------------+--------+-----------------+-------------+-------------------+------------+----------+\n|   true|Responsible for U...|113219|        MOHAMMED|        ZIDANE|  NULL|      false|[{NULL, NULL, NUL...|[{Sayf-Al Adl, NU...|    [{1963-04-11, NUL...|[{NULL, NULL, NUL...|     [{NULL, Egypt, Mo...|{[2010-12-16, 201...|2001-01-25|{UN List}|محمد صلاح الدين ع...|           {[Egypt]}|    NULL|         QDi.001|    SALAHALDIN|        |                 | ABD EL HALIM|               NULL|    Al-Qaida|         1|\n|   true|Security coordina...|111497|            AMIN|     SAAM KHAN|  NULL|       true|[{NULL, NULL, NUL...|[{Al-Haq, Amin, N...|    [{NULL, NULL, NUL...|[{NULL, NULL, NUL...|     [{NULL, Afghanist...|{[2007-07-18, 201...|2001-01-25|{UN List}|                NULL|     {[Afghanistan]}|    NULL|         QDi.002|      MUHAMMAD|        |                 |       UL HAQ|               NULL|    Al-Qaida|         1|\n|   NULL|Driver and privat...|111919|           SALIM|        HAMDAN|  NULL|       NULL|[{Sana'a, Yemen, ...|[{, NULL, NULL, N...|    [{NULL, NULL, NUL...|[{NULL, NULL, NUL...|     [{Al-Mukalla, Yem...|{[2019-12-06, 202...|2001-01-25|{UN List}|سالم أحمد سالم حمدان|           {[Yemen]}|    true|         QDi.003|         AHMAD|        |                 |        SALIM|               NULL|    Al-Qaida|         1|\n|   true|Leader of Al-Qaid...|111923|           AIMAN|   AL-ZAWAHIRI|  NULL|       true|[{NULL, NULL, NUL...|[{Ayman Al-Zawaha...|    [{1951-06-19, NUL...|[{NULL, NULL, NUL...|     [{Giza, Egypt, NU...|{[2007-07-02, 200...|2001-01-25|{UN List}|أيمن محمد ربيع ال...|           {[Egypt]}|    true|         QDi.006|      MUHAMMED|        |                 |         RABI|    {[Doctor, Dr.]}|    Al-Qaida|         1|\n|   true|Senior lieutenant...|111942|           BILAL|          NULL|  NULL|       NULL|[{NULL, NULL, NUL...|[{, NULL, NULL, N...|    [{NULL, NULL, NUL...|[{NULL, NULL, NUL...|         [{NULL, , NULL}]|{[2019-05-01, 202...|2001-01-25|{UN List}|       بلال بن مروان|                NULL|    NULL|         QDi.009|    BIN MARWAN|        |                 |         NULL|               NULL|    Al-Qaida|         1|\n|   true|Joined Al-Qaida i...|111900|         NASHWAN|          NULL|  Male|       true|[{NULL, NULL, NUL...|[{Abdal Al-Hadi A...|    [{NULL, NULL, NUL...|[{NULL, NULL, NUL...|     [{Mosul, Iraq, NU...|{[2007-05-14, 200...|2001-10-06|{UN List}|نشوان عبد الرزاق ...|            {[Iraq]}|    NULL|         QDi.012| ABD AL-RAZZAQ|        |                 |  ABD AL-BAQI|               NULL|    Al-Qaida|         1|\n|   true|Reportedly deceas...|111498|           TARIQ|         AHMED|  NULL|       true|[{NULL, NULL, NUL...|[{Hamdi Ahmad Far...|    [{1963-03-15, NUL...|[{NULL, NULL, NUL...|     [{Alexandria, Egy...|{[2004-11-26, 200...|2001-10-06|{UN List}|طاريق أنور السيد ...|           {[Egypt]}|    NULL|         QDi.014|         ANWAR|        |                 |     EL SAYED|               NULL|    Al-Qaida|         1|\n|   true|Review pursuant t...|112026|         MAHFOUZ|          NULL|  NULL|       true|[{NULL, NULL, NUL...|[{Abu Hafs the Ma...|    [{1975-01-01, NUL...|[{NULL, NULL, NUL...|     [{NULL, Mauritani...|{[2007-06-01, 201...|2001-10-06|{UN List}|    محفوظ ولد الوليد|      {[Mauritania]}|    NULL|         QDi.015|          OULD|        |                 |     AL-WALID|               NULL|    Al-Qaida|         1|\n|   true|Review pursuant t...|111782|         THARWAT|          NULL|  NULL|      false|[{NULL, NULL, NUL...|[{Tarwat Salah Ab...|    [{1960-06-29, NUL...|[{NULL, NULL, NUL...|     [{NULL, Egypt, NU...|{[2004-11-26, 201...|2001-10-06|{UN List}|     ثروت صالح شحاته|           {[Egypt]}|    NULL|         QDi.017|         SALAH|        |                 |      SHIHATA|               NULL|    Al-Qaida|         1|\n|   true|Pakistan. Review ...|111514|ABDUL MANAN AGHA|          NULL|  NULL|       true|[{NULL, NULL, NUL...|[{Abdul Manan, NU...|    [{NULL, NULL, NUL...|[{NULL, NULL, NUL...|         [{NULL, , NULL}]|{[2013-06-26, 201...|2001-10-17|{UN List}|      عبد المنان آغا|                NULL|    NULL|         QDi.018|          NULL|        |                 |         NULL|           {[Haji]}|    Al-Qaida|         1|\n|   true|Afghanistan. Revi...|111947|        ABDULLAH|       EL ALFI|  NULL|       NULL|[{NULL, NULL, NUL...|[{Abu Mariam, NUL...|    [{1963-06-06, NUL...|[{NULL, NULL, NUL...|     [{Gharbia, Egypt,...|{[2004-11-26, 201...|2001-10-17|{UN List}|عبد الله احمد عبد...|           {[Egypt]}|    NULL|         QDi.019|         AHMED|        |                 |     ABDULLAH|               NULL|    Al-Qaida|         1|\n|   NULL|Responsible for t...|111660|        MOHAMMAD|SADIQ AL-AHDAL|  NULL|       true|[{Al-Hudaydah, Ye...|[{Al-Hamati, Muha...|    [{1971-11-19, NUL...|[{Al-Hudaydah, Ye...|     [{Medina, Saudi A...|{[2009-01-30, 201...|2001-10-17|{UN List}|محمد حمدي محمد صا...|           {[Yemen]}|    NULL|         QDi.020|         HAMDI|        |                 |     MOHAMMAD|               NULL|    Al-Qaida|         1|\n|   NULL|Apprehended in Ju...|112044|           AHMED|          NULL|  NULL|       true|[{NULL, United St...|[{Ahmad, Abu Bakr...|    [{1974-03-14, NUL...|[{NULL, NULL, NUL...|     [{Zanzibar, Unite...|{[2007-07-27, 201...|2001-10-17|{UN List}|                NULL|{[United Republic...|    NULL|         QDi.028|       KHALFAN|        |                 |     GHAILANI|               NULL|    Al-Qaida|         1|\n|   true|In custody in Jor...|112078|            RAED|        HIJAZI|  NULL|      false|[{NULL, NULL, NUL...|[{Raed M. Hijazi,...|    [{1968-12-30, NUL...|[{NULL, NULL, NUL...|     [{NULL, United St...|{[2003-04-10, 201...|2001-10-17|{UN List}|رائد محمد حسن محم...|{[Jordan, United ...|    NULL|         QDi.029|MUHAMMAD HASAN|        |                 |     MUHAMMAD|               NULL|    Al-Qaida|         1|\n|   NULL|Associated with A...|112283|            OMAR|          NULL|  NULL|       true|[{NULL, Jordan, s...|[{Al-Samman Uthma...|    [{1960-12-30, NUL...|[{NULL, NULL, NUL...|     [{Bethlehem, Stat...|{[2008-03-14, 200...|2001-10-17|{UN List}|     عمر محمود عثمان|          {[Jordan]}|    NULL|         QDi.031|       MAHMOUD|        |                 |       UTHMAN|               NULL|    Al-Qaida|         1|\n|   true|Abdul Rahman Yasi...|113328|    ABDUL RAHMAN|          NULL|  NULL|       true|[{NULL, NULL, NUL...|[{Taha, Abdul Rah...|    [{1960-04-10, NUL...|[{NULL, NULL, NUL...|     [{Bloomington, Un...|{[2003-04-10, 201...|2001-10-17|{UN List}|    عبد الرحمن ياسين|{[United States o...|    true|         QDi.037|         YASIN|        |                 |         NULL|               NULL|    Al-Qaida|         1|\n|   NULL|Family background...|111944|          HASSAN|          NULL|  NULL|       true|[{NULL, NULL, Act...|[{Ali, Sheikh Has...|    [{NULL, NULL, NUL...|[{NULL, NULL, NUL...|     [{NULL, Somalia, ...|{[2007-12-21, 201...|2001-11-09|{UN List}|        حسن ظاهرعويس|         {[Somalia]}|    NULL|         QDi.042|         DAHIR|        |                 |        AWEYS|{[Sheikh, Colonel]}|    Al-Qaida|         1|\n|   true|Reportedly deceas...|111449|          MAJEED|          NULL|  NULL|       true|[{NULL, NULL, NUL...|[{Majeed, Abdul, ...|    [{1939-04-15, NUL...|[{NULL, NULL, NUL...|         [{NULL, , NULL}]|{[2019-05-01, 202...|2001-12-24|{UN List}|                NULL|        {[Pakistan]}|    NULL|         QDi.054|ABDUL CHAUDHRY|        |                 |         NULL|               NULL|    Al-Qaida|         1|\n|   NULL|Review pursuant t...|112032|         MAHMOOD|          NULL|  NULL|       true|[{Kabul, Afghanis...|[{Mahmood, Sultan...|    [{NULL, NULL, NUL...|[{NULL, NULL, NUL...|         [{NULL, , NULL}]|{[2019-05-01, 202...|2001-12-24|{UN List}|                NULL|        {[Pakistan]}|    NULL|         QDi.055|        SULTAN|        |                 |BASHIR-UD-DIN|               NULL|    Al-Qaida|         1|\n|   true|Served as a direc...|113440|        MOHAMMED|          NULL|  NULL|       true|[{NULL, NULL, NUL...|[{Tufail, S.M., N...|    [{1930-05-05, NUL...|[{NULL, NULL, NUL...|         [{NULL, , NULL}]|{[2011-01-19, 201...|2001-12-24|{UN List}|                NULL|        {[Pakistan]}|    NULL|         QDi.056|        TUFAIL|        |                 |         NULL|               NULL|    Al-Qaida|         1|\n+-------+--------------------+------+----------------+--------------+------+-----------+--------------------+--------------------+------------------------+--------------------+-------------------------+--------------------+----------+---------+--------------------+--------------------+--------+----------------+--------------+--------+-----------------+-------------+-------------------+------------+----------+\nonly showing top 20 rows\n\n"
     ]
    },
    {
     "output_type": "display_data",
     "data": {
      "text/plain": [
       "\u001B[0;31m---------------------------------------------------------------------------\u001B[0m\n",
       "\u001B[0;31mTypeError\u001B[0m                                 Traceback (most recent call last)\n",
       "File \u001B[0;32m<command-3005107788418193>, line 41\u001B[0m\n",
       "\u001B[1;32m     39\u001B[0m     nationality \u001B[38;5;241m=\u001B[39m row[\u001B[38;5;124m'\u001B[39m\u001B[38;5;124mNATIONALITY\u001B[39m\u001B[38;5;124m'\u001B[39m]\n",
       "\u001B[1;32m     40\u001B[0m     \u001B[38;5;66;03m# print(type(nationality))\u001B[39;00m\n",
       "\u001B[0;32m---> 41\u001B[0m     \u001B[38;5;28;01mif\u001B[39;00m nationality[\u001B[38;5;124m'\u001B[39m\u001B[38;5;124mVALUE\u001B[39m\u001B[38;5;124m'\u001B[39m]:\n",
       "\u001B[1;32m     42\u001B[0m         \u001B[38;5;66;03m# print (nationality['VALUE'])\u001B[39;00m\n",
       "\u001B[1;32m     43\u001B[0m         nationality \u001B[38;5;241m=\u001B[39m \u001B[38;5;124m\"\u001B[39m\u001B[38;5;124m,\u001B[39m\u001B[38;5;124m\"\u001B[39m\u001B[38;5;241m.\u001B[39mjoin(nationality[\u001B[38;5;124m'\u001B[39m\u001B[38;5;124mVALUE\u001B[39m\u001B[38;5;124m'\u001B[39m])\n",
       "\u001B[1;32m     45\u001B[0m \u001B[38;5;28;01mif\u001B[39;00m \u001B[38;5;124m'\u001B[39m\u001B[38;5;124mNATIONALITY2\u001B[39m\u001B[38;5;124m'\u001B[39m \u001B[38;5;129;01min\u001B[39;00m rowAsDict\u001B[38;5;241m.\u001B[39mkeys():\n",
       "\u001B[1;32m     46\u001B[0m     \u001B[38;5;66;03m# if row['NATIONALITY2']:\u001B[39;00m\n",
       "\n",
       "\u001B[0;31mTypeError\u001B[0m: 'NoneType' object is not subscriptable"
      ]
     },
     "metadata": {
      "application/vnd.databricks.v1+output": {
       "addedWidgets": {},
       "arguments": {},
       "datasetInfos": [],
       "jupyterProps": {
        "ename": "TypeError",
        "evalue": "'NoneType' object is not subscriptable"
       },
       "metadata": {
        "errorSummary": ""
       },
       "removedWidgets": [],
       "sqlProps": null,
       "stackFrames": [
        "\u001B[0;31m---------------------------------------------------------------------------\u001B[0m",
        "\u001B[0;31mTypeError\u001B[0m                                 Traceback (most recent call last)",
        "File \u001B[0;32m<command-3005107788418193>, line 41\u001B[0m\n\u001B[1;32m     39\u001B[0m     nationality \u001B[38;5;241m=\u001B[39m row[\u001B[38;5;124m'\u001B[39m\u001B[38;5;124mNATIONALITY\u001B[39m\u001B[38;5;124m'\u001B[39m]\n\u001B[1;32m     40\u001B[0m     \u001B[38;5;66;03m# print(type(nationality))\u001B[39;00m\n\u001B[0;32m---> 41\u001B[0m     \u001B[38;5;28;01mif\u001B[39;00m nationality[\u001B[38;5;124m'\u001B[39m\u001B[38;5;124mVALUE\u001B[39m\u001B[38;5;124m'\u001B[39m]:\n\u001B[1;32m     42\u001B[0m         \u001B[38;5;66;03m# print (nationality['VALUE'])\u001B[39;00m\n\u001B[1;32m     43\u001B[0m         nationality \u001B[38;5;241m=\u001B[39m \u001B[38;5;124m\"\u001B[39m\u001B[38;5;124m,\u001B[39m\u001B[38;5;124m\"\u001B[39m\u001B[38;5;241m.\u001B[39mjoin(nationality[\u001B[38;5;124m'\u001B[39m\u001B[38;5;124mVALUE\u001B[39m\u001B[38;5;124m'\u001B[39m])\n\u001B[1;32m     45\u001B[0m \u001B[38;5;28;01mif\u001B[39;00m \u001B[38;5;124m'\u001B[39m\u001B[38;5;124mNATIONALITY2\u001B[39m\u001B[38;5;124m'\u001B[39m \u001B[38;5;129;01min\u001B[39;00m rowAsDict\u001B[38;5;241m.\u001B[39mkeys():\n\u001B[1;32m     46\u001B[0m     \u001B[38;5;66;03m# if row['NATIONALITY2']:\u001B[39;00m\n",
        "\u001B[0;31mTypeError\u001B[0m: 'NoneType' object is not subscriptable"
       ],
       "type": "baseError"
      }
     },
     "output_type": "display_data"
    }
   ],
   "source": [
    "indiv_sdf.show()"
   ]
  },
  {
   "cell_type": "code",
   "execution_count": 0,
   "metadata": {
    "application/vnd.databricks.v1+cell": {
     "cellMetadata": {
      "byteLimit": 2048000,
      "rowLimit": 10000
     },
     "inputWidgets": {},
     "nuid": "463ae572-8b3a-460b-b9b8-a56878b6ff19",
     "showTitle": false,
     "title": ""
    }
   },
   "outputs": [
    {
     "output_type": "stream",
     "name": "stdout",
     "output_type": "stream",
     "text": [
      "DataFrame[COMMENTS1: string, DATAID: bigint, ENTITY_ADDRESS: array<struct<CITY:string,COUNTRY:string,NOTE:string,STATE_PROVINCE:string,STREET:string,ZIP_CODE:bigint>>, ENTITY_ALIAS: array<struct<ALIAS_NAME:string,QUALITY:string>>, FIRST_NAME: string, LAST_DAY_UPDATED: struct<VALUE:array<date>>, LISTED_ON: date, LIST_TYPE: struct<VALUE:string>, NAME_ORIGINAL_SCRIPT: string, REFERENCE_NUMBER: string, SORT_KEY: string, SORT_KEY_LAST_MOD: string, UN_LIST_TYPE: string, VERSIONNUM: bigint]\n"
     ]
    },
    {
     "output_type": "display_data",
     "data": {
      "text/plain": [
       "\u001B[0;31m---------------------------------------------------------------------------\u001B[0m\n",
       "\u001B[0;31mTypeError\u001B[0m                                 Traceback (most recent call last)\n",
       "File \u001B[0;32m<command-3005107788418193>, line 41\u001B[0m\n",
       "\u001B[1;32m     39\u001B[0m     nationality \u001B[38;5;241m=\u001B[39m row[\u001B[38;5;124m'\u001B[39m\u001B[38;5;124mNATIONALITY\u001B[39m\u001B[38;5;124m'\u001B[39m]\n",
       "\u001B[1;32m     40\u001B[0m     \u001B[38;5;66;03m# print(type(nationality))\u001B[39;00m\n",
       "\u001B[0;32m---> 41\u001B[0m     \u001B[38;5;28;01mif\u001B[39;00m nationality[\u001B[38;5;124m'\u001B[39m\u001B[38;5;124mVALUE\u001B[39m\u001B[38;5;124m'\u001B[39m]:\n",
       "\u001B[1;32m     42\u001B[0m         \u001B[38;5;66;03m# print (nationality['VALUE'])\u001B[39;00m\n",
       "\u001B[1;32m     43\u001B[0m         nationality \u001B[38;5;241m=\u001B[39m \u001B[38;5;124m\"\u001B[39m\u001B[38;5;124m,\u001B[39m\u001B[38;5;124m\"\u001B[39m\u001B[38;5;241m.\u001B[39mjoin(nationality[\u001B[38;5;124m'\u001B[39m\u001B[38;5;124mVALUE\u001B[39m\u001B[38;5;124m'\u001B[39m])\n",
       "\u001B[1;32m     45\u001B[0m \u001B[38;5;28;01mif\u001B[39;00m \u001B[38;5;124m'\u001B[39m\u001B[38;5;124mNATIONALITY2\u001B[39m\u001B[38;5;124m'\u001B[39m \u001B[38;5;129;01min\u001B[39;00m rowAsDict\u001B[38;5;241m.\u001B[39mkeys():\n",
       "\u001B[1;32m     46\u001B[0m     \u001B[38;5;66;03m# if row['NATIONALITY2']:\u001B[39;00m\n",
       "\n",
       "\u001B[0;31mTypeError\u001B[0m: 'NoneType' object is not subscriptable"
      ]
     },
     "metadata": {
      "application/vnd.databricks.v1+output": {
       "addedWidgets": {},
       "arguments": {},
       "datasetInfos": [],
       "jupyterProps": {
        "ename": "TypeError",
        "evalue": "'NoneType' object is not subscriptable"
       },
       "metadata": {
        "errorSummary": ""
       },
       "removedWidgets": [],
       "sqlProps": null,
       "stackFrames": [
        "\u001B[0;31m---------------------------------------------------------------------------\u001B[0m",
        "\u001B[0;31mTypeError\u001B[0m                                 Traceback (most recent call last)",
        "File \u001B[0;32m<command-3005107788418193>, line 41\u001B[0m\n\u001B[1;32m     39\u001B[0m     nationality \u001B[38;5;241m=\u001B[39m row[\u001B[38;5;124m'\u001B[39m\u001B[38;5;124mNATIONALITY\u001B[39m\u001B[38;5;124m'\u001B[39m]\n\u001B[1;32m     40\u001B[0m     \u001B[38;5;66;03m# print(type(nationality))\u001B[39;00m\n\u001B[0;32m---> 41\u001B[0m     \u001B[38;5;28;01mif\u001B[39;00m nationality[\u001B[38;5;124m'\u001B[39m\u001B[38;5;124mVALUE\u001B[39m\u001B[38;5;124m'\u001B[39m]:\n\u001B[1;32m     42\u001B[0m         \u001B[38;5;66;03m# print (nationality['VALUE'])\u001B[39;00m\n\u001B[1;32m     43\u001B[0m         nationality \u001B[38;5;241m=\u001B[39m \u001B[38;5;124m\"\u001B[39m\u001B[38;5;124m,\u001B[39m\u001B[38;5;124m\"\u001B[39m\u001B[38;5;241m.\u001B[39mjoin(nationality[\u001B[38;5;124m'\u001B[39m\u001B[38;5;124mVALUE\u001B[39m\u001B[38;5;124m'\u001B[39m])\n\u001B[1;32m     45\u001B[0m \u001B[38;5;28;01mif\u001B[39;00m \u001B[38;5;124m'\u001B[39m\u001B[38;5;124mNATIONALITY2\u001B[39m\u001B[38;5;124m'\u001B[39m \u001B[38;5;129;01min\u001B[39;00m rowAsDict\u001B[38;5;241m.\u001B[39mkeys():\n\u001B[1;32m     46\u001B[0m     \u001B[38;5;66;03m# if row['NATIONALITY2']:\u001B[39;00m\n",
        "\u001B[0;31mTypeError\u001B[0m: 'NoneType' object is not subscriptable"
       ],
       "type": "baseError"
      }
     },
     "output_type": "display_data"
    }
   ],
   "source": [
    "print(ent_sdf)"
   ]
  },
  {
   "cell_type": "code",
   "execution_count": 0,
   "metadata": {
    "application/vnd.databricks.v1+cell": {
     "cellMetadata": {
      "byteLimit": 2048000,
      "rowLimit": 10000
     },
     "inputWidgets": {},
     "nuid": "251c4ec4-6115-4e31-b670-5ec6eeab7459",
     "showTitle": false,
     "title": ""
    }
   },
   "outputs": [
    {
     "output_type": "stream",
     "name": "stdout",
     "output_type": "stream",
     "text": [
      "root\n |-- ADDRESS: boolean (nullable = true)\n |-- COMMENTS1: string (nullable = true)\n |-- DATAID: long (nullable = true)\n |-- FIRST_NAME: string (nullable = true)\n |-- FOURTH_NAME: string (nullable = true)\n |-- GENDER: string (nullable = true)\n |-- GOODQUALITY: boolean (nullable = true)\n |-- INDIVIDUAL_ADDRESS: array (nullable = true)\n |    |-- element: struct (containsNull = true)\n |    |    |-- CITY: string (nullable = true)\n |    |    |-- COUNTRY: string (nullable = true)\n |    |    |-- NOTE: string (nullable = true)\n |    |    |-- STATE_PROVINCE: string (nullable = true)\n |    |    |-- STREET: string (nullable = true)\n |    |    |-- ZIP_CODE: long (nullable = true)\n |-- INDIVIDUAL_ALIAS: array (nullable = true)\n |    |-- element: struct (containsNull = true)\n |    |    |-- ALIAS_NAME: string (nullable = true)\n |    |    |-- CITY_OF_BIRTH: string (nullable = true)\n |    |    |-- COUNTRY_OF_BIRTH: string (nullable = true)\n |    |    |-- DATE_OF_BIRTH: string (nullable = true)\n |    |    |-- NOTE: string (nullable = true)\n |    |    |-- QUALITY: string (nullable = true)\n |-- INDIVIDUAL_DATE_OF_BIRTH: array (nullable = true)\n |    |-- element: struct (containsNull = true)\n |    |    |-- DATE: date (nullable = true)\n |    |    |-- FROM_YEAR: long (nullable = true)\n |    |    |-- NOTE: string (nullable = true)\n |    |    |-- TO_YEAR: long (nullable = true)\n |    |    |-- TYPE_OF_DATE: string (nullable = true)\n |    |    |-- YEAR: long (nullable = true)\n |-- INDIVIDUAL_DOCUMENT: array (nullable = true)\n |    |-- element: struct (containsNull = true)\n |    |    |-- CITY_OF_ISSUE: string (nullable = true)\n |    |    |-- COUNTRY_OF_ISSUE: string (nullable = true)\n |    |    |-- DATE_OF_ISSUE: date (nullable = true)\n |    |    |-- ISSUING_COUNTRY: string (nullable = true)\n |    |    |-- NOTE: string (nullable = true)\n |    |    |-- NUMBER: string (nullable = true)\n |    |    |-- TYPE_OF_DOCUMENT: string (nullable = true)\n |    |    |-- TYPE_OF_DOCUMENT2: string (nullable = true)\n |-- INDIVIDUAL_PLACE_OF_BIRTH: array (nullable = true)\n |    |-- element: struct (containsNull = true)\n |    |    |-- CITY: string (nullable = true)\n |    |    |-- COUNTRY: string (nullable = true)\n |    |    |-- STATE_PROVINCE: string (nullable = true)\n |-- LAST_DAY_UPDATED: struct (nullable = true)\n |    |-- VALUE: array (nullable = true)\n |    |    |-- element: date (containsNull = true)\n |-- LISTED_ON: string (nullable = true)\n |-- LIST_TYPE: struct (nullable = true)\n |    |-- VALUE: string (nullable = true)\n |-- NAME_ORIGINAL_SCRIPT: string (nullable = true)\n |-- NATIONALITY: struct (nullable = true)\n |    |-- VALUE: array (nullable = true)\n |    |    |-- element: string (containsNull = true)\n |-- PASSPORT: boolean (nullable = true)\n |-- REFERENCE_NUMBER: string (nullable = true)\n |-- SECOND_NAME: string (nullable = true)\n |-- SORT_KEY: string (nullable = true)\n |-- SORT_KEY_LAST_MOD: string (nullable = true)\n |-- THIRD_NAME: string (nullable = true)\n |-- TITLE: struct (nullable = true)\n |    |-- VALUE: array (nullable = true)\n |    |    |-- element: string (containsNull = true)\n |-- UN_LIST_TYPE: string (nullable = true)\n |-- VERSIONNUM: long (nullable = true)\n\n"
     ]
    },
    {
     "output_type": "display_data",
     "data": {
      "text/plain": [
       "\u001B[0;31m---------------------------------------------------------------------------\u001B[0m\n",
       "\u001B[0;31mTypeError\u001B[0m                                 Traceback (most recent call last)\n",
       "File \u001B[0;32m<command-3005107788418193>, line 41\u001B[0m\n",
       "\u001B[1;32m     39\u001B[0m     nationality \u001B[38;5;241m=\u001B[39m row[\u001B[38;5;124m'\u001B[39m\u001B[38;5;124mNATIONALITY\u001B[39m\u001B[38;5;124m'\u001B[39m]\n",
       "\u001B[1;32m     40\u001B[0m     \u001B[38;5;66;03m# print(type(nationality))\u001B[39;00m\n",
       "\u001B[0;32m---> 41\u001B[0m     \u001B[38;5;28;01mif\u001B[39;00m nationality[\u001B[38;5;124m'\u001B[39m\u001B[38;5;124mVALUE\u001B[39m\u001B[38;5;124m'\u001B[39m]:\n",
       "\u001B[1;32m     42\u001B[0m         \u001B[38;5;66;03m# print (nationality['VALUE'])\u001B[39;00m\n",
       "\u001B[1;32m     43\u001B[0m         nationality \u001B[38;5;241m=\u001B[39m \u001B[38;5;124m\"\u001B[39m\u001B[38;5;124m,\u001B[39m\u001B[38;5;124m\"\u001B[39m\u001B[38;5;241m.\u001B[39mjoin(nationality[\u001B[38;5;124m'\u001B[39m\u001B[38;5;124mVALUE\u001B[39m\u001B[38;5;124m'\u001B[39m])\n",
       "\u001B[1;32m     45\u001B[0m \u001B[38;5;28;01mif\u001B[39;00m \u001B[38;5;124m'\u001B[39m\u001B[38;5;124mNATIONALITY2\u001B[39m\u001B[38;5;124m'\u001B[39m \u001B[38;5;129;01min\u001B[39;00m rowAsDict\u001B[38;5;241m.\u001B[39mkeys():\n",
       "\u001B[1;32m     46\u001B[0m     \u001B[38;5;66;03m# if row['NATIONALITY2']:\u001B[39;00m\n",
       "\n",
       "\u001B[0;31mTypeError\u001B[0m: 'NoneType' object is not subscriptable"
      ]
     },
     "metadata": {
      "application/vnd.databricks.v1+output": {
       "addedWidgets": {},
       "arguments": {},
       "datasetInfos": [],
       "jupyterProps": {
        "ename": "TypeError",
        "evalue": "'NoneType' object is not subscriptable"
       },
       "metadata": {
        "errorSummary": ""
       },
       "removedWidgets": [],
       "sqlProps": null,
       "stackFrames": [
        "\u001B[0;31m---------------------------------------------------------------------------\u001B[0m",
        "\u001B[0;31mTypeError\u001B[0m                                 Traceback (most recent call last)",
        "File \u001B[0;32m<command-3005107788418193>, line 41\u001B[0m\n\u001B[1;32m     39\u001B[0m     nationality \u001B[38;5;241m=\u001B[39m row[\u001B[38;5;124m'\u001B[39m\u001B[38;5;124mNATIONALITY\u001B[39m\u001B[38;5;124m'\u001B[39m]\n\u001B[1;32m     40\u001B[0m     \u001B[38;5;66;03m# print(type(nationality))\u001B[39;00m\n\u001B[0;32m---> 41\u001B[0m     \u001B[38;5;28;01mif\u001B[39;00m nationality[\u001B[38;5;124m'\u001B[39m\u001B[38;5;124mVALUE\u001B[39m\u001B[38;5;124m'\u001B[39m]:\n\u001B[1;32m     42\u001B[0m         \u001B[38;5;66;03m# print (nationality['VALUE'])\u001B[39;00m\n\u001B[1;32m     43\u001B[0m         nationality \u001B[38;5;241m=\u001B[39m \u001B[38;5;124m\"\u001B[39m\u001B[38;5;124m,\u001B[39m\u001B[38;5;124m\"\u001B[39m\u001B[38;5;241m.\u001B[39mjoin(nationality[\u001B[38;5;124m'\u001B[39m\u001B[38;5;124mVALUE\u001B[39m\u001B[38;5;124m'\u001B[39m])\n\u001B[1;32m     45\u001B[0m \u001B[38;5;28;01mif\u001B[39;00m \u001B[38;5;124m'\u001B[39m\u001B[38;5;124mNATIONALITY2\u001B[39m\u001B[38;5;124m'\u001B[39m \u001B[38;5;129;01min\u001B[39;00m rowAsDict\u001B[38;5;241m.\u001B[39mkeys():\n\u001B[1;32m     46\u001B[0m     \u001B[38;5;66;03m# if row['NATIONALITY2']:\u001B[39;00m\n",
        "\u001B[0;31mTypeError\u001B[0m: 'NoneType' object is not subscriptable"
       ],
       "type": "baseError"
      }
     },
     "output_type": "display_data"
    }
   ],
   "source": [
    "indiv_sdf.printSchema()"
   ]
  },
  {
   "cell_type": "code",
   "execution_count": 0,
   "metadata": {
    "application/vnd.databricks.v1+cell": {
     "cellMetadata": {
      "byteLimit": 2048000,
      "rowLimit": 10000
     },
     "inputWidgets": {},
     "nuid": "ace6378f-bfcd-440d-979d-6d014cc1e0be",
     "showTitle": false,
     "title": ""
    }
   },
   "outputs": [
    {
     "output_type": "display_data",
     "data": {
      "text/plain": [
       "\u001B[0;31m---------------------------------------------------------------------------\u001B[0m\n",
       "\u001B[0;31mTypeError\u001B[0m                                 Traceback (most recent call last)\n",
       "File \u001B[0;32m<command-3005107788418193>, line 41\u001B[0m\n",
       "\u001B[1;32m     39\u001B[0m     nationality \u001B[38;5;241m=\u001B[39m row[\u001B[38;5;124m'\u001B[39m\u001B[38;5;124mNATIONALITY\u001B[39m\u001B[38;5;124m'\u001B[39m]\n",
       "\u001B[1;32m     40\u001B[0m     \u001B[38;5;66;03m# print(type(nationality))\u001B[39;00m\n",
       "\u001B[0;32m---> 41\u001B[0m     \u001B[38;5;28;01mif\u001B[39;00m nationality[\u001B[38;5;124m'\u001B[39m\u001B[38;5;124mVALUE\u001B[39m\u001B[38;5;124m'\u001B[39m]:\n",
       "\u001B[1;32m     42\u001B[0m         \u001B[38;5;66;03m# print (nationality['VALUE'])\u001B[39;00m\n",
       "\u001B[1;32m     43\u001B[0m         nationality \u001B[38;5;241m=\u001B[39m \u001B[38;5;124m\"\u001B[39m\u001B[38;5;124m,\u001B[39m\u001B[38;5;124m\"\u001B[39m\u001B[38;5;241m.\u001B[39mjoin(nationality[\u001B[38;5;124m'\u001B[39m\u001B[38;5;124mVALUE\u001B[39m\u001B[38;5;124m'\u001B[39m])\n",
       "\u001B[1;32m     45\u001B[0m \u001B[38;5;28;01mif\u001B[39;00m \u001B[38;5;124m'\u001B[39m\u001B[38;5;124mNATIONALITY2\u001B[39m\u001B[38;5;124m'\u001B[39m \u001B[38;5;129;01min\u001B[39;00m rowAsDict\u001B[38;5;241m.\u001B[39mkeys():\n",
       "\u001B[1;32m     46\u001B[0m     \u001B[38;5;66;03m# if row['NATIONALITY2']:\u001B[39;00m\n",
       "\n",
       "\u001B[0;31mTypeError\u001B[0m: 'NoneType' object is not subscriptable"
      ]
     },
     "metadata": {
      "application/vnd.databricks.v1+output": {
       "addedWidgets": {},
       "arguments": {},
       "datasetInfos": [],
       "jupyterProps": {
        "ename": "TypeError",
        "evalue": "'NoneType' object is not subscriptable"
       },
       "metadata": {
        "errorSummary": ""
       },
       "removedWidgets": [],
       "sqlProps": null,
       "stackFrames": [
        "\u001B[0;31m---------------------------------------------------------------------------\u001B[0m",
        "\u001B[0;31mTypeError\u001B[0m                                 Traceback (most recent call last)",
        "File \u001B[0;32m<command-3005107788418193>, line 41\u001B[0m\n\u001B[1;32m     39\u001B[0m     nationality \u001B[38;5;241m=\u001B[39m row[\u001B[38;5;124m'\u001B[39m\u001B[38;5;124mNATIONALITY\u001B[39m\u001B[38;5;124m'\u001B[39m]\n\u001B[1;32m     40\u001B[0m     \u001B[38;5;66;03m# print(type(nationality))\u001B[39;00m\n\u001B[0;32m---> 41\u001B[0m     \u001B[38;5;28;01mif\u001B[39;00m nationality[\u001B[38;5;124m'\u001B[39m\u001B[38;5;124mVALUE\u001B[39m\u001B[38;5;124m'\u001B[39m]:\n\u001B[1;32m     42\u001B[0m         \u001B[38;5;66;03m# print (nationality['VALUE'])\u001B[39;00m\n\u001B[1;32m     43\u001B[0m         nationality \u001B[38;5;241m=\u001B[39m \u001B[38;5;124m\"\u001B[39m\u001B[38;5;124m,\u001B[39m\u001B[38;5;124m\"\u001B[39m\u001B[38;5;241m.\u001B[39mjoin(nationality[\u001B[38;5;124m'\u001B[39m\u001B[38;5;124mVALUE\u001B[39m\u001B[38;5;124m'\u001B[39m])\n\u001B[1;32m     45\u001B[0m \u001B[38;5;28;01mif\u001B[39;00m \u001B[38;5;124m'\u001B[39m\u001B[38;5;124mNATIONALITY2\u001B[39m\u001B[38;5;124m'\u001B[39m \u001B[38;5;129;01min\u001B[39;00m rowAsDict\u001B[38;5;241m.\u001B[39mkeys():\n\u001B[1;32m     46\u001B[0m     \u001B[38;5;66;03m# if row['NATIONALITY2']:\u001B[39;00m\n",
        "\u001B[0;31mTypeError\u001B[0m: 'NoneType' object is not subscriptable"
       ],
       "type": "baseError"
      }
     },
     "output_type": "display_data"
    }
   ],
   "source": [
    "# ddfcoll = indiv_sdf.collect()\n",
    "# type(ddfcoll)\n",
    "# print(len(ddfcoll))\n",
    "# # print(ddfcoll)"
   ]
  },
  {
   "cell_type": "code",
   "execution_count": 0,
   "metadata": {
    "application/vnd.databricks.v1+cell": {
     "cellMetadata": {
      "byteLimit": 2048000,
      "rowLimit": 10000
     },
     "inputWidgets": {},
     "nuid": "95685eb1-ca92-452e-8260-f7c76142e6f8",
     "showTitle": false,
     "title": ""
    }
   },
   "outputs": [
    {
     "output_type": "stream",
     "name": "stdout",
     "output_type": "stream",
     "text": [
      "MOHAMMED SALAHALDIN ABD EL HALIM ZIDANE\nQDi.001\n[]\nResponsible for Usama bin Laden’s (deceased) security. Hair: Dark. Eyes: Dark. Photo available for inclusion in the INTERPOL-UN Security Council Special Notice . Review pursuant to Security Council resolution 1822 (2008) was concluded on 15 Jun. 2010. Review pursuant to Security Council resolution 2253 (2015) was concluded on 21 February 2019. Review pursuant to Security Council resolution 2610 (2021) was concluded on 8 November 2022. INTERPOL-UN Security Council Special Notice web link:https://www.interpol.int/en/How-we-work/Notices/View-UN-Notices-Individuals\nAMIN MUHAMMAD UL HAQ SAAM KHAN\nQDi.002\n[]\nSecurity coordinator for Usama bin Laden (deceased). Repatriated to\nAfghanistan in February 2006. He was in Afghanistan as of August 2021. Review pursuant to Security Council resolution 1822 (2008)\nwas concluded on 15 Jun. 2010. Review pursuant to Security Council resolution 2368 (2017) was concluded on 4 Dec. 2019. Review pursuant to Security Council resolution 2610 (2021) was concluded on 8 November 2022. INTERPOL-UN Security Council Special Notice web link:https://www.interpol.int/en/How-we-work/Notices/View-UN-Notices-Individuals\nSALIM AHMAD SALIM HAMDAN\nQDi.003\n[]\nDriver and private bodyguard to Usama bin Laden (deceased) from 1996\nuntil 2001. Transferred from United States custody to Yemen in Nov. 2008. Review\npursuant to Security Council resolution 1822 (2008) was concluded on 8 Jul.\n2010. Review pursuant to Security Council resolution 2368 (2017) was concluded on 4 Dec. 2019. Review pursuant to Security Council resolution 2610 (2021) was concluded on 30 October 2023.\nAIMAN MUHAMMED RABI AL-ZAWAHIRI\nQDi.006\n[]\nLeader of Al-Qaida (QDe.004). Former operational and military leader of\n                Egyptian Islamic Jihad (QDe.003), was a close associate of Usama Bin Laden\n                (deceased). Believed to be in the Afghanistan/Pakistan border area. Review pursuant\n                to Security Council resolution 1822 (2008) was concluded on 21 Jun. 2010. Review pursuant to Security Council resolution 2368 (2017) was concluded on 24 November 2020. INTERPOL-UN Security Council Special Notice web link:https://www.interpol.int/en/How-we-work/Notices/View-UN-Notices-Individuals\nBILAL BIN MARWAN None None\nQDi.009\n[]\nSenior lieutenant of UBL. Review pursuant to Security Council resolution\n1822 (2008) was concluded on 21 Jun. 2010. Review pursuant to Security Council resolution 2253 (2015) was concluded on 21 Feb. 2019. Review pursuant to Security Council resolution 2610 (2021) was concluded on 8 November 2022. INTERPOL-UN Security Council Special Notice web link:https://www.interpol.int/en/How-we-work/Notices/View-UN-Notices-Individuals\nNASHWAN ABD AL-RAZZAQ ABD AL-BAQI None\nQDi.012\n[]\nJoined Al-Qaida in 1996 and was at that time an important liaison to the\n                Taliban in Afghanistan. Received money from Ansar al-Islam (QDe.098) in order to\n                conduct attacks in Kirkuk and Ninveh in Iraq during spring and summer of 2005.\n                Al-Qaida senior official. In custody of the United States of America, as of Aug.\n                2014. Father’s name: Abd al-Razzaq Abd al-Baqi. Mother’s name: Nadira Ayoub Asaad.\n                Photo available for inclusion in the INTERPOL-UN Security Council Special Notice.\n                Review pursuant to Security Council resolution 1822 (2008) was concluded on 15 Jun.\n                2010. Review pursuant to Security Council resolution 2368 (2017) was concluded on 24 November 2020. INTERPOL-UN Security Council Special Notice web link:https://www.interpol.int/en/How-we-work/Notices/View-UN-Notices-Individuals\nTARIQ ANWAR EL SAYED AHMED\nQDi.014\n[]\nReportedly deceased in October 2001. Review pursuant to Security Council\n                resolution 1822 (2008) was concluded on 29 Jul. 2010. Review pursuant to Security\n                Council resolution 2253 (2015) was concluded on 21 Feb. 2019. Review pursuant to\n                Security Council resolution 2368 (2017) was concluded on 15 November 2021. INTERPOL-UN Security Council Special Notice web link:https://www.interpol.int/en/How-we-work/Notices/View-UN-Notices-Individuals\nMAHFOUZ OULD AL-WALID None\nQDi.015\n[]\nReview pursuant to Security Council resolution 1822 (2008) was concluded\non 15 Jun. 2010. Review pursuant to Security Council resolution 2368 (2017) was concluded on 24 November 2020. INTERPOL-UN Security Council Special Notice web link:https://www.interpol.int/en/How-we-work/Notices/View-UN-Notices-Individuals\nTHARWAT SALAH SHIHATA None\nQDi.017\n[]\nReview pursuant to Security Council resolution 1822 (2008) was concluded\non 15 Jun. 2010. Review pursuant to Security Council resolution 2368 (2017) was concluded on 4 Dec. 2019. Review pursuant to Security Council resolution 2610 (2021) was concluded on 8 November 2022. INTERPOL-UN Security Council Special Notice web link:https://www.interpol.int/en/How-we-work/Notices/View-UN-Notices-Individuals\nABDUL MANAN AGHA None None None\nQDi.018\n[]\nPakistan. Review pursuant to Security Council resolution 1822 (2008) was\nconcluded on 15 Jun. 2010. Review pursuant to Security Council resolution 2253 (2015) was concluded on 21 Feb. 2019. Review pursuant to Security Council resolution 2610 (2021) was concluded on 8 November 2022.\nABDULLAH AHMED ABDULLAH EL ALFI\nQDi.019\n[]\nAfghanistan. Review pursuant to Security Council resolution 1822 (2008)\nwas concluded on 21 Jun. 2010. Review pursuant to Security Council resolution 2368 (2017) was concluded on 4 Dec. 2019. Review pursuant to Security Council resolution 2610 (2021) was concluded on 8 November 2022. INTERPOL-UN Security Council Special Notice web link:https://www.interpol.int/en/How-we-work/Notices/View-UN-Notices-Individuals\nMOHAMMAD HAMDI MOHAMMAD SADIQ AL-AHDAL\nQDi.020\n[]\nResponsible for the finances of Al-Qa’ida (QDe.004) in Yemen. Accused of\ninvolvement in the attack on the USS Cole in 2000. Arrested in Yemen in Nov. 2003.\nSentenced to three years and one month of imprisonment by the specialized criminal court\nof first instance in Yemen. Released on 25 Dec. 2006 after the completion of his\nsentence. Review pursuant to Security Council resolution 1822 (2008) was concluded on 8\nJul. 2010. Review pursuant to Security Council resolution 2368 (2017) was concluded on 4 Dec. 2019. Review pursuant to Security Council resolution 2610 (2021) was concluded on 30 October 2023. INTERPOL-UN Security Council Special Notice web link:https://www.interpol.int/en/How-we-work/Notices/View-UN-Notices-Individuals\nAHMED KHALFAN GHAILANI None\nQDi.028\n[]\nApprehended in July 2004 and in custody for trial in the United States of\nAmerica, as at October 2010. Review pursuant to Security Council resolution 1822 (2008)\nwas concluded on 21 Jun. 2010. Review pursuant to Security Council resolution 2368 (2017) was concluded on 4 Dec. 2019. Review pursuant to Security Council resolution 2610 (2021) was concluded on 30 October 2023. INTERPOL-UN Security Council Special Notice web link:https://www.interpol.int/en/How-we-work/Notices/View-UN-Notices-Individuals\n"
     ]
    },
    {
     "output_type": "display_data",
     "data": {
      "text/plain": [
       "\u001B[0;31m---------------------------------------------------------------------------\u001B[0m\n",
       "\u001B[0;31mTypeError\u001B[0m                                 Traceback (most recent call last)\n",
       "File \u001B[0;32m<command-3005107788418193>, line 41\u001B[0m\n",
       "\u001B[1;32m     39\u001B[0m     nationality \u001B[38;5;241m=\u001B[39m row[\u001B[38;5;124m'\u001B[39m\u001B[38;5;124mNATIONALITY\u001B[39m\u001B[38;5;124m'\u001B[39m]\n",
       "\u001B[1;32m     40\u001B[0m     \u001B[38;5;66;03m# print(type(nationality))\u001B[39;00m\n",
       "\u001B[0;32m---> 41\u001B[0m     \u001B[38;5;28;01mif\u001B[39;00m nationality[\u001B[38;5;124m'\u001B[39m\u001B[38;5;124mVALUE\u001B[39m\u001B[38;5;124m'\u001B[39m]:\n",
       "\u001B[1;32m     42\u001B[0m         \u001B[38;5;66;03m# print (nationality['VALUE'])\u001B[39;00m\n",
       "\u001B[1;32m     43\u001B[0m         nationality \u001B[38;5;241m=\u001B[39m \u001B[38;5;124m\"\u001B[39m\u001B[38;5;124m,\u001B[39m\u001B[38;5;124m\"\u001B[39m\u001B[38;5;241m.\u001B[39mjoin(nationality[\u001B[38;5;124m'\u001B[39m\u001B[38;5;124mVALUE\u001B[39m\u001B[38;5;124m'\u001B[39m])\n",
       "\u001B[1;32m     45\u001B[0m \u001B[38;5;28;01mif\u001B[39;00m \u001B[38;5;124m'\u001B[39m\u001B[38;5;124mNATIONALITY2\u001B[39m\u001B[38;5;124m'\u001B[39m \u001B[38;5;129;01min\u001B[39;00m rowAsDict\u001B[38;5;241m.\u001B[39mkeys():\n",
       "\u001B[1;32m     46\u001B[0m     \u001B[38;5;66;03m# if row['NATIONALITY2']:\u001B[39;00m\n",
       "\n",
       "\u001B[0;31mTypeError\u001B[0m: 'NoneType' object is not subscriptable"
      ]
     },
     "metadata": {
      "application/vnd.databricks.v1+output": {
       "addedWidgets": {},
       "arguments": {},
       "datasetInfos": [],
       "jupyterProps": {
        "ename": "TypeError",
        "evalue": "'NoneType' object is not subscriptable"
       },
       "metadata": {
        "errorSummary": ""
       },
       "removedWidgets": [],
       "sqlProps": null,
       "stackFrames": [
        "\u001B[0;31m---------------------------------------------------------------------------\u001B[0m",
        "\u001B[0;31mTypeError\u001B[0m                                 Traceback (most recent call last)",
        "File \u001B[0;32m<command-3005107788418193>, line 41\u001B[0m\n\u001B[1;32m     39\u001B[0m     nationality \u001B[38;5;241m=\u001B[39m row[\u001B[38;5;124m'\u001B[39m\u001B[38;5;124mNATIONALITY\u001B[39m\u001B[38;5;124m'\u001B[39m]\n\u001B[1;32m     40\u001B[0m     \u001B[38;5;66;03m# print(type(nationality))\u001B[39;00m\n\u001B[0;32m---> 41\u001B[0m     \u001B[38;5;28;01mif\u001B[39;00m nationality[\u001B[38;5;124m'\u001B[39m\u001B[38;5;124mVALUE\u001B[39m\u001B[38;5;124m'\u001B[39m]:\n\u001B[1;32m     42\u001B[0m         \u001B[38;5;66;03m# print (nationality['VALUE'])\u001B[39;00m\n\u001B[1;32m     43\u001B[0m         nationality \u001B[38;5;241m=\u001B[39m \u001B[38;5;124m\"\u001B[39m\u001B[38;5;124m,\u001B[39m\u001B[38;5;124m\"\u001B[39m\u001B[38;5;241m.\u001B[39mjoin(nationality[\u001B[38;5;124m'\u001B[39m\u001B[38;5;124mVALUE\u001B[39m\u001B[38;5;124m'\u001B[39m])\n\u001B[1;32m     45\u001B[0m \u001B[38;5;28;01mif\u001B[39;00m \u001B[38;5;124m'\u001B[39m\u001B[38;5;124mNATIONALITY2\u001B[39m\u001B[38;5;124m'\u001B[39m \u001B[38;5;129;01min\u001B[39;00m rowAsDict\u001B[38;5;241m.\u001B[39mkeys():\n\u001B[1;32m     46\u001B[0m     \u001B[38;5;66;03m# if row['NATIONALITY2']:\u001B[39;00m\n",
        "\u001B[0;31mTypeError\u001B[0m: 'NoneType' object is not subscriptable"
       ],
       "type": "baseError"
      }
     },
     "output_type": "display_data"
    }
   ],
   "source": [
    "import re\n",
    "count = 0\n",
    "for row in indiv_coll:\n",
    "    count += 1\n",
    "    if count > 13:\n",
    "        break;\n",
    "    # print(count, row)\n",
    "\n",
    "    print(row['FIRST_NAME'], row['SECOND_NAME'],row['THIRD_NAME'], row['FOURTH_NAME'] )\n",
    "    print(row['REFERENCE_NUMBER'])\n",
    "    comments1 = row['COMMENTS1']\n",
    "    print(re.findall(r'(QI[.{6}])', comments1))\n",
    "\n",
    "    # print(type(comments1))\n",
    "    print(row['COMMENTS1'])\n",
    "\n",
    "# print(count)"
   ]
  },
  {
   "cell_type": "code",
   "execution_count": 0,
   "metadata": {
    "application/vnd.databricks.v1+cell": {
     "cellMetadata": {
      "byteLimit": 2048000,
      "rowLimit": 10000
     },
     "inputWidgets": {},
     "nuid": "e2952faa-84b5-4e7b-9166-8f1f24859aa4",
     "showTitle": false,
     "title": ""
    }
   },
   "outputs": [
    {
     "output_type": "stream",
     "name": "stdout",
     "output_type": "stream",
     "text": [
      "Match 1 was found at 39-49: QI.A.12.01\nGroup 1 found at 39-49: QI.A.12.01\nMatch 2 was found at 180-189: QE.A.3.01\nGroup 1 found at 180-189: QE.A.3.01\nMatch 3 was found at 415-426: QI.A.157.04\nGroup 1 found at 415-426: QI.A.157.04\nMatch 4 was found at 466-477: QI.A.255.08\nGroup 1 found at 466-477: QI.A.255.08\nMatch 5 was found at 515-526: QI.A.289.11\nGroup 1 found at 515-526: QI.A.289.11\nMatch 6 was found at 568-579: QI.A.192.05\nGroup 1 found at 568-579: QI.A.192.05\nMatch 7 was found at 616-626: QI.A.54.01\nGroup 1 found at 616-626: QI.A.54.01\nMatch 8 was found at 660-671: QI.A.109.03\nGroup 1 found at 660-671: QI.A.109.03\nMatch 9 was found at 710-721: QI.A.200.05\nGroup 1 found at 710-721: QI.A.200.05\nMatch 10 was found at 758-768: QI.A.18.01\nGroup 1 found at 758-768: QI.A.18.01\nMatch 11 was found at 807-818: QI.A.295.11\nGroup 1 found at 807-818: QI.A.295.11\nMatch 12 was found at 860-871: QI.A.229.07\nGroup 1 found at 860-871: QI.A.229.07\nMatch 13 was found at 907-917: QI.A.86.03\nGroup 1 found at 907-917: QI.A.86.03\nMatch 14 was found at 950-961: QI.A.309.12\nGroup 1 found at 950-961: QI.A.309.12\n"
     ]
    },
    {
     "output_type": "display_data",
     "data": {
      "text/plain": [
       "\u001B[0;31m---------------------------------------------------------------------------\u001B[0m\n",
       "\u001B[0;31mTypeError\u001B[0m                                 Traceback (most recent call last)\n",
       "File \u001B[0;32m<command-3005107788418193>, line 41\u001B[0m\n",
       "\u001B[1;32m     39\u001B[0m     nationality \u001B[38;5;241m=\u001B[39m row[\u001B[38;5;124m'\u001B[39m\u001B[38;5;124mNATIONALITY\u001B[39m\u001B[38;5;124m'\u001B[39m]\n",
       "\u001B[1;32m     40\u001B[0m     \u001B[38;5;66;03m# print(type(nationality))\u001B[39;00m\n",
       "\u001B[0;32m---> 41\u001B[0m     \u001B[38;5;28;01mif\u001B[39;00m nationality[\u001B[38;5;124m'\u001B[39m\u001B[38;5;124mVALUE\u001B[39m\u001B[38;5;124m'\u001B[39m]:\n",
       "\u001B[1;32m     42\u001B[0m         \u001B[38;5;66;03m# print (nationality['VALUE'])\u001B[39;00m\n",
       "\u001B[1;32m     43\u001B[0m         nationality \u001B[38;5;241m=\u001B[39m \u001B[38;5;124m\"\u001B[39m\u001B[38;5;124m,\u001B[39m\u001B[38;5;124m\"\u001B[39m\u001B[38;5;241m.\u001B[39mjoin(nationality[\u001B[38;5;124m'\u001B[39m\u001B[38;5;124mVALUE\u001B[39m\u001B[38;5;124m'\u001B[39m])\n",
       "\u001B[1;32m     45\u001B[0m \u001B[38;5;28;01mif\u001B[39;00m \u001B[38;5;124m'\u001B[39m\u001B[38;5;124mNATIONALITY2\u001B[39m\u001B[38;5;124m'\u001B[39m \u001B[38;5;129;01min\u001B[39;00m rowAsDict\u001B[38;5;241m.\u001B[39mkeys():\n",
       "\u001B[1;32m     46\u001B[0m     \u001B[38;5;66;03m# if row['NATIONALITY2']:\u001B[39;00m\n",
       "\n",
       "\u001B[0;31mTypeError\u001B[0m: 'NoneType' object is not subscriptable"
      ]
     },
     "metadata": {
      "application/vnd.databricks.v1+output": {
       "addedWidgets": {},
       "arguments": {},
       "datasetInfos": [],
       "jupyterProps": {
        "ename": "TypeError",
        "evalue": "'NoneType' object is not subscriptable"
       },
       "metadata": {
        "errorSummary": ""
       },
       "removedWidgets": [],
       "sqlProps": null,
       "stackFrames": [
        "\u001B[0;31m---------------------------------------------------------------------------\u001B[0m",
        "\u001B[0;31mTypeError\u001B[0m                                 Traceback (most recent call last)",
        "File \u001B[0;32m<command-3005107788418193>, line 41\u001B[0m\n\u001B[1;32m     39\u001B[0m     nationality \u001B[38;5;241m=\u001B[39m row[\u001B[38;5;124m'\u001B[39m\u001B[38;5;124mNATIONALITY\u001B[39m\u001B[38;5;124m'\u001B[39m]\n\u001B[1;32m     40\u001B[0m     \u001B[38;5;66;03m# print(type(nationality))\u001B[39;00m\n\u001B[0;32m---> 41\u001B[0m     \u001B[38;5;28;01mif\u001B[39;00m nationality[\u001B[38;5;124m'\u001B[39m\u001B[38;5;124mVALUE\u001B[39m\u001B[38;5;124m'\u001B[39m]:\n\u001B[1;32m     42\u001B[0m         \u001B[38;5;66;03m# print (nationality['VALUE'])\u001B[39;00m\n\u001B[1;32m     43\u001B[0m         nationality \u001B[38;5;241m=\u001B[39m \u001B[38;5;124m\"\u001B[39m\u001B[38;5;124m,\u001B[39m\u001B[38;5;124m\"\u001B[39m\u001B[38;5;241m.\u001B[39mjoin(nationality[\u001B[38;5;124m'\u001B[39m\u001B[38;5;124mVALUE\u001B[39m\u001B[38;5;124m'\u001B[39m])\n\u001B[1;32m     45\u001B[0m \u001B[38;5;28;01mif\u001B[39;00m \u001B[38;5;124m'\u001B[39m\u001B[38;5;124mNATIONALITY2\u001B[39m\u001B[38;5;124m'\u001B[39m \u001B[38;5;129;01min\u001B[39;00m rowAsDict\u001B[38;5;241m.\u001B[39mkeys():\n\u001B[1;32m     46\u001B[0m     \u001B[38;5;66;03m# if row['NATIONALITY2']:\u001B[39;00m\n",
        "\u001B[0;31mTypeError\u001B[0m: 'NoneType' object is not subscriptable"
       ],
       "type": "baseError"
      }
     },
     "output_type": "display_data"
    }
   ],
   "source": [
    "# coding=utf8\n",
    "# the above tag defines encoding for this document and is for Python 2.x compatibility\n",
    "\n",
    "import re\n",
    "\n",
    "regex = r\"(Q[I|E]\\..\\.\\d+\\.\\d+)\"\n",
    "\n",
    "test_str = (\"NASHWAN ABD AL-RAZZAQ ABD AL-BAQI None\\n\"\n",
    "\t\"QI.A.12.01.\\n\"\n",
    "\t\" <NAME_ORIGINAL_SCRIPT>عبد الله محمد رجب عبد الرحمن</NAME_ORIGINAL_SCRIPT>\\n\"\n",
    "\t\"         <COMMENTS1>Member of Egyptian Islamic Jihad (QE.A.3.01). Review pursuant to Security Council resolution 1822 (2008) was concluded on 1 Jun. 2010.</COMMENTS1>\\n\"\n",
    "\t\"         <NATIONALITY>\\n\"\n",
    "\t\"            <VALUE>Egyptian</VALUE>\\n\"\n",
    "\t\"         </NATIONALITY>\\n\"\n",
    "\t\"[]\\n\"\n",
    "\t\"ABD AL WAHAB ABD AL HAFIZ None None\\n\"\n",
    "\t\"QI.A.157.04.\\n\"\n",
    "\t\"[]\\n\"\n",
    "\t\"ADIL MUHAMMAD MAHMUD ABD AL-KHALIQ\\n\"\n",
    "\t\"QI.A.255.08.\\n\"\n",
    "\t\"[]\\n\"\n",
    "\t\"SAID JAN ‘ABD AL-SALAM None None\\n\"\n",
    "\t\"QI.A.289.11.\\n\"\n",
    "\t\"[]\\n\"\n",
    "\t\"ABD ALLAH MOHAMED RAGAB ABDEL RAHMAN\\n\"\n",
    "\t\"QI.A.192.05.\\n\"\n",
    "\t\"[]\\n\"\n",
    "\t\"MAJEED ABDUL CHAUDHRY None None\\n\"\n",
    "\t\"QI.A.54.01.\\n\"\n",
    "\t\"[]\\n\"\n",
    "\t\"ZULKIFLI ABDUL HIR None None\\n\"\n",
    "\t\"QI.A.109.03.\\n\"\n",
    "\t\"[]\\n\"\n",
    "\t\"DIEMAN ABDULKADIR IZZAT None None\\n\"\n",
    "\t\"QI.A.200.05.\\n\"\n",
    "\t\"[]\\n\"\n",
    "\t\"ABDUL MANAN AGHA None None None QI.A.18.01. []\\n\"\n",
    "\t\"MUHAMMAD JIBRIL ABDUL RAHMAN None\\n\"\n",
    "\t\"QI.A.295.11.\\n\"\n",
    "\t\"['QI.']\\n\"\n",
    "\t\"ALY SOLIMAN MASSOUD ABDUL SAYED\\n\"\n",
    "\t\"QI.A.229.07.\\n\"\n",
    "\t\"[]\\n\"\n",
    "\t\"MOHAMAD IQBAL ABDURRAHMAN None\\n\"\n",
    "\t\"QI.A.86.03.\\n\"\n",
    "\t\"[]\\n\"\n",
    "\t\"ABDUR REHMAN None None None\\n\"\n",
    "\t\"QI.A.309.12.\\n\"\n",
    "\t\"[]\\n\")\n",
    "\n",
    "matches = re.finditer(regex, test_str, re.MULTILINE)\n",
    "\n",
    "for matchNum, match in enumerate(matches, start=1):\n",
    "    \n",
    "    print (\"Match {matchNum} was found at {start}-{end}: {match}\".format(matchNum = matchNum, start = match.start(), end = match.end(), match = match.group()))\n",
    "    \n",
    "    for groupNum in range(0, len(match.groups())):\n",
    "        groupNum = groupNum + 1\n",
    "        \n",
    "        print (\"Group {groupNum} found at {start}-{end}: {group}\".format(groupNum = groupNum, start = match.start(groupNum), end = match.end(groupNum), group = match.group(groupNum)))\n",
    "\n",
    "# Note: for Python 2.7 compatibility, use ur\"\" to prefix the regex and u\"\" to prefix the test string and substitution.\n"
   ]
  },
  {
   "cell_type": "code",
   "execution_count": 0,
   "metadata": {
    "application/vnd.databricks.v1+cell": {
     "cellMetadata": {
      "byteLimit": 2048000,
      "rowLimit": 10000
     },
     "inputWidgets": {},
     "nuid": "640d8b7b-e7b2-4806-8168-466507991815",
     "showTitle": false,
     "title": ""
    }
   },
   "outputs": [
    {
     "output_type": "execute_result",
     "data": {
      "text/plain": [
       "Row(ADDRESS=True, COMMENTS1='Responsible for Usama bin Laden’s (deceased) security. Hair: Dark. Eyes: Dark. Photo available for inclusion in the INTERPOL-UN Security Council Special Notice . Review pursuant to Security Council resolution 1822 (2008) was concluded on 15 Jun. 2010. Review pursuant to Security Council resolution 2253 (2015) was concluded on 21 February 2019. Review pursuant to Security Council resolution 2610 (2021) was concluded on 8 November 2022. INTERPOL-UN Security Council Special Notice web link:https://www.interpol.int/en/How-we-work/Notices/View-UN-Notices-Individuals', DATAID=113219, FIRST_NAME='MOHAMMED', FOURTH_NAME='ZIDANE', GENDER=None, GOODQUALITY=False, INDIVIDUAL_ADDRESS=[Row(CITY=None, COUNTRY=None, NOTE=None, STATE_PROVINCE=None, STREET=None, ZIP_CODE=None)], INDIVIDUAL_ALIAS=[Row(ALIAS_NAME='Sayf-Al Adl', CITY_OF_BIRTH=None, COUNTRY_OF_BIRTH=None, DATE_OF_BIRTH=None, NOTE='DOB: 11 Apr. 1963. POB: Monufia Governorate, Egypt. Nationality: Egypt. In\\nArabic: سيف العدل', QUALITY='Good'), Row(ALIAS_NAME='Muhamad Ibrahim Makkawi', CITY_OF_BIRTH=None, COUNTRY_OF_BIRTH=None, DATE_OF_BIRTH=None, NOTE='DOB: a) 11 Apr. 1960 b) 11 Apr. 1963. POB: Egypt. Nationality: Egypt', QUALITY='Good'), Row(ALIAS_NAME='Ibrahim al-Madani', CITY_OF_BIRTH=None, COUNTRY_OF_BIRTH=None, DATE_OF_BIRTH=None, NOTE=None, QUALITY='Low'), Row(ALIAS_NAME=\"Saif Al-'Adil\", CITY_OF_BIRTH=None, COUNTRY_OF_BIRTH=None, DATE_OF_BIRTH=None, NOTE=None, QUALITY='Low'), Row(ALIAS_NAME='Seif al Adel', CITY_OF_BIRTH=None, COUNTRY_OF_BIRTH=None, DATE_OF_BIRTH=None, NOTE=None, QUALITY='Low'), Row(ALIAS_NAME='', CITY_OF_BIRTH=None, COUNTRY_OF_BIRTH=None, DATE_OF_BIRTH='1960-04-11', NOTE=None, QUALITY='')], INDIVIDUAL_DATE_OF_BIRTH=[Row(DATE=datetime.date(1963, 4, 11), FROM_YEAR=None, NOTE=None, TO_YEAR=None, TYPE_OF_DATE='EXACT', YEAR=None)], INDIVIDUAL_DOCUMENT=[Row(CITY_OF_ISSUE=None, COUNTRY_OF_ISSUE=None, DATE_OF_ISSUE=None, ISSUING_COUNTRY=None, NOTE=None, NUMBER=None, TYPE_OF_DOCUMENT=None, TYPE_OF_DOCUMENT2=None)], INDIVIDUAL_PLACE_OF_BIRTH=[Row(CITY=None, COUNTRY='Egypt', STATE_PROVINCE='Monufia Governate')], LAST_DAY_UPDATED=Row(VALUE=[datetime.date(2010, 12, 16), datetime.date(2013, 7, 24), datetime.date(2017, 2, 15), datetime.date(2019, 3, 29), datetime.date(2019, 5, 1), datetime.date(2022, 11, 8)]), LISTED_ON='2001-01-25', LIST_TYPE=Row(VALUE='UN List'), NAME_ORIGINAL_SCRIPT='محمد صلاح الدين عبدالحليم زيدان', NATIONALITY=Row(VALUE=['Egypt']), PASSPORT=None, REFERENCE_NUMBER='QDi.001', SECOND_NAME='SALAHALDIN', SORT_KEY='', SORT_KEY_LAST_MOD='', THIRD_NAME='ABD EL HALIM', TITLE=None, UN_LIST_TYPE='Al-Qaida', VERSIONNUM=1)"
      ]
     },
     "execution_count": 44,
     "metadata": {},
     "output_type": "execute_result"
    },
    {
     "output_type": "display_data",
     "data": {
      "text/plain": [
       "\u001B[0;31m---------------------------------------------------------------------------\u001B[0m\n",
       "\u001B[0;31mTypeError\u001B[0m                                 Traceback (most recent call last)\n",
       "File \u001B[0;32m<command-3005107788418193>, line 41\u001B[0m\n",
       "\u001B[1;32m     39\u001B[0m     nationality \u001B[38;5;241m=\u001B[39m row[\u001B[38;5;124m'\u001B[39m\u001B[38;5;124mNATIONALITY\u001B[39m\u001B[38;5;124m'\u001B[39m]\n",
       "\u001B[1;32m     40\u001B[0m     \u001B[38;5;66;03m# print(type(nationality))\u001B[39;00m\n",
       "\u001B[0;32m---> 41\u001B[0m     \u001B[38;5;28;01mif\u001B[39;00m nationality[\u001B[38;5;124m'\u001B[39m\u001B[38;5;124mVALUE\u001B[39m\u001B[38;5;124m'\u001B[39m]:\n",
       "\u001B[1;32m     42\u001B[0m         \u001B[38;5;66;03m# print (nationality['VALUE'])\u001B[39;00m\n",
       "\u001B[1;32m     43\u001B[0m         nationality \u001B[38;5;241m=\u001B[39m \u001B[38;5;124m\"\u001B[39m\u001B[38;5;124m,\u001B[39m\u001B[38;5;124m\"\u001B[39m\u001B[38;5;241m.\u001B[39mjoin(nationality[\u001B[38;5;124m'\u001B[39m\u001B[38;5;124mVALUE\u001B[39m\u001B[38;5;124m'\u001B[39m])\n",
       "\u001B[1;32m     45\u001B[0m \u001B[38;5;28;01mif\u001B[39;00m \u001B[38;5;124m'\u001B[39m\u001B[38;5;124mNATIONALITY2\u001B[39m\u001B[38;5;124m'\u001B[39m \u001B[38;5;129;01min\u001B[39;00m rowAsDict\u001B[38;5;241m.\u001B[39mkeys():\n",
       "\u001B[1;32m     46\u001B[0m     \u001B[38;5;66;03m# if row['NATIONALITY2']:\u001B[39;00m\n",
       "\n",
       "\u001B[0;31mTypeError\u001B[0m: 'NoneType' object is not subscriptable"
      ]
     },
     "metadata": {
      "application/vnd.databricks.v1+output": {
       "addedWidgets": {},
       "arguments": {},
       "datasetInfos": [],
       "jupyterProps": {
        "ename": "TypeError",
        "evalue": "'NoneType' object is not subscriptable"
       },
       "metadata": {
        "errorSummary": ""
       },
       "removedWidgets": [],
       "sqlProps": null,
       "stackFrames": [
        "\u001B[0;31m---------------------------------------------------------------------------\u001B[0m",
        "\u001B[0;31mTypeError\u001B[0m                                 Traceback (most recent call last)",
        "File \u001B[0;32m<command-3005107788418193>, line 41\u001B[0m\n\u001B[1;32m     39\u001B[0m     nationality \u001B[38;5;241m=\u001B[39m row[\u001B[38;5;124m'\u001B[39m\u001B[38;5;124mNATIONALITY\u001B[39m\u001B[38;5;124m'\u001B[39m]\n\u001B[1;32m     40\u001B[0m     \u001B[38;5;66;03m# print(type(nationality))\u001B[39;00m\n\u001B[0;32m---> 41\u001B[0m     \u001B[38;5;28;01mif\u001B[39;00m nationality[\u001B[38;5;124m'\u001B[39m\u001B[38;5;124mVALUE\u001B[39m\u001B[38;5;124m'\u001B[39m]:\n\u001B[1;32m     42\u001B[0m         \u001B[38;5;66;03m# print (nationality['VALUE'])\u001B[39;00m\n\u001B[1;32m     43\u001B[0m         nationality \u001B[38;5;241m=\u001B[39m \u001B[38;5;124m\"\u001B[39m\u001B[38;5;124m,\u001B[39m\u001B[38;5;124m\"\u001B[39m\u001B[38;5;241m.\u001B[39mjoin(nationality[\u001B[38;5;124m'\u001B[39m\u001B[38;5;124mVALUE\u001B[39m\u001B[38;5;124m'\u001B[39m])\n\u001B[1;32m     45\u001B[0m \u001B[38;5;28;01mif\u001B[39;00m \u001B[38;5;124m'\u001B[39m\u001B[38;5;124mNATIONALITY2\u001B[39m\u001B[38;5;124m'\u001B[39m \u001B[38;5;129;01min\u001B[39;00m rowAsDict\u001B[38;5;241m.\u001B[39mkeys():\n\u001B[1;32m     46\u001B[0m     \u001B[38;5;66;03m# if row['NATIONALITY2']:\u001B[39;00m\n",
        "\u001B[0;31mTypeError\u001B[0m: 'NoneType' object is not subscriptable"
       ],
       "type": "baseError"
      }
     },
     "output_type": "display_data"
    }
   ],
   "source": [
    "indiv_coll[0]"
   ]
  },
  {
   "cell_type": "code",
   "execution_count": 0,
   "metadata": {
    "application/vnd.databricks.v1+cell": {
     "cellMetadata": {
      "byteLimit": 2048000,
      "rowLimit": 10000
     },
     "inputWidgets": {},
     "nuid": "eabf722f-ba94-4cc8-9aa0-ca026ea360dd",
     "showTitle": false,
     "title": ""
    }
   },
   "outputs": [],
   "source": []
  }
 ],
 "metadata": {
  "application/vnd.databricks.v1+notebook": {
   "dashboards": [],
   "environmentMetadata": null,
   "language": "python",
   "notebookMetadata": {
    "mostRecentlyExecutedCommandWithImplicitDF": {
     "commandId": 3145779843545169,
     "dataframes": [
      "_sqldf"
     ]
    },
    "pythonIndentUnit": 4
   },
   "notebookName": "AQlist-2024 xml",
   "widgets": {}
  }
 },
 "nbformat": 4,
 "nbformat_minor": 0
}
